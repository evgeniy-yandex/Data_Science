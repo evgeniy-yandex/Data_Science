{
 "cells": [
  {
   "cell_type": "markdown",
   "id": "35b0649d",
   "metadata": {},
   "source": [
    "# 1 Проект `BigData_PySpark`\n",
    "\n",
    "## 1.1. Название.\n",
    "\n",
    "Прогнозирование количества заказов такси на следующий час в каждом из округов города Чикаго с помощью **Apache Spark**\n",
    "\n",
    "## 1.2. Задача проекта.\n",
    "\n",
    "* Имеется около 10 млн записей о поездках такси в городе Чикаго с округлением времени до 15 минут.   \n",
    "  Благодарю специалистов **Яндекс.Практикума** за предоставленные датасеты.  \n",
    "* Задача - предсказать количество заказов на следующий час в каждом округе города.   \n",
    "* Решаем с применением **'PySpark'** в режиме 'standalone'.  \n",
    "\n",
    "## 1.3. Описание данных.\n",
    "\n",
    "В нашем распоряжении данные о поездках в Чикаго за 2022 и 2023 годы.\n",
    "Описание данных по колонкам:\n",
    "* `trip_id` - уникальный идентификатор поездки.\n",
    "* `taxi_id` - уникальный идентификатор машины такси.\n",
    "* `trip_start_timestamp` - время начала поездки.\n",
    "* `trip_end_timestamp` - время окончания поездки.\n",
    "* `trip_seconds` - длительность поездки в секундах.\n",
    "* `trip_miles` - расстояние поездки в милях.\n",
    "* `pickup_census_tract` - название зоны посадки.\n",
    "* `dropoff_census_tract` - название зоны высадки.\n",
    "* `pickup_community_area` - номер района посадки в Чикаго.\n",
    "* `dropoff_community_area` - номер района высадки в Чикаго.\n",
    "* `fare` - стоимость поездки.\n",
    "* `tips` - чаевые водителю.\n",
    "* `tolls` - сборы за платные участки дороги.\n",
    "* `extras` - дополнительные сборы за поездку.\n",
    "* `trip_total` - общая стоимость поездки.\n",
    "* `payment_type` - тип оплаты.\n",
    "* `company` - название компании такси.\n",
    "* `pickup_centroid_latitude` - географическая широта зоны *посадки*.\n",
    "* `pickup_centroid_longitude` - географическая долгота зоны *посадки*.\n",
    "* `pickup_centroid_location` - координаты зоны *посадки*.\n",
    "* `dropoff_centroid_latitude` - географическая широта зоны *высадки*.\n",
    "* `dropoff_centroid_longitude` - географическая долгота зоны *высадки*. \n",
    "* `dropoff_centroid_location` - координаты зоны *высадки*. \n",
    "\n",
    "## 1.4. План работ.\n",
    "\n",
    "1. Загрузить и изучить данные. \n",
    "2. Провести EDA анализ.\n",
    "3. Провести Feature Engineering.\n",
    "4. Обучить несколько моделей и сравнить результаты обучения.\n",
    "5. Сделать сравнение и сформулировать выводы и рекомендации для применения."
   ]
  },
  {
   "cell_type": "markdown",
   "id": "87b1e6e3",
   "metadata": {},
   "source": [
    "# 2. Загрузка и исследование данных."
   ]
  },
  {
   "cell_type": "code",
   "execution_count": 1,
   "id": "9886ff6c",
   "metadata": {},
   "outputs": [],
   "source": [
    "#!pip install pyspark \n",
    "#!pip install findspark"
   ]
  },
  {
   "cell_type": "code",
   "execution_count": 2,
   "id": "94a4d55f",
   "metadata": {},
   "outputs": [],
   "source": [
    "import os\n",
    "import findspark\n",
    "import time\n",
    "import pandas as pd\n",
    "import numpy as np\n",
    "import matplotlib.pyplot as plt\n",
    "import seaborn as sns\n",
    "import pyspark.sql.functions as F\n",
    "\n",
    "\n",
    "from tqdm.auto import tqdm\n",
    "from pyspark import SparkConf, SparkContext\n",
    "from pyspark.sql import SparkSession\n",
    "from datetime import timedelta, datetime\n",
    "from pyspark.sql.functions import (col, lit, isnull, round,\n",
    "                                   when, count, datediff,\n",
    "                                   monotonically_increasing_id)\n",
    "\n",
    "from pyspark.sql.window import Window\n",
    "from statsmodels.tsa.stattools import adfuller\n",
    "from statsmodels.tsa.seasonal import seasonal_decompose\n",
    "\n",
    "\n",
    "from pyspark.ml.regression import (LinearRegression, DecisionTreeRegressor,\n",
    "                                   RandomForestRegressor, GBTRegressor)\n",
    "from pyspark.mllib.evaluation import RegressionMetrics\n",
    "from pyspark.ml.tuning import ParamGridBuilder\n",
    "from pyspark.ml.feature import VectorAssembler, StandardScaler\n",
    "from pyspark.ml.evaluation import RegressionEvaluator\n",
    "\n",
    "\n",
    "# Введем глобальную переменные:\n",
    "RANDOM_FIX_NUMBER = 12345  \n",
    "NUMBER_CHICAGO_AREAS = 77\n",
    "\n",
    "# Настроим вид таблиц:\n",
    "pd.set_option(\"display.max_rows\", 50)\n",
    "pd.set_option(\"display.max_columns\", 50)\n",
    "# Ограничим ширину отображающихся столбцов\n",
    "pd.options.display.max_colwidth = 50\n",
    "# Сброс ограничений на количество символов в записи\n",
    "pd.set_option('display.max_colwidth', None)\n",
    "# Настроим, чтобы числа в датасетах отражались с 2 знаками после запятой\n",
    "pd.set_option('display.float_format', '{:.2f}'.format) "
   ]
  },
  {
   "cell_type": "markdown",
   "id": "33f0149b",
   "metadata": {},
   "source": [
    "## 2.1.Запуск SPARK-сессии."
   ]
  },
  {
   "cell_type": "code",
   "execution_count": 3,
   "id": "d1a60488",
   "metadata": {},
   "outputs": [
    {
     "data": {
      "text/html": [
       "\n",
       "            <div>\n",
       "                <p><b>SparkSession - in-memory</b></p>\n",
       "                \n",
       "        <div>\n",
       "            <p><b>SparkContext</b></p>\n",
       "\n",
       "            <p><a href=\"http://kubernetes.docker.internal:4041\">Spark UI</a></p>\n",
       "\n",
       "            <dl>\n",
       "              <dt>Version</dt>\n",
       "                <dd><code>v3.5.0</code></dd>\n",
       "              <dt>Master</dt>\n",
       "                <dd><code>local[*]</code></dd>\n",
       "              <dt>AppName</dt>\n",
       "                <dd><code>pyspark-taxi-forecasting</code></dd>\n",
       "            </dl>\n",
       "        </div>\n",
       "        \n",
       "            </div>\n",
       "        "
      ],
      "text/plain": [
       "<pyspark.sql.session.SparkSession at 0x2585702c0a0>"
      ]
     },
     "execution_count": 3,
     "metadata": {},
     "output_type": "execute_result"
    }
   ],
   "source": [
    "findspark.init()\n",
    "\n",
    "spark = SparkSession.builder.\\\n",
    "        master(\"local[*]\").\\\n",
    "        appName(\"pyspark-taxi-forecasting\").\\\n",
    "        getOrCreate()\n",
    "\n",
    "spark"
   ]
  },
  {
   "cell_type": "code",
   "execution_count": 4,
   "id": "3a4fcfe7",
   "metadata": {},
   "outputs": [
    {
     "data": {
      "application/vnd.jupyter.widget-view+json": {
       "model_id": "199d8df072dc4c93924874112b66fe25",
       "version_major": 2,
       "version_minor": 0
      },
      "text/plain": [
       "  0%|          | 0/1 [00:00<?, ?it/s]"
      ]
     },
     "metadata": {},
     "output_type": "display_data"
    },
    {
     "name": "stdout",
     "output_type": "stream",
     "text": [
      "Dataset Taxi_Trips_-_2022.csv is loaded successfully.\n",
      "Количество записей в Taxi_Trips_-_2022.csv: 6382425\n",
      "\n"
     ]
    },
    {
     "data": {
      "application/vnd.jupyter.widget-view+json": {
       "model_id": "6db38c99b71247888584c092e2edeef8",
       "version_major": 2,
       "version_minor": 0
      },
      "text/plain": [
       "  0%|          | 0/1 [00:00<?, ?it/s]"
      ]
     },
     "metadata": {},
     "output_type": "display_data"
    },
    {
     "name": "stdout",
     "output_type": "stream",
     "text": [
      "Dataset Taxi_Trips_-_2023.csv is loaded successfully.\n",
      "Количество записей в Taxi_Trips_-_2023.csv: 3783730\n",
      "\n"
     ]
    }
   ],
   "source": [
    "def load_dataset(file_name):\n",
    "    '''\n",
    "    Функция для проверки нахождения файла и загрузки датафрейма.\n",
    "    '''\n",
    "    if os.path.exists(file_name):\n",
    "        # Чтобы видеть, что процесс выполняется, поставим tqdm с разовым циклом:\n",
    "        for _ in tqdm(range(1)): \n",
    "            data = spark.read.csv(file_name, \n",
    "                                  header=True, inferSchema=True)\n",
    "            print('Dataset', file_name, 'is loaded successfully.')\n",
    "        # Проверим исходный размер датасетов\n",
    "        print(f'Количество записей в {file_name}: {data.count()}\\n')\n",
    "        return data\n",
    "    else:\n",
    "        print('Something with', file_name, 'is wrong.')\n",
    "    \n",
    "# Загрузка датасета с данными за 2022 год.\n",
    "df2022 = load_dataset('Taxi_Trips_-_2022.csv');\n",
    "\n",
    "# Загрузка датасета с данными за 2023 год.\n",
    "df2023 = load_dataset('Taxi_Trips_-_2023.csv');"
   ]
  },
  {
   "cell_type": "markdown",
   "id": "ab6b7edc",
   "metadata": {},
   "source": [
    "**Промежуточные выводы:**  \n",
    "В нашем распоряжении 2 датасета с информацией о заказах такси: \n",
    "* за 2022 год - 6 382 425 записей,\n",
    "* за 2023 год - 3 783 730 записей. "
   ]
  },
  {
   "cell_type": "markdown",
   "id": "5c56f250",
   "metadata": {},
   "source": [
    "## 2.2.Объединение датасетов.\n",
    "\n",
    "Прежде, чем провести объединение датасетов, проверим соответствие их признаков."
   ]
  },
  {
   "cell_type": "code",
   "execution_count": 5,
   "id": "a235c693",
   "metadata": {},
   "outputs": [
    {
     "name": "stdout",
     "output_type": "stream",
     "text": [
      "['Trip ID', 'Taxi ID', 'Trip Start Timestamp', 'Trip End Timestamp', 'Trip Seconds', 'Trip Miles', 'Pickup Census Tract', 'Dropoff Census Tract', 'Pickup Community Area', 'Dropoff Community Area', 'Fare', 'Tips', 'Tolls', 'Extras', 'Trip Total', 'Payment Type', 'Company', 'Pickup Centroid Latitude', 'Pickup Centroid Longitude', 'Pickup Centroid Location', 'Dropoff Centroid Latitude', 'Dropoff Centroid Longitude', 'Dropoff Centroid  Location']\n",
      "['Trip ID', 'Taxi ID', 'Trip Start Timestamp', 'Trip End Timestamp', 'Trip Seconds', 'Trip Miles', 'Pickup Census Tract', 'Dropoff Census Tract', 'Pickup Community Area', 'Dropoff Community Area', 'Fare', 'Tips', 'Tolls', 'Extras', 'Trip Total', 'Payment Type', 'Company', 'Pickup Centroid Latitude', 'Pickup Centroid Longitude', 'Pickup Centroid Location', 'Dropoff Centroid Latitude', 'Dropoff Centroid Longitude', 'Dropoff Centroid  Location']\n",
      "\n",
      "Названия признаков обоих датасетов одинаковые.\n"
     ]
    }
   ],
   "source": [
    "# Названия колонок в датасете 'df2022':\n",
    "features2022 = df2022.columns\n",
    "print(features2022)\n",
    "\n",
    "# Названия колонок в датасете 'df2023':\n",
    "features2023 = df2023.columns\n",
    "print(features2023)\n",
    "\n",
    "if (features2022 == features2023) :\n",
    "    print('\\nНазвания признаков обоих датасетов одинаковые.')\n",
    "else:\n",
    "    print('\\nДатасеты имеют разные признаки!.'\n",
    "          'Cледует изучить возможность их объединения!')"
   ]
  },
  {
   "cell_type": "code",
   "execution_count": 6,
   "id": "08c39ada",
   "metadata": {},
   "outputs": [
    {
     "name": "stdout",
     "output_type": "stream",
     "text": [
      "-RECORD 0------------------------------------------\n",
      " Trip ID                    | bcfa19f2539021c05... \n",
      " Taxi ID                    | 368ce5511598af2cc... \n",
      " Trip Start Timestamp       | 01/01/2022 12:00:... \n",
      " Trip End Timestamp         | 01/01/2022 12:00:... \n",
      " Trip Seconds               | 152                  \n",
      " Trip Miles                 | 0.1                  \n",
      " Pickup Census Tract        | NULL                 \n",
      " Dropoff Census Tract       | NULL                 \n",
      " Pickup Community Area      | NULL                 \n",
      " Dropoff Community Area     | NULL                 \n",
      " Fare                       | 3.75                 \n",
      " Tips                       | 0.0                  \n",
      " Tolls                      | 0.0                  \n",
      " Extras                     | 0.0                  \n",
      " Trip Total                 | 3.75                 \n",
      " Payment Type               | Cash                 \n",
      " Company                    | Medallion Leasin     \n",
      " Pickup Centroid Latitude   | NULL                 \n",
      " Pickup Centroid Longitude  | NULL                 \n",
      " Pickup Centroid Location   | NULL                 \n",
      " Dropoff Centroid Latitude  | NULL                 \n",
      " Dropoff Centroid Longitude | NULL                 \n",
      " Dropoff Centroid  Location | NULL                 \n",
      "only showing top 1 row\n",
      "\n"
     ]
    }
   ],
   "source": [
    "# Посмотрим данные в df2022\n",
    "df2022.show(1, vertical=True)"
   ]
  },
  {
   "cell_type": "code",
   "execution_count": 7,
   "id": "8deed579",
   "metadata": {},
   "outputs": [
    {
     "name": "stdout",
     "output_type": "stream",
     "text": [
      "-RECORD 0------------------------------------------\n",
      " Trip ID                    | 0fca59218b1168827... \n",
      " Taxi ID                    | e2c349c7cbb608d55... \n",
      " Trip Start Timestamp       | 01/01/2023 12:00:... \n",
      " Trip End Timestamp         | 01/01/2023 12:15:... \n",
      " Trip Seconds               | 1037                 \n",
      " Trip Miles                 | 4.82                 \n",
      " Pickup Census Tract        | NULL                 \n",
      " Dropoff Census Tract       | NULL                 \n",
      " Pickup Community Area      | 6                    \n",
      " Dropoff Community Area     | 32                   \n",
      " Fare                       | 15.75                \n",
      " Tips                       | 3.25                 \n",
      " Tolls                      | 0.0                  \n",
      " Extras                     | 0.0                  \n",
      " Trip Total                 | 19.5                 \n",
      " Payment Type               | Credit Card          \n",
      " Company                    | Taxicab Insurance... \n",
      " Pickup Centroid Latitude   | 41.944226601         \n",
      " Pickup Centroid Longitude  | -87.655998182        \n",
      " Pickup Centroid Location   | POINT (-87.655998... \n",
      " Dropoff Centroid Latitude  | 41.878865584         \n",
      " Dropoff Centroid Longitude | -87.625192142        \n",
      " Dropoff Centroid  Location | POINT (-87.625192... \n",
      "only showing top 1 row\n",
      "\n"
     ]
    }
   ],
   "source": [
    "# Посмотрим данные в df2023\n",
    "df2023.show(1, vertical=True)"
   ]
  },
  {
   "cell_type": "markdown",
   "id": "4218cd76",
   "metadata": {},
   "source": [
    "**Отмечаем**, что признаки в обоих датасетах идентичны, значит, их можно объединять."
   ]
  },
  {
   "cell_type": "code",
   "execution_count": 8,
   "id": "ae4d561a",
   "metadata": {},
   "outputs": [
    {
     "data": {
      "application/vnd.jupyter.widget-view+json": {
       "model_id": "bac030875fa14b6e8fe3131d0e464f93",
       "version_major": 2,
       "version_minor": 0
      },
      "text/plain": [
       "  0%|          | 0/1 [00:00<?, ?it/s]"
      ]
     },
     "metadata": {},
     "output_type": "display_data"
    },
    {
     "name": "stdout",
     "output_type": "stream",
     "text": [
      "Данные объединены корректно, потерь нет.\n",
      "\n",
      "Размер объединенного датасета: 10166155 записей на 23 признака.\n"
     ]
    }
   ],
   "source": [
    "# Чтобы видеть, что процесс выполняется, поставим tqdm с разовым циклом:\n",
    "for _ in tqdm(range(1)): \n",
    "    # Объединяем датасеты:\n",
    "    data = df2022.union(df2023)\n",
    "\n",
    "    # Проверка, нет ли пропущенных записей после объединения данных:\n",
    "    if data.count() == df2022.count() + df2023.count():\n",
    "        print('Данные объединены корректно, потерь нет.')\n",
    "    else: \n",
    "        print('Данные объединены с потерями.')\n",
    "\n",
    "\n",
    "    # Удалим промежуточные датасеты, чтобы высвободить память:\n",
    "    del df2022\n",
    "    del df2023\n",
    "\n",
    "    full_data_size = data.count()\n",
    "    print('\\nРазмер объединенного датасета:', full_data_size, 'записей на',\n",
    "          len(data.columns), 'признака.')"
   ]
  },
  {
   "cell_type": "markdown",
   "id": "023bcca8",
   "metadata": {},
   "source": [
    "## 2.3. Приведём все названия колонок к стилю `snakecase`."
   ]
  },
  {
   "cell_type": "code",
   "execution_count": 9,
   "id": "2e1df377",
   "metadata": {},
   "outputs": [
    {
     "name": "stdout",
     "output_type": "stream",
     "text": [
      "['Trip ID', 'Taxi ID', 'Trip Start Timestamp', 'Trip End Timestamp', 'Trip Seconds', 'Trip Miles', 'Pickup Census Tract', 'Dropoff Census Tract', 'Pickup Community Area', 'Dropoff Community Area', 'Fare', 'Tips', 'Tolls', 'Extras', 'Trip Total', 'Payment Type', 'Company', 'Pickup Centroid Latitude', 'Pickup Centroid Longitude', 'Pickup Centroid Location', 'Dropoff Centroid Latitude', 'Dropoff Centroid Longitude', 'Dropoff Centroid  Location']\n",
      "['trip_id', 'taxi_id', 'trip_start_timestamp', 'trip_end_timestamp', 'trip_seconds', 'trip_miles', 'pickup_census_tract', 'dropoff_census_tract', 'pickup_community_area', 'dropoff_community_area', 'fare', 'tips', 'tolls', 'extras', 'trip_total', 'payment_type', 'company', 'pickup_centroid_latitude', 'pickup_centroid_longitude', 'pickup_centroid_location', 'dropoff_centroid_latitude', 'dropoff_centroid_longitude', 'dropoff_centroid__location']\n"
     ]
    }
   ],
   "source": [
    "print(data.columns)\n",
    "\n",
    "# Переведём все символы в нижний регистр\n",
    "# и заменим пробелы на символы подчёркивания:\n",
    "data = data.toDF(*[c.lower().replace(' ', '_') for c in data.columns])\n",
    "\n",
    "print(data.columns)"
   ]
  },
  {
   "cell_type": "markdown",
   "id": "9c5ef8d4",
   "metadata": {},
   "source": [
    "**Промежуточные выводы:**   \n",
    "* Названия признаков приведены к стилю `snakecase`. Теперь к ним можно обращаться через точку.\n",
    "* всего 23 признака, из них 8 типа 'string', остальные - числовые;\n",
    "* признаки 'trip_start_timestamp' и 'trip_end_timestamp' нужно преобразовать к типу 'дата-время'\n",
    "* Для решения поставленной задачи нам нужны всего 2 признака: `trip_start_timestamp` и `pickup_community_area`. Остальные можно удалить."
   ]
  },
  {
   "cell_type": "markdown",
   "id": "942375e1",
   "metadata": {},
   "source": [
    "## 2.4. Удаление ненужных признаков.¶"
   ]
  },
  {
   "cell_type": "code",
   "execution_count": 10,
   "id": "0c28fa40",
   "metadata": {},
   "outputs": [],
   "source": [
    "columns_to_drop = ['trip_id', 'taxi_id', 'trip_end_timestamp', \n",
    "                   'trip_seconds', 'trip_miles', 'pickup_census_tract', \n",
    "                   'dropoff_census_tract', 'dropoff_community_area', \n",
    "                   'fare', 'tips', 'tolls', 'extras', 'trip_total', \n",
    "                   'payment_type', 'company', 'pickup_centroid_latitude', \n",
    "                   'pickup_centroid_longitude', 'pickup_centroid_location', \n",
    "                   'dropoff_centroid_latitude', 'dropoff_centroid_longitude', \n",
    "                   'dropoff_centroid__location']\n",
    "data = data.drop(*columns_to_drop)"
   ]
  },
  {
   "cell_type": "code",
   "execution_count": 11,
   "id": "b4114df1",
   "metadata": {},
   "outputs": [
    {
     "name": "stdout",
     "output_type": "stream",
     "text": [
      "['trip_start_timestamp', 'pickup_community_area']\n"
     ]
    }
   ],
   "source": [
    "# Признаки, оставленные в датасете:\n",
    "print(data.columns)"
   ]
  },
  {
   "cell_type": "markdown",
   "id": "171f693c",
   "metadata": {},
   "source": [
    "## 2.5. Проверка и коррекция типов данных."
   ]
  },
  {
   "cell_type": "code",
   "execution_count": 12,
   "id": "1261eb94",
   "metadata": {},
   "outputs": [
    {
     "name": "stdout",
     "output_type": "stream",
     "text": [
      "[Row(trip_start_timestamp='08/01/2023 12:00:00 AM', pickup_community_area=34)]\n",
      "root\n",
      " |-- trip_start_timestamp: string (nullable = true)\n",
      " |-- pickup_community_area: integer (nullable = true)\n",
      "\n",
      "root\n",
      " |-- trip_start_timestamp: timestamp (nullable = true)\n",
      " |-- pickup_community_area: integer (nullable = true)\n",
      "\n",
      "[Row(trip_start_timestamp=datetime.datetime(2023, 8, 1, 0, 0), pickup_community_area=34)]\n"
     ]
    }
   ],
   "source": [
    "print(data.tail(1))\n",
    "data.printSchema()\n",
    "\n",
    "# Преобразование к типу 'дата-время'\n",
    "data = data.withColumn('trip_start_timestamp', \n",
    "                       F.to_timestamp(F.col('trip_start_timestamp'),\n",
    "                       'MM/dd/yyyy hh:mm:ss a'))\n",
    "\n",
    "# Проверим типы данных\n",
    "data.printSchema()\n",
    "print(data.tail(1))"
   ]
  },
  {
   "cell_type": "markdown",
   "id": "a74e8709",
   "metadata": {},
   "source": [
    "**Отмечаем**:  \n",
    "признаки 'trip_start_timestamp' и 'trip_end_timestamp' успешно преобразованы к типу 'дата-время'."
   ]
  },
  {
   "cell_type": "markdown",
   "id": "e3a4e0fe",
   "metadata": {},
   "source": [
    "## 2.6. Диапазон времени использования такси."
   ]
  },
  {
   "cell_type": "code",
   "execution_count": 13,
   "id": "49fcaa0f",
   "metadata": {},
   "outputs": [
    {
     "data": {
      "application/vnd.jupyter.widget-view+json": {
       "model_id": "823eef808fa644048152390981ce8dda",
       "version_major": 2,
       "version_minor": 0
      },
      "text/plain": [
       "  0%|          | 0/1 [00:00<?, ?it/s]"
      ]
     },
     "metadata": {},
     "output_type": "display_data"
    },
    {
     "name": "stdout",
     "output_type": "stream",
     "text": [
      "В БД находятся заказы такси, начиная с 2022-01-01 00:00:00 и до 2023-08-01 00:00:00 продолжительностью 577 дней.\n"
     ]
    }
   ],
   "source": [
    "for _ in tqdm(range(1)): # Чтобы видеть, что процесс выполняется\n",
    "    \n",
    "    date_first = data.select(F.min('trip_start_timestamp')).first()[0]\n",
    "    date_last = data.select(F.max('trip_start_timestamp')).first()[0]\n",
    "        \n",
    "    print('В БД находятся заказы такси, начиная с', \n",
    "          date_first, 'и до', date_last, 'продолжительностью', \n",
    "          \"{} дней.\".format((date_last - date_first).days))"
   ]
  },
  {
   "cell_type": "markdown",
   "id": "b889ced2",
   "metadata": {},
   "source": [
    "## 2.7. Пропущенные значения."
   ]
  },
  {
   "cell_type": "code",
   "execution_count": 14,
   "id": "baae30f0",
   "metadata": {},
   "outputs": [
    {
     "data": {
      "application/vnd.jupyter.widget-view+json": {
       "model_id": "ba807a7baecf4aba93dcd5ebda2766b1",
       "version_major": 2,
       "version_minor": 0
      },
      "text/plain": [
       "  0%|          | 0/1 [00:00<?, ?it/s]"
      ]
     },
     "metadata": {},
     "output_type": "display_data"
    },
    {
     "name": "stdout",
     "output_type": "stream",
     "text": [
      "trip_start_timestamp 0\n",
      "pickup_community_area 681620\n"
     ]
    }
   ],
   "source": [
    "for _ in tqdm(range(1)): # Чтобы видеть, что процесс выполняется\n",
    "    for feature in data.columns:\n",
    "        print(feature, data[data[feature].isNull()].count())"
   ]
  },
  {
   "cell_type": "markdown",
   "id": "b792b174",
   "metadata": {},
   "source": [
    "**Отмечаем**:\n",
    "* в признаке 'trip_start_timestamp' нет пропущенных значений.\n",
    "* в признаке 'pickup_community_area' пропущенных значений много, 681 620."
   ]
  },
  {
   "cell_type": "markdown",
   "id": "6acbb5e8",
   "metadata": {},
   "source": [
    "### 2.7.1. Пропущенные значения в признаке '*pickup_community_area*'."
   ]
  },
  {
   "cell_type": "code",
   "execution_count": 15,
   "id": "6e739191",
   "metadata": {},
   "outputs": [
    {
     "data": {
      "application/vnd.jupyter.widget-view+json": {
       "model_id": "17d150d154e94d9aa3699472289a4bb7",
       "version_major": 2,
       "version_minor": 0
      },
      "text/plain": [
       "  0%|          | 0/1 [00:00<?, ?it/s]"
      ]
     },
     "metadata": {},
     "output_type": "display_data"
    },
    {
     "name": "stdout",
     "output_type": "stream",
     "text": [
      "Количество значений в столбце `pickup_community_area`: 78\n"
     ]
    }
   ],
   "source": [
    "# Количество значений в столбце `pickup_community_area`\n",
    "for _ in tqdm(range(1)): # Чтобы видеть, что процесс выполняется\n",
    "    community_area_count = data.select('pickup_community_area').\\\n",
    "                           distinct().count()\n",
    "    print(f'Количество значений в столбце',\n",
    "          f'`pickup_community_area`: {community_area_count}')"
   ]
  },
  {
   "cell_type": "markdown",
   "id": "599bb924",
   "metadata": {},
   "source": [
    "**Отмечаем**, что в Чикаго всего 77 городских района. См: [Районы г Чикаго](https://en.wikipedia.org/wiki/Community_areas_in_Chicago \"Жми на ссылку...\").  \n",
    "Посмотрим, почему у нас их получается 78?"
   ]
  },
  {
   "cell_type": "code",
   "execution_count": 16,
   "id": "5d3f48c6",
   "metadata": {},
   "outputs": [
    {
     "data": {
      "application/vnd.jupyter.widget-view+json": {
       "model_id": "681e30d73f144eb5b850215df93b0ced",
       "version_major": 2,
       "version_minor": 0
      },
      "text/plain": [
       "  0%|          | 0/1 [00:00<?, ?it/s]"
      ]
     },
     "metadata": {},
     "output_type": "display_data"
    },
    {
     "name": "stdout",
     "output_type": "stream",
     "text": [
      "Диапазон значений 'pickup_community_area' от 1 и до 77\n"
     ]
    }
   ],
   "source": [
    "for _ in tqdm(range(1)): # Чтобы видеть, что процесс выполняется\n",
    "    print(\"Диапазон значений 'pickup_community_area' от\",\n",
    "          data.select(F.min('pickup_community_area')).first()[0],\n",
    "          'и до', data.select(F.max('pickup_community_area')).first()[0])"
   ]
  },
  {
   "cell_type": "code",
   "execution_count": 17,
   "id": "20fd7a1a",
   "metadata": {},
   "outputs": [
    {
     "name": "stdout",
     "output_type": "stream",
     "text": [
      "+---------------------+----------------------------+\n",
      "|pickup_community_area|count(pickup_community_area)|\n",
      "+---------------------+----------------------------+\n",
      "|                   31|                       15211|\n",
      "|                   65|                        3341|\n",
      "|                   53|                       17653|\n",
      "|                   34|                       26448|\n",
      "|                   28|                      873134|\n",
      "|                   76|                     1736750|\n",
      "|                   27|                        8206|\n",
      "|                   26|                        4023|\n",
      "|                   44|                       44028|\n",
      "|                   12|                       12810|\n",
      "|                   22|                       48480|\n",
      "|                   47|                        2860|\n",
      "|                 NULL|                           0|\n",
      "|                    1|                       56517|\n",
      "|                   52|                        5446|\n",
      "+---------------------+----------------------------+\n",
      "only showing top 15 rows\n",
      "\n"
     ]
    }
   ],
   "source": [
    "(data.groupby(\"pickup_community_area\").\n",
    "     agg(F.count(\"pickup_community_area\")).show(15))"
   ]
  },
  {
   "cell_type": "markdown",
   "id": "d97de3e9",
   "metadata": {},
   "source": [
    "**Отмечаем**, что есть пропущенные значения.  \n",
    "Предположим, что пропуски появились, когда такси работали за пределами города.  \n",
    "В нашей задаче нужно предсказать количество заказов такси по РАЙОНАМ города, т.е., пригороды, имеющие огромную территорию, в задачу не входят.   \n",
    "**Принимаем решение** удалить информацию по заказам из пригорода Чикаго."
   ]
  },
  {
   "cell_type": "code",
   "execution_count": 18,
   "id": "8906d9a0",
   "metadata": {},
   "outputs": [
    {
     "data": {
      "application/vnd.jupyter.widget-view+json": {
       "model_id": "02b132b14be14d4fb9fb9871feb77593",
       "version_major": 2,
       "version_minor": 0
      },
      "text/plain": [
       "  0%|          | 0/1 [00:00<?, ?it/s]"
      ]
     },
     "metadata": {},
     "output_type": "display_data"
    },
    {
     "name": "stdout",
     "output_type": "stream",
     "text": [
      "Количество строк до удаления пропусков: 10166155\n",
      "Количество строк после удаления пропусков: 9484535\n",
      "Удельная часть удаленных записей: 6.70%\n",
      "\n",
      "Данные собраны корректно, потерь нет.\n",
      "Размер итогового датасета: 9484535 записей на 2 признака.\n"
     ]
    }
   ],
   "source": [
    "for _ in tqdm(range(1)): # Чтобы видеть, что процесс выполняется\n",
    "    data_cleaned = data.na.drop(how='any')\n",
    "\n",
    "    num_data = data.count()\n",
    "    num_cleaned_data = data_cleaned.count()\n",
    "    \n",
    "    # количество строк до и после удаления пропусков\n",
    "    print(f'Количество строк до удаления пропусков: {num_data}')\n",
    "    print(f'Количество строк после удаления пропусков: {num_cleaned_data}')\n",
    "    print(f'Удельная часть удаленных записей: ' + \n",
    "          f'{(num_data-num_cleaned_data)/num_data:.2%}')\n",
    "    \n",
    "    if full_data_size - num_cleaned_data == 681620:\n",
    "        print('\\nДанные собраны корректно, потерь нет.')\n",
    "    else: \n",
    "        print('\\nДанные имеют потери!')\n",
    "        \n",
    "    print('Размер итогового датасета:', num_cleaned_data, 'записей на',\n",
    "          len(data_cleaned.columns), 'признака.') \n",
    "    \n",
    "    # Удалим ненужный более датасет, чтобы высвободить память:\n",
    "    del data"
   ]
  },
  {
   "cell_type": "markdown",
   "id": "a7dd4300",
   "metadata": {},
   "source": [
    "## 2.8. Агрегация данных по 1 часу времени заказа."
   ]
  },
  {
   "cell_type": "code",
   "execution_count": 19,
   "id": "05f8c685",
   "metadata": {},
   "outputs": [
    {
     "name": "stdout",
     "output_type": "stream",
     "text": [
      "+-------------------+----+\n",
      "|datetime           |area|\n",
      "+-------------------+----+\n",
      "|2022-01-01 00:00:00|28  |\n",
      "|2022-01-01 00:00:00|8   |\n",
      "|2022-01-01 00:00:00|8   |\n",
      "|2022-01-01 00:00:00|76  |\n",
      "|2022-01-01 00:00:00|33  |\n",
      "|2022-01-01 00:00:00|3   |\n",
      "|2022-01-01 00:00:00|7   |\n",
      "|2022-01-01 00:00:00|76  |\n",
      "|2022-01-01 00:00:00|33  |\n",
      "|2022-01-01 00:00:00|76  |\n",
      "|2022-01-01 00:00:00|8   |\n",
      "|2022-01-01 00:00:00|8   |\n",
      "|2022-01-01 00:00:00|8   |\n",
      "|2022-01-01 00:00:00|77  |\n",
      "|2022-01-01 00:00:00|8   |\n",
      "|2022-01-01 00:00:00|8   |\n",
      "|2022-01-01 00:00:00|56  |\n",
      "|2022-01-01 00:00:00|8   |\n",
      "|2022-01-01 00:00:00|2   |\n",
      "|2022-01-01 00:00:00|28  |\n",
      "|2022-01-01 00:00:00|22  |\n",
      "|2022-01-01 00:00:00|8   |\n",
      "|2022-01-01 00:00:00|32  |\n",
      "|2022-01-01 00:00:00|32  |\n",
      "|2022-01-01 00:00:00|8   |\n",
      "|2022-01-01 00:00:00|8   |\n",
      "|2022-01-01 00:00:00|8   |\n",
      "|2022-01-01 00:00:00|8   |\n",
      "|2022-01-01 00:00:00|32  |\n",
      "|2022-01-01 00:00:00|76  |\n",
      "|2022-01-01 00:00:00|8   |\n",
      "|2022-01-01 00:00:00|28  |\n",
      "|2022-01-01 00:00:00|3   |\n",
      "|2022-01-01 00:00:00|25  |\n",
      "|2022-01-01 00:00:00|7   |\n",
      "|2022-01-01 00:00:00|48  |\n",
      "|2022-01-01 00:00:00|7   |\n",
      "|2022-01-01 00:00:00|8   |\n",
      "|2022-01-01 00:00:00|3   |\n",
      "|2022-01-01 00:00:00|8   |\n",
      "|2022-01-01 00:00:00|8   |\n",
      "|2022-01-01 00:00:00|8   |\n",
      "|2022-01-01 00:00:00|76  |\n",
      "|2022-01-01 00:00:00|8   |\n",
      "|2022-01-01 00:00:00|8   |\n",
      "|2022-01-01 00:00:00|8   |\n",
      "|2022-01-01 00:00:00|41  |\n",
      "|2022-01-01 00:00:00|28  |\n",
      "|2022-01-01 00:00:00|8   |\n",
      "|2022-01-01 00:00:00|32  |\n",
      "|2022-01-01 00:00:00|8   |\n",
      "|2022-01-01 00:00:00|8   |\n",
      "|2022-01-01 00:00:00|7   |\n",
      "|2022-01-01 00:00:00|8   |\n",
      "|2022-01-01 00:00:00|8   |\n",
      "|2022-01-01 00:00:00|8   |\n",
      "|2022-01-01 00:00:00|32  |\n",
      "|2022-01-01 00:00:00|8   |\n",
      "|2022-01-01 00:00:00|56  |\n",
      "|2022-01-01 00:00:00|24  |\n",
      "|2022-01-01 00:00:00|28  |\n",
      "|2022-01-01 00:00:00|8   |\n",
      "|2022-01-01 00:00:00|28  |\n",
      "|2022-01-01 00:00:00|1   |\n",
      "|2022-01-01 00:00:00|77  |\n",
      "|2022-01-01 00:00:00|8   |\n",
      "|2022-01-01 00:00:00|8   |\n",
      "|2022-01-01 00:00:00|28  |\n",
      "|2022-01-01 00:00:00|6   |\n",
      "|2022-01-01 00:00:00|28  |\n",
      "|2022-01-01 00:00:00|6   |\n",
      "|2022-01-01 00:15:00|32  |\n",
      "|2022-01-01 00:15:00|6   |\n",
      "|2022-01-01 00:15:00|8   |\n",
      "|2022-01-01 00:15:00|28  |\n",
      "|2022-01-01 00:15:00|8   |\n",
      "|2022-01-01 00:15:00|8   |\n",
      "|2022-01-01 00:15:00|7   |\n",
      "|2022-01-01 00:15:00|7   |\n",
      "|2022-01-01 00:15:00|8   |\n",
      "|2022-01-01 00:15:00|24  |\n",
      "|2022-01-01 00:15:00|28  |\n",
      "|2022-01-01 00:15:00|23  |\n",
      "|2022-01-01 00:15:00|8   |\n",
      "|2022-01-01 00:15:00|28  |\n",
      "|2022-01-01 00:15:00|32  |\n",
      "|2022-01-01 00:15:00|6   |\n",
      "|2022-01-01 00:15:00|8   |\n",
      "|2022-01-01 00:15:00|8   |\n",
      "|2022-01-01 00:15:00|8   |\n",
      "|2022-01-01 00:15:00|8   |\n",
      "|2022-01-01 00:15:00|8   |\n",
      "|2022-01-01 00:15:00|56  |\n",
      "|2022-01-01 00:15:00|8   |\n",
      "|2022-01-01 00:15:00|8   |\n",
      "|2022-01-01 00:15:00|32  |\n",
      "|2022-01-01 00:15:00|8   |\n",
      "|2022-01-01 00:15:00|28  |\n",
      "|2022-01-01 00:15:00|8   |\n",
      "|2022-01-01 00:15:00|8   |\n",
      "+-------------------+----+\n",
      "only showing top 100 rows\n",
      "\n"
     ]
    }
   ],
   "source": [
    "# Дадим признакам более короткие названия:\n",
    "data_cleaned = (data_cleaned.\n",
    "               withColumnRenamed('trip_start_timestamp', 'datetime').\n",
    "               withColumnRenamed('pickup_community_area', 'area')\n",
    "               )\n",
    "\n",
    "data_cleaned.show(100, truncate=False)"
   ]
  },
  {
   "cell_type": "markdown",
   "id": "49ac9121",
   "metadata": {},
   "source": [
    "**Отмечаем**, что данные содержат информацию по каждым 15 минутам заказов такси.   \n",
    "Для нашей задачи нужна информация почасовая, поэтому округлим время до ближайшего часа."
   ]
  },
  {
   "cell_type": "code",
   "execution_count": 20,
   "id": "bcce58d1",
   "metadata": {},
   "outputs": [
    {
     "name": "stdout",
     "output_type": "stream",
     "text": [
      "+-------------------+----+\n",
      "|datetime           |area|\n",
      "+-------------------+----+\n",
      "|2022-01-01 00:00:00|28  |\n",
      "|2022-01-01 00:00:00|8   |\n",
      "|2022-01-01 00:00:00|8   |\n",
      "|2022-01-01 00:00:00|76  |\n",
      "|2022-01-01 00:00:00|33  |\n",
      "|2022-01-01 00:00:00|3   |\n",
      "|2022-01-01 00:00:00|7   |\n",
      "|2022-01-01 00:00:00|76  |\n",
      "|2022-01-01 00:00:00|33  |\n",
      "|2022-01-01 00:00:00|76  |\n",
      "|2022-01-01 00:00:00|8   |\n",
      "|2022-01-01 00:00:00|8   |\n",
      "|2022-01-01 00:00:00|8   |\n",
      "|2022-01-01 00:00:00|77  |\n",
      "|2022-01-01 00:00:00|8   |\n",
      "|2022-01-01 00:00:00|8   |\n",
      "|2022-01-01 00:00:00|56  |\n",
      "|2022-01-01 00:00:00|8   |\n",
      "|2022-01-01 00:00:00|2   |\n",
      "|2022-01-01 00:00:00|28  |\n",
      "|2022-01-01 00:00:00|22  |\n",
      "|2022-01-01 00:00:00|8   |\n",
      "|2022-01-01 00:00:00|32  |\n",
      "|2022-01-01 00:00:00|32  |\n",
      "|2022-01-01 00:00:00|8   |\n",
      "|2022-01-01 00:00:00|8   |\n",
      "|2022-01-01 00:00:00|8   |\n",
      "|2022-01-01 00:00:00|8   |\n",
      "|2022-01-01 00:00:00|32  |\n",
      "|2022-01-01 00:00:00|76  |\n",
      "|2022-01-01 00:00:00|8   |\n",
      "|2022-01-01 00:00:00|28  |\n",
      "|2022-01-01 00:00:00|3   |\n",
      "|2022-01-01 00:00:00|25  |\n",
      "|2022-01-01 00:00:00|7   |\n",
      "|2022-01-01 00:00:00|48  |\n",
      "|2022-01-01 00:00:00|7   |\n",
      "|2022-01-01 00:00:00|8   |\n",
      "|2022-01-01 00:00:00|3   |\n",
      "|2022-01-01 00:00:00|8   |\n",
      "|2022-01-01 00:00:00|8   |\n",
      "|2022-01-01 00:00:00|8   |\n",
      "|2022-01-01 00:00:00|76  |\n",
      "|2022-01-01 00:00:00|8   |\n",
      "|2022-01-01 00:00:00|8   |\n",
      "|2022-01-01 00:00:00|8   |\n",
      "|2022-01-01 00:00:00|41  |\n",
      "|2022-01-01 00:00:00|28  |\n",
      "|2022-01-01 00:00:00|8   |\n",
      "|2022-01-01 00:00:00|32  |\n",
      "|2022-01-01 00:00:00|8   |\n",
      "|2022-01-01 00:00:00|8   |\n",
      "|2022-01-01 00:00:00|7   |\n",
      "|2022-01-01 00:00:00|8   |\n",
      "|2022-01-01 00:00:00|8   |\n",
      "|2022-01-01 00:00:00|8   |\n",
      "|2022-01-01 00:00:00|32  |\n",
      "|2022-01-01 00:00:00|8   |\n",
      "|2022-01-01 00:00:00|56  |\n",
      "|2022-01-01 00:00:00|24  |\n",
      "|2022-01-01 00:00:00|28  |\n",
      "|2022-01-01 00:00:00|8   |\n",
      "|2022-01-01 00:00:00|28  |\n",
      "|2022-01-01 00:00:00|1   |\n",
      "|2022-01-01 00:00:00|77  |\n",
      "|2022-01-01 00:00:00|8   |\n",
      "|2022-01-01 00:00:00|8   |\n",
      "|2022-01-01 00:00:00|28  |\n",
      "|2022-01-01 00:00:00|6   |\n",
      "|2022-01-01 00:00:00|28  |\n",
      "|2022-01-01 00:00:00|6   |\n",
      "|2022-01-01 00:00:00|32  |\n",
      "|2022-01-01 00:00:00|6   |\n",
      "|2022-01-01 00:00:00|8   |\n",
      "|2022-01-01 00:00:00|28  |\n",
      "|2022-01-01 00:00:00|8   |\n",
      "|2022-01-01 00:00:00|8   |\n",
      "|2022-01-01 00:00:00|7   |\n",
      "|2022-01-01 00:00:00|7   |\n",
      "|2022-01-01 00:00:00|8   |\n",
      "|2022-01-01 00:00:00|24  |\n",
      "|2022-01-01 00:00:00|28  |\n",
      "|2022-01-01 00:00:00|23  |\n",
      "|2022-01-01 00:00:00|8   |\n",
      "|2022-01-01 00:00:00|28  |\n",
      "|2022-01-01 00:00:00|32  |\n",
      "|2022-01-01 00:00:00|6   |\n",
      "|2022-01-01 00:00:00|8   |\n",
      "|2022-01-01 00:00:00|8   |\n",
      "|2022-01-01 00:00:00|8   |\n",
      "|2022-01-01 00:00:00|8   |\n",
      "|2022-01-01 00:00:00|8   |\n",
      "|2022-01-01 00:00:00|56  |\n",
      "|2022-01-01 00:00:00|8   |\n",
      "|2022-01-01 00:00:00|8   |\n",
      "|2022-01-01 00:00:00|32  |\n",
      "|2022-01-01 00:00:00|8   |\n",
      "|2022-01-01 00:00:00|28  |\n",
      "|2022-01-01 00:00:00|8   |\n",
      "|2022-01-01 00:00:00|8   |\n",
      "+-------------------+----+\n",
      "only showing top 100 rows\n",
      "\n"
     ]
    }
   ],
   "source": [
    "data_cleaned = data_cleaned.withColumn('datetime', \n",
    "                                       F.date_trunc('hour', 'datetime'))\n",
    "\n",
    "data_cleaned.show(100, truncate=False)"
   ]
  },
  {
   "cell_type": "markdown",
   "id": "12815248",
   "metadata": {},
   "source": [
    "Подсчитаем количество заказов по каждому району Чикаго ежечасно."
   ]
  },
  {
   "cell_type": "code",
   "execution_count": 21,
   "id": "ebb7143c",
   "metadata": {},
   "outputs": [
    {
     "data": {
      "application/vnd.jupyter.widget-view+json": {
       "model_id": "e3b90d31ed404a4ea16f4286df24298e",
       "version_major": 2,
       "version_minor": 0
      },
      "text/plain": [
       "  0%|          | 0/1 [00:00<?, ?it/s]"
      ]
     },
     "metadata": {},
     "output_type": "display_data"
    },
    {
     "name": "stdout",
     "output_type": "stream",
     "text": [
      "+-------------------+----+-----+\n",
      "|           datetime|area|count|\n",
      "+-------------------+----+-----+\n",
      "|2022-01-01 04:00:00|  14|    2|\n",
      "|2022-01-01 05:00:00|  22|    3|\n",
      "|2022-01-01 08:00:00|  28|    3|\n",
      "|2022-01-01 08:00:00|  39|    1|\n",
      "|2022-01-01 16:00:00|  44|    1|\n",
      "|2022-01-01 17:00:00|  36|    4|\n",
      "|2022-01-01 18:00:00|  13|    1|\n",
      "|2022-01-02 08:00:00|  77|    4|\n",
      "|2022-01-02 10:00:00|  48|    1|\n",
      "|2022-01-02 10:00:00|  34|    2|\n",
      "+-------------------+----+-----+\n",
      "only showing top 10 rows\n",
      "\n"
     ]
    }
   ],
   "source": [
    "for _ in tqdm(range(1)): # Чтобы видеть, что процесс выполняется\n",
    "    data_hours = (data_cleaned.\n",
    "                  groupBy('datetime', 'area').\n",
    "                  agg(F.count('*').alias('count')).cache()\n",
    "                 )\n",
    "    data_hours.show(10)\n",
    "    \n",
    "    # Удалим ненужный более датасет, чтобы высвободить память:\n",
    "    del data_cleaned"
   ]
  },
  {
   "cell_type": "code",
   "execution_count": 22,
   "id": "16bdb19e",
   "metadata": {},
   "outputs": [
    {
     "name": "stdout",
     "output_type": "stream",
     "text": [
      "Таким образом, за вес период наблюдений у нас собрано 606065 записей.\n",
      "2022-01-01 00:00:00\n",
      "2023-08-01 00:00:00\n",
      "\n",
      "С учетом 24 часа/день и на 77 районов города за этот период должно быть собрано 1066296 записей.\n"
     ]
    }
   ],
   "source": [
    "print('Таким образом, за вес период наблюдений у нас собрано',\n",
    "      data_hours.count(), 'записей.')\n",
    "print(date_first)\n",
    "print(date_last)\n",
    "\n",
    "print('\\nС учетом 24 часа/день и на', NUMBER_CHICAGO_AREAS, \n",
    "      'районов города за этот период должно быть собрано',\n",
    "      \"{}\".format((date_last - date_first).days * 24 * NUMBER_CHICAGO_AREAS),\n",
    "      'записей.')"
   ]
  },
  {
   "cell_type": "markdown",
   "id": "7c6eb043",
   "metadata": {},
   "source": [
    "**Отмечаем**, что есть очень много попущенных значений, когда в каком-либо районе Чикаго не было заказов такси!\n",
    "\n",
    "Отсортируем данные в хронологическом порядке:"
   ]
  },
  {
   "cell_type": "code",
   "execution_count": 23,
   "id": "27339fce",
   "metadata": {},
   "outputs": [
    {
     "data": {
      "application/vnd.jupyter.widget-view+json": {
       "model_id": "d3b45bf3a5cf4b4f8289739662959a7a",
       "version_major": 2,
       "version_minor": 0
      },
      "text/plain": [
       "  0%|          | 0/1 [00:00<?, ?it/s]"
      ]
     },
     "metadata": {},
     "output_type": "display_data"
    },
    {
     "name": "stdout",
     "output_type": "stream",
     "text": [
      "+-------------------+----+-----+\n",
      "|           datetime|area|count|\n",
      "+-------------------+----+-----+\n",
      "|2022-01-01 00:00:00|  11|    1|\n",
      "|2022-01-01 00:00:00|  19|    1|\n",
      "|2022-01-01 00:00:00|   3|    9|\n",
      "|2022-01-01 00:00:00|  28|   42|\n",
      "|2022-01-01 00:00:00|  33|    7|\n",
      "|2022-01-01 00:00:00|  56|    8|\n",
      "|2022-01-01 00:00:00|  25|    3|\n",
      "|2022-01-01 00:00:00|  48|    1|\n",
      "|2022-01-01 00:00:00|  24|   20|\n",
      "|2022-01-01 00:00:00|  34|    1|\n",
      "+-------------------+----+-----+\n",
      "only showing top 10 rows\n",
      "\n",
      "Количество записей в отсортированном датасете: 606065\n",
      "Диапазон значений 'area' от 1 и до 77\n",
      "+-------------------+----+-----+\n",
      "|           datetime|area|count|\n",
      "+-------------------+----+-----+\n",
      "|2022-01-01 04:00:00|  14|    2|\n",
      "|2022-01-01 05:00:00|  22|    3|\n",
      "|2022-01-01 08:00:00|  28|    3|\n",
      "|2022-01-01 08:00:00|  39|    1|\n",
      "|2022-01-01 16:00:00|  44|    1|\n",
      "+-------------------+----+-----+\n",
      "only showing top 5 rows\n",
      "\n"
     ]
    }
   ],
   "source": [
    "for _ in tqdm(range(1)): # Чтобы видеть, что процесс выполняется\n",
    "    data_hours.sort(['datetime'], ascending = True).show(10)\n",
    "    \n",
    "    print('Количество записей в отсортированном датасете:', \n",
    "          data_hours.count())\n",
    "    \n",
    "    print(\"Диапазон значений 'area' от\",\n",
    "          data_hours.select(F.min('area')).first()[0],\n",
    "          'и до', data_hours.select(F.max('area')).first()[0])\n",
    "    \n",
    "    data_hours.show(5)"
   ]
  },
  {
   "cell_type": "markdown",
   "id": "fad8332a",
   "metadata": {},
   "source": [
    "**Промежуточные результаты**:\n",
    "* Подготовлен датасет с признаками:\n",
    "    * Время заказа такси с дискретностью в 1 час.\n",
    "    * Номер района Чикаго (в диапазоне от 1 до 77).\n",
    "    * Количество заказов по данному районе в течение часа.\n",
    "* Данные отсортированы по времени заявки такси.   "
   ]
  },
  {
   "cell_type": "markdown",
   "id": "ef96718e",
   "metadata": {},
   "source": [
    "# 3. EDA анализ."
   ]
  },
  {
   "cell_type": "code",
   "execution_count": 24,
   "id": "cce5eb23",
   "metadata": {},
   "outputs": [
    {
     "name": "stdout",
     "output_type": "stream",
     "text": [
      "+-------+------------------+\n",
      "|summary|             count|\n",
      "+-------+------------------+\n",
      "|  count|            606065|\n",
      "|   mean|15.649369292072633|\n",
      "| stddev|45.441559182400965|\n",
      "|    min|                 1|\n",
      "|    max|               591|\n",
      "+-------+------------------+\n",
      "\n"
     ]
    }
   ],
   "source": [
    "# Посмотрим статистику по количеству заказов по округам и по дате.\n",
    "data_hours.describe('count').show()"
   ]
  },
  {
   "cell_type": "markdown",
   "id": "1d287a55",
   "metadata": {},
   "source": [
    "**Отмечаем**:\n",
    "* Диапазон количества заказов по округам и по дате очень широкий: от 1 до 591.\n",
    "* При значении STD равным 45, есть значения далеко за пределами 3-х сигма, что говорит о наличии аномальных значений."
   ]
  },
  {
   "cell_type": "markdown",
   "id": "38aad223",
   "metadata": {},
   "source": [
    "## 3.1. Дополнительные признаки."
   ]
  },
  {
   "cell_type": "markdown",
   "id": "b1624e17",
   "metadata": {},
   "source": [
    "### 3.1.1. Распределение заказов такси по различным временным признакам."
   ]
  },
  {
   "cell_type": "code",
   "execution_count": 25,
   "id": "480f62e7",
   "metadata": {},
   "outputs": [
    {
     "data": {
      "application/vnd.jupyter.widget-view+json": {
       "model_id": "31a3900536d041dd9c713cdb4cb6620c",
       "version_major": 2,
       "version_minor": 0
      },
      "text/plain": [
       "  0%|          | 0/1 [00:00<?, ?it/s]"
      ]
     },
     "metadata": {},
     "output_type": "display_data"
    }
   ],
   "source": [
    "for _ in tqdm(range(1)): # Чтобы видеть, что процесс выполняется\n",
    "    data_hours = data_hours.withColumn('hour', F.hour('datetime'))\n",
    "    data_hours = data_hours.withColumn('day_week', F.dayofweek('datetime'))\n",
    "    data_hours = data_hours.withColumn('day_month', F.dayofmonth('datetime'))\n",
    "    data_hours = data_hours.withColumn('month', F.month('datetime'))\n",
    "    \n",
    "    sort_hour = data_hours.groupby('hour').count().sort('hour').toPandas()\n",
    "    sort_dayweek = data_hours.groupby('day_week').count().sort('day_week').toPandas()\n",
    "    sort_daymonth = data_hours.groupby('day_month').count().sort('day_month').toPandas()\n",
    "    sort_month = data_hours.groupby('month').count().sort('month').toPandas()"
   ]
  },
  {
   "cell_type": "code",
   "execution_count": 26,
   "id": "540bd383",
   "metadata": {},
   "outputs": [],
   "source": [
    "def visualization_datetime(data, x, x_name):\n",
    "    plt.figure(figsize=(9, 3))\n",
    "    sns.barplot(data = data, x = x, y = 'count')\n",
    "    plt.xlabel(x_name, color = 'blue', size = 10)\n",
    "    plt.ylabel('Количество заказов такси.', color='blue', size = 10)\n",
    "    plt.title('Распределение количества заказов такси.',\n",
    "              color='red', size = 12);"
   ]
  },
  {
   "cell_type": "code",
   "execution_count": 27,
   "id": "5ccb943c",
   "metadata": {},
   "outputs": [
    {
     "data": {
      "image/png": "[encoded data removed]",
      "text/plain": [
       "<Figure size 900x300 with 1 Axes>"
      ]
     },
     "metadata": {},
     "output_type": "display_data"
    }
   ],
   "source": [
    "visualization_datetime(sort_hour, 'hour', 'Час суток.')"
   ]
  },
  {
   "cell_type": "code",
   "execution_count": 28,
   "id": "d7193dbd",
   "metadata": {},
   "outputs": [
    {
     "data": {
      "image/png": "[encoded data removed]",
      "text/plain": [
       "<Figure size 900x300 with 1 Axes>"
      ]
     },
     "metadata": {},
     "output_type": "display_data"
    }
   ],
   "source": [
    "weekdays = ['Вс', 'Пн', 'Вт', 'Ср', 'Чт', 'Пт', 'Сб']\n",
    "visualization_datetime(sort_dayweek, weekdays, 'День недели.')"
   ]
  },
  {
   "cell_type": "code",
   "execution_count": 29,
   "id": "ecd4536d",
   "metadata": {},
   "outputs": [
    {
     "data": {
      "image/png": "[encoded data removed]",
      "text/plain": [
       "<Figure size 900x300 with 1 Axes>"
      ]
     },
     "metadata": {},
     "output_type": "display_data"
    }
   ],
   "source": [
    "visualization_datetime(sort_daymonth, 'day_month', 'Числа месяца.')"
   ]
  },
  {
   "cell_type": "code",
   "execution_count": null,
   "id": "7ad740d5",
   "metadata": {},
   "outputs": [],
   "source": [
    "months = ['Янв', 'Фев', 'Мар', 'Апр', 'Май', 'Июнь', \n",
    "          'Июль','Авг', 'Сен', 'Окт', 'Нояб', 'Дек']\n",
    "visualization_datetime(sort_month, months, 'Месяц.')"
   ]
  },
  {
   "cell_type": "markdown",
   "id": "bea4eaac",
   "metadata": {},
   "source": [
    "**Промежуточные выводы**:\n",
    "* Минимальное количество заказов такси приходится на ночные часы, и максимальное на дневные.\n",
    "* Количество заказов растет с началом недели до пятницы. В выходние дни такси пользуются реже.\n",
    "* По дням недели количество заказов довольно ровное. Отметим, что 31 день только примерно в каждом втором месяце.\n",
    "* Зимой люди реже пользуются такси."
   ]
  },
  {
   "cell_type": "markdown",
   "id": "a2b4b060",
   "metadata": {},
   "source": [
    "### 3.1.2. Распределение заказов такси по районам г. Чикаго."
   ]
  },
  {
   "cell_type": "code",
   "execution_count": 31,
   "id": "37cda0b2",
   "metadata": {},
   "outputs": [
    {
     "data": {
      "image/png": "[encoded data removed]",
      "text/plain": [
       "<Figure size 900x300 with 1 Axes>"
      ]
     },
     "metadata": {},
     "output_type": "display_data"
    }
   ],
   "source": [
    "sort_area = data_hours.groupby('area').count().sort('area').toPandas()\n",
    "\n",
    "plt.figure(figsize=(9, 3))\n",
    "sns.barplot(data = sort_area, x = 'area', y = 'count')\n",
    "plt.xlabel(f'Номер района г. Чикаго (1 ... {NUMBER_CHICAGO_AREAS}).', \n",
    "           color = 'blue', size = 10)\n",
    "plt.ylabel('Количество заказов такси.', color='blue', size = 10)\n",
    "plt.title('Распределение количества заказов такси.',\n",
    "          color='red', size = 12)\n",
    "plt.xticks([]);\n",
    "\n",
    "del sort_area"
   ]
  },
  {
   "cell_type": "markdown",
   "id": "495877f2",
   "metadata": {},
   "source": [
    "**Промежуточные выводы**:\n",
    "* Услугами такси пользуются во всех районах. Но неравномерно.\n",
    "* Отношение максимального количества заказов к минимальному около 10."
   ]
  },
  {
   "cell_type": "markdown",
   "id": "78e9b669",
   "metadata": {},
   "source": [
    "### 3.1.3. Тренды и сезонность."
   ]
  },
  {
   "cell_type": "code",
   "execution_count": 32,
   "id": "b40d80c2",
   "metadata": {},
   "outputs": [
    {
     "name": "stdout",
     "output_type": "stream",
     "text": [
      "+-------------------+----+-----+----+--------+---------+-----+\n",
      "|           datetime|area|count|hour|day_week|day_month|month|\n",
      "+-------------------+----+-----+----+--------+---------+-----+\n",
      "|2022-01-01 04:00:00|  14|    2|   4|       7|        1|    1|\n",
      "|2022-01-01 05:00:00|  22|    3|   5|       7|        1|    1|\n",
      "+-------------------+----+-----+----+--------+---------+-----+\n",
      "only showing top 2 rows\n",
      "\n"
     ]
    },
    {
     "data": {
      "text/html": [
       "<div>\n",
       "<style scoped>\n",
       "    .dataframe tbody tr th:only-of-type {\n",
       "        vertical-align: middle;\n",
       "    }\n",
       "\n",
       "    .dataframe tbody tr th {\n",
       "        vertical-align: top;\n",
       "    }\n",
       "\n",
       "    .dataframe thead th {\n",
       "        text-align: right;\n",
       "    }\n",
       "</style>\n",
       "<table border=\"1\" class=\"dataframe\">\n",
       "  <thead>\n",
       "    <tr style=\"text-align: right;\">\n",
       "      <th></th>\n",
       "      <th>datetime</th>\n",
       "      <th>area</th>\n",
       "      <th>count</th>\n",
       "      <th>hour</th>\n",
       "      <th>day_week</th>\n",
       "      <th>day_month</th>\n",
       "      <th>month</th>\n",
       "    </tr>\n",
       "  </thead>\n",
       "  <tbody>\n",
       "    <tr>\n",
       "      <th>0</th>\n",
       "      <td>0</td>\n",
       "      <td>0</td>\n",
       "      <td>0</td>\n",
       "      <td>0</td>\n",
       "      <td>0</td>\n",
       "      <td>0</td>\n",
       "      <td>0</td>\n",
       "    </tr>\n",
       "  </tbody>\n",
       "</table>\n",
       "</div>"
      ],
      "text/plain": [
       "   datetime  area  count  hour  day_week  day_month  month\n",
       "0         0     0      0     0         0          0      0"
      ]
     },
     "execution_count": 32,
     "metadata": {},
     "output_type": "execute_result"
    }
   ],
   "source": [
    "# Посмотрим наш дата сет\n",
    "data_hours.show(2)\n",
    "\n",
    "# Проверим датасет на наличие пропусков:\n",
    "nacounts = (data_hours.\n",
    "            select([count(when(isnull(c), c)).alias(c)\n",
    "                    for c in data_hours.columns]).\n",
    "            toPandas()\n",
    "           )\n",
    "nacounts"
   ]
  },
  {
   "cell_type": "markdown",
   "id": "2492cb5a",
   "metadata": {},
   "source": [
    "**Отмечаем**, что пропусков в датасете нет."
   ]
  },
  {
   "cell_type": "markdown",
   "id": "c19c4e09",
   "metadata": {},
   "source": [
    "### 3.1.4.  Лаги(отставания)."
   ]
  },
  {
   "cell_type": "code",
   "execution_count": 33,
   "id": "4bd32dac",
   "metadata": {},
   "outputs": [],
   "source": [
    "max_lag = 168  # количество лагов\n",
    "\n",
    "# окно для разбиения по городским округам и упорядочивания по времени\n",
    "window_area = Window().partitionBy('area').orderBy('datetime')\n",
    "\n",
    "\n",
    "windowSpec = Window.partitionBy(\"area\").orderBy(\"datetime\")\n",
    "data_hours = data_hours.withColumn(\"lag_1h\", F.lag(\"count\", 1).over(windowSpec)) \\\n",
    "                       .withColumn(\"lag_2h\", F.lag(\"count\", 2).over(windowSpec)) \\\n",
    "                       .withColumn(\"lag_12h\",F.lag(\"count\", 12).over(windowSpec)) \\\n",
    "                       .withColumn(\"lag_1d\", F.lag(\"count\", 24).over(windowSpec)) \\\n",
    "                       .withColumn(\"lag_2d\", F.lag(\"count\", 48).over(windowSpec)) \\\n",
    "                       .withColumn(\"lag_1w\", F.lag(\"count\", 168).over(windowSpec))"
   ]
  },
  {
   "cell_type": "markdown",
   "id": "f5bcdfdf",
   "metadata": {},
   "source": [
    "**Отмечаем**, что лаги созданы корректно."
   ]
  },
  {
   "cell_type": "markdown",
   "id": "dc56b70b",
   "metadata": {},
   "source": [
    "### 3.1.5.  Скользяшее среднее."
   ]
  },
  {
   "cell_type": "code",
   "execution_count": 34,
   "id": "8659d5a3",
   "metadata": {},
   "outputs": [],
   "source": [
    "# В расчет скользящего среднего включаем только значения за предыдущие отрезки времени\n",
    "window_3h = Window.partitionBy(\"area\").orderBy(F.col(\"datetime\")).rowsBetween(-3, -1)\n",
    "window_6h = Window.partitionBy(\"area\").orderBy(F.col(\"datetime\")).rowsBetween(-6, -1)\n",
    "window_12h = Window.partitionBy(\"area\").orderBy(F.col(\"datetime\")).rowsBetween(-12, -1)\n",
    "window_24h = Window.partitionBy(\"area\").orderBy(F.col(\"datetime\")).rowsBetween(-24, -1)\n",
    "window_48h = Window.partitionBy(\"area\").orderBy(F.col(\"datetime\")).rowsBetween(-48, -1)\n",
    "window_168h = Window.partitionBy(\"area\").orderBy(F.col(\"datetime\")).rowsBetween(-168, -1)\n",
    "\n",
    "data_hours = data_hours.withColumn(\"rol_3h\", F.avg(\"count\").over(window_3h)) \\\n",
    "                       .withColumn(\"rol_6h\", F.avg(\"count\").over(window_6h)) \\\n",
    "                       .withColumn(\"rol_12h\", F.avg(\"count\").over(window_12h)) \\\n",
    "                       .withColumn(\"rol_1d\", F.avg(\"count\").over(window_24h)) \\\n",
    "                       .withColumn(\"rol_2d\", F.avg(\"count\").over(window_48h)) \\\n",
    "                       .withColumn(\"rol_1w\", F.avg(\"count\").over(window_168h)).dropna()"
   ]
  },
  {
   "cell_type": "markdown",
   "id": "876d6622",
   "metadata": {},
   "source": [
    "# 4. Построение моделей."
   ]
  },
  {
   "cell_type": "markdown",
   "id": "e38090cc",
   "metadata": {},
   "source": [
    "Алгоритмы Machine Learning в PySpark принимают на вход только вектора, поэтому нам необходимо предварительно векторизовать данные"
   ]
  },
  {
   "cell_type": "markdown",
   "id": "f198cbec",
   "metadata": {},
   "source": [
    "## 4.1. Выделим  `features`."
   ]
  },
  {
   "cell_type": "code",
   "execution_count": 35,
   "id": "739f190f",
   "metadata": {},
   "outputs": [],
   "source": [
    "# target = 'count' \n",
    "\n",
    "features = data_hours.columns\n",
    "# Удалим колонки 'count' и 'datetime' из обучающих признаков:\n",
    "features = [el for el in features if el not in ['count', 'datetime']]\n",
    "\n",
    "assembler = VectorAssembler(inputCols=features, outputCol=\"features\") \n",
    "\n",
    "data_hours = assembler.transform(data_hours)"
   ]
  },
  {
   "cell_type": "markdown",
   "id": "4a2df4fe",
   "metadata": {},
   "source": [
    "## 4.2. Деление данных на выборки."
   ]
  },
  {
   "cell_type": "code",
   "execution_count": 36,
   "id": "19590d23",
   "metadata": {},
   "outputs": [
    {
     "data": {
      "application/vnd.jupyter.widget-view+json": {
       "model_id": "063fe0d646484c63b799961ddb60e85e",
       "version_major": 2,
       "version_minor": 0
      },
      "text/plain": [
       "  0%|          | 0/7 [00:00<?, ?it/s]"
      ]
     },
     "metadata": {},
     "output_type": "display_data"
    },
    {
     "name": "stdout",
     "output_type": "stream",
     "text": [
      "Для расчёта заказов на следующей неделе используются заказы такси с 2023-07-25 00:00:00 и до 2023-08-01 00:00:00 продолжительностью 7 дней.\n",
      "\n",
      "Обучение и валидация моделей проводится по заказам такси с 2022-01-08 00:00:00 и до 2023-07-24 23:00:00 продолжительностью 562 дня.\n",
      "\n",
      "Выборки созданы корректно, потерь нет.\n",
      "Размер df_train: 526923 записей на 20 признаков.\n",
      "Размер df_valid: 58921 записей на 20 признаков.\n",
      "Размер  df_test: 7285 записей на 20 признаков.\n"
     ]
    }
   ],
   "source": [
    "# Чтобы видеть, что процесс выполняется, поставим tqdm:\n",
    "for step in tqdm(range(7)): \n",
    "    if step == 0:\n",
    "        last_week = data_hours.filter(F.col(\"datetime\") >= F.lit('2023-07-25'))\n",
    "    \n",
    "        date_first = last_week.select(F.min('datetime')).first()[0]\n",
    "        date_last = last_week.select(F.max('datetime')).first()[0]\n",
    "        \n",
    "        print('Для расчёта заказов на следующей неделе используются',\n",
    "              'заказы такси с', date_first, 'и до', date_last, 'продолжительностью', \n",
    "              \"{} дней.\".format((date_last - date_first).days)) \n",
    "        \n",
    "    if step == 1:    \n",
    "        data_hours = data_hours.filter(F.col(\"datetime\") < F.lit('2023-07-25'))\n",
    "    \n",
    "        date_first = data_hours.select(F.min('datetime')).first()[0]\n",
    "        date_last = data_hours.select(F.max('datetime')).first()[0]\n",
    "        \n",
    "        print('\\nОбучение и валидация моделей проводится по заказам такси с', \n",
    "              date_first, 'и до', date_last, 'продолжительностью', \n",
    "              \"{} дня.\".format((date_last - date_first).days))         \n",
    "        \n",
    "    if step == 2:   \n",
    "        train, valid = data_hours.randomSplit([0.9, 0.1], seed = RANDOM_FIX_NUMBER)\n",
    "    if step == 3:\n",
    "        if train.count() + valid.count() == data_hours.count():\n",
    "            print('\\nВыборки созданы корректно, потерь нет.')\n",
    "        else: \n",
    "            print('\\nВыборки имеют потери!')\n",
    "            print('Исходное количество записей:', data_hours.count())\n",
    "            print('Количество записей после разбиения на выборки:', \n",
    "                  train.count() + valid.count())\n",
    "    if step == 4:\n",
    "        print('Размер df_train:', train.count(), 'записей на',\n",
    "               len(train.columns), 'признаков.')\n",
    "    if step == 5:  \n",
    "        print('Размер df_valid:', valid.count(), 'записей на',\n",
    "               len(valid.columns), 'признаков.')\n",
    "    if step == 6:  \n",
    "        print('Размер  df_test:', last_week.count(), 'записей на',\n",
    "               len(last_week.columns), 'признаков.')\n",
    "\n",
    "# Удалим ненужный датасет, высвободив память:       \n",
    "del data_hours\n",
    "\n",
    "df_train = []\n",
    "df_valid = []\n",
    "df_last_week = []\n",
    "for i in range(1, NUMBER_CHICAGO_AREAS+1):\n",
    "    df_train.append(train.filter(train.area==i))\n",
    "    df_valid.append(valid.filter(valid.area==i))\n",
    "    df_last_week.append(last_week.filter(last_week.area==i))   "
   ]
  },
  {
   "cell_type": "markdown",
   "id": "c2337377",
   "metadata": {},
   "source": [
    "## 4.3. Функция для построения модели и расчёта метрик.    "
   ]
  },
  {
   "cell_type": "code",
   "execution_count": 37,
   "id": "4da23c42",
   "metadata": {},
   "outputs": [],
   "source": [
    "df_scores = pd.DataFrame() \n",
    "\n",
    "model_names = {\"LinearRegression\": \"LR\",\n",
    "               \"DecisionTreeRegressor\": \"DTR\",\n",
    "               \"RandomForestRegressor\": \"RFR\",\n",
    "               'GBTRegressor': \"GBTR\",\n",
    "              }\n",
    "\n",
    "def calc_model(model):\n",
    "    '''\n",
    "    Функция для построения модели и расчёта метрик.\n",
    "    '''\n",
    "    score_rmse, score_mae = {}, {}\n",
    "\n",
    "    for area in tqdm(range(NUMBER_CHICAGO_AREAS)):\n",
    "        \n",
    "        model_my = model.fit(df_train[area])  \n",
    "        predictions = model_my.transform(df_valid[area])\n",
    "        \n",
    "        evaluator = RegressionEvaluator(predictionCol='prediction', \n",
    "                                        labelCol='count', metricName='mae')\n",
    "        score_mae[area] = evaluator.evaluate(predictions)\n",
    "        \n",
    "    df_scores[model_names[model.__class__.__name__] + '_MAE'] =\\\n",
    "        pd.Series(score_mae).describe()\n",
    "    \n",
    "    print(model_names[model.__class__.__name__] + '_MAE',\n",
    "          df_scores[model_names[model.__class__.__name__] + '_MAE']['mean'])"
   ]
  },
  {
   "cell_type": "markdown",
   "id": "21b8a5e5",
   "metadata": {},
   "source": [
    "## 4.4. Модели регрессии для PySpark."
   ]
  },
  {
   "cell_type": "code",
   "execution_count": 38,
   "id": "8e96af50",
   "metadata": {},
   "outputs": [
    {
     "data": {
      "application/vnd.jupyter.widget-view+json": {
       "model_id": "1609ff35d7a5442ba45100748f0ad5f2",
       "version_major": 2,
       "version_minor": 0
      },
      "text/plain": [
       "  0%|          | 0/77 [00:00<?, ?it/s]"
      ]
     },
     "metadata": {},
     "output_type": "display_data"
    },
    {
     "name": "stdout",
     "output_type": "stream",
     "text": [
      "LR_MAE 2.264254144335692\n"
     ]
    },
    {
     "data": {
      "application/vnd.jupyter.widget-view+json": {
       "model_id": "f3d8951b8bad4603bcae54af851644dd",
       "version_major": 2,
       "version_minor": 0
      },
      "text/plain": [
       "  0%|          | 0/77 [00:00<?, ?it/s]"
      ]
     },
     "metadata": {},
     "output_type": "display_data"
    },
    {
     "name": "stdout",
     "output_type": "stream",
     "text": [
      "DTR_MAE 2.1843499227620486\n"
     ]
    },
    {
     "data": {
      "application/vnd.jupyter.widget-view+json": {
       "model_id": "278d8f32b1c545d3bc33ef39a7f7fda5",
       "version_major": 2,
       "version_minor": 0
      },
      "text/plain": [
       "  0%|          | 0/77 [00:00<?, ?it/s]"
      ]
     },
     "metadata": {},
     "output_type": "display_data"
    },
    {
     "name": "stdout",
     "output_type": "stream",
     "text": [
      "RFR_MAE 2.14142122149908\n"
     ]
    },
    {
     "data": {
      "application/vnd.jupyter.widget-view+json": {
       "model_id": "9f21dffc4f3d45dcad079d2ba5c3e520",
       "version_major": 2,
       "version_minor": 0
      },
      "text/plain": [
       "  0%|          | 0/77 [00:00<?, ?it/s]"
      ]
     },
     "metadata": {},
     "output_type": "display_data"
    },
    {
     "name": "stdout",
     "output_type": "stream",
     "text": [
      "GBTR_MAE 1.9577212828449835\n"
     ]
    },
    {
     "data": {
      "text/html": [
       "<div>\n",
       "<style scoped>\n",
       "    .dataframe tbody tr th:only-of-type {\n",
       "        vertical-align: middle;\n",
       "    }\n",
       "\n",
       "    .dataframe tbody tr th {\n",
       "        vertical-align: top;\n",
       "    }\n",
       "\n",
       "    .dataframe thead th {\n",
       "        text-align: right;\n",
       "    }\n",
       "</style>\n",
       "<table border=\"1\" class=\"dataframe\">\n",
       "  <thead>\n",
       "    <tr style=\"text-align: right;\">\n",
       "      <th></th>\n",
       "      <th>LR_MAE</th>\n",
       "      <th>DTR_MAE</th>\n",
       "      <th>RFR_MAE</th>\n",
       "      <th>GBTR_MAE</th>\n",
       "    </tr>\n",
       "  </thead>\n",
       "  <tbody>\n",
       "    <tr>\n",
       "      <th>count</th>\n",
       "      <td>77.00</td>\n",
       "      <td>77.00</td>\n",
       "      <td>77.00</td>\n",
       "      <td>77.00</td>\n",
       "    </tr>\n",
       "    <tr>\n",
       "      <th>mean</th>\n",
       "      <td>2.26</td>\n",
       "      <td>2.18</td>\n",
       "      <td>2.14</td>\n",
       "      <td>1.96</td>\n",
       "    </tr>\n",
       "    <tr>\n",
       "      <th>std</th>\n",
       "      <td>4.07</td>\n",
       "      <td>4.30</td>\n",
       "      <td>4.06</td>\n",
       "      <td>3.53</td>\n",
       "    </tr>\n",
       "    <tr>\n",
       "      <th>min</th>\n",
       "      <td>0.20</td>\n",
       "      <td>0.20</td>\n",
       "      <td>0.20</td>\n",
       "      <td>0.21</td>\n",
       "    </tr>\n",
       "    <tr>\n",
       "      <th>25%</th>\n",
       "      <td>0.66</td>\n",
       "      <td>0.61</td>\n",
       "      <td>0.62</td>\n",
       "      <td>0.61</td>\n",
       "    </tr>\n",
       "    <tr>\n",
       "      <th>50%</th>\n",
       "      <td>0.91</td>\n",
       "      <td>0.85</td>\n",
       "      <td>0.87</td>\n",
       "      <td>0.85</td>\n",
       "    </tr>\n",
       "    <tr>\n",
       "      <th>75%</th>\n",
       "      <td>1.90</td>\n",
       "      <td>1.66</td>\n",
       "      <td>1.70</td>\n",
       "      <td>1.58</td>\n",
       "    </tr>\n",
       "    <tr>\n",
       "      <th>max</th>\n",
       "      <td>21.05</td>\n",
       "      <td>23.15</td>\n",
       "      <td>21.89</td>\n",
       "      <td>18.85</td>\n",
       "    </tr>\n",
       "  </tbody>\n",
       "</table>\n",
       "</div>"
      ],
      "text/plain": [
       "       LR_MAE  DTR_MAE  RFR_MAE  GBTR_MAE\n",
       "count   77.00    77.00    77.00     77.00\n",
       "mean     2.26     2.18     2.14      1.96\n",
       "std      4.07     4.30     4.06      3.53\n",
       "min      0.20     0.20     0.20      0.21\n",
       "25%      0.66     0.61     0.62      0.61\n",
       "50%      0.91     0.85     0.87      0.85\n",
       "75%      1.90     1.66     1.70      1.58\n",
       "max     21.05    23.15    21.89     18.85"
      ]
     },
     "metadata": {},
     "output_type": "display_data"
    }
   ],
   "source": [
    "list_models = [\n",
    "               LinearRegression(featuresCol='features', labelCol='count', \n",
    "                             regParam=0.3, elasticNetParam=0.8),\n",
    "               DecisionTreeRegressor(featuresCol='features', labelCol='count'),\n",
    "               RandomForestRegressor(featuresCol='features', labelCol='count'),\n",
    "               GBTRegressor(featuresCol='features', labelCol='count'),\n",
    "              ]\n",
    "\n",
    "for mod in list_models:\n",
    "    calc_model(mod)   \n",
    "    \n",
    "display(df_scores)"
   ]
  },
  {
   "cell_type": "markdown",
   "id": "08a4a83f",
   "metadata": {},
   "source": [
    "**Промежуточные выводы**:\n",
    "1. Построены модели машинного обучения.\n",
    "2. Рассчитаны значения MAE по валидационной выборке каждой из моделей.\n",
    "3. Наилучшее значение МАЕ для модели `GBTRegressor`."
   ]
  },
  {
   "cell_type": "markdown",
   "id": "f9cc7d65",
   "metadata": {},
   "source": [
    "# 5. Построение прогноза на следующую неделю"
   ]
  },
  {
   "cell_type": "code",
   "execution_count": 39,
   "id": "3028a341",
   "metadata": {},
   "outputs": [
    {
     "data": {
      "application/vnd.jupyter.widget-view+json": {
       "model_id": "a42048a78a99486a85e683ede4c08706",
       "version_major": 2,
       "version_minor": 0
      },
      "text/plain": [
       "  0%|          | 0/77 [00:00<?, ?it/s]"
      ]
     },
     "metadata": {},
     "output_type": "display_data"
    },
    {
     "name": "stdout",
     "output_type": "stream",
     "text": [
      "GBTR_test_MAE: 1.9776469866956228\n"
     ]
    },
    {
     "data": {
      "text/html": [
       "<div>\n",
       "<style scoped>\n",
       "    .dataframe tbody tr th:only-of-type {\n",
       "        vertical-align: middle;\n",
       "    }\n",
       "\n",
       "    .dataframe tbody tr th {\n",
       "        vertical-align: top;\n",
       "    }\n",
       "\n",
       "    .dataframe thead th {\n",
       "        text-align: right;\n",
       "    }\n",
       "</style>\n",
       "<table border=\"1\" class=\"dataframe\">\n",
       "  <thead>\n",
       "    <tr style=\"text-align: right;\">\n",
       "      <th></th>\n",
       "      <th>LR_MAE</th>\n",
       "      <th>DTR_MAE</th>\n",
       "      <th>RFR_MAE</th>\n",
       "      <th>GBTR_MAE</th>\n",
       "      <th>GBTR_test_MAE</th>\n",
       "    </tr>\n",
       "  </thead>\n",
       "  <tbody>\n",
       "    <tr>\n",
       "      <th>count</th>\n",
       "      <td>77.00</td>\n",
       "      <td>77.00</td>\n",
       "      <td>77.00</td>\n",
       "      <td>77.00</td>\n",
       "      <td>77.00</td>\n",
       "    </tr>\n",
       "    <tr>\n",
       "      <th>mean</th>\n",
       "      <td>2.26</td>\n",
       "      <td>2.18</td>\n",
       "      <td>2.14</td>\n",
       "      <td>1.96</td>\n",
       "      <td>1.98</td>\n",
       "    </tr>\n",
       "    <tr>\n",
       "      <th>std</th>\n",
       "      <td>4.07</td>\n",
       "      <td>4.30</td>\n",
       "      <td>4.06</td>\n",
       "      <td>3.53</td>\n",
       "      <td>3.93</td>\n",
       "    </tr>\n",
       "    <tr>\n",
       "      <th>min</th>\n",
       "      <td>0.20</td>\n",
       "      <td>0.20</td>\n",
       "      <td>0.20</td>\n",
       "      <td>0.21</td>\n",
       "      <td>0.04</td>\n",
       "    </tr>\n",
       "    <tr>\n",
       "      <th>25%</th>\n",
       "      <td>0.66</td>\n",
       "      <td>0.61</td>\n",
       "      <td>0.62</td>\n",
       "      <td>0.61</td>\n",
       "      <td>0.54</td>\n",
       "    </tr>\n",
       "    <tr>\n",
       "      <th>50%</th>\n",
       "      <td>0.91</td>\n",
       "      <td>0.85</td>\n",
       "      <td>0.87</td>\n",
       "      <td>0.85</td>\n",
       "      <td>0.87</td>\n",
       "    </tr>\n",
       "    <tr>\n",
       "      <th>75%</th>\n",
       "      <td>1.90</td>\n",
       "      <td>1.66</td>\n",
       "      <td>1.70</td>\n",
       "      <td>1.58</td>\n",
       "      <td>1.48</td>\n",
       "    </tr>\n",
       "    <tr>\n",
       "      <th>max</th>\n",
       "      <td>21.05</td>\n",
       "      <td>23.15</td>\n",
       "      <td>21.89</td>\n",
       "      <td>18.85</td>\n",
       "      <td>25.07</td>\n",
       "    </tr>\n",
       "  </tbody>\n",
       "</table>\n",
       "</div>"
      ],
      "text/plain": [
       "       LR_MAE  DTR_MAE  RFR_MAE  GBTR_MAE  GBTR_test_MAE\n",
       "count   77.00    77.00    77.00     77.00          77.00\n",
       "mean     2.26     2.18     2.14      1.96           1.98\n",
       "std      4.07     4.30     4.06      3.53           3.93\n",
       "min      0.20     0.20     0.20      0.21           0.04\n",
       "25%      0.66     0.61     0.62      0.61           0.54\n",
       "50%      0.91     0.85     0.87      0.85           0.87\n",
       "75%      1.90     1.66     1.70      1.58           1.48\n",
       "max     21.05    23.15    21.89     18.85          25.07"
      ]
     },
     "metadata": {},
     "output_type": "display_data"
    }
   ],
   "source": [
    "from pyspark.sql.functions import round, col\n",
    "\n",
    "score_mae = {}\n",
    "predictions = {}\n",
    "\n",
    "for area in tqdm(range(NUMBER_CHICAGO_AREAS)):\n",
    "\n",
    "    model_my = GBTRegressor(featuresCol='features', labelCol='count').\\\n",
    "               fit(df_train[area])  \n",
    "    prediction = model_my.transform(df_last_week[area])\n",
    "\n",
    "    evaluator = RegressionEvaluator(predictionCol='prediction', \n",
    "                                    labelCol='count', metricName='mae')\n",
    "    score_mae[area] = evaluator.evaluate(prediction)\n",
    "    \n",
    "    predictions[area] = prediction.select('datetime', 'area', \n",
    "        round(col('prediction')).alias(\"prediction\"))\n",
    "    \n",
    "    predictions[area] = predictions[area].withColumn('next_week', F.date_add('datetime', 7))\n",
    "\n",
    "df_scores['GBTR_test_MAE'] = pd.Series(score_mae).describe()\n",
    "print('GBTR_test_MAE:', df_scores['GBTR_test_MAE']['mean'])\n",
    "\n",
    "display(df_scores)"
   ]
  },
  {
   "cell_type": "markdown",
   "id": "dc4c2190",
   "metadata": {},
   "source": [
    "**Отмечаем**, что значение MAE по выборке из последней неделе лучше, чем даже значение MAE на валидационной выборке для лучшей модели.\n",
    "\n",
    "**Предсказание по количеству такси на следующую неделю**:"
   ]
  },
  {
   "cell_type": "code",
   "execution_count": null,
   "id": "8ebabce3",
   "metadata": {},
   "outputs": [
    {
     "name": "stdout",
     "output_type": "stream",
     "text": [
      "predictions count: 77\n",
      "+----------+----+----------+\n",
      "| next_week|area|prediction|\n",
      "+----------+----+----------+\n",
      "|2023-08-01|   1|       1.0|\n",
      "|2023-08-01|   1|       1.0|\n",
      "+----------+----+----------+\n",
      "only showing top 2 rows\n",
      "\n",
      "+----------+----+----------+\n",
      "| next_week|area|prediction|\n",
      "+----------+----+----------+\n",
      "|2023-08-01|   2|       2.0|\n",
      "|2023-08-01|   2|       1.0|\n",
      "+----------+----+----------+\n",
      "only showing top 2 rows\n",
      "\n",
      "+----------+----+----------+\n",
      "| next_week|area|prediction|\n",
      "+----------+----+----------+\n",
      "|2023-08-01|   3|       2.0|\n",
      "|2023-08-01|   3|       2.0|\n",
      "+----------+----+----------+\n",
      "only showing top 2 rows\n",
      "\n",
      "+----------+----+----------+\n",
      "| next_week|area|prediction|\n",
      "+----------+----+----------+\n",
      "|2023-08-01|   4|       2.0|\n",
      "|2023-08-01|   4|       2.0|\n",
      "+----------+----+----------+\n",
      "only showing top 2 rows\n",
      "\n",
      "+----------+----+----------+\n",
      "| next_week|area|prediction|\n",
      "+----------+----+----------+\n",
      "|2023-08-01|   5|       1.0|\n",
      "|2023-08-01|   5|       1.0|\n",
      "+----------+----+----------+\n",
      "only showing top 2 rows\n",
      "\n",
      "+----------+----+----------+\n",
      "| next_week|area|prediction|\n",
      "+----------+----+----------+\n",
      "|2023-08-01|   6|       4.0|\n",
      "|2023-08-01|   6|       4.0|\n",
      "+----------+----+----------+\n",
      "only showing top 2 rows\n",
      "\n",
      "+----------+----+----------+\n",
      "| next_week|area|prediction|\n",
      "+----------+----+----------+\n",
      "|2023-08-01|   7|       3.0|\n",
      "|2023-08-01|   7|       2.0|\n",
      "+----------+----+----------+\n",
      "only showing top 2 rows\n",
      "\n",
      "+----------+----+----------+\n",
      "| next_week|area|prediction|\n",
      "+----------+----+----------+\n",
      "|2023-08-01|   8|      49.0|\n",
      "|2023-08-01|   8|      18.0|\n",
      "+----------+----+----------+\n",
      "only showing top 2 rows\n",
      "\n",
      "+----------+----+----------+\n",
      "| next_week|area|prediction|\n",
      "+----------+----+----------+\n",
      "|2023-08-01|   9|       1.0|\n",
      "|2023-08-01|   9|       1.0|\n",
      "+----------+----+----------+\n",
      "only showing top 2 rows\n",
      "\n",
      "+----------+----+----------+\n",
      "| next_week|area|prediction|\n",
      "+----------+----+----------+\n",
      "|2023-08-01|  10|       1.0|\n",
      "|2023-08-01|  10|       1.0|\n",
      "+----------+----+----------+\n",
      "only showing top 2 rows\n",
      "\n",
      "+----------+----+----------+\n",
      "| next_week|area|prediction|\n",
      "+----------+----+----------+\n",
      "|2023-08-01|  11|       1.0|\n",
      "|2023-08-01|  11|       2.0|\n",
      "+----------+----+----------+\n",
      "only showing top 2 rows\n",
      "\n",
      "+----------+----+----------+\n",
      "| next_week|area|prediction|\n",
      "+----------+----+----------+\n",
      "|2023-08-01|  12|       2.0|\n",
      "|2023-08-01|  12|       2.0|\n",
      "+----------+----+----------+\n",
      "only showing top 2 rows\n",
      "\n",
      "+----------+----+----------+\n",
      "| next_week|area|prediction|\n",
      "+----------+----+----------+\n",
      "|2023-08-01|  13|       1.0|\n",
      "|2023-08-01|  13|       1.0|\n",
      "+----------+----+----------+\n",
      "only showing top 2 rows\n",
      "\n",
      "+----------+----+----------+\n",
      "| next_week|area|prediction|\n",
      "+----------+----+----------+\n",
      "|2023-08-01|  14|       2.0|\n",
      "|2023-08-01|  14|       2.0|\n",
      "+----------+----+----------+\n",
      "only showing top 2 rows\n",
      "\n",
      "+----------+----+----------+\n",
      "| next_week|area|prediction|\n",
      "+----------+----+----------+\n",
      "|2023-08-01|  15|       2.0|\n",
      "|2023-08-01|  15|       2.0|\n",
      "+----------+----+----------+\n",
      "only showing top 2 rows\n",
      "\n",
      "+----------+----+----------+\n",
      "| next_week|area|prediction|\n",
      "+----------+----+----------+\n",
      "|2023-08-01|  16|       2.0|\n",
      "|2023-08-01|  16|       1.0|\n",
      "+----------+----+----------+\n",
      "only showing top 2 rows\n",
      "\n",
      "+----------+----+----------+\n",
      "| next_week|area|prediction|\n",
      "+----------+----+----------+\n",
      "|2023-08-01|  17|       1.0|\n",
      "|2023-08-01|  17|       1.0|\n",
      "+----------+----+----------+\n",
      "only showing top 2 rows\n",
      "\n",
      "+----------+----+----------+\n",
      "| next_week|area|prediction|\n",
      "+----------+----+----------+\n",
      "|2023-08-01|  18|       1.0|\n",
      "|2023-08-01|  18|       1.0|\n",
      "+----------+----+----------+\n",
      "only showing top 2 rows\n",
      "\n",
      "+----------+----+----------+\n",
      "| next_week|area|prediction|\n",
      "+----------+----+----------+\n",
      "|2023-08-01|  19|       1.0|\n",
      "|2023-08-01|  19|       1.0|\n",
      "+----------+----+----------+\n",
      "only showing top 2 rows\n",
      "\n",
      "+----------+----+----------+\n",
      "| next_week|area|prediction|\n",
      "+----------+----+----------+\n",
      "|2023-08-01|  20|       1.0|\n",
      "|2023-08-01|  20|       2.0|\n",
      "+----------+----+----------+\n",
      "only showing top 2 rows\n",
      "\n",
      "+----------+----+----------+\n",
      "| next_week|area|prediction|\n",
      "+----------+----+----------+\n",
      "|2023-08-01|  21|       1.0|\n",
      "|2023-08-01|  21|       2.0|\n",
      "+----------+----+----------+\n",
      "only showing top 2 rows\n",
      "\n",
      "+----------+----+----------+\n",
      "| next_week|area|prediction|\n",
      "+----------+----+----------+\n",
      "|2023-08-01|  22|       2.0|\n",
      "|2023-08-01|  22|       2.0|\n",
      "+----------+----+----------+\n",
      "only showing top 2 rows\n",
      "\n",
      "+----------+----+----------+\n",
      "| next_week|area|prediction|\n",
      "+----------+----+----------+\n",
      "|2023-08-01|  23|       1.0|\n",
      "|2023-08-01|  23|       1.0|\n",
      "+----------+----+----------+\n",
      "only showing top 2 rows\n",
      "\n",
      "+----------+----+----------+\n",
      "| next_week|area|prediction|\n",
      "+----------+----+----------+\n",
      "|2023-08-01|  24|       2.0|\n",
      "|2023-08-01|  24|       3.0|\n",
      "+----------+----+----------+\n",
      "only showing top 2 rows\n",
      "\n",
      "+----------+----+----------+\n",
      "| next_week|area|prediction|\n",
      "+----------+----+----------+\n",
      "|2023-08-01|  25|       1.0|\n",
      "|2023-08-01|  25|       1.0|\n",
      "+----------+----+----------+\n",
      "only showing top 2 rows\n",
      "\n",
      "+----------+----+----------+\n",
      "| next_week|area|prediction|\n",
      "+----------+----+----------+\n",
      "|2023-08-01|  26|       1.0|\n",
      "|2023-08-01|  26|       1.0|\n",
      "+----------+----+----------+\n",
      "only showing top 2 rows\n",
      "\n",
      "+----------+----+----------+\n",
      "| next_week|area|prediction|\n",
      "+----------+----+----------+\n",
      "|2023-08-01|  27|       1.0|\n",
      "|2023-08-01|  27|       1.0|\n",
      "+----------+----+----------+\n",
      "only showing top 2 rows\n",
      "\n",
      "+----------+----+----------+\n",
      "| next_week|area|prediction|\n",
      "+----------+----+----------+\n",
      "|2023-08-01|  28|      13.0|\n",
      "|2023-08-01|  28|       4.0|\n",
      "+----------+----+----------+\n",
      "only showing top 2 rows\n",
      "\n",
      "+----------+----+----------+\n",
      "| next_week|area|prediction|\n",
      "+----------+----+----------+\n",
      "|2023-08-01|  29|       1.0|\n",
      "|2023-08-01|  29|       2.0|\n",
      "+----------+----+----------+\n",
      "only showing top 2 rows\n",
      "\n",
      "+----------+----+----------+\n",
      "| next_week|area|prediction|\n",
      "+----------+----+----------+\n",
      "|2023-08-01|  30|       1.0|\n",
      "|2023-08-01|  30|       1.0|\n",
      "+----------+----+----------+\n",
      "only showing top 2 rows\n",
      "\n",
      "+----------+----+----------+\n",
      "| next_week|area|prediction|\n",
      "+----------+----+----------+\n",
      "|2023-08-01|  31|       1.0|\n",
      "|2023-08-01|  31|       1.0|\n",
      "+----------+----+----------+\n",
      "only showing top 2 rows\n",
      "\n",
      "+----------+----+----------+\n",
      "| next_week|area|prediction|\n",
      "+----------+----+----------+\n",
      "|2023-08-01|  32|      16.0|\n",
      "|2023-08-01|  32|       9.0|\n",
      "+----------+----+----------+\n",
      "only showing top 2 rows\n",
      "\n",
      "+----------+----+----------+\n",
      "| next_week|area|prediction|\n",
      "+----------+----+----------+\n",
      "|2023-08-01|  33|       4.0|\n",
      "|2023-08-01|  33|       3.0|\n",
      "+----------+----+----------+\n",
      "only showing top 2 rows\n",
      "\n",
      "+----------+----+----------+\n",
      "| next_week|area|prediction|\n",
      "+----------+----+----------+\n",
      "|2023-08-01|  34|       2.0|\n",
      "|2023-08-01|  34|       1.0|\n",
      "+----------+----+----------+\n",
      "only showing top 2 rows\n",
      "\n",
      "+----------+----+----------+\n",
      "| next_week|area|prediction|\n",
      "+----------+----+----------+\n",
      "|2023-08-01|  35|       1.0|\n",
      "|2023-08-01|  35|       1.0|\n",
      "+----------+----+----------+\n",
      "only showing top 2 rows\n",
      "\n",
      "+----------+----+----------+\n",
      "| next_week|area|prediction|\n",
      "+----------+----+----------+\n",
      "|2023-08-01|  36|       1.0|\n",
      "|2023-08-01|  36|       1.0|\n",
      "+----------+----+----------+\n",
      "only showing top 2 rows\n",
      "\n",
      "+----------+----+----------+\n",
      "| next_week|area|prediction|\n",
      "+----------+----+----------+\n",
      "|2023-08-01|  37|       1.0|\n",
      "|2023-08-01|  37|       1.0|\n",
      "+----------+----+----------+\n",
      "only showing top 2 rows\n",
      "\n",
      "+----------+----+----------+\n",
      "| next_week|area|prediction|\n",
      "+----------+----+----------+\n",
      "|2023-08-01|  38|       2.0|\n",
      "|2023-08-01|  38|       4.0|\n",
      "+----------+----+----------+\n",
      "only showing top 2 rows\n",
      "\n",
      "+----------+----+----------+\n",
      "| next_week|area|prediction|\n",
      "+----------+----+----------+\n",
      "|2023-08-01|  39|       1.0|\n",
      "|2023-08-01|  39|       2.0|\n",
      "+----------+----+----------+\n",
      "only showing top 2 rows\n",
      "\n",
      "+----------+----+----------+\n",
      "| next_week|area|prediction|\n",
      "+----------+----+----------+\n",
      "|2023-08-01|  40|       1.0|\n",
      "|2023-08-01|  40|       2.0|\n",
      "+----------+----+----------+\n",
      "only showing top 2 rows\n",
      "\n",
      "+----------+----+----------+\n",
      "| next_week|area|prediction|\n",
      "+----------+----+----------+\n",
      "|2023-08-01|  41|       2.0|\n",
      "|2023-08-01|  41|       3.0|\n",
      "+----------+----+----------+\n",
      "only showing top 2 rows\n",
      "\n",
      "+----------+----+----------+\n",
      "| next_week|area|prediction|\n",
      "+----------+----+----------+\n",
      "|2023-08-01|  42|       1.0|\n",
      "|2023-08-01|  42|       2.0|\n",
      "+----------+----+----------+\n",
      "only showing top 2 rows\n",
      "\n"
     ]
    },
    {
     "name": "stdout",
     "output_type": "stream",
     "text": [
      "+----------+----+----------+\n",
      "| next_week|area|prediction|\n",
      "+----------+----+----------+\n",
      "|2023-08-01|  43|       1.0|\n",
      "|2023-08-01|  43|       1.0|\n",
      "+----------+----+----------+\n",
      "only showing top 2 rows\n",
      "\n",
      "+----------+----+----------+\n",
      "| next_week|area|prediction|\n",
      "+----------+----+----------+\n",
      "|2023-08-01|  44|       1.0|\n",
      "|2023-08-01|  44|       2.0|\n",
      "+----------+----+----------+\n",
      "only showing top 2 rows\n",
      "\n"
     ]
    }
   ],
   "source": [
    "print('predictions count:', len(predictions))\n",
    "#for n in range(len(predictions)):\n",
    "for n in range(10):\n",
    "    predictions[n].select('next_week', 'area', \n",
    "        round(col('prediction')).alias(\"prediction\")).show(2)"
   ]
  },
  {
   "cell_type": "markdown",
   "id": "d5411634",
   "metadata": {},
   "source": [
    "# 6. Выводы."
   ]
  },
  {
   "cell_type": "markdown",
   "id": "dc376651",
   "metadata": {},
   "source": [
    "1. Проведено исследование с целью построения модели машинного обучения, которая поможет предсказать количество заказов такси в г. Чикаго на следующий час. Результаты исследования позволят привлечь больше водителей в период пиковой нагрузки.  \n",
    "2. Исходные данные: набор данных о заказах такси в аэропортах с 2022-01-01 по 2023-08-01. \n",
    "3. Для подготовки данных к последующей обработке были проведены следующие операции:  \n",
    "    * Загрузка файлов с данными 2022 и 2023 годов.\n",
    "    * Запуск SPARK-сессии.\n",
    "    * Объединение датасетов.\n",
    "    * Данные проверены.\n",
    "    * Выделение нужных признаков.\n",
    "    * Замена типа данных с `object` на `datetime`.\n",
    "    * Анализ пропущенных значений и, так как они относятся к загородным поездкам, удаление их.\n",
    "    * Агрегация данных по 1 часу времени заказа.\n",
    "    * Данные ресемплированы и расположены в хронологическом порядке.\n",
    "4. Созданы новые признаки с количеством заказов за:\n",
    "    * час,\n",
    "    * день недели,\n",
    "    * день месяца,\n",
    "    * месяц.\n",
    "Изучено распределение заказов такси по этим временным признакам.\n",
    "5. Созданы новые признаки `лаги(отставания)`:\n",
    "    * 1 час,\n",
    "    * 2 часа,\n",
    "    * 12 часов,\n",
    "    * 1 день,\n",
    "    * 2 дня,\n",
    "    * 1 неделя.\n",
    "6. Созданы новые признаки `скользящее среднее`:\n",
    "    * 3 часа,\n",
    "    * 6 часов,\n",
    "    * 12 часов,\n",
    "    * 1 день,\n",
    "    * 2 дня,\n",
    "    * 1 неделя.\n",
    "7. Исходные данные разделены без перемешивания на обучающую, валидационную и тестовую выборки.\n",
    "8. Созданы и обучены следующие модели:\n",
    "    * Линейная регрессия `LinearRegression`.\n",
    "    * Градиентного бустинга `DecisionTreeRegressor`.\n",
    "    * Cлучайного леса `RandomForestRegressor`.\n",
    "    * Градиентного бустинга `GradientBoostingRegressor`.\n",
    "9. Наилучшей моделью стала `GradientBoostingRegressor` со средним по всем округам значением по тестовой выборке MAE = 1.98.  \n",
    "10. Специалистам сервиса такси для прогнозирования количества заказов можно рекомендовать использование модели `GradientBoostingRegressor`.\n",
    "11. Рассчитано количество автомобилей такси, требуемых на ближайшую неделю."
   ]
  },
  {
   "cell_type": "code",
   "execution_count": null,
   "id": "ab3f2335",
   "metadata": {},
   "outputs": [],
   "source": [
    "spark.stop()"
   ]
  },
  {
   "cell_type": "markdown",
   "id": "1ebc440f",
   "metadata": {},
   "source": [
    "[Вернутся к общему списку проектов курса Data_Science Яндекс-практикума](../README.md)"
   ]
  }
 ],
 "metadata": {
  "kernelspec": {
   "display_name": "Python 3 (ipykernel)",
   "language": "python",
   "name": "python3"
  },
  "language_info": {
   "codemirror_mode": {
    "name": "ipython",
    "version": 3
   },
   "file_extension": ".py",
   "mimetype": "text/x-python",
   "name": "python",
   "nbconvert_exporter": "python",
   "pygments_lexer": "ipython3",
   "version": "3.9.16"
  }
 },
 "nbformat": 4,
 "nbformat_minor": 5
}
