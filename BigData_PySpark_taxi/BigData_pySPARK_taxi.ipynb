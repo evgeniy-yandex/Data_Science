{
 "cells": [
  {
   "cell_type": "markdown",
   "id": "35b0649d",
   "metadata": {},
   "source": [
    "# 1 Проект `BigData_PySpark`\n",
    "\n",
    "## 1.1. Название.\n",
    "\n",
    "Прогнозирование количества заказов такси на следующий час в каждом из округов города Чикаго с помощью **Apache Spark**\n",
    "\n",
    "## 1.2. Задача проекта.\n",
    "\n",
    "* Имеется около 10 млн записей о поездках такси в городе Чикаго с округлением времени до 15 минут.   \n",
    "  Благодарю специалистов **Яндекс.Практикума** за предоставленные датасеты.  \n",
    "* Задача - предсказать количество заказов на следующий час в каждом округе города.   \n",
    "* Решаем с применением **'PySpark'** в режиме 'standalone'.  \n",
    "\n",
    "## 1.3. Описание данных.\n",
    "\n",
    "В нашем распоряжении данные о поездках в Чикаго за 2022 и 2023 годы.\n",
    "Описание данных по колонкам:\n",
    "* `trip_id` - уникальный идентификатор поездки.\n",
    "* `taxi_id` - уникальный идентификатор машины такси.\n",
    "* `trip_start_timestamp` - время начала поездки.\n",
    "* `trip_end_timestamp` - время окончания поездки.\n",
    "* `trip_seconds` - длительность поездки в секундах.\n",
    "* `trip_miles` - расстояние поездки в милях.\n",
    "* `pickup_census_tract` - название зоны посадки.\n",
    "* `dropoff_census_tract` - название зоны высадки.\n",
    "* `pickup_community_area` - номер района посадки в Чикаго.\n",
    "* `dropoff_community_area` - номер района высадки в Чикаго.\n",
    "* `fare` - стоимость поездки.\n",
    "* `tips` - чаевые водителю.\n",
    "* `tolls` - сборы за платные участки дороги.\n",
    "* `extras` - дополнительные сборы за поездку.\n",
    "* `trip_total` - общая стоимость поездки.\n",
    "* `payment_type` - тип оплаты.\n",
    "* `company` - название компании такси.\n",
    "* `pickup_centroid_latitude` - географическая широта зоны *посадки*.\n",
    "* `pickup_centroid_longitude` - географическая долгота зоны *посадки*.\n",
    "* `pickup_centroid_location` - координаты зоны *посадки*.\n",
    "* `dropoff_centroid_latitude` - географическая широта зоны *высадки*.\n",
    "* `dropoff_centroid_longitude` - географическая долгота зоны *высадки*. \n",
    "* `dropoff_centroid_location` - координаты зоны *высадки*. \n",
    "\n",
    "## 1.4. План работ.\n",
    "\n",
    "1. Загрузить и изучить данные. \n",
    "2. Провести EDA анализ.\n",
    "3. Провести Feature Engineering.\n",
    "4. Обучить несколько моделей и сравнить результаты обучения.\n",
    "5. Сделать сравнение и сформулировать выводы и рекомендации для применения."
   ]
  },
  {
   "cell_type": "markdown",
   "id": "87b1e6e3",
   "metadata": {},
   "source": [
    "# 2. Загрузка и исследование данных."
   ]
  },
  {
   "cell_type": "code",
   "execution_count": 1,
   "id": "9886ff6c",
   "metadata": {},
   "outputs": [],
   "source": [
    "# !pip install pyspark \n",
    "# !pip uninstall findspark==1.4.2 catboost==1.0.3\n",
    "# !pip install findspark"
   ]
  },
  {
   "cell_type": "code",
   "execution_count": 173,
   "id": "94a4d55f",
   "metadata": {},
   "outputs": [],
   "source": [
    "import os\n",
    "import findspark\n",
    "import time\n",
    "import pandas as pd\n",
    "import numpy as np\n",
    "import matplotlib.pyplot as plt\n",
    "import seaborn as sns\n",
    "import pyspark.sql.functions as F\n",
    "\n",
    "\n",
    "from tqdm.auto import tqdm\n",
    "from pyspark import SparkConf, SparkContext\n",
    "from pyspark.sql import SparkSession\n",
    "from datetime import timedelta, datetime\n",
    "from pyspark.sql.functions import (col, lit, isnull, round,\n",
    "                                   when, count, datediff,\n",
    "                                   monotonically_increasing_id)\n",
    "\n",
    "from pyspark.sql.window import Window\n",
    "from statsmodels.tsa.stattools import adfuller\n",
    "from statsmodels.tsa.seasonal import seasonal_decompose\n",
    "\n",
    "from pyspark.ml.regression import (LinearRegression, DecisionTreeRegressor,\n",
    "                                   RandomForestRegressor, GBTRegressor)\n",
    "import lightgbm as lgb\n",
    "from pyspark.mllib.evaluation import RegressionMetrics\n",
    "from pyspark.ml.tuning import ParamGridBuilder\n",
    "from pyspark.ml.feature import VectorAssembler\n",
    "from pyspark.ml.evaluation import RegressionEvaluator\n",
    "\n",
    "\n",
    "# Введем глобальную переменные:\n",
    "RANDOM_FIX_NUMBER = 12345  \n",
    "NUMBER_CHICAGO_AREAS = 77\n",
    "\n",
    "# Настроим вид таблиц:\n",
    "pd.set_option(\"display.max_rows\", 50)\n",
    "pd.set_option(\"display.max_columns\", 50)\n",
    "# Ограничим ширину отображающихся столбцов\n",
    "pd.options.display.max_colwidth = 50\n",
    "# Сброс ограничений на количество символов в записи\n",
    "pd.set_option('display.max_colwidth', None)\n",
    "# Настроим, чтобы числа в датасетах отражались с 2 знаками после запятой\n",
    "pd.set_option('display.float_format', '{:.2f}'.format) "
   ]
  },
  {
   "cell_type": "markdown",
   "id": "33f0149b",
   "metadata": {},
   "source": [
    "## 2.1.Запуск SPARK-сессии."
   ]
  },
  {
   "cell_type": "code",
   "execution_count": 7,
   "id": "d1a60488",
   "metadata": {},
   "outputs": [
    {
     "data": {
      "text/html": [
       "\n",
       "            <div>\n",
       "                <p><b>SparkSession - in-memory</b></p>\n",
       "                \n",
       "        <div>\n",
       "            <p><b>SparkContext</b></p>\n",
       "\n",
       "            <p><a href=\"http://kubernetes.docker.internal:4040\">Spark UI</a></p>\n",
       "\n",
       "            <dl>\n",
       "              <dt>Version</dt>\n",
       "                <dd><code>v3.5.0</code></dd>\n",
       "              <dt>Master</dt>\n",
       "                <dd><code>local[4]</code></dd>\n",
       "              <dt>AppName</dt>\n",
       "                <dd><code>pyspark-taxi-forecasting</code></dd>\n",
       "            </dl>\n",
       "        </div>\n",
       "        \n",
       "            </div>\n",
       "        "
      ],
      "text/plain": [
       "<pyspark.sql.session.SparkSession at 0x1eef2a82af0>"
      ]
     },
     "execution_count": 7,
     "metadata": {},
     "output_type": "execute_result"
    }
   ],
   "source": [
    "findspark.init()\n",
    "\n",
    "spark = SparkSession.builder.\\\n",
    "        master(\"local[4]\").\\\n",
    "        appName(\"pyspark-taxi-forecasting\").\\\n",
    "        getOrCreate()\n",
    "# \"local[*]\" \n",
    "spark"
   ]
  },
  {
   "cell_type": "markdown",
   "id": "da836530",
   "metadata": {},
   "source": [
    "Вспомогательные функции:"
   ]
  },
  {
   "cell_type": "code",
   "execution_count": 8,
   "id": "63e40e65",
   "metadata": {},
   "outputs": [],
   "source": [
    "def format_my(num):\n",
    "    '''\n",
    "    Функция установки разделительного знака в виде запятой\n",
    "    для больших чисел.\n",
    "    '''    \n",
    "    return f\"{num:,}\"\n",
    "\n",
    "def load_dataset(file_name):\n",
    "    '''\n",
    "    Функция для проверки нахождения файла и загрузки датафрейма.\n",
    "    '''\n",
    "    if os.path.exists(file_name):\n",
    "        # Чтобы видеть, что процесс выполняется, поставим tqdm с разовым циклом:\n",
    "        for _ in tqdm(range(1)): \n",
    "            data = spark.read.csv(file_name, \n",
    "                                  header=True, inferSchema=True)\n",
    "            print('Dataset', file_name, 'is loaded successfully.')\n",
    "        # Проверим исходный размер датасетов\n",
    "        print(f'Количество записей в {file_name}: {format_my(data.count())}\\n')\n",
    "        return data\n",
    "    else:\n",
    "        print('Something with', file_name, 'is wrong.')"
   ]
  },
  {
   "cell_type": "code",
   "execution_count": 5,
   "id": "3a4fcfe7",
   "metadata": {},
   "outputs": [
    {
     "data": {
      "application/vnd.jupyter.widget-view+json": {
       "model_id": "468524a24fe649b1b15f12edf5c50161",
       "version_major": 2,
       "version_minor": 0
      },
      "text/plain": [
       "  0%|          | 0/1 [00:00<?, ?it/s]"
      ]
     },
     "metadata": {},
     "output_type": "display_data"
    },
    {
     "name": "stdout",
     "output_type": "stream",
     "text": [
      "Dataset Taxi_Trips_-_2022.csv is loaded successfully.\n",
      "Количество записей в Taxi_Trips_-_2022.csv: 6,382,425\n",
      "\n"
     ]
    },
    {
     "data": {
      "application/vnd.jupyter.widget-view+json": {
       "model_id": "599c0da718b14c2cbf95514051ab1de8",
       "version_major": 2,
       "version_minor": 0
      },
      "text/plain": [
       "  0%|          | 0/1 [00:00<?, ?it/s]"
      ]
     },
     "metadata": {},
     "output_type": "display_data"
    },
    {
     "name": "stdout",
     "output_type": "stream",
     "text": [
      "Dataset Taxi_Trips_-_2023.csv is loaded successfully.\n",
      "Количество записей в Taxi_Trips_-_2023.csv: 3,783,730\n",
      "\n"
     ]
    }
   ],
   "source": [
    "# Загрузка датасета с данными за 2022 год.\n",
    "df2022 = load_dataset('Taxi_Trips_-_2022.csv');\n",
    "\n",
    "# Загрузка датасета с данными за 2023 год.\n",
    "df2023 = load_dataset('Taxi_Trips_-_2023.csv');"
   ]
  },
  {
   "cell_type": "markdown",
   "id": "ab6b7edc",
   "metadata": {},
   "source": [
    "**Промежуточные выводы:**  \n",
    "В нашем распоряжении 2 датасета с информацией о заказах такси: \n",
    "* за 2022 год - 6 382 425 записей,\n",
    "* за 2023 год - 3 783 730 записей. "
   ]
  },
  {
   "cell_type": "markdown",
   "id": "5c56f250",
   "metadata": {},
   "source": [
    "## 2.2.Объединение датасетов.\n",
    "\n",
    "Прежде, чем провести объединение датасетов, проверим соответствие их признаков."
   ]
  },
  {
   "cell_type": "code",
   "execution_count": 6,
   "id": "a235c693",
   "metadata": {},
   "outputs": [
    {
     "name": "stdout",
     "output_type": "stream",
     "text": [
      "['Trip ID', 'Taxi ID', 'Trip Start Timestamp', 'Trip End Timestamp', 'Trip Seconds', 'Trip Miles', 'Pickup Census Tract', 'Dropoff Census Tract', 'Pickup Community Area', 'Dropoff Community Area', 'Fare', 'Tips', 'Tolls', 'Extras', 'Trip Total', 'Payment Type', 'Company', 'Pickup Centroid Latitude', 'Pickup Centroid Longitude', 'Pickup Centroid Location', 'Dropoff Centroid Latitude', 'Dropoff Centroid Longitude', 'Dropoff Centroid  Location']\n",
      "['Trip ID', 'Taxi ID', 'Trip Start Timestamp', 'Trip End Timestamp', 'Trip Seconds', 'Trip Miles', 'Pickup Census Tract', 'Dropoff Census Tract', 'Pickup Community Area', 'Dropoff Community Area', 'Fare', 'Tips', 'Tolls', 'Extras', 'Trip Total', 'Payment Type', 'Company', 'Pickup Centroid Latitude', 'Pickup Centroid Longitude', 'Pickup Centroid Location', 'Dropoff Centroid Latitude', 'Dropoff Centroid Longitude', 'Dropoff Centroid  Location']\n",
      "\n",
      "Названия признаков обоих датасетов одинаковые.\n"
     ]
    }
   ],
   "source": [
    "# Названия колонок в датасете 'df2022':\n",
    "features2022 = df2022.columns\n",
    "print(features2022)\n",
    "\n",
    "# Названия колонок в датасете 'df2023':\n",
    "features2023 = df2023.columns\n",
    "print(features2023)\n",
    "\n",
    "if (features2022 == features2023) :\n",
    "    print('\\nНазвания признаков обоих датасетов одинаковые.')\n",
    "else:\n",
    "    print('\\nДатасеты имеют разные признаки!.'\n",
    "          'Cледует изучить возможность их объединения!')"
   ]
  },
  {
   "cell_type": "code",
   "execution_count": 7,
   "id": "08c39ada",
   "metadata": {},
   "outputs": [
    {
     "name": "stdout",
     "output_type": "stream",
     "text": [
      "-RECORD 0------------------------------------------\n",
      " Trip ID                    | bcfa19f2539021c05... \n",
      " Taxi ID                    | 368ce5511598af2cc... \n",
      " Trip Start Timestamp       | 01/01/2022 12:00:... \n",
      " Trip End Timestamp         | 01/01/2022 12:00:... \n",
      " Trip Seconds               | 152                  \n",
      " Trip Miles                 | 0.1                  \n",
      " Pickup Census Tract        | NULL                 \n",
      " Dropoff Census Tract       | NULL                 \n",
      " Pickup Community Area      | NULL                 \n",
      " Dropoff Community Area     | NULL                 \n",
      " Fare                       | 3.75                 \n",
      " Tips                       | 0.0                  \n",
      " Tolls                      | 0.0                  \n",
      " Extras                     | 0.0                  \n",
      " Trip Total                 | 3.75                 \n",
      " Payment Type               | Cash                 \n",
      " Company                    | Medallion Leasin     \n",
      " Pickup Centroid Latitude   | NULL                 \n",
      " Pickup Centroid Longitude  | NULL                 \n",
      " Pickup Centroid Location   | NULL                 \n",
      " Dropoff Centroid Latitude  | NULL                 \n",
      " Dropoff Centroid Longitude | NULL                 \n",
      " Dropoff Centroid  Location | NULL                 \n",
      "only showing top 1 row\n",
      "\n"
     ]
    }
   ],
   "source": [
    "# Посмотрим данные в df2022\n",
    "df2022.show(1, vertical=True)"
   ]
  },
  {
   "cell_type": "code",
   "execution_count": 8,
   "id": "eaa6f9ae",
   "metadata": {},
   "outputs": [
    {
     "data": {
      "text/html": [
       "<div>\n",
       "<style scoped>\n",
       "    .dataframe tbody tr th:only-of-type {\n",
       "        vertical-align: middle;\n",
       "    }\n",
       "\n",
       "    .dataframe tbody tr th {\n",
       "        vertical-align: top;\n",
       "    }\n",
       "\n",
       "    .dataframe thead th {\n",
       "        text-align: right;\n",
       "    }\n",
       "</style>\n",
       "<table border=\"1\" class=\"dataframe\">\n",
       "  <thead>\n",
       "    <tr style=\"text-align: right;\">\n",
       "      <th></th>\n",
       "      <th>Trip ID</th>\n",
       "      <th>Taxi ID</th>\n",
       "      <th>Trip Start Timestamp</th>\n",
       "      <th>Trip End Timestamp</th>\n",
       "      <th>Trip Seconds</th>\n",
       "      <th>Trip Miles</th>\n",
       "      <th>Pickup Census Tract</th>\n",
       "      <th>Dropoff Census Tract</th>\n",
       "      <th>Pickup Community Area</th>\n",
       "      <th>Dropoff Community Area</th>\n",
       "      <th>Fare</th>\n",
       "      <th>Tips</th>\n",
       "      <th>Tolls</th>\n",
       "      <th>Extras</th>\n",
       "      <th>Trip Total</th>\n",
       "      <th>Payment Type</th>\n",
       "      <th>Company</th>\n",
       "      <th>Pickup Centroid Latitude</th>\n",
       "      <th>Pickup Centroid Longitude</th>\n",
       "      <th>Pickup Centroid Location</th>\n",
       "      <th>Dropoff Centroid Latitude</th>\n",
       "      <th>Dropoff Centroid Longitude</th>\n",
       "      <th>Dropoff Centroid  Location</th>\n",
       "    </tr>\n",
       "  </thead>\n",
       "  <tbody>\n",
       "    <tr>\n",
       "      <th>0</th>\n",
       "      <td>bcfa19f2539021c054809d4c3993d226996ae095</td>\n",
       "      <td>368ce5511598af2cc07efdb68067d381174fdac1d47a2837d021e647f4c8febb3d9bf330e155845b8217b9b451c29b1b9ecf5d55d4bfe6cfd5d79ffb49b1f334</td>\n",
       "      <td>01/01/2022 12:00:00 AM</td>\n",
       "      <td>01/01/2022 12:00:00 AM</td>\n",
       "      <td>152</td>\n",
       "      <td>0.10</td>\n",
       "      <td>NaN</td>\n",
       "      <td>NaN</td>\n",
       "      <td>NaN</td>\n",
       "      <td>NaN</td>\n",
       "      <td>3.75</td>\n",
       "      <td>0.00</td>\n",
       "      <td>0.00</td>\n",
       "      <td>0.00</td>\n",
       "      <td>3.75</td>\n",
       "      <td>Cash</td>\n",
       "      <td>Medallion Leasin</td>\n",
       "      <td>NaN</td>\n",
       "      <td>NaN</td>\n",
       "      <td>None</td>\n",
       "      <td>NaN</td>\n",
       "      <td>NaN</td>\n",
       "      <td>None</td>\n",
       "    </tr>\n",
       "    <tr>\n",
       "      <th>1</th>\n",
       "      <td>2aba69ff015f9ea8e7bff43cab7eddb228f34a12</td>\n",
       "      <td>449fa4909552757130d09d98ebc7770e2dd94579036b0e1958f92577ffc9fd6deca97bc1f229d2700865ce12b54d454ba96f973077386210ccbe44bfb7aac317</td>\n",
       "      <td>01/01/2022 12:00:00 AM</td>\n",
       "      <td>01/01/2022 12:30:00 AM</td>\n",
       "      <td>2360</td>\n",
       "      <td>17.44</td>\n",
       "      <td>NaN</td>\n",
       "      <td>NaN</td>\n",
       "      <td>NaN</td>\n",
       "      <td>8.00</td>\n",
       "      <td>47.75</td>\n",
       "      <td>0.00</td>\n",
       "      <td>0.00</td>\n",
       "      <td>5.00</td>\n",
       "      <td>52.75</td>\n",
       "      <td>Cash</td>\n",
       "      <td>Flash Cab</td>\n",
       "      <td>NaN</td>\n",
       "      <td>NaN</td>\n",
       "      <td>None</td>\n",
       "      <td>41.90</td>\n",
       "      <td>-87.63</td>\n",
       "      <td>POINT (-87.6333080367 41.899602111)</td>\n",
       "    </tr>\n",
       "  </tbody>\n",
       "</table>\n",
       "</div>"
      ],
      "text/plain": [
       "                                    Trip ID  \\\n",
       "0  bcfa19f2539021c054809d4c3993d226996ae095   \n",
       "1  2aba69ff015f9ea8e7bff43cab7eddb228f34a12   \n",
       "\n",
       "                                                                                                                            Taxi ID  \\\n",
       "0  368ce5511598af2cc07efdb68067d381174fdac1d47a2837d021e647f4c8febb3d9bf330e155845b8217b9b451c29b1b9ecf5d55d4bfe6cfd5d79ffb49b1f334   \n",
       "1  449fa4909552757130d09d98ebc7770e2dd94579036b0e1958f92577ffc9fd6deca97bc1f229d2700865ce12b54d454ba96f973077386210ccbe44bfb7aac317   \n",
       "\n",
       "     Trip Start Timestamp      Trip End Timestamp  Trip Seconds  Trip Miles  \\\n",
       "0  01/01/2022 12:00:00 AM  01/01/2022 12:00:00 AM           152        0.10   \n",
       "1  01/01/2022 12:00:00 AM  01/01/2022 12:30:00 AM          2360       17.44   \n",
       "\n",
       "   Pickup Census Tract  Dropoff Census Tract  Pickup Community Area  \\\n",
       "0                  NaN                   NaN                    NaN   \n",
       "1                  NaN                   NaN                    NaN   \n",
       "\n",
       "   Dropoff Community Area  Fare  Tips  Tolls  Extras  Trip Total Payment Type  \\\n",
       "0                     NaN  3.75  0.00   0.00    0.00        3.75         Cash   \n",
       "1                    8.00 47.75  0.00   0.00    5.00       52.75         Cash   \n",
       "\n",
       "            Company  Pickup Centroid Latitude  Pickup Centroid Longitude  \\\n",
       "0  Medallion Leasin                       NaN                        NaN   \n",
       "1         Flash Cab                       NaN                        NaN   \n",
       "\n",
       "  Pickup Centroid Location  Dropoff Centroid Latitude  \\\n",
       "0                     None                        NaN   \n",
       "1                     None                      41.90   \n",
       "\n",
       "   Dropoff Centroid Longitude           Dropoff Centroid  Location  \n",
       "0                         NaN                                 None  \n",
       "1                      -87.63  POINT (-87.6333080367 41.899602111)  "
      ]
     },
     "execution_count": 8,
     "metadata": {},
     "output_type": "execute_result"
    }
   ],
   "source": [
    "df2022.limit(2).toPandas()"
   ]
  },
  {
   "cell_type": "code",
   "execution_count": 9,
   "id": "8deed579",
   "metadata": {},
   "outputs": [
    {
     "name": "stdout",
     "output_type": "stream",
     "text": [
      "-RECORD 0------------------------------------------\n",
      " Trip ID                    | 0fca59218b1168827... \n",
      " Taxi ID                    | e2c349c7cbb608d55... \n",
      " Trip Start Timestamp       | 01/01/2023 12:00:... \n",
      " Trip End Timestamp         | 01/01/2023 12:15:... \n",
      " Trip Seconds               | 1037                 \n",
      " Trip Miles                 | 4.82                 \n",
      " Pickup Census Tract        | NULL                 \n",
      " Dropoff Census Tract       | NULL                 \n",
      " Pickup Community Area      | 6                    \n",
      " Dropoff Community Area     | 32                   \n",
      " Fare                       | 15.75                \n",
      " Tips                       | 3.25                 \n",
      " Tolls                      | 0.0                  \n",
      " Extras                     | 0.0                  \n",
      " Trip Total                 | 19.5                 \n",
      " Payment Type               | Credit Card          \n",
      " Company                    | Taxicab Insurance... \n",
      " Pickup Centroid Latitude   | 41.944226601         \n",
      " Pickup Centroid Longitude  | -87.655998182        \n",
      " Pickup Centroid Location   | POINT (-87.655998... \n",
      " Dropoff Centroid Latitude  | 41.878865584         \n",
      " Dropoff Centroid Longitude | -87.625192142        \n",
      " Dropoff Centroid  Location | POINT (-87.625192... \n",
      "only showing top 1 row\n",
      "\n"
     ]
    }
   ],
   "source": [
    "# Посмотрим данные в df2023\n",
    "df2023.show(1, vertical=True)"
   ]
  },
  {
   "cell_type": "markdown",
   "id": "4218cd76",
   "metadata": {},
   "source": [
    "**Отмечаем**, что признаки в обоих датасетах идентичны, значит, их можно объединять."
   ]
  },
  {
   "cell_type": "code",
   "execution_count": 10,
   "id": "ae4d561a",
   "metadata": {},
   "outputs": [
    {
     "data": {
      "application/vnd.jupyter.widget-view+json": {
       "model_id": "3c62be0a9de84a04afb2cecc940ed2cd",
       "version_major": 2,
       "version_minor": 0
      },
      "text/plain": [
       "  0%|          | 0/1 [00:00<?, ?it/s]"
      ]
     },
     "metadata": {},
     "output_type": "display_data"
    },
    {
     "name": "stdout",
     "output_type": "stream",
     "text": [
      "Данные объединены корректно, потерь нет.\n",
      "\n",
      "Размер объединенного датасета: 10,166,155 записей на 23 признака.\n"
     ]
    }
   ],
   "source": [
    "# Чтобы видеть, что процесс выполняется, поставим tqdm с разовым циклом:\n",
    "for _ in tqdm(range(1)): \n",
    "    # Объединяем датасеты:\n",
    "    data = df2022.union(df2023)\n",
    "\n",
    "    # Проверка, нет ли пропущенных записей после объединения данных:\n",
    "    if data.count() == df2022.count() + df2023.count():\n",
    "        print('Данные объединены корректно, потерь нет.')\n",
    "    else: \n",
    "        print('Данные объединены с потерями.')\n",
    "\n",
    "\n",
    "    # Удалим промежуточные датасеты, чтобы высвободить память:\n",
    "    del df2022\n",
    "    del df2023\n",
    "\n",
    "    full_data_size = data.count()\n",
    "    print('\\nРазмер объединенного датасета:', format_my(full_data_size), \n",
    "          'записей на', len(data.columns), 'признака.')"
   ]
  },
  {
   "cell_type": "markdown",
   "id": "023bcca8",
   "metadata": {},
   "source": [
    "## 2.3. Приведём все названия колонок к стилю `snakecase`."
   ]
  },
  {
   "cell_type": "code",
   "execution_count": 11,
   "id": "2e1df377",
   "metadata": {},
   "outputs": [
    {
     "name": "stdout",
     "output_type": "stream",
     "text": [
      "['Trip ID', 'Taxi ID', 'Trip Start Timestamp', 'Trip End Timestamp', 'Trip Seconds', 'Trip Miles', 'Pickup Census Tract', 'Dropoff Census Tract', 'Pickup Community Area', 'Dropoff Community Area', 'Fare', 'Tips', 'Tolls', 'Extras', 'Trip Total', 'Payment Type', 'Company', 'Pickup Centroid Latitude', 'Pickup Centroid Longitude', 'Pickup Centroid Location', 'Dropoff Centroid Latitude', 'Dropoff Centroid Longitude', 'Dropoff Centroid  Location']\n",
      "['trip_id', 'taxi_id', 'trip_start_timestamp', 'trip_end_timestamp', 'trip_seconds', 'trip_miles', 'pickup_census_tract', 'dropoff_census_tract', 'pickup_community_area', 'dropoff_community_area', 'fare', 'tips', 'tolls', 'extras', 'trip_total', 'payment_type', 'company', 'pickup_centroid_latitude', 'pickup_centroid_longitude', 'pickup_centroid_location', 'dropoff_centroid_latitude', 'dropoff_centroid_longitude', 'dropoff_centroid__location']\n"
     ]
    }
   ],
   "source": [
    "print(data.columns)\n",
    "\n",
    "# Переведём все символы в нижний регистр\n",
    "# и заменим пробелы на символы подчёркивания:\n",
    "data = data.toDF(*[c.lower().replace(' ', '_') for c in data.columns])\n",
    "\n",
    "print(data.columns)"
   ]
  },
  {
   "cell_type": "markdown",
   "id": "9c5ef8d4",
   "metadata": {},
   "source": [
    "**Промежуточные выводы:**   \n",
    "* Названия признаков приведены к стилю `snakecase`. Теперь к ним можно обращаться через точку.\n",
    "* Всего 23 признака, из них 8 типа 'string', остальные - числовые.\n",
    "* Признаки 'trip_start_timestamp' и 'trip_end_timestamp' нужно преобразовать к типу 'дата-время'.\n",
    "* Для решения поставленной задачи нам нужны всего 2 признака: `trip_start_timestamp` и `pickup_community_area`. Остальные можно удалить."
   ]
  },
  {
   "cell_type": "markdown",
   "id": "942375e1",
   "metadata": {},
   "source": [
    "## 2.4. Удаление ненужных признаков.¶"
   ]
  },
  {
   "cell_type": "code",
   "execution_count": 12,
   "id": "0c28fa40",
   "metadata": {},
   "outputs": [
    {
     "name": "stdout",
     "output_type": "stream",
     "text": [
      "Признаки, оставленные в датасете: ['trip_start_timestamp', 'pickup_community_area']\n"
     ]
    }
   ],
   "source": [
    "columns_to_drop = ['trip_id', 'taxi_id', 'trip_end_timestamp', \n",
    "                   'trip_seconds', 'trip_miles', 'pickup_census_tract', \n",
    "                   'dropoff_census_tract', 'dropoff_community_area', \n",
    "                   'fare', 'tips', 'tolls', 'extras', 'trip_total', \n",
    "                   'payment_type', 'company', 'pickup_centroid_latitude', \n",
    "                   'pickup_centroid_longitude', 'pickup_centroid_location', \n",
    "                   'dropoff_centroid_latitude', 'dropoff_centroid_longitude', \n",
    "                   'dropoff_centroid__location']\n",
    "data = data.drop(*columns_to_drop)\n",
    "\n",
    "print('Признаки, оставленные в датасете:', data.columns)"
   ]
  },
  {
   "cell_type": "markdown",
   "id": "171f693c",
   "metadata": {},
   "source": [
    "## 2.5. Проверка и коррекция типов данных."
   ]
  },
  {
   "cell_type": "code",
   "execution_count": 13,
   "id": "1261eb94",
   "metadata": {},
   "outputs": [
    {
     "name": "stdout",
     "output_type": "stream",
     "text": [
      "[Row(trip_start_timestamp='08/01/2023 12:00:00 AM', pickup_community_area=34)]\n",
      "root\n",
      " |-- trip_start_timestamp: string (nullable = true)\n",
      " |-- pickup_community_area: integer (nullable = true)\n",
      "\n",
      "root\n",
      " |-- trip_start_timestamp: timestamp (nullable = true)\n",
      " |-- pickup_community_area: integer (nullable = true)\n",
      "\n",
      "[Row(trip_start_timestamp=datetime.datetime(2023, 8, 1, 0, 0), pickup_community_area=34)]\n"
     ]
    }
   ],
   "source": [
    "print(data.tail(1))\n",
    "data.printSchema()\n",
    "\n",
    "# Преобразование к типу 'дата-время'\n",
    "data = data.withColumn('trip_start_timestamp', \n",
    "                       F.to_timestamp(F.col('trip_start_timestamp'),\n",
    "                       'MM/dd/yyyy hh:mm:ss a'))\n",
    "\n",
    "# Проверим типы данных\n",
    "data.printSchema()\n",
    "print(data.tail(1))"
   ]
  },
  {
   "cell_type": "markdown",
   "id": "a74e8709",
   "metadata": {},
   "source": [
    "**Отмечаем**:  \n",
    "признак 'trip_start_timestamp' успешно преобразован к типу 'дата-время'."
   ]
  },
  {
   "cell_type": "markdown",
   "id": "e3a4e0fe",
   "metadata": {},
   "source": [
    "## 2.6. Диапазон времени использования такси."
   ]
  },
  {
   "cell_type": "code",
   "execution_count": 14,
   "id": "49fcaa0f",
   "metadata": {},
   "outputs": [
    {
     "data": {
      "application/vnd.jupyter.widget-view+json": {
       "model_id": "611e0f74dfc9467ba22138e2fa2a46f5",
       "version_major": 2,
       "version_minor": 0
      },
      "text/plain": [
       "  0%|          | 0/1 [00:00<?, ?it/s]"
      ]
     },
     "metadata": {},
     "output_type": "display_data"
    },
    {
     "name": "stdout",
     "output_type": "stream",
     "text": [
      "В БД находятся заказы такси, начиная с 2022-01-01 00:00:00 и до 2023-08-01 00:00:00 продолжительностью 577 дней.\n",
      "Количество записей в датасете: 10,166,155\n"
     ]
    }
   ],
   "source": [
    "for _ in tqdm(range(1)): # Чтобы видеть, что процесс выполняется\n",
    "    \n",
    "    date_first = data.select(F.min('trip_start_timestamp')).first()[0]\n",
    "    date_last = data.select(F.max('trip_start_timestamp')).first()[0]\n",
    "        \n",
    "    print('В БД находятся заказы такси, начиная с', \n",
    "          date_first, 'и до', date_last, 'продолжительностью', \n",
    "          \"{} дней.\".format((date_last - date_first).days))\n",
    "    \n",
    "    print('Количество записей в датасете:', format_my(data.count()))"
   ]
  },
  {
   "cell_type": "markdown",
   "id": "5da81493",
   "metadata": {},
   "source": [
    "**Отмечаем**, что последний день (2023-08-01) является неполным. Удалим записи за этот день."
   ]
  },
  {
   "cell_type": "code",
   "execution_count": 15,
   "id": "4aafff5e",
   "metadata": {},
   "outputs": [
    {
     "data": {
      "application/vnd.jupyter.widget-view+json": {
       "model_id": "46fac95ad1c548d5a1a42299c8d17037",
       "version_major": 2,
       "version_minor": 0
      },
      "text/plain": [
       "  0%|          | 0/1 [00:00<?, ?it/s]"
      ]
     },
     "metadata": {},
     "output_type": "display_data"
    },
    {
     "name": "stdout",
     "output_type": "stream",
     "text": [
      "В БД находятся заказы такси, начиная с 2022-01-01 00:00:00 и до 2023-07-31 23:45:00 продолжительностью 576 дней.\n",
      "Количество записей в датасете: 10,166,125\n"
     ]
    }
   ],
   "source": [
    "# Удаление записей, начиная с '2023-08-01 00:00:00':\n",
    "for _ in tqdm(range(1)): # Чтобы видеть, что процесс выполняется\n",
    "    data = data.where(data.trip_start_timestamp<'2023-08-01 00:00:00') \n",
    "    \n",
    "    date_last = data.select(F.max('trip_start_timestamp')).first()[0]\n",
    "        \n",
    "    print('В БД находятся заказы такси, начиная с', \n",
    "          date_first, 'и до', date_last, 'продолжительностью', \n",
    "          \"{} дней.\".format((date_last - date_first).days))\n",
    "    \n",
    "        \n",
    "    full_data_size = data.count()   \n",
    "    print('Количество записей в датасете:', format_my(full_data_size))    "
   ]
  },
  {
   "cell_type": "markdown",
   "id": "f9541cd6",
   "metadata": {},
   "source": [
    "**Промежуточный результат**:\n",
    "* Удалены записи за последний неполный день. Количество записей уменьшилось на 30 штук.\n",
    "* В БД находятся заказы такси продолжительностью 576 дней."
   ]
  },
  {
   "cell_type": "markdown",
   "id": "b889ced2",
   "metadata": {},
   "source": [
    "## 2.7. Пропущенные значения."
   ]
  },
  {
   "cell_type": "code",
   "execution_count": 16,
   "id": "baae30f0",
   "metadata": {},
   "outputs": [
    {
     "data": {
      "application/vnd.jupyter.widget-view+json": {
       "model_id": "699c959233a646598ea3bb5aef960133",
       "version_major": 2,
       "version_minor": 0
      },
      "text/plain": [
       "  0%|          | 0/1 [00:00<?, ?it/s]"
      ]
     },
     "metadata": {},
     "output_type": "display_data"
    },
    {
     "name": "stdout",
     "output_type": "stream",
     "text": [
      "trip_start_timestamp 0\n",
      "pickup_community_area 681,619\n"
     ]
    }
   ],
   "source": [
    "for _ in tqdm(range(1)): # Чтобы видеть, что процесс выполняется\n",
    "    for feature in data.columns:\n",
    "        num_null = data[data[feature].isNull()].count()\n",
    "        print(feature, format_my(num_null))\n",
    "        \n",
    "    num_null_area = data[data['pickup_community_area'].isNull()].count()"
   ]
  },
  {
   "cell_type": "markdown",
   "id": "b792b174",
   "metadata": {},
   "source": [
    "**Отмечаем**:\n",
    "* в признаке 'trip_start_timestamp' нет пропущенных значений.\n",
    "* в признаке 'pickup_community_area' пропущенных значений много, 681 619."
   ]
  },
  {
   "cell_type": "markdown",
   "id": "6acbb5e8",
   "metadata": {},
   "source": [
    "### 2.7.1. Пропущенные значения в признаке '*pickup_community_area*'."
   ]
  },
  {
   "cell_type": "code",
   "execution_count": 17,
   "id": "6e739191",
   "metadata": {},
   "outputs": [
    {
     "data": {
      "application/vnd.jupyter.widget-view+json": {
       "model_id": "2b19ac5733e34b04ae622da82a6d0c6d",
       "version_major": 2,
       "version_minor": 0
      },
      "text/plain": [
       "  0%|          | 0/1 [00:00<?, ?it/s]"
      ]
     },
     "metadata": {},
     "output_type": "display_data"
    },
    {
     "name": "stdout",
     "output_type": "stream",
     "text": [
      "Количество значений в столбце `pickup_community_area`: 78\n"
     ]
    }
   ],
   "source": [
    "# Количество значений в столбце `pickup_community_area`\n",
    "for _ in tqdm(range(1)): # Чтобы видеть, что процесс выполняется\n",
    "    community_area_count = data.select('pickup_community_area').\\\n",
    "                           distinct().count()\n",
    "    print(f'Количество значений в столбце',\n",
    "          f'`pickup_community_area`: {community_area_count}')"
   ]
  },
  {
   "cell_type": "markdown",
   "id": "599bb924",
   "metadata": {},
   "source": [
    "**Отмечаем**, что в Чикаго всего 77 городских района. См: [Районы г Чикаго](https://en.wikipedia.org/wiki/Community_areas_in_Chicago \"Жми на ссылку...\").  \n",
    "Посмотрим, почему у нас их получается 78?"
   ]
  },
  {
   "cell_type": "code",
   "execution_count": 18,
   "id": "5d3f48c6",
   "metadata": {},
   "outputs": [
    {
     "data": {
      "application/vnd.jupyter.widget-view+json": {
       "model_id": "f7fd68fef24c4870894a21e16cdb9ec9",
       "version_major": 2,
       "version_minor": 0
      },
      "text/plain": [
       "  0%|          | 0/1 [00:00<?, ?it/s]"
      ]
     },
     "metadata": {},
     "output_type": "display_data"
    },
    {
     "name": "stdout",
     "output_type": "stream",
     "text": [
      "Диапазон значений 'pickup_community_area' от 1 и до 77\n"
     ]
    }
   ],
   "source": [
    "for _ in tqdm(range(1)): # Чтобы видеть, что процесс выполняется\n",
    "    print(\"Диапазон значений 'pickup_community_area' от\",\n",
    "          data.select(F.min('pickup_community_area')).first()[0],\n",
    "          'и до', data.select(F.max('pickup_community_area')).first()[0])"
   ]
  },
  {
   "cell_type": "code",
   "execution_count": 19,
   "id": "20fd7a1a",
   "metadata": {},
   "outputs": [
    {
     "data": {
      "application/vnd.jupyter.widget-view+json": {
       "model_id": "432a0359d2e74fe08f5550d887808166",
       "version_major": 2,
       "version_minor": 0
      },
      "text/plain": [
       "  0%|          | 0/1 [00:00<?, ?it/s]"
      ]
     },
     "metadata": {},
     "output_type": "display_data"
    },
    {
     "name": "stdout",
     "output_type": "stream",
     "text": [
      "+---------------------+----------------------------+\n",
      "|pickup_community_area|count(pickup_community_area)|\n",
      "+---------------------+----------------------------+\n",
      "|                   31|                       15211|\n",
      "|                   65|                        3341|\n",
      "|                   53|                       17653|\n",
      "|                   34|                       26447|\n",
      "|                   28|                      873132|\n",
      "|                   76|                     1736734|\n",
      "|                   27|                        8206|\n",
      "|                   26|                        4023|\n",
      "|                   44|                       44028|\n",
      "|                   12|                       12810|\n",
      "|                   22|                       48480|\n",
      "|                   47|                        2860|\n",
      "|                 NULL|                           0|\n",
      "|                    1|                       56517|\n",
      "|                   52|                        5446|\n",
      "+---------------------+----------------------------+\n",
      "only showing top 15 rows\n",
      "\n"
     ]
    }
   ],
   "source": [
    "for _ in tqdm(range(1)): # Чтобы видеть, что процесс выполняется\n",
    "    (data.groupby(\"pickup_community_area\").\n",
    "         agg(F.count(\"pickup_community_area\")).show(15))"
   ]
  },
  {
   "cell_type": "markdown",
   "id": "d97de3e9",
   "metadata": {},
   "source": [
    "**Отмечаем**, что в признаке 'pickup_community_area' есть пропуски, соответствующие NULL.\n",
    "\n",
    "Предположим, что пропуски появились, когда такси работали за пределами города.  \n",
    "\n",
    "В нашей задаче нужно предсказать количество заказов такси по РАЙОНАМ города, таким образом, пригороды, имеющие огромную территорию, больше, чем городская площадь, в задачу не входят.   \n",
    "\n",
    "**Принимаем решение** удалить информацию по заказам из пригорода Чикаго."
   ]
  },
  {
   "cell_type": "code",
   "execution_count": 20,
   "id": "8906d9a0",
   "metadata": {},
   "outputs": [
    {
     "data": {
      "application/vnd.jupyter.widget-view+json": {
       "model_id": "b31b41ca64c347c6a237b8583beda1d4",
       "version_major": 2,
       "version_minor": 0
      },
      "text/plain": [
       "  0%|          | 0/1 [00:00<?, ?it/s]"
      ]
     },
     "metadata": {},
     "output_type": "display_data"
    },
    {
     "name": "stdout",
     "output_type": "stream",
     "text": [
      "Количество строк до удаления пропусков: 10,166,125\n",
      "Количество строк после удаления пропусков: 9,484,506\n",
      "Удельная часть удаленных записей: 6.70%\n",
      "\n",
      "Данные собраны корректно, потерь нет.\n",
      "Размер итогового датасета: 9,484,506 записей на 2 признака.\n"
     ]
    }
   ],
   "source": [
    "for _ in tqdm(range(1)): # Чтобы видеть, что процесс выполняется\n",
    "    data_cleaned = data.na.drop(how='any')\n",
    "\n",
    "    num_data = data.count()\n",
    "    num_cleaned_data = data_cleaned.count()\n",
    "    \n",
    "    # количество строк до и после удаления пропусков\n",
    "    print(f'Количество строк до удаления пропусков: {format_my(num_data)}')\n",
    "    print(f'Количество строк после удаления пропусков: {format_my(num_cleaned_data)}')\n",
    "    print(f'Удельная часть удаленных записей: ' + \n",
    "          f'{(num_data-num_cleaned_data)/num_data:.2%}')\n",
    "    \n",
    "    if full_data_size - num_cleaned_data == num_null_area:\n",
    "        print('\\nДанные собраны корректно, потерь нет.')\n",
    "    else: \n",
    "        print('\\nДанные имеют потери!')\n",
    "        \n",
    "    print('Размер итогового датасета:', f\"{format_my(num_cleaned_data)}\",\n",
    "          'записей на', len(data_cleaned.columns), 'признака.') \n",
    "    \n",
    "    # Удалим ненужный более датасет, чтобы высвободить память:\n",
    "    del data"
   ]
  },
  {
   "cell_type": "markdown",
   "id": "a7dd4300",
   "metadata": {},
   "source": [
    "## 2.8. Агрегация данных по 1 часу времени заказа."
   ]
  },
  {
   "cell_type": "code",
   "execution_count": 21,
   "id": "05f8c685",
   "metadata": {},
   "outputs": [
    {
     "name": "stdout",
     "output_type": "stream",
     "text": [
      "+-------------------+----+\n",
      "|datetime           |area|\n",
      "+-------------------+----+\n",
      "|2022-01-01 00:00:00|28  |\n",
      "|2022-01-01 00:00:00|8   |\n",
      "|2022-01-01 00:00:00|8   |\n",
      "|2022-01-01 00:00:00|76  |\n",
      "|2022-01-01 00:00:00|33  |\n",
      "|2022-01-01 00:00:00|3   |\n",
      "|2022-01-01 00:00:00|7   |\n",
      "|2022-01-01 00:00:00|76  |\n",
      "|2022-01-01 00:00:00|33  |\n",
      "|2022-01-01 00:00:00|76  |\n",
      "|2022-01-01 00:00:00|8   |\n",
      "|2022-01-01 00:00:00|8   |\n",
      "|2022-01-01 00:00:00|8   |\n",
      "|2022-01-01 00:00:00|77  |\n",
      "|2022-01-01 00:00:00|8   |\n",
      "|2022-01-01 00:00:00|8   |\n",
      "|2022-01-01 00:00:00|56  |\n",
      "|2022-01-01 00:00:00|8   |\n",
      "|2022-01-01 00:00:00|2   |\n",
      "|2022-01-01 00:00:00|28  |\n",
      "|2022-01-01 00:00:00|22  |\n",
      "|2022-01-01 00:00:00|8   |\n",
      "|2022-01-01 00:00:00|32  |\n",
      "|2022-01-01 00:00:00|32  |\n",
      "|2022-01-01 00:00:00|8   |\n",
      "|2022-01-01 00:00:00|8   |\n",
      "|2022-01-01 00:00:00|8   |\n",
      "|2022-01-01 00:00:00|8   |\n",
      "|2022-01-01 00:00:00|32  |\n",
      "|2022-01-01 00:00:00|76  |\n",
      "|2022-01-01 00:00:00|8   |\n",
      "|2022-01-01 00:00:00|28  |\n",
      "|2022-01-01 00:00:00|3   |\n",
      "|2022-01-01 00:00:00|25  |\n",
      "|2022-01-01 00:00:00|7   |\n",
      "|2022-01-01 00:00:00|48  |\n",
      "|2022-01-01 00:00:00|7   |\n",
      "|2022-01-01 00:00:00|8   |\n",
      "|2022-01-01 00:00:00|3   |\n",
      "|2022-01-01 00:00:00|8   |\n",
      "|2022-01-01 00:00:00|8   |\n",
      "|2022-01-01 00:00:00|8   |\n",
      "|2022-01-01 00:00:00|76  |\n",
      "|2022-01-01 00:00:00|8   |\n",
      "|2022-01-01 00:00:00|8   |\n",
      "|2022-01-01 00:00:00|8   |\n",
      "|2022-01-01 00:00:00|41  |\n",
      "|2022-01-01 00:00:00|28  |\n",
      "|2022-01-01 00:00:00|8   |\n",
      "|2022-01-01 00:00:00|32  |\n",
      "|2022-01-01 00:00:00|8   |\n",
      "|2022-01-01 00:00:00|8   |\n",
      "|2022-01-01 00:00:00|7   |\n",
      "|2022-01-01 00:00:00|8   |\n",
      "|2022-01-01 00:00:00|8   |\n",
      "|2022-01-01 00:00:00|8   |\n",
      "|2022-01-01 00:00:00|32  |\n",
      "|2022-01-01 00:00:00|8   |\n",
      "|2022-01-01 00:00:00|56  |\n",
      "|2022-01-01 00:00:00|24  |\n",
      "|2022-01-01 00:00:00|28  |\n",
      "|2022-01-01 00:00:00|8   |\n",
      "|2022-01-01 00:00:00|28  |\n",
      "|2022-01-01 00:00:00|1   |\n",
      "|2022-01-01 00:00:00|77  |\n",
      "|2022-01-01 00:00:00|8   |\n",
      "|2022-01-01 00:00:00|8   |\n",
      "|2022-01-01 00:00:00|28  |\n",
      "|2022-01-01 00:00:00|6   |\n",
      "|2022-01-01 00:00:00|28  |\n",
      "|2022-01-01 00:00:00|6   |\n",
      "|2022-01-01 00:15:00|32  |\n",
      "|2022-01-01 00:15:00|6   |\n",
      "|2022-01-01 00:15:00|8   |\n",
      "|2022-01-01 00:15:00|28  |\n",
      "|2022-01-01 00:15:00|8   |\n",
      "|2022-01-01 00:15:00|8   |\n",
      "|2022-01-01 00:15:00|7   |\n",
      "|2022-01-01 00:15:00|7   |\n",
      "|2022-01-01 00:15:00|8   |\n",
      "|2022-01-01 00:15:00|24  |\n",
      "|2022-01-01 00:15:00|28  |\n",
      "|2022-01-01 00:15:00|23  |\n",
      "|2022-01-01 00:15:00|8   |\n",
      "|2022-01-01 00:15:00|28  |\n",
      "|2022-01-01 00:15:00|32  |\n",
      "|2022-01-01 00:15:00|6   |\n",
      "|2022-01-01 00:15:00|8   |\n",
      "|2022-01-01 00:15:00|8   |\n",
      "|2022-01-01 00:15:00|8   |\n",
      "|2022-01-01 00:15:00|8   |\n",
      "|2022-01-01 00:15:00|8   |\n",
      "|2022-01-01 00:15:00|56  |\n",
      "|2022-01-01 00:15:00|8   |\n",
      "|2022-01-01 00:15:00|8   |\n",
      "|2022-01-01 00:15:00|32  |\n",
      "|2022-01-01 00:15:00|8   |\n",
      "|2022-01-01 00:15:00|28  |\n",
      "|2022-01-01 00:15:00|8   |\n",
      "|2022-01-01 00:15:00|8   |\n",
      "+-------------------+----+\n",
      "only showing top 100 rows\n",
      "\n"
     ]
    }
   ],
   "source": [
    "# Дадим признакам более короткие названия:\n",
    "data_cleaned = (data_cleaned.\n",
    "               withColumnRenamed('trip_start_timestamp', 'datetime').\n",
    "               withColumnRenamed('pickup_community_area', 'area')\n",
    "               )\n",
    "\n",
    "data_cleaned.show(100, truncate=False)"
   ]
  },
  {
   "cell_type": "markdown",
   "id": "49ac9121",
   "metadata": {},
   "source": [
    "**Отмечаем**, что данные содержат информацию по каждым 15 минутам заказов такси.   "
   ]
  },
  {
   "cell_type": "markdown",
   "id": "786a3ba1",
   "metadata": {},
   "source": [
    "Для нашей задачи нужна информация почасовая, поэтому округлим время до ближайшего часа."
   ]
  },
  {
   "cell_type": "code",
   "execution_count": 22,
   "id": "bcce58d1",
   "metadata": {},
   "outputs": [
    {
     "name": "stdout",
     "output_type": "stream",
     "text": [
      "+-------------------+----+\n",
      "|datetime           |area|\n",
      "+-------------------+----+\n",
      "|2022-01-01 00:00:00|28  |\n",
      "|2022-01-01 00:00:00|8   |\n",
      "|2022-01-01 00:00:00|8   |\n",
      "|2022-01-01 00:00:00|76  |\n",
      "|2022-01-01 00:00:00|33  |\n",
      "|2022-01-01 00:00:00|3   |\n",
      "|2022-01-01 00:00:00|7   |\n",
      "|2022-01-01 00:00:00|76  |\n",
      "|2022-01-01 00:00:00|33  |\n",
      "|2022-01-01 00:00:00|76  |\n",
      "|2022-01-01 00:00:00|8   |\n",
      "|2022-01-01 00:00:00|8   |\n",
      "|2022-01-01 00:00:00|8   |\n",
      "|2022-01-01 00:00:00|77  |\n",
      "|2022-01-01 00:00:00|8   |\n",
      "|2022-01-01 00:00:00|8   |\n",
      "|2022-01-01 00:00:00|56  |\n",
      "|2022-01-01 00:00:00|8   |\n",
      "|2022-01-01 00:00:00|2   |\n",
      "|2022-01-01 00:00:00|28  |\n",
      "|2022-01-01 00:00:00|22  |\n",
      "|2022-01-01 00:00:00|8   |\n",
      "|2022-01-01 00:00:00|32  |\n",
      "|2022-01-01 00:00:00|32  |\n",
      "|2022-01-01 00:00:00|8   |\n",
      "|2022-01-01 00:00:00|8   |\n",
      "|2022-01-01 00:00:00|8   |\n",
      "|2022-01-01 00:00:00|8   |\n",
      "|2022-01-01 00:00:00|32  |\n",
      "|2022-01-01 00:00:00|76  |\n",
      "|2022-01-01 00:00:00|8   |\n",
      "|2022-01-01 00:00:00|28  |\n",
      "|2022-01-01 00:00:00|3   |\n",
      "|2022-01-01 00:00:00|25  |\n",
      "|2022-01-01 00:00:00|7   |\n",
      "|2022-01-01 00:00:00|48  |\n",
      "|2022-01-01 00:00:00|7   |\n",
      "|2022-01-01 00:00:00|8   |\n",
      "|2022-01-01 00:00:00|3   |\n",
      "|2022-01-01 00:00:00|8   |\n",
      "|2022-01-01 00:00:00|8   |\n",
      "|2022-01-01 00:00:00|8   |\n",
      "|2022-01-01 00:00:00|76  |\n",
      "|2022-01-01 00:00:00|8   |\n",
      "|2022-01-01 00:00:00|8   |\n",
      "|2022-01-01 00:00:00|8   |\n",
      "|2022-01-01 00:00:00|41  |\n",
      "|2022-01-01 00:00:00|28  |\n",
      "|2022-01-01 00:00:00|8   |\n",
      "|2022-01-01 00:00:00|32  |\n",
      "|2022-01-01 00:00:00|8   |\n",
      "|2022-01-01 00:00:00|8   |\n",
      "|2022-01-01 00:00:00|7   |\n",
      "|2022-01-01 00:00:00|8   |\n",
      "|2022-01-01 00:00:00|8   |\n",
      "|2022-01-01 00:00:00|8   |\n",
      "|2022-01-01 00:00:00|32  |\n",
      "|2022-01-01 00:00:00|8   |\n",
      "|2022-01-01 00:00:00|56  |\n",
      "|2022-01-01 00:00:00|24  |\n",
      "|2022-01-01 00:00:00|28  |\n",
      "|2022-01-01 00:00:00|8   |\n",
      "|2022-01-01 00:00:00|28  |\n",
      "|2022-01-01 00:00:00|1   |\n",
      "|2022-01-01 00:00:00|77  |\n",
      "|2022-01-01 00:00:00|8   |\n",
      "|2022-01-01 00:00:00|8   |\n",
      "|2022-01-01 00:00:00|28  |\n",
      "|2022-01-01 00:00:00|6   |\n",
      "|2022-01-01 00:00:00|28  |\n",
      "|2022-01-01 00:00:00|6   |\n",
      "|2022-01-01 00:00:00|32  |\n",
      "|2022-01-01 00:00:00|6   |\n",
      "|2022-01-01 00:00:00|8   |\n",
      "|2022-01-01 00:00:00|28  |\n",
      "|2022-01-01 00:00:00|8   |\n",
      "|2022-01-01 00:00:00|8   |\n",
      "|2022-01-01 00:00:00|7   |\n",
      "|2022-01-01 00:00:00|7   |\n",
      "|2022-01-01 00:00:00|8   |\n",
      "|2022-01-01 00:00:00|24  |\n",
      "|2022-01-01 00:00:00|28  |\n",
      "|2022-01-01 00:00:00|23  |\n",
      "|2022-01-01 00:00:00|8   |\n",
      "|2022-01-01 00:00:00|28  |\n",
      "|2022-01-01 00:00:00|32  |\n",
      "|2022-01-01 00:00:00|6   |\n",
      "|2022-01-01 00:00:00|8   |\n",
      "|2022-01-01 00:00:00|8   |\n",
      "|2022-01-01 00:00:00|8   |\n",
      "|2022-01-01 00:00:00|8   |\n",
      "|2022-01-01 00:00:00|8   |\n",
      "|2022-01-01 00:00:00|56  |\n",
      "|2022-01-01 00:00:00|8   |\n",
      "|2022-01-01 00:00:00|8   |\n",
      "|2022-01-01 00:00:00|32  |\n",
      "|2022-01-01 00:00:00|8   |\n",
      "|2022-01-01 00:00:00|28  |\n",
      "|2022-01-01 00:00:00|8   |\n",
      "|2022-01-01 00:00:00|8   |\n",
      "+-------------------+----+\n",
      "only showing top 100 rows\n",
      "\n"
     ]
    }
   ],
   "source": [
    "data_cleaned = data_cleaned.withColumn('datetime', \n",
    "                                       F.date_trunc('hour', 'datetime'))\n",
    "\n",
    "data_cleaned.show(100, truncate=False)"
   ]
  },
  {
   "cell_type": "markdown",
   "id": "12815248",
   "metadata": {},
   "source": [
    "Подсчитаем количество заказов по каждому району Чикаго ежечасно."
   ]
  },
  {
   "cell_type": "code",
   "execution_count": 23,
   "id": "ebb7143c",
   "metadata": {},
   "outputs": [
    {
     "data": {
      "application/vnd.jupyter.widget-view+json": {
       "model_id": "14fc51a699c8498797e980bf6e6dff8f",
       "version_major": 2,
       "version_minor": 0
      },
      "text/plain": [
       "  0%|          | 0/1 [00:00<?, ?it/s]"
      ]
     },
     "metadata": {},
     "output_type": "display_data"
    },
    {
     "name": "stdout",
     "output_type": "stream",
     "text": [
      "+-------------------+----+-----+\n",
      "|           datetime|area|count|\n",
      "+-------------------+----+-----+\n",
      "|2022-01-01 04:00:00|  14|    2|\n",
      "|2022-01-01 05:00:00|  22|    3|\n",
      "|2022-01-01 08:00:00|  28|    3|\n",
      "|2022-01-01 08:00:00|  39|    1|\n",
      "|2022-01-01 16:00:00|  44|    1|\n",
      "|2022-01-01 17:00:00|  36|    4|\n",
      "|2022-01-01 18:00:00|  13|    1|\n",
      "|2022-01-02 08:00:00|  77|    4|\n",
      "|2022-01-02 10:00:00|  48|    1|\n",
      "|2022-01-02 10:00:00|  34|    2|\n",
      "+-------------------+----+-----+\n",
      "only showing top 10 rows\n",
      "\n"
     ]
    }
   ],
   "source": [
    "for _ in tqdm(range(1)): # Чтобы видеть, что процесс выполняется\n",
    "    data_hours = (data_cleaned.\n",
    "                  groupBy('datetime', 'area').\n",
    "                  agg(F.count('*').alias('count')).cache()\n",
    "                 )\n",
    "    data_hours.show(10)\n",
    "    \n",
    "    # Удалим ненужный более датасет, чтобы высвободить память:\n",
    "    del data_cleaned"
   ]
  },
  {
   "cell_type": "code",
   "execution_count": 24,
   "id": "16bdb19e",
   "metadata": {},
   "outputs": [
    {
     "name": "stdout",
     "output_type": "stream",
     "text": [
      "Таким образом, за весь период наблюдений у нас собрано 606,057 записей.\n",
      "2022-01-01 00:00:00\n",
      "2023-07-31 23:45:00\n",
      "\n",
      "С учетом 24 часа/день и на 77 районов города за этот период должно быть собрано 1,064,448 записей.\n"
     ]
    }
   ],
   "source": [
    "print('Таким образом, за весь период наблюдений у нас собрано',\n",
    "      format_my(data_hours.count()), 'записей.')\n",
    "print(date_first)\n",
    "print(date_last)\n",
    "\n",
    "print('\\nС учетом 24 часа/день и на', NUMBER_CHICAGO_AREAS, \n",
    "      'районов города за этот период должно быть собрано',\n",
    "      \"{}\".format(format_my((date_last - date_first).days *\n",
    "                            24 * NUMBER_CHICAGO_AREAS)),\n",
    "      'записей.')"
   ]
  },
  {
   "cell_type": "markdown",
   "id": "7c6eb043",
   "metadata": {},
   "source": [
    "**Отмечаем**, что есть очень много пропущенных значений, когда в каком-либо районе Чикаго не было заказов такси!"
   ]
  },
  {
   "cell_type": "markdown",
   "id": "f0e14627",
   "metadata": {},
   "source": [
    "Отсортируем данные в хронологическом порядке:"
   ]
  },
  {
   "cell_type": "code",
   "execution_count": 25,
   "id": "27339fce",
   "metadata": {},
   "outputs": [
    {
     "data": {
      "application/vnd.jupyter.widget-view+json": {
       "model_id": "dcaec05fc62643da85d53c12d25ea5b5",
       "version_major": 2,
       "version_minor": 0
      },
      "text/plain": [
       "  0%|          | 0/1 [00:00<?, ?it/s]"
      ]
     },
     "metadata": {},
     "output_type": "display_data"
    },
    {
     "name": "stdout",
     "output_type": "stream",
     "text": [
      "Исходный датасет:\n",
      "+-------------------+----+-----+\n",
      "|           datetime|area|count|\n",
      "+-------------------+----+-----+\n",
      "|2022-01-01 00:00:00|   3|    9|\n",
      "|2022-01-01 00:00:00|  32|   37|\n",
      "|2022-01-01 00:00:00|  54|    1|\n",
      "|2022-01-01 00:00:00|  21|    2|\n",
      "|2022-01-01 00:00:00|  33|    7|\n",
      "+-------------------+----+-----+\n",
      "only showing top 5 rows\n",
      "\n",
      "Количество записей в отсортированном датасете: 606,057\n",
      "Диапазон значений 'area' от 1 и до 77\n",
      "+-------------------+----+-----+\n",
      "|           datetime|area|count|\n",
      "+-------------------+----+-----+\n",
      "|2022-01-01 04:00:00|  14|    2|\n",
      "|2022-01-01 05:00:00|  22|    3|\n",
      "|2022-01-01 08:00:00|  28|    3|\n",
      "|2022-01-01 08:00:00|  39|    1|\n",
      "|2022-01-01 16:00:00|  44|    1|\n",
      "+-------------------+----+-----+\n",
      "only showing top 5 rows\n",
      "\n"
     ]
    }
   ],
   "source": [
    "for _ in tqdm(range(1)): # Чтобы видеть, что процесс выполняется\n",
    "    print('Исходный датасет:')\n",
    "    data_hours.sort(['datetime'], ascending = True).show(5)\n",
    "    \n",
    "    print('Количество записей в отсортированном датасете:', \n",
    "          format_my(data_hours.count()))\n",
    "    \n",
    "    print(\"Диапазон значений 'area' от\",\n",
    "          data_hours.select(F.min('area')).first()[0],\n",
    "          'и до', data_hours.select(F.max('area')).first()[0])\n",
    "    \n",
    "    data_hours.show(5)"
   ]
  },
  {
   "cell_type": "markdown",
   "id": "fad8332a",
   "metadata": {},
   "source": [
    "**Промежуточные результаты**:\n",
    "* Подготовлен датасет с признаками:\n",
    "    * Время заказа такси с дискретностью в 1 час.\n",
    "    * Номер района Чикаго (в диапазоне от 1 до 77).\n",
    "    * Количество заказов по данному районе в течение часа.\n",
    "* Данные отсортированы по времени заявки такси.   "
   ]
  },
  {
   "cell_type": "markdown",
   "id": "ef96718e",
   "metadata": {},
   "source": [
    "# 3. EDA анализ."
   ]
  },
  {
   "cell_type": "code",
   "execution_count": 26,
   "id": "cce5eb23",
   "metadata": {},
   "outputs": [
    {
     "name": "stdout",
     "output_type": "stream",
     "text": [
      "+-------+------------------+\n",
      "|summary|             count|\n",
      "+-------+------------------+\n",
      "|  count|            606057|\n",
      "|   mean|15.649528014691688|\n",
      "| stddev| 45.44183454171771|\n",
      "|    min|                 1|\n",
      "|    max|               591|\n",
      "+-------+------------------+\n",
      "\n"
     ]
    }
   ],
   "source": [
    "# Посмотрим статистику по количеству заказов по округам и по дате.\n",
    "data_hours.describe('count').show()"
   ]
  },
  {
   "cell_type": "markdown",
   "id": "1d287a55",
   "metadata": {},
   "source": [
    "**Отмечаем**:\n",
    "* Диапазон количества заказов по округам и по дате очень широкий: от 1 до 591.\n",
    "* При значении STD равным 45, есть значения далеко за пределами 3-х сигма, что говорит о наличии аномальных значений."
   ]
  },
  {
   "cell_type": "markdown",
   "id": "b1624e17",
   "metadata": {},
   "source": [
    "## 3.1. Распределение заказов такси по различным временным признакам."
   ]
  },
  {
   "cell_type": "code",
   "execution_count": 27,
   "id": "480f62e7",
   "metadata": {},
   "outputs": [
    {
     "data": {
      "application/vnd.jupyter.widget-view+json": {
       "model_id": "aaf86f5ef7844115832813bd12995550",
       "version_major": 2,
       "version_minor": 0
      },
      "text/plain": [
       "  0%|          | 0/1 [00:00<?, ?it/s]"
      ]
     },
     "metadata": {},
     "output_type": "display_data"
    }
   ],
   "source": [
    "for _ in tqdm(range(1)): # Чтобы видеть, что процесс выполняется\n",
    "    data_hours = data_hours.withColumn('hour', F.hour('datetime'))\n",
    "    data_hours = data_hours.withColumn('day_week', F.dayofweek('datetime'))\n",
    "    data_hours = data_hours.withColumn('day_month', F.dayofmonth('datetime'))\n",
    "    data_hours = data_hours.withColumn('month', F.month('datetime'))\n",
    "    \n",
    "    sort_hour = data_hours.groupby('hour').count().sort('hour').toPandas()\n",
    "    sort_dayweek = data_hours.groupby('day_week').count().sort('day_week').toPandas()\n",
    "    sort_daymonth = data_hours.groupby('day_month').count().sort('day_month').toPandas()\n",
    "    sort_month = data_hours.groupby('month').count().sort('month').toPandas()"
   ]
  },
  {
   "cell_type": "code",
   "execution_count": 28,
   "id": "540bd383",
   "metadata": {},
   "outputs": [],
   "source": [
    "def visualization_datetime(data, x, x_name):\n",
    "    plt.figure(figsize=(9, 3))\n",
    "    sns.barplot(data = data, x = x, y = 'count')\n",
    "    plt.xlabel(x_name, color = 'blue', size = 10)\n",
    "    plt.ylabel('Количество заказов такси.', color='blue', size = 10)\n",
    "    plt.title('Распределение количества заказов такси.',\n",
    "              color='red', size = 12);"
   ]
  },
  {
   "cell_type": "code",
   "execution_count": 29,
   "id": "5ccb943c",
   "metadata": {},
   "outputs": [
    {
     "data": {
      "image/png": "[encoded data removed]",
      "text/plain": [
       "<Figure size 900x300 with 1 Axes>"
      ]
     },
     "metadata": {},
     "output_type": "display_data"
    }
   ],
   "source": [
    "visualization_datetime(sort_hour, 'hour', 'Час суток.')"
   ]
  },
  {
   "cell_type": "code",
   "execution_count": 30,
   "id": "d7193dbd",
   "metadata": {},
   "outputs": [
    {
     "data": {
      "image/png": "[encoded data removed]",
      "text/plain": [
       "<Figure size 900x300 with 1 Axes>"
      ]
     },
     "metadata": {},
     "output_type": "display_data"
    }
   ],
   "source": [
    "weekdays = ['Вс', 'Пн', 'Вт', 'Ср', 'Чт', 'Пт', 'Сб']\n",
    "visualization_datetime(sort_dayweek, weekdays, 'День недели.')"
   ]
  },
  {
   "cell_type": "code",
   "execution_count": 31,
   "id": "ecd4536d",
   "metadata": {},
   "outputs": [
    {
     "data": {
      "image/png": "[encoded data removed]",
      "text/plain": [
       "<Figure size 900x300 with 1 Axes>"
      ]
     },
     "metadata": {},
     "output_type": "display_data"
    }
   ],
   "source": [
    "visualization_datetime(sort_daymonth, 'day_month', 'Числа месяца.')"
   ]
  },
  {
   "cell_type": "code",
   "execution_count": 32,
   "id": "7ad740d5",
   "metadata": {},
   "outputs": [
    {
     "data": {
      "image/png": "[encoded data removed]",
      "text/plain": [
       "<Figure size 900x300 with 1 Axes>"
      ]
     },
     "metadata": {},
     "output_type": "display_data"
    }
   ],
   "source": [
    "months = ['Янв', 'Фев', 'Март', 'Апр', 'Май', 'Июнь', \n",
    "          'Июль','Авг', 'Сен',  'Окт', 'Нояб', 'Дек']\n",
    "visualization_datetime(sort_month, months, 'Месяц.')"
   ]
  },
  {
   "cell_type": "markdown",
   "id": "bea4eaac",
   "metadata": {},
   "source": [
    "**Промежуточные выводы**:\n",
    "* Минимальное количество заказов такси приходится на ночные часы, и максимальное на дневные.\n",
    "* Количество заказов растет с началом недели до пятницы. В выходние дни такси пользуются реже.\n",
    "* По дням недели количество заказов довольно ровное. Отметим, что 31 день только примерно в каждом втором месяце.\n",
    "* Зимой люди реже пользуются такси."
   ]
  },
  {
   "cell_type": "markdown",
   "id": "a2b4b060",
   "metadata": {},
   "source": [
    "## 3.2. Распределение заказов такси по районам г. Чикаго."
   ]
  },
  {
   "cell_type": "code",
   "execution_count": 33,
   "id": "37cda0b2",
   "metadata": {},
   "outputs": [
    {
     "data": {
      "image/png": "[encoded data removed]",
      "text/plain": [
       "<Figure size 900x300 with 1 Axes>"
      ]
     },
     "metadata": {},
     "output_type": "display_data"
    }
   ],
   "source": [
    "sort_area = data_hours.groupby('area').count().sort('area').toPandas()\n",
    "\n",
    "plt.figure(figsize=(9, 3))\n",
    "sns.barplot(data = sort_area, x = 'area', y = 'count')\n",
    "plt.xlabel(f'Номер района г. Чикаго (1 ... {NUMBER_CHICAGO_AREAS}).', \n",
    "           color = 'blue', size = 10)\n",
    "plt.ylabel('Количество заказов такси.', color='blue', size = 10)\n",
    "plt.title('Распределение количества заказов такси.',\n",
    "          color='red', size = 12)\n",
    "plt.xticks([]);\n",
    "\n",
    "del sort_area"
   ]
  },
  {
   "cell_type": "markdown",
   "id": "495877f2",
   "metadata": {},
   "source": [
    "**Промежуточные выводы**:\n",
    "* Услугами такси пользуются во всех районах. Но неравномерно.\n",
    "* Отношение максимального количества заказов к минимальному около 10."
   ]
  },
  {
   "cell_type": "markdown",
   "id": "6a535de6",
   "metadata": {},
   "source": [
    "## 3.3. Создание временного ряда с периодом в 1 час без пропущенных значений времени."
   ]
  },
  {
   "cell_type": "code",
   "execution_count": 34,
   "id": "c371ade9",
   "metadata": {},
   "outputs": [
    {
     "data": {
      "application/vnd.jupyter.widget-view+json": {
       "model_id": "e8197a03f94443fdac800b3f432be70e",
       "version_major": 2,
       "version_minor": 0
      },
      "text/plain": [
       "  0%|          | 0/4 [00:00<?, ?it/s]"
      ]
     },
     "metadata": {},
     "output_type": "display_data"
    },
    {
     "name": "stdout",
     "output_type": "stream",
     "text": [
      "Количество часов в интервале от: '2022-01-01 00:00:00' до '2023-07-31 23:45:00' равно: 13,848\n",
      "Количество округов в г. Чикаго: 77\n",
      "Получили датасет с 1,066,296 записями.\n",
      "\n",
      "Статистика по полученному датасету:\n",
      "+-------+------------------+\n",
      "|summary|             count|\n",
      "+-------+------------------+\n",
      "|  count|           1066296|\n",
      "|   mean| 2.222165327451289|\n",
      "| stddev|17.913053074855817|\n",
      "|    min|                 0|\n",
      "|    max|               559|\n",
      "+-------+------------------+\n",
      "\n"
     ]
    }
   ],
   "source": [
    "# Чтобы видеть, что процесс выполняется, поставим tqdm:\n",
    "for step in tqdm(range(4)): \n",
    "    if step == 0:\n",
    "        # Создадим переменные типа string: \n",
    "        min_date = f\"'{date_first.strftime('%Y-%m-%d %H:%M:%S')}'\"\n",
    "        max_date = f\"'{date_last.strftime('%Y-%m-%d %H:%M:%S')}'\"\n",
    "\n",
    "        # Создадим последовательность дат с интервалом в 1 час:\n",
    "        df_1h = spark.range(1).select(\n",
    "            F.expr(f\"sequence(to_timestamp({min_date}), to_timestamp({max_date}), interval 1 hour)\").\\\n",
    "            alias(\"datetime\")).selectExpr(\"explode(datetime) as datetime\")\n",
    "        print('Количество часов в интервале от:', min_date,\n",
    "              'до', max_date, 'равно:', format_my(df_1h.count()))\n",
    "\n",
    "    if step == 1:\n",
    "        # Создадим DataFrame с уникальными номерами городских округов:\n",
    "        df_num_areas = data_hours.select('area').distinct()\n",
    "        print('Количество округов в г. Чикаго:', df_num_areas.count())\n",
    "\n",
    "    if step == 2:    \n",
    "        # Добавим столбец datetime к каждому округу:\n",
    "        df_full = df_num_areas.crossJoin(df_1h)\n",
    "        print('Получили датасет с', format_my(df_full.count()), 'записями.')\n",
    "\n",
    "    if step == 3:    \n",
    "        # присоединение агрегированных данных к полному временному ряду\n",
    "        data_hours_dec = df_full.join(data_hours, ['datetime', 'area'], 'left').\\\n",
    "                                      fillna(0, subset=['count'])\n",
    "        print('\\nСтатистика по полученному датасету:')\n",
    "        data_hours_dec.describe('count').show()\n",
    "\n",
    "        # Удалим ненужные df и освободим память:\n",
    "        del df_1h, df_num_areas, df_full"
   ]
  },
  {
   "cell_type": "markdown",
   "id": "ae6c9014",
   "metadata": {},
   "source": [
    "**Отмечаем**\n",
    "* количество записей превышает 1 млн. Так и должно быть.\n",
    "* появились введенные нами записи с нулевым количеством вызванных такси."
   ]
  },
  {
   "cell_type": "markdown",
   "id": "78e9b669",
   "metadata": {},
   "source": [
    "## 3.4. Анализ тренда и сезонности."
   ]
  },
  {
   "cell_type": "code",
   "execution_count": 35,
   "id": "5ef28026",
   "metadata": {},
   "outputs": [
    {
     "name": "stderr",
     "output_type": "stream",
     "text": [
      "D:\\Programs\\Anaconda\\envs\\ds_practicum_env\\lib\\site-packages\\pyspark\\sql\\pandas\\conversion.py:175: FutureWarning: Passing unit-less datetime64 dtype to .astype is deprecated and will raise in a future version. Pass 'datetime64[ns]' instead\n",
      "  series = series.astype(t, copy=False)\n"
     ]
    }
   ],
   "source": [
    "# Для анализа тренда и сезонности переведём данные в Pandas: \n",
    "for_decompose = (data_hours_dec.\n",
    "                 groupBy('datetime').\n",
    "                 sum('count').\n",
    "                 toPandas()\n",
    "                )\n",
    "for_decompose.index = for_decompose['datetime']\n",
    "for_decompose = for_decompose.drop('datetime', axis=1)\n",
    "for_decompose.sort_index(inplace=True)\n",
    "\n",
    "df_decompose = for_decompose.resample('1H').sum()"
   ]
  },
  {
   "cell_type": "code",
   "execution_count": 36,
   "id": "2607d5c8",
   "metadata": {},
   "outputs": [
    {
     "data": {
      "image/png": "[encoded data removed]",
      "text/plain": [
       "<Figure size 800x1200 with 4 Axes>"
      ]
     },
     "metadata": {},
     "output_type": "display_data"
    }
   ],
   "source": [
    "# Разобъём наши данные на три составляющие: тренд, сезонность и остаток\n",
    "decomposed = seasonal_decompose(df_decompose)\n",
    "\n",
    "plt.figure(figsize=(8, 12))\n",
    "\n",
    "plt.subplot(411)\n",
    "df_decompose.plot(ax=plt.gca())\n",
    "plt.title(\"Исходный временной ряд количества заказов такси.\", color = 'blue')\n",
    "plt.xlabel('Дата заказа такси.', color = 'blue')\n",
    "plt.ylabel('Кол-во заказов.', color = 'blue');\n",
    "\n",
    "plt.subplot(412)\n",
    "decomposed.trend.plot(ax=plt.gca())\n",
    "plt.title(\"Трендовая составляющая временного ряда.\", color = 'blue')\n",
    "plt.xlabel('Дата заказа такси.', color = 'blue')\n",
    "plt.ylabel('Значение тренда.', color = 'blue');\n",
    "\n",
    "plt.subplot(413)\n",
    "decomposed.seasonal.plot(ax=plt.gca())\n",
    "plt.title(\"Сезонная составляющая временного ряда.\", color = 'blue')\n",
    "plt.xlabel('Дата заказа такси.', color = 'blue')\n",
    "plt.ylabel('Значение периодическое.', color = 'blue');\n",
    "\n",
    "plt.subplot(414)\n",
    "decomposed.resid.plot(ax=plt.gca())\n",
    "plt.title(\"Остаток декомпозиции временного ряда.\", color = 'blue')\n",
    "plt.xlabel('Дата заказа такси.', color = 'blue')\n",
    "plt.ylabel('Значение остатка декомпозиции.', color = 'blue');\n",
    "\n",
    "plt.tight_layout()"
   ]
  },
  {
   "cell_type": "markdown",
   "id": "cd1df337",
   "metadata": {},
   "source": [
    "**Отмечаем**:\n",
    "* тренд к увеличению заказов такси в летние месяцы с уменьшением заказов зимой,\n",
    "* сезонность надо посмотреть более тщательно,\n",
    "* остатки необъяснимы."
   ]
  },
  {
   "cell_type": "code",
   "execution_count": 37,
   "id": "c5276e93",
   "metadata": {},
   "outputs": [
    {
     "data": {
      "image/png": "[encoded data removed]",
      "text/plain": [
       "<Figure size 800x400 with 1 Axes>"
      ]
     },
     "metadata": {},
     "output_type": "display_data"
    }
   ],
   "source": [
    "# Изучим сезонную составляющую за неделю\n",
    "decomposed.seasonal['2022-01-01':'2022-01-07'].plot(figsize=(8, 4));\n",
    "plt.title(\"Сезонная составляющая временного ряда за недельный период.\", \n",
    "          color = 'blue')\n",
    "plt.xlabel('Дата заказа такси.', color = 'blue')\n",
    "plt.ylabel('Значение периодическое.', color = 'blue');"
   ]
  },
  {
   "cell_type": "markdown",
   "id": "13471424",
   "metadata": {},
   "source": [
    "**Отмечаем** зависимость количества такси от времени суток."
   ]
  },
  {
   "cell_type": "code",
   "execution_count": 38,
   "id": "4ef3ab71",
   "metadata": {},
   "outputs": [
    {
     "data": {
      "image/png": "[encoded data removed]",
      "text/plain": [
       "<Figure size 800x400 with 1 Axes>"
      ]
     },
     "metadata": {},
     "output_type": "display_data"
    }
   ],
   "source": [
    "# Изучим сезонную составляющую за сутки\n",
    "decomposed.seasonal['2022-01-06 00:00:00':'2022-01-07 06:00:00'].plot(figsize=(8, 4));\n",
    "plt.title(\"Сезонная составляющая временного ряда за сутки.\", \n",
    "          color = 'blue')\n",
    "plt.xlabel('Дата заказа такси.', color = 'blue')\n",
    "plt.ylabel('Значение периодическое.', color = 'blue');"
   ]
  },
  {
   "cell_type": "markdown",
   "id": "170329f2",
   "metadata": {},
   "source": [
    "**Отмечаем**:\n",
    "* зависимость количества такси от времени суток,\n",
    "* минимальное количество заказов отмечается в ночное время,\n",
    "* максимальное количество заказов - в дневное время."
   ]
  },
  {
   "cell_type": "markdown",
   "id": "cbd9baf5",
   "metadata": {},
   "source": [
    "### 3.4.1.  Оценка стационарности временного ряда.\n",
    "\n",
    "`Стационарность` (stationarity) временного ряда означает, что такие компоненты как `тренд` и `сезонность` отсутствуют. Говоря более точно, среднее значение и дисперсия не меняются со смещением во времени."
   ]
  },
  {
   "cell_type": "markdown",
   "id": "f119f90c",
   "metadata": {},
   "source": [
    "#### Метод `скользящего среднего`."
   ]
  },
  {
   "cell_type": "code",
   "execution_count": 39,
   "id": "3ef529f3",
   "metadata": {},
   "outputs": [
    {
     "data": {
      "text/html": [
       "<div>\n",
       "<style scoped>\n",
       "    .dataframe tbody tr th:only-of-type {\n",
       "        vertical-align: middle;\n",
       "    }\n",
       "\n",
       "    .dataframe tbody tr th {\n",
       "        vertical-align: top;\n",
       "    }\n",
       "\n",
       "    .dataframe thead th {\n",
       "        text-align: right;\n",
       "    }\n",
       "</style>\n",
       "<table border=\"1\" class=\"dataframe\">\n",
       "  <thead>\n",
       "    <tr style=\"text-align: right;\">\n",
       "      <th></th>\n",
       "      <th>sum(count)</th>\n",
       "    </tr>\n",
       "    <tr>\n",
       "      <th>datetime</th>\n",
       "      <th></th>\n",
       "    </tr>\n",
       "  </thead>\n",
       "  <tbody>\n",
       "    <tr>\n",
       "      <th>2022-01-01 00:00:00</th>\n",
       "      <td>57</td>\n",
       "    </tr>\n",
       "    <tr>\n",
       "      <th>2022-01-01 01:00:00</th>\n",
       "      <td>15</td>\n",
       "    </tr>\n",
       "    <tr>\n",
       "      <th>2022-01-01 02:00:00</th>\n",
       "      <td>116</td>\n",
       "    </tr>\n",
       "  </tbody>\n",
       "</table>\n",
       "</div>"
      ],
      "text/plain": [
       "                     sum(count)\n",
       "datetime                       \n",
       "2022-01-01 00:00:00          57\n",
       "2022-01-01 01:00:00          15\n",
       "2022-01-01 02:00:00         116"
      ]
     },
     "execution_count": 39,
     "metadata": {},
     "output_type": "execute_result"
    }
   ],
   "source": [
    "df_decompose.head(3)"
   ]
  },
  {
   "cell_type": "code",
   "execution_count": 40,
   "id": "69cf6f7e",
   "metadata": {},
   "outputs": [
    {
     "data": {
      "image/png": "[encoded data removed]",
      "text/plain": [
       "<Figure size 800x400 with 1 Axes>"
      ]
     },
     "metadata": {},
     "output_type": "display_data"
    }
   ],
   "source": [
    "# Зададим признак для рассчитываемых тестовых значений скользящего среднего:\n",
    "\n",
    "\n",
    "df_decompose['mean'] = df_decompose.rolling(window = 24*7).mean()\n",
    "# df_decompose['mean'] = df_decompose.rolling(window = 24).mean()\n",
    "\n",
    "plt.figure(figsize = (8,4))\n",
    " \n",
    "# поочередно зададим кривые (перевозки и скользящее среднее) с подписями и цветом\n",
    "plt.plot(df_decompose['sum(count)'], label = 'Кол-во заказов такси по часам', color = 'steelblue')\n",
    "plt.plot(df_decompose['mean'], label = 'Скользящее среднее за неделю', color = 'orange')\n",
    "# plt.plot(df_decompose['mean'], label = 'Скользящее среднее за сутки', color = 'orange')\n",
    " \n",
    "# добавим легенду, ее положение на графике и размер шрифта\n",
    "plt.legend(title = 'Графики:', loc = 'upper left')\n",
    " \n",
    "# добавим подписи к осям и заголовки\n",
    "plt.xlabel('Дата заказа такси.', color = 'blue')\n",
    "plt.xticks(fontsize = 8, rotation=45)\n",
    "plt.ylabel('Кол-во заказов.', color = 'blue')\n",
    "plt.title('Заказы такси с марта по август 2018.', color = 'blue', fontsize = 12);\n",
    " \n",
    "# выведем обе кривые на одном графике\n",
    "plt.show()\n",
    "\n",
    "# Удалим тестовый признак:\n",
    "df_decompose = df_decompose.drop(columns=['mean'])"
   ]
  },
  {
   "cell_type": "markdown",
   "id": "14035fa8",
   "metadata": {},
   "source": [
    "**Отмечаем**, что визуальная оценка позволяет судить об отсутствии устойчивого тренда к увеличению количества заказов такси."
   ]
  },
  {
   "cell_type": "markdown",
   "id": "52f5cad3",
   "metadata": {},
   "source": [
    "### 3.4.2.  Тест `Дики-Фуллера` (Dickey-Fuller test).\n",
    "\n",
    "Тест заключается в том, что нужно выполнить статистическую проверку следующей гипотезы:\n",
    "* Нулевая гипотеза предполагает, что процесс нестационарный.\n",
    "* Альтернативная гипотеза соответственно говорит об обратном. \n",
    "\n",
    "Используем пороговые значения, равные 1%, 5% и 10%."
   ]
  },
  {
   "cell_type": "code",
   "execution_count": 41,
   "id": "1131d614",
   "metadata": {},
   "outputs": [
    {
     "name": "stdout",
     "output_type": "stream",
     "text": [
      "Критерий ADF: -12.415117\n",
      "P-значение: 0.000000\n",
      "Критические значения:\n",
      "\t1%: -3.431\n",
      "\t5%: -2.862\n",
      "\t10%: -2.567\n",
      "Нулевая гипотеза отвергнута – Временной ряд стационарен\n"
     ]
    }
   ],
   "source": [
    "# Передадим функции 'adfuller' данные о количестве заказо такси и\n",
    "# сохраним результат в переменной adf_test:\n",
    "adf_test = adfuller(df_decompose['sum(count)'])  \n",
    "    \n",
    "print('Критерий ADF: %f' % adf_test[0])    \n",
    "    \n",
    "# выведем значение p-value:\n",
    "print('P-значение: %f' % adf_test[1])  \n",
    "\n",
    "print('Критические значения:')\n",
    "for key, value in adf_test[4].items():\n",
    "    print('\\t%s: %.3f' % (key, value))\n",
    "\n",
    "if adf_test[0] < adf_test[4][\"1%\"]:\n",
    "    print (\"Нулевая гипотеза отвергнута – Временной ряд стационарен\")\n",
    "else:\n",
    "    print (\"Нулевая гипотеза не отвергнута – Временной ряд не стационарен\") "
   ]
  },
  {
   "cell_type": "markdown",
   "id": "d7d7c6a1",
   "metadata": {},
   "source": [
    "**Промежуточные выводы** по разделу *Анализ тренда и сезонности*:\n",
    "1. `Тренд` к увеличению заказов такси в летние месяцы с уменьшением заказов зимой.\n",
    "2. `Сезонность` - зависимость количества заказов такси от времени суток, с максимумом в дневное время и минимумом ночью. Отмечаем максимальный перепад за 6 часов.  \n",
    "3. Установлена `стационарность` временного ряда. Визуальная оценка **совпала** с математическими вычислениями теста Дики-Фуллера."
   ]
  },
  {
   "cell_type": "code",
   "execution_count": 42,
   "id": "4227ceb9",
   "metadata": {},
   "outputs": [],
   "source": [
    "# Удалим ненужные df и освободим память:\n",
    "del for_decompose, df_decompose, decomposed, data_hours_dec"
   ]
  },
  {
   "cell_type": "markdown",
   "id": "844d4140",
   "metadata": {},
   "source": [
    "## 3.5. Введём новые признаки."
   ]
  },
  {
   "cell_type": "markdown",
   "id": "8d664f71",
   "metadata": {},
   "source": [
    "### 3.5.1. Временные признаки."
   ]
  },
  {
   "cell_type": "code",
   "execution_count": 43,
   "id": "1ec3da2d",
   "metadata": {},
   "outputs": [
    {
     "data": {
      "application/vnd.jupyter.widget-view+json": {
       "model_id": "9ffc64678eed47abb38bd1bd919d8ffc",
       "version_major": 2,
       "version_minor": 0
      },
      "text/plain": [
       "  0%|          | 0/1 [00:00<?, ?it/s]"
      ]
     },
     "metadata": {},
     "output_type": "display_data"
    }
   ],
   "source": [
    "for _ in tqdm(range(1)): # Чтобы видеть, что процесс выполняется\n",
    "    data_hours = data_hours.withColumn('hour', F.hour('datetime'))\n",
    "    data_hours = data_hours.withColumn('day_week', F.dayofweek('datetime'))\n",
    "    data_hours = data_hours.withColumn('day_month', F.dayofmonth('datetime'))\n",
    "    data_hours = data_hours.withColumn('month', F.month('datetime'))\n",
    "    \n",
    "    sort_hour = data_hours.groupby('hour').count().sort('hour').toPandas()\n",
    "    sort_dayweek = data_hours.groupby('day_week').count().sort('day_week').toPandas()\n",
    "    sort_daymonth = data_hours.groupby('day_month').count().sort('day_month').toPandas()\n",
    "    sort_month = data_hours.groupby('month').count().sort('month').toPandas()"
   ]
  },
  {
   "cell_type": "code",
   "execution_count": 44,
   "id": "b40d80c2",
   "metadata": {},
   "outputs": [
    {
     "name": "stdout",
     "output_type": "stream",
     "text": [
      "+-------------------+----+-----+----+--------+---------+-----+\n",
      "|           datetime|area|count|hour|day_week|day_month|month|\n",
      "+-------------------+----+-----+----+--------+---------+-----+\n",
      "|2022-01-01 04:00:00|  14|    2|   4|       7|        1|    1|\n",
      "|2022-01-01 05:00:00|  22|    3|   5|       7|        1|    1|\n",
      "+-------------------+----+-----+----+--------+---------+-----+\n",
      "only showing top 2 rows\n",
      "\n"
     ]
    },
    {
     "data": {
      "text/html": [
       "<div>\n",
       "<style scoped>\n",
       "    .dataframe tbody tr th:only-of-type {\n",
       "        vertical-align: middle;\n",
       "    }\n",
       "\n",
       "    .dataframe tbody tr th {\n",
       "        vertical-align: top;\n",
       "    }\n",
       "\n",
       "    .dataframe thead th {\n",
       "        text-align: right;\n",
       "    }\n",
       "</style>\n",
       "<table border=\"1\" class=\"dataframe\">\n",
       "  <thead>\n",
       "    <tr style=\"text-align: right;\">\n",
       "      <th></th>\n",
       "      <th>datetime</th>\n",
       "      <th>area</th>\n",
       "      <th>count</th>\n",
       "      <th>hour</th>\n",
       "      <th>day_week</th>\n",
       "      <th>day_month</th>\n",
       "      <th>month</th>\n",
       "    </tr>\n",
       "  </thead>\n",
       "  <tbody>\n",
       "    <tr>\n",
       "      <th>0</th>\n",
       "      <td>0</td>\n",
       "      <td>0</td>\n",
       "      <td>0</td>\n",
       "      <td>0</td>\n",
       "      <td>0</td>\n",
       "      <td>0</td>\n",
       "      <td>0</td>\n",
       "    </tr>\n",
       "  </tbody>\n",
       "</table>\n",
       "</div>"
      ],
      "text/plain": [
       "   datetime  area  count  hour  day_week  day_month  month\n",
       "0         0     0      0     0         0          0      0"
      ]
     },
     "execution_count": 44,
     "metadata": {},
     "output_type": "execute_result"
    }
   ],
   "source": [
    "# Посмотрим наш дата сет\n",
    "data_hours.show(2)\n",
    "\n",
    "# Проверим датасет на наличие пропусков:\n",
    "nacounts = (data_hours.\n",
    "            select([count(when(isnull(c), c)).alias(c)\n",
    "                    for c in data_hours.columns]).\n",
    "            toPandas()\n",
    "           )\n",
    "nacounts"
   ]
  },
  {
   "cell_type": "markdown",
   "id": "2492cb5a",
   "metadata": {},
   "source": [
    "**Отмечаем**, что пропусков в датасете нет."
   ]
  },
  {
   "cell_type": "markdown",
   "id": "c19c4e09",
   "metadata": {},
   "source": [
    "### 3.5.2.  Лаги(отставания)."
   ]
  },
  {
   "cell_type": "code",
   "execution_count": 45,
   "id": "fa99852e",
   "metadata": {},
   "outputs": [],
   "source": [
    "# окно для разбиения по городским округам и упорядочивания по времени\n",
    "windowSpec = Window.partitionBy(\"area\").orderBy(\"datetime\")\n",
    "\n",
    "for lag in range(1, 25):\n",
    "    data_hours = data_hours.\\\n",
    "                 withColumn('lag_{}h'.format(lag), F.lag('count', lag).\\\n",
    "                 over(windowSpec))\n",
    "\n",
    "data_hours = data_hours.\\\n",
    "             withColumn(\"lag_1w\", F.lag(\"count\", 24*7).\\\n",
    "             over(windowSpec))"
   ]
  },
  {
   "cell_type": "markdown",
   "id": "f5bcdfdf",
   "metadata": {},
   "source": [
    "**Отмечаем**, что лаги созданы корректно."
   ]
  },
  {
   "cell_type": "markdown",
   "id": "dc56b70b",
   "metadata": {},
   "source": [
    "### 3.5.3.  Скользящее среднее."
   ]
  },
  {
   "cell_type": "code",
   "execution_count": 46,
   "id": "9928cc4b",
   "metadata": {},
   "outputs": [],
   "source": [
    "# В расчет скользящего среднего включаем только значения за предыдущие отрезки времени\n",
    "window_6h = Window.partitionBy(\"area\").orderBy(F.col(\"datetime\")).rowsBetween(-7, -1)\n",
    "window_12h = Window.partitionBy(\"area\").orderBy(F.col(\"datetime\")).rowsBetween(-13, -1)\n",
    "window_24h = Window.partitionBy(\"area\").orderBy(F.col(\"datetime\")).rowsBetween(-25, -1)\n",
    "\n",
    "data_hours = data_hours.withColumn(\"rol_6h\", F.avg(\"count\").over(window_6h)) \\\n",
    "                       .withColumn(\"rol_12h\", F.avg(\"count\").over(window_12h)) \\\n",
    "                       .withColumn(\"rol_1d\", F.avg(\"count\").over(window_24h)) \\\n",
    "                       .dropna()"
   ]
  },
  {
   "cell_type": "markdown",
   "id": "644ea971",
   "metadata": {},
   "source": [
    "**Отмечаем**, что 'скользящее среднее' создано."
   ]
  },
  {
   "cell_type": "markdown",
   "id": "29bd1e2f",
   "metadata": {},
   "source": [
    "### 3.5.4.  Тригонометрическая форма."
   ]
  },
  {
   "cell_type": "code",
   "execution_count": 47,
   "id": "e474d1d1",
   "metadata": {},
   "outputs": [],
   "source": [
    "# Введём тригонометрические преобразования для временных признаков.\n",
    "data_hours = (data_hours\n",
    "   .withColumn(\"day_sin\", F.sin(F.radians(data_hours[\"hour\"] * (360 / 24))))\n",
    "   .withColumn(\"day_cos\", F.cos(F.radians(data_hours[\"hour\"] * (360 / 24))))\n",
    "   .withColumn(\"week_sin\", F.sin(F.radians(data_hours[\"day_week\"] * (360 / 7))))\n",
    "   .withColumn(\"week_cos\", F.cos(F.radians(data_hours[\"day_week\"] * (360 / 7))))\n",
    "   .withColumn(\"month_sin\", F.sin(F.radians(data_hours[\"day_month\"] * (360 / 30))))\n",
    "   .withColumn(\"month_cos\", F.cos(F.radians(data_hours[\"day_month\"] * (360 / 30))))\n",
    "   .withColumn(\"year_sin\", F.sin(F.radians(data_hours[\"month\"] * (360 / 365))))\n",
    "   .withColumn(\"year_cos\", F.cos(F.radians(data_hours[\"month\"] * (360 / 365))))\n",
    "    )"
   ]
  },
  {
   "cell_type": "markdown",
   "id": "247e4399",
   "metadata": {},
   "source": [
    "**Отмечаем**, что признаки в 'тригонометрической форме' созданы."
   ]
  },
  {
   "cell_type": "code",
   "execution_count": 48,
   "id": "628c8ecc",
   "metadata": {},
   "outputs": [
    {
     "data": {
      "text/plain": [
       "DataFrame[datetime: timestamp, area: int, count: bigint, hour: int, day_week: int, day_month: int, month: int, lag_1h: bigint, lag_2h: bigint, lag_3h: bigint, lag_4h: bigint, lag_5h: bigint, lag_6h: bigint, lag_7h: bigint, lag_8h: bigint, lag_9h: bigint, lag_10h: bigint, lag_11h: bigint, lag_12h: bigint, lag_13h: bigint, lag_14h: bigint, lag_15h: bigint, lag_16h: bigint, lag_17h: bigint, lag_18h: bigint, lag_19h: bigint, lag_20h: bigint, lag_21h: bigint, lag_22h: bigint, lag_23h: bigint, lag_24h: bigint, lag_1w: bigint, rol_6h: double, rol_12h: double, rol_1d: double, day_sin: double, day_cos: double, week_sin: double, week_cos: double, month_sin: double, month_cos: double, year_sin: double, year_cos: double]"
      ]
     },
     "execution_count": 48,
     "metadata": {},
     "output_type": "execute_result"
    }
   ],
   "source": [
    "data_hours"
   ]
  },
  {
   "cell_type": "code",
   "execution_count": 68,
   "id": "5836eac0",
   "metadata": {},
   "outputs": [],
   "source": [
    "# from pyspark.ml.feature import OneHotEncoder\n",
    "\n",
    "# features_input = ['hour', 'day_week', 'day_month', 'month']\n",
    "# features_output= ['hour_ohe', 'day_week_ohe', 'day_month_ohe', 'month_ohe']\n",
    "\n",
    "# encoder = OneHotEncoder(inputCols = features_input, outputCols= features_output)\n",
    "# # encoder = OneHotEncoder(inputCols = features_input, outputCol= 'features_ohe')\n",
    "\n",
    "# model = encoder.fit(data_hours)\n",
    "# data_hours = model.transform(data_hours)\n",
    "\n",
    "# # Удалим ненужные features:\n",
    "# data_hours = data_hours.drop(*features_input)\n",
    "\n",
    "# # data_hours = encoder.fit(data_hours).transform(data_hours)\n",
    "# data_hours"
   ]
  },
  {
   "cell_type": "markdown",
   "id": "876d6622",
   "metadata": {},
   "source": [
    "# 4. Построение моделей."
   ]
  },
  {
   "cell_type": "markdown",
   "id": "e38090cc",
   "metadata": {},
   "source": [
    "Алгоритмы Machine Learning в PySpark принимают на вход только вектора, поэтому нам необходимо предварительно векторизовать данные"
   ]
  },
  {
   "cell_type": "code",
   "execution_count": null,
   "id": "3d480ab0",
   "metadata": {},
   "outputs": [],
   "source": [
    "# Сохранение подготовленного датасета.\n",
    "data_hours.toPandas().to_csv('data_hours.csv', index=False, sep=',') "
   ]
  },
  {
   "cell_type": "code",
   "execution_count": 57,
   "id": "fd1ebe09",
   "metadata": {},
   "outputs": [
    {
     "data": {
      "application/vnd.jupyter.widget-view+json": {
       "model_id": "d5ef1c1c4cbd48a6bbc334a85bd93d49",
       "version_major": 2,
       "version_minor": 0
      },
      "text/plain": [
       "  0%|          | 0/1 [00:00<?, ?it/s]"
      ]
     },
     "metadata": {},
     "output_type": "display_data"
    },
    {
     "name": "stdout",
     "output_type": "stream",
     "text": [
      "Dataset data_hours.csv is loaded successfully.\n",
      "Количество записей в data_hours.csv: 593,121\n",
      "\n"
     ]
    }
   ],
   "source": [
    "# Загрузка подготовленного датасета.\n",
    "data_hours = load_dataset('data_hours.csv')\n",
    "\n",
    "# NUMBER_CHICAGO_AREAS = 2 # 11111"
   ]
  },
  {
   "cell_type": "markdown",
   "id": "f198cbec",
   "metadata": {},
   "source": [
    "## 4.1. Выделим  `features`."
   ]
  },
  {
   "cell_type": "code",
   "execution_count": 58,
   "id": "446692a6",
   "metadata": {},
   "outputs": [
    {
     "data": {
      "text/plain": [
       "DataFrame[datetime: timestamp, area: int, count: int, hour: int, day_week: int, day_month: int, month: int, lag_1h: int, lag_2h: int, lag_3h: int, lag_4h: int, lag_5h: int, lag_6h: int, lag_7h: int, lag_8h: int, lag_9h: int, lag_10h: int, lag_11h: int, lag_12h: int, lag_13h: int, lag_14h: int, lag_15h: int, lag_16h: int, lag_17h: int, lag_18h: int, lag_19h: int, lag_20h: int, lag_21h: int, lag_22h: int, lag_23h: int, lag_24h: int, lag_1w: int, rol_6h: double, rol_12h: double, rol_1d: double, day_sin: double, day_cos: double, week_sin: double, week_cos: double, month_sin: double, month_cos: double, year_sin: double, year_cos: double]"
      ]
     },
     "execution_count": 58,
     "metadata": {},
     "output_type": "execute_result"
    }
   ],
   "source": [
    "# Посмотрим типы данных датафрейма:\n",
    "data_hours"
   ]
  },
  {
   "cell_type": "code",
   "execution_count": 59,
   "id": "bb8b8745",
   "metadata": {},
   "outputs": [],
   "source": [
    "# from pyspark.ml.feature import MaxAbsScaler\n",
    "# from pyspark.ml.feature import StandardScaler\n",
    "\n",
    "# target = 'count' \n",
    "features = data_hours.columns[3:] # Исключим 'datetime', 'area', 'count'\n",
    "\n",
    "# Преобразуем обучающие признаки в вектор:\n",
    "assembler = VectorAssembler(inputCols=features, outputCol=\"features\") \n",
    "data_hours = assembler.transform(data_hours)\n",
    "\n",
    "# # Приведем вектор с обучающими признаками к диапазону [-1,1] (\"scaled_features\")\n",
    "# # путем деления на максимальное абсолютное значение каждого атрибута:\n",
    "# scaler = MaxAbsScaler(inputCol=\"features\", outputCol=\"mas_scaled_features\")\n",
    "# scalerModel = scaler.fit(data_hours)\n",
    "# data_hours = scalerModel.transform(data_hours)\n",
    "\n",
    "# scaler2 = StandardScaler(inputCol=\"features\", outputCol=\"st_scaled_features\",\n",
    "#                         withStd=True, withMean=True)\n",
    "# scalerModel2 = scaler2.fit(data_hours)\n",
    "# data_hours = scalerModel2.transform(data_hours)"
   ]
  },
  {
   "cell_type": "markdown",
   "id": "4a2df4fe",
   "metadata": {},
   "source": [
    "## 4.2. Деление данных на выборки."
   ]
  },
  {
   "cell_type": "code",
   "execution_count": 60,
   "id": "19590d23",
   "metadata": {},
   "outputs": [
    {
     "data": {
      "application/vnd.jupyter.widget-view+json": {
       "model_id": "f4c737d792c54b868baf39059dc209be",
       "version_major": 2,
       "version_minor": 0
      },
      "text/plain": [
       "  0%|          | 0/10 [00:00<?, ?it/s]"
      ]
     },
     "metadata": {},
     "output_type": "display_data"
    },
    {
     "name": "stdout",
     "output_type": "stream",
     "text": [
      "Для расчёта заказов на следующей неделе используются заказы такси с 2023-07-25 00:00:00 и до 2023-07-31 23:00:00 продолжительностью 6 дней.\n",
      "\n",
      "Обучение моделей проводится по заказам такси с 2022-01-08 00:00:00 и до 2023-05-29 21:00:00 продолжительностью 506 дня.\n",
      "Валидация моделей проводится по заказам такси с 2023-05-29 22:00:00 и до 2023-07-24 23:00:00 продолжительностью 56 дня.\n",
      "\n",
      "Выборки созданы корректно, потерь нет.\n",
      "Размер df_train: 527,266 записей на 44 признаков.\n",
      "Размер df_valid: 58,578 записей на 44 признаков.\n",
      "Размер  df_test: 7,277 записей на 44 признаков.\n",
      "\n",
      "Список признаков: ['datetime', 'area', 'count', 'hour', 'day_week', 'day_month', 'month', 'lag_1h', 'lag_2h', 'lag_3h', 'lag_4h', 'lag_5h', 'lag_6h', 'lag_7h', 'lag_8h', 'lag_9h', 'lag_10h', 'lag_11h', 'lag_12h', 'lag_13h', 'lag_14h', 'lag_15h', 'lag_16h', 'lag_17h', 'lag_18h', 'lag_19h', 'lag_20h', 'lag_21h', 'lag_22h', 'lag_23h', 'lag_24h', 'lag_1w', 'rol_6h', 'rol_12h', 'rol_1d', 'day_sin', 'day_cos', 'week_sin', 'week_cos', 'month_sin', 'month_cos', 'year_sin', 'year_cos', 'features']\n"
     ]
    }
   ],
   "source": [
    "# Чтобы видеть, что процесс выполняется, поставим tqdm:\n",
    "for step in tqdm(range(10)): \n",
    "    if step == 0: # Выделим тестовую часть (и для расчёта на неделю)\n",
    "        last_week = data_hours.filter(F.col(\"datetime\") >= F.lit('2023-07-25'))\n",
    "    \n",
    "        date_test_first = last_week.select(F.min('datetime')).first()[0]\n",
    "        date_test_last = last_week.select(F.max('datetime')).first()[0]\n",
    "        \n",
    "        print('Для расчёта заказов на следующей неделе используются',\n",
    "              'заказы такси с', date_test_first, 'и до', \n",
    "              date_test_last, 'продолжительностью', \n",
    "              \"{} дней.\".format((date_test_last - date_test_first).days)) \n",
    "        \n",
    "    if step == 1: # Выделим оставшуюся, после выделения test части\n",
    "        data_hours =(data_hours.\n",
    "                     filter( (F.col(\"datetime\") < F.lit('2023-07-25')) &\n",
    "                           (F.col(\"datetime\") >= F.lit('2022-01-01')))\n",
    "                    ) \n",
    "        \n",
    "    if step == 2: # Выделим train и valid\n",
    "        data_hours = data_hours.withColumn('rank', \n",
    "                     F.percent_rank().over(Window.orderBy('datetime')))\n",
    "        train = data_hours.where('rank <= .9').drop('rank')\n",
    "        valid = data_hours.where('rank > .9').drop('rank')\n",
    "\n",
    "    if step == 3: # Информация по периоду времени для train выборки\n",
    "        date_first = train.select(F.min('datetime')).first()[0]\n",
    "        date_last = train.select(F.max('datetime')).first()[0]\n",
    "        print('\\nОбучение моделей проводится по заказам такси с', \n",
    "              date_first, 'и до', date_last, 'продолжительностью', \n",
    "              \"{} дня.\".format((date_last - date_first).days))   \n",
    "    \n",
    "    if step == 4: # Информация по периоду времени для valid выборки\n",
    "        date_first = valid.select(F.min('datetime')).first()[0]\n",
    "        date_last = valid.select(F.max('datetime')).first()[0]\n",
    "        print('Валидация моделей проводится по заказам такси с', \n",
    "              date_first, 'и до', date_last, 'продолжительностью', \n",
    "              \"{} дня.\".format((date_last - date_first).days))     \n",
    "        \n",
    "    if step == 5: # Проверка на потери данных\n",
    "        if train.count() + valid.count() == data_hours.count():\n",
    "            print('\\nВыборки созданы корректно, потерь нет.')\n",
    "        else: \n",
    "            print('\\nВыборки имеют потери!')\n",
    "            print('Исходное количество записей:', data_hours.count())\n",
    "            print('Количество записей после разбиения на выборки:', \n",
    "                  train.count() + valid.count())\n",
    "            \n",
    "    if step == 6: # Информация по train выборке\n",
    "        print('Размер df_train:', format_my(train.count()), \n",
    "              'записей на', len(train.columns), 'признаков.')\n",
    "        \n",
    "    if step == 7: # Информация по valid выборке  \n",
    "        print('Размер df_valid:', format_my(valid.count()),\n",
    "              'записей на', len(valid.columns), 'признаков.')\n",
    "        \n",
    "    if step == 8: # Информация по test/last_week выборке \n",
    "        print('Размер  df_test:', format_my(last_week.count()),\n",
    "              'записей на', len(last_week.columns), 'признаков.')\n",
    "        \n",
    "    if step == 9: # Информация по собранным признакам\n",
    "        print('\\nСписок признаков:', train.columns)\n",
    "\n",
    "# Удалим ненужный датасет, высвободив память:       \n",
    "del data_hours\n",
    "\n",
    "df_train, df_valid, df_last_week = [], [], []\n",
    "for i in range(1, NUMBER_CHICAGO_AREAS+1):\n",
    "    df_train.append(train.filter(train.area==i))\n",
    "    df_valid.append(valid.filter(valid.area==i))\n",
    "    df_last_week.append(last_week.filter(last_week.area==i))   "
   ]
  },
  {
   "cell_type": "markdown",
   "id": "c2337377",
   "metadata": {},
   "source": [
    "## 4.3. Функция для построения модели и расчёта метрик.    "
   ]
  },
  {
   "cell_type": "code",
   "execution_count": 61,
   "id": "4da23c42",
   "metadata": {},
   "outputs": [],
   "source": [
    "df_scores = pd.DataFrame() \n",
    "\n",
    "list_columns = df_valid[0] # Сохраним сптсок обучающих признаков\n",
    "\n",
    "\n",
    "def calc_model(model):\n",
    "    '''\n",
    "    Функция для построения модели и расчёта метрик.\n",
    "    '''\n",
    "    score_mae = {}\n",
    "\n",
    "    for area in tqdm(range(NUMBER_CHICAGO_AREAS)):\n",
    "        \n",
    "        model_my = model.fit(df_train[area])            \n",
    "        predictions = model_my.transform(df_valid[area])\n",
    "        evaluator = RegressionEvaluator(predictionCol='prediction', \n",
    "                                        labelCol='count', metricName='mae')\n",
    "        score_mae[area] = evaluator.evaluate(predictions)                \n",
    "        \n",
    "    df_scores[model.__class__.__name__] = pd.Series(score_mae).describe()\n",
    "    print(model.__class__.__name__, ': MAE =',\n",
    "          df_scores[model.__class__.__name__]['mean'])"
   ]
  },
  {
   "cell_type": "markdown",
   "id": "21b8a5e5",
   "metadata": {},
   "source": [
    "## 4.4. Модели регрессии для PySpark."
   ]
  },
  {
   "cell_type": "code",
   "execution_count": 62,
   "id": "6d5813bd",
   "metadata": {},
   "outputs": [
    {
     "data": {
      "application/vnd.jupyter.widget-view+json": {
       "model_id": "a72f49757338408b8d4ba150c45b7cde",
       "version_major": 2,
       "version_minor": 0
      },
      "text/plain": [
       "  0%|          | 0/77 [00:00<?, ?it/s]"
      ]
     },
     "metadata": {},
     "output_type": "display_data"
    },
    {
     "name": "stdout",
     "output_type": "stream",
     "text": [
      "LinearRegression : MAE = 2.276254201781508\n"
     ]
    },
    {
     "data": {
      "application/vnd.jupyter.widget-view+json": {
       "model_id": "18febc1abe654b42839f065fb0525963",
       "version_major": 2,
       "version_minor": 0
      },
      "text/plain": [
       "  0%|          | 0/77 [00:00<?, ?it/s]"
      ]
     },
     "metadata": {},
     "output_type": "display_data"
    },
    {
     "name": "stdout",
     "output_type": "stream",
     "text": [
      "DecisionTreeRegressor : MAE = 2.3083584664803474\n"
     ]
    },
    {
     "data": {
      "application/vnd.jupyter.widget-view+json": {
       "model_id": "0f3f673f2bb842c8a6f2cb1deb4d5b57",
       "version_major": 2,
       "version_minor": 0
      },
      "text/plain": [
       "  0%|          | 0/77 [00:00<?, ?it/s]"
      ]
     },
     "metadata": {},
     "output_type": "display_data"
    },
    {
     "name": "stdout",
     "output_type": "stream",
     "text": [
      "RandomForestRegressor : MAE = 2.2323142538234726\n"
     ]
    },
    {
     "data": {
      "application/vnd.jupyter.widget-view+json": {
       "model_id": "686cdf25af9c4ed299430a6160589133",
       "version_major": 2,
       "version_minor": 0
      },
      "text/plain": [
       "  0%|          | 0/77 [00:00<?, ?it/s]"
      ]
     },
     "metadata": {},
     "output_type": "display_data"
    },
    {
     "name": "stdout",
     "output_type": "stream",
     "text": [
      "GBTRegressor : MAE = 2.1009568855465246\n",
      "\n",
      "Статистика значений MAE по всем моделям:\n"
     ]
    },
    {
     "data": {
      "text/html": [
       "<div>\n",
       "<style scoped>\n",
       "    .dataframe tbody tr th:only-of-type {\n",
       "        vertical-align: middle;\n",
       "    }\n",
       "\n",
       "    .dataframe tbody tr th {\n",
       "        vertical-align: top;\n",
       "    }\n",
       "\n",
       "    .dataframe thead th {\n",
       "        text-align: right;\n",
       "    }\n",
       "</style>\n",
       "<table border=\"1\" class=\"dataframe\">\n",
       "  <thead>\n",
       "    <tr style=\"text-align: right;\">\n",
       "      <th></th>\n",
       "      <th>LinearRegression</th>\n",
       "      <th>DecisionTreeRegressor</th>\n",
       "      <th>RandomForestRegressor</th>\n",
       "      <th>GBTRegressor</th>\n",
       "    </tr>\n",
       "  </thead>\n",
       "  <tbody>\n",
       "    <tr>\n",
       "      <th>count</th>\n",
       "      <td>77.00</td>\n",
       "      <td>77.00</td>\n",
       "      <td>77.00</td>\n",
       "      <td>77.00</td>\n",
       "    </tr>\n",
       "    <tr>\n",
       "      <th>mean</th>\n",
       "      <td>2.28</td>\n",
       "      <td>2.31</td>\n",
       "      <td>2.23</td>\n",
       "      <td>2.10</td>\n",
       "    </tr>\n",
       "    <tr>\n",
       "      <th>std</th>\n",
       "      <td>4.55</td>\n",
       "      <td>5.00</td>\n",
       "      <td>4.72</td>\n",
       "      <td>4.24</td>\n",
       "    </tr>\n",
       "    <tr>\n",
       "      <th>min</th>\n",
       "      <td>0.15</td>\n",
       "      <td>0.11</td>\n",
       "      <td>0.13</td>\n",
       "      <td>0.13</td>\n",
       "    </tr>\n",
       "    <tr>\n",
       "      <th>25%</th>\n",
       "      <td>0.62</td>\n",
       "      <td>0.56</td>\n",
       "      <td>0.56</td>\n",
       "      <td>0.56</td>\n",
       "    </tr>\n",
       "    <tr>\n",
       "      <th>50%</th>\n",
       "      <td>0.86</td>\n",
       "      <td>0.82</td>\n",
       "      <td>0.82</td>\n",
       "      <td>0.81</td>\n",
       "    </tr>\n",
       "    <tr>\n",
       "      <th>75%</th>\n",
       "      <td>1.65</td>\n",
       "      <td>1.55</td>\n",
       "      <td>1.56</td>\n",
       "      <td>1.51</td>\n",
       "    </tr>\n",
       "    <tr>\n",
       "      <th>max</th>\n",
       "      <td>27.29</td>\n",
       "      <td>30.30</td>\n",
       "      <td>28.83</td>\n",
       "      <td>25.61</td>\n",
       "    </tr>\n",
       "  </tbody>\n",
       "</table>\n",
       "</div>"
      ],
      "text/plain": [
       "       LinearRegression  DecisionTreeRegressor  RandomForestRegressor  \\\n",
       "count             77.00                  77.00                  77.00   \n",
       "mean               2.28                   2.31                   2.23   \n",
       "std                4.55                   5.00                   4.72   \n",
       "min                0.15                   0.11                   0.13   \n",
       "25%                0.62                   0.56                   0.56   \n",
       "50%                0.86                   0.82                   0.82   \n",
       "75%                1.65                   1.55                   1.56   \n",
       "max               27.29                  30.30                  28.83   \n",
       "\n",
       "       GBTRegressor  \n",
       "count         77.00  \n",
       "mean           2.10  \n",
       "std            4.24  \n",
       "min            0.13  \n",
       "25%            0.56  \n",
       "50%            0.81  \n",
       "75%            1.51  \n",
       "max           25.61  "
      ]
     },
     "metadata": {},
     "output_type": "display_data"
    }
   ],
   "source": [
    "list_models = [\n",
    "               LinearRegression(\n",
    "                   featuresCol='features', labelCol='count', \n",
    "                   regParam=0.3, elasticNetParam=0.8),\n",
    "               DecisionTreeRegressor(\n",
    "                   featuresCol='features', labelCol='count'),\n",
    "               RandomForestRegressor(\n",
    "                   featuresCol='features', labelCol='count'),\n",
    "               GBTRegressor(\n",
    "                   featuresCol='features', labelCol='count'),    \n",
    "               ]\n",
    "    \n",
    "for mod in list_models:\n",
    "    calc_model(mod)   \n",
    "\n",
    "print('\\nСтатистика значений MAE по всем моделям:')    \n",
    "display(df_scores)"
   ]
  },
  {
   "cell_type": "code",
   "execution_count": 63,
   "id": "338a039f",
   "metadata": {},
   "outputs": [
    {
     "name": "stdout",
     "output_type": "stream",
     "text": [
      "Наилучшее значение МАЕ у модели GBTRegressor и оно равно 2.1009568855465246\n"
     ]
    }
   ],
   "source": [
    "# Найдём индекс модели с min значением MAE:\n",
    "minvalue_index = df_scores.loc['mean'].idxmin()\n",
    "minvalue = df_scores.loc['mean'].min()\n",
    "\n",
    "# Найдём порядковый номер лучшей модели в списке моделей:\n",
    "num = 0\n",
    "for mod in list_models:\n",
    "    if minvalue_index == mod.__class__.__name__:\n",
    "        break\n",
    "    num += 1    \n",
    "    \n",
    "print('Наилучшее значение МАЕ у модели', mod.__class__.__name__,\n",
    "      'и оно равно', minvalue)"
   ]
  },
  {
   "cell_type": "markdown",
   "id": "08a4a83f",
   "metadata": {},
   "source": [
    "**Промежуточные выводы**:\n",
    "1. Построены модели машинного обучения.\n",
    "2. Рассчитаны значения MAE по валидационной выборке каждой из моделей.\n",
    "3. Наилучшее значение МАЕ для модели `GBTRegressor`."
   ]
  },
  {
   "cell_type": "markdown",
   "id": "f9cc7d65",
   "metadata": {},
   "source": [
    "# 5. Построение прогноза на следующую неделю"
   ]
  },
  {
   "cell_type": "markdown",
   "id": "49a2fd6b",
   "metadata": {},
   "source": [
    "## 5.1. Расчёт количества заказов такси на следующую неделю:"
   ]
  },
  {
   "cell_type": "code",
   "execution_count": 64,
   "id": "3d128710",
   "metadata": {},
   "outputs": [
    {
     "name": "stdout",
     "output_type": "stream",
     "text": [
      "Количество часов в интервале от: '2023-07-25 00:00:00' до '2023-07-31 23:00:00' равно: 168\n"
     ]
    },
    {
     "data": {
      "application/vnd.jupyter.widget-view+json": {
       "model_id": "3f8869319dc34f2abf031ed8793b3b9e",
       "version_major": 2,
       "version_minor": 0
      },
      "text/plain": [
       "  0%|          | 0/77 [00:00<?, ?it/s]"
      ]
     },
     "metadata": {},
     "output_type": "display_data"
    },
    {
     "name": "stdout",
     "output_type": "stream",
     "text": [
      "Лучшая модель GBTRegressor имеет усредненное по 77 районам г. Чикаго значение MAE: 1.9549706152650603\n"
     ]
    },
    {
     "data": {
      "text/html": [
       "<div>\n",
       "<style scoped>\n",
       "    .dataframe tbody tr th:only-of-type {\n",
       "        vertical-align: middle;\n",
       "    }\n",
       "\n",
       "    .dataframe tbody tr th {\n",
       "        vertical-align: top;\n",
       "    }\n",
       "\n",
       "    .dataframe thead th {\n",
       "        text-align: right;\n",
       "    }\n",
       "</style>\n",
       "<table border=\"1\" class=\"dataframe\">\n",
       "  <thead>\n",
       "    <tr style=\"text-align: right;\">\n",
       "      <th></th>\n",
       "      <th>LinearRegression</th>\n",
       "      <th>DecisionTreeRegressor</th>\n",
       "      <th>RandomForestRegressor</th>\n",
       "      <th>GBTRegressor</th>\n",
       "      <th>Best model_GBTRegressor_TEST</th>\n",
       "    </tr>\n",
       "  </thead>\n",
       "  <tbody>\n",
       "    <tr>\n",
       "      <th>count</th>\n",
       "      <td>77.00</td>\n",
       "      <td>77.00</td>\n",
       "      <td>77.00</td>\n",
       "      <td>77.00</td>\n",
       "      <td>77.00</td>\n",
       "    </tr>\n",
       "    <tr>\n",
       "      <th>mean</th>\n",
       "      <td>2.28</td>\n",
       "      <td>2.31</td>\n",
       "      <td>2.23</td>\n",
       "      <td>2.10</td>\n",
       "      <td>1.95</td>\n",
       "    </tr>\n",
       "    <tr>\n",
       "      <th>std</th>\n",
       "      <td>4.55</td>\n",
       "      <td>5.00</td>\n",
       "      <td>4.72</td>\n",
       "      <td>4.24</td>\n",
       "      <td>3.86</td>\n",
       "    </tr>\n",
       "    <tr>\n",
       "      <th>min</th>\n",
       "      <td>0.15</td>\n",
       "      <td>0.11</td>\n",
       "      <td>0.13</td>\n",
       "      <td>0.13</td>\n",
       "      <td>0.03</td>\n",
       "    </tr>\n",
       "    <tr>\n",
       "      <th>25%</th>\n",
       "      <td>0.62</td>\n",
       "      <td>0.56</td>\n",
       "      <td>0.56</td>\n",
       "      <td>0.56</td>\n",
       "      <td>0.54</td>\n",
       "    </tr>\n",
       "    <tr>\n",
       "      <th>50%</th>\n",
       "      <td>0.86</td>\n",
       "      <td>0.82</td>\n",
       "      <td>0.82</td>\n",
       "      <td>0.81</td>\n",
       "      <td>0.88</td>\n",
       "    </tr>\n",
       "    <tr>\n",
       "      <th>75%</th>\n",
       "      <td>1.65</td>\n",
       "      <td>1.55</td>\n",
       "      <td>1.56</td>\n",
       "      <td>1.51</td>\n",
       "      <td>1.49</td>\n",
       "    </tr>\n",
       "    <tr>\n",
       "      <th>max</th>\n",
       "      <td>27.29</td>\n",
       "      <td>30.30</td>\n",
       "      <td>28.83</td>\n",
       "      <td>25.61</td>\n",
       "      <td>24.68</td>\n",
       "    </tr>\n",
       "  </tbody>\n",
       "</table>\n",
       "</div>"
      ],
      "text/plain": [
       "       LinearRegression  DecisionTreeRegressor  RandomForestRegressor  \\\n",
       "count             77.00                  77.00                  77.00   \n",
       "mean               2.28                   2.31                   2.23   \n",
       "std                4.55                   5.00                   4.72   \n",
       "min                0.15                   0.11                   0.13   \n",
       "25%                0.62                   0.56                   0.56   \n",
       "50%                0.86                   0.82                   0.82   \n",
       "75%                1.65                   1.55                   1.56   \n",
       "max               27.29                  30.30                  28.83   \n",
       "\n",
       "       GBTRegressor  Best model_GBTRegressor_TEST  \n",
       "count         77.00                         77.00  \n",
       "mean           2.10                          1.95  \n",
       "std            4.24                          3.86  \n",
       "min            0.13                          0.03  \n",
       "25%            0.56                          0.54  \n",
       "50%            0.81                          0.88  \n",
       "75%            1.51                          1.49  \n",
       "max           25.61                         24.68  "
      ]
     },
     "metadata": {},
     "output_type": "display_data"
    }
   ],
   "source": [
    "min_date = f\"'{date_test_first.strftime('%Y-%m-%d %H:%M:%S')}'\"\n",
    "max_date = f\"'{date_test_last.strftime('%Y-%m-%d %H:%M:%S')}'\"\n",
    "\n",
    "df_res = spark.range(1).select(\n",
    "    F.expr(f\"sequence(to_timestamp({min_date}), to_timestamp({max_date}), interval 1 hour)\").\\\n",
    "    alias(\"datetime\")).selectExpr(\"explode(datetime) as datetime\")\n",
    "print('Количество часов в интервале от:', min_date,\n",
    "      'до', max_date, 'равно:', df_res.count())\n",
    "\n",
    "\n",
    "score_mae = {}\n",
    "predictions = {}\n",
    "columns=df_train[0].columns[1:]\n",
    "\n",
    "for area in tqdm(range(NUMBER_CHICAGO_AREAS)):\n",
    "\n",
    "    model_my = list_models[num].fit(df_train[area])  \n",
    "    prediction = model_my.transform(df_last_week[area])\n",
    "\n",
    "    evaluator = RegressionEvaluator(predictionCol='prediction', \n",
    "                                    labelCol='count', metricName='mae')\n",
    "    score_mae[area] = evaluator.evaluate(prediction) \n",
    "    \n",
    "    name_col = 'predict_' + str(area+1)\n",
    "    prediction = prediction.drop(*columns)\n",
    "    prediction = prediction.withColumnRenamed('prediction', name_col)\n",
    "    \n",
    "    df_res = df_res.join(prediction, ['datetime'], 'left').fillna(0)\n",
    "      \n",
    "best_model = 'Best model_' + list_models[num].__class__.__name__ + '_TEST'\n",
    "df_scores[best_model] = pd.Series(score_mae).describe()\n",
    "print('Лучшая модель', list_models[num].__class__.__name__, \n",
    "      'имеет усредненное по', NUMBER_CHICAGO_AREAS,\n",
    "      'районам г. Чикаго значение MAE:', df_scores[best_model]['mean'])\n",
    "\n",
    "display(df_scores)"
   ]
  },
  {
   "cell_type": "code",
   "execution_count": 66,
   "id": "0a930655",
   "metadata": {},
   "outputs": [
    {
     "name": "stdout",
     "output_type": "stream",
     "text": [
      "Файл сохранен.\n"
     ]
    },
    {
     "name": "stderr",
     "output_type": "stream",
     "text": [
      "D:\\Programs\\Anaconda\\envs\\ds_practicum_env\\lib\\site-packages\\pyspark\\sql\\pandas\\conversion.py:175: FutureWarning: Passing unit-less datetime64 dtype to .astype is deprecated and will raise in a future version. Pass 'datetime64[ns]' instead\n",
      "  series = series.astype(t, copy=False)\n"
     ]
    }
   ],
   "source": [
    "# Сохранение подготовленного датасета.\n",
    "df_res.toPandas().to_csv('predictions.csv', index=False)\n",
    "print('Файл сохранен.')"
   ]
  },
  {
   "cell_type": "code",
   "execution_count": 5,
   "id": "1186155f",
   "metadata": {},
   "outputs": [
    {
     "data": {
      "application/vnd.jupyter.widget-view+json": {
       "model_id": "8280c17d5bbd4026b4c62883a238e124",
       "version_major": 2,
       "version_minor": 0
      },
      "text/plain": [
       "  0%|          | 0/1 [00:00<?, ?it/s]"
      ]
     },
     "metadata": {},
     "output_type": "display_data"
    },
    {
     "name": "stdout",
     "output_type": "stream",
     "text": [
      "Dataset predictions.csv is loaded successfully.\n",
      "Количество записей в predictions.csv: 168\n",
      "\n",
      "Local dataset is loaded successfully.\n"
     ]
    }
   ],
   "source": [
    "# Загрузка подготовленного датасета.\n",
    "local_path = 'predictions.csv' \n",
    "\n",
    "if os.path.exists(local_path):\n",
    "    # Загрузка датасета с данными за 2022 год.\n",
    "    df_res = load_dataset(local_path);\n",
    "    print('Local dataset is loaded successfully.')\n",
    "else:\n",
    "    print('Something is wrong.')"
   ]
  },
  {
   "cell_type": "code",
   "execution_count": 12,
   "id": "0f8a7101",
   "metadata": {},
   "outputs": [
    {
     "data": {
      "text/plain": [
       "168"
      ]
     },
     "execution_count": 12,
     "metadata": {},
     "output_type": "execute_result"
    }
   ],
   "source": [
    "df_res.count()"
   ]
  },
  {
   "cell_type": "markdown",
   "id": "dc4c2190",
   "metadata": {},
   "source": [
    "## 5.2. Информация по количеству такси на следующую неделю по выбранному округу:"
   ]
  },
  {
   "cell_type": "code",
   "execution_count": 197,
   "id": "aa2d29f4",
   "metadata": {},
   "outputs": [
    {
     "data": {
      "application/vnd.jupyter.widget-view+json": {
       "model_id": "b3ada1d8582d41c59a7256b64c4e91c2",
       "version_major": 2,
       "version_minor": 0
      },
      "text/plain": [
       "  0%|          | 0/3 [00:00<?, ?it/s]"
      ]
     },
     "metadata": {},
     "output_type": "display_data"
    },
    {
     "name": "stdout",
     "output_type": "stream",
     "text": [
      "Округ г. Чикаго № 1\n",
      "Количество заказываемых такси с интервалом в 1 час:\n"
     ]
    },
    {
     "data": {
      "text/html": [
       "<div>\n",
       "<style scoped>\n",
       "    .dataframe tbody tr th:only-of-type {\n",
       "        vertical-align: middle;\n",
       "    }\n",
       "\n",
       "    .dataframe tbody tr th {\n",
       "        vertical-align: top;\n",
       "    }\n",
       "\n",
       "    .dataframe thead th {\n",
       "        text-align: right;\n",
       "    }\n",
       "</style>\n",
       "<table border=\"1\" class=\"dataframe\">\n",
       "  <thead>\n",
       "    <tr style=\"text-align: right;\">\n",
       "      <th></th>\n",
       "      <th>0-1</th>\n",
       "      <th>1-2</th>\n",
       "      <th>2-3</th>\n",
       "      <th>3-4</th>\n",
       "      <th>4-5</th>\n",
       "      <th>5-6</th>\n",
       "      <th>6-7</th>\n",
       "      <th>7-8</th>\n",
       "      <th>8-9</th>\n",
       "      <th>9-10</th>\n",
       "      <th>10-11</th>\n",
       "      <th>11-12</th>\n",
       "      <th>12-13</th>\n",
       "      <th>13-14</th>\n",
       "      <th>14-15</th>\n",
       "      <th>15-16</th>\n",
       "      <th>16-17</th>\n",
       "      <th>17-18</th>\n",
       "      <th>18-19</th>\n",
       "      <th>19-20</th>\n",
       "      <th>20-21</th>\n",
       "      <th>21-22</th>\n",
       "      <th>22-23</th>\n",
       "      <th>23-24</th>\n",
       "    </tr>\n",
       "  </thead>\n",
       "  <tbody>\n",
       "    <tr>\n",
       "      <th>2023-08-01</th>\n",
       "      <td>1</td>\n",
       "      <td>0</td>\n",
       "      <td>1</td>\n",
       "      <td>0</td>\n",
       "      <td>0</td>\n",
       "      <td>2</td>\n",
       "      <td>4</td>\n",
       "      <td>6</td>\n",
       "      <td>6</td>\n",
       "      <td>6</td>\n",
       "      <td>7</td>\n",
       "      <td>7</td>\n",
       "      <td>6</td>\n",
       "      <td>7</td>\n",
       "      <td>6</td>\n",
       "      <td>0</td>\n",
       "      <td>5</td>\n",
       "      <td>4</td>\n",
       "      <td>4</td>\n",
       "      <td>3</td>\n",
       "      <td>3</td>\n",
       "      <td>2</td>\n",
       "      <td>2</td>\n",
       "      <td>1</td>\n",
       "    </tr>\n",
       "    <tr>\n",
       "      <th>2023-08-02</th>\n",
       "      <td>0</td>\n",
       "      <td>0</td>\n",
       "      <td>1</td>\n",
       "      <td>0</td>\n",
       "      <td>0</td>\n",
       "      <td>2</td>\n",
       "      <td>4</td>\n",
       "      <td>6</td>\n",
       "      <td>6</td>\n",
       "      <td>7</td>\n",
       "      <td>7</td>\n",
       "      <td>7</td>\n",
       "      <td>6</td>\n",
       "      <td>7</td>\n",
       "      <td>6</td>\n",
       "      <td>7</td>\n",
       "      <td>4</td>\n",
       "      <td>5</td>\n",
       "      <td>4</td>\n",
       "      <td>3</td>\n",
       "      <td>3</td>\n",
       "      <td>2</td>\n",
       "      <td>2</td>\n",
       "      <td>1</td>\n",
       "    </tr>\n",
       "    <tr>\n",
       "      <th>2023-08-03</th>\n",
       "      <td>1</td>\n",
       "      <td>0</td>\n",
       "      <td>1</td>\n",
       "      <td>1</td>\n",
       "      <td>0</td>\n",
       "      <td>2</td>\n",
       "      <td>4</td>\n",
       "      <td>6</td>\n",
       "      <td>6</td>\n",
       "      <td>6</td>\n",
       "      <td>6</td>\n",
       "      <td>7</td>\n",
       "      <td>6</td>\n",
       "      <td>7</td>\n",
       "      <td>6</td>\n",
       "      <td>7</td>\n",
       "      <td>4</td>\n",
       "      <td>4</td>\n",
       "      <td>4</td>\n",
       "      <td>3</td>\n",
       "      <td>2</td>\n",
       "      <td>2</td>\n",
       "      <td>2</td>\n",
       "      <td>1</td>\n",
       "    </tr>\n",
       "    <tr>\n",
       "      <th>2023-08-04</th>\n",
       "      <td>0</td>\n",
       "      <td>0</td>\n",
       "      <td>1</td>\n",
       "      <td>0</td>\n",
       "      <td>1</td>\n",
       "      <td>2</td>\n",
       "      <td>4</td>\n",
       "      <td>6</td>\n",
       "      <td>6</td>\n",
       "      <td>6</td>\n",
       "      <td>6</td>\n",
       "      <td>6</td>\n",
       "      <td>6</td>\n",
       "      <td>6</td>\n",
       "      <td>6</td>\n",
       "      <td>6</td>\n",
       "      <td>5</td>\n",
       "      <td>4</td>\n",
       "      <td>4</td>\n",
       "      <td>3</td>\n",
       "      <td>3</td>\n",
       "      <td>2</td>\n",
       "      <td>2</td>\n",
       "      <td>1</td>\n",
       "    </tr>\n",
       "    <tr>\n",
       "      <th>2023-08-05</th>\n",
       "      <td>2</td>\n",
       "      <td>2</td>\n",
       "      <td>2</td>\n",
       "      <td>2</td>\n",
       "      <td>2</td>\n",
       "      <td>2</td>\n",
       "      <td>2</td>\n",
       "      <td>3</td>\n",
       "      <td>3</td>\n",
       "      <td>6</td>\n",
       "      <td>6</td>\n",
       "      <td>5</td>\n",
       "      <td>5</td>\n",
       "      <td>5</td>\n",
       "      <td>5</td>\n",
       "      <td>5</td>\n",
       "      <td>5</td>\n",
       "      <td>5</td>\n",
       "      <td>3</td>\n",
       "      <td>2</td>\n",
       "      <td>0</td>\n",
       "      <td>3</td>\n",
       "      <td>2</td>\n",
       "      <td>2</td>\n",
       "    </tr>\n",
       "    <tr>\n",
       "      <th>2023-08-06</th>\n",
       "      <td>2</td>\n",
       "      <td>2</td>\n",
       "      <td>2</td>\n",
       "      <td>2</td>\n",
       "      <td>2</td>\n",
       "      <td>2</td>\n",
       "      <td>0</td>\n",
       "      <td>3</td>\n",
       "      <td>3</td>\n",
       "      <td>3</td>\n",
       "      <td>4</td>\n",
       "      <td>3</td>\n",
       "      <td>4</td>\n",
       "      <td>4</td>\n",
       "      <td>3</td>\n",
       "      <td>4</td>\n",
       "      <td>3</td>\n",
       "      <td>3</td>\n",
       "      <td>4</td>\n",
       "      <td>2</td>\n",
       "      <td>2</td>\n",
       "      <td>2</td>\n",
       "      <td>0</td>\n",
       "      <td>1</td>\n",
       "    </tr>\n",
       "    <tr>\n",
       "      <th>2023-08-07</th>\n",
       "      <td>0</td>\n",
       "      <td>1</td>\n",
       "      <td>1</td>\n",
       "      <td>0</td>\n",
       "      <td>0</td>\n",
       "      <td>2</td>\n",
       "      <td>3</td>\n",
       "      <td>6</td>\n",
       "      <td>6</td>\n",
       "      <td>6</td>\n",
       "      <td>6</td>\n",
       "      <td>6</td>\n",
       "      <td>6</td>\n",
       "      <td>6</td>\n",
       "      <td>6</td>\n",
       "      <td>5</td>\n",
       "      <td>5</td>\n",
       "      <td>4</td>\n",
       "      <td>3</td>\n",
       "      <td>3</td>\n",
       "      <td>0</td>\n",
       "      <td>2</td>\n",
       "      <td>2</td>\n",
       "      <td>2</td>\n",
       "    </tr>\n",
       "  </tbody>\n",
       "</table>\n",
       "</div>"
      ],
      "text/plain": [
       "            0-1  1-2  2-3  3-4  4-5  5-6  6-7  7-8  8-9  9-10  10-11  11-12  \\\n",
       "2023-08-01    1    0    1    0    0    2    4    6    6     6      7      7   \n",
       "2023-08-02    0    0    1    0    0    2    4    6    6     7      7      7   \n",
       "2023-08-03    1    0    1    1    0    2    4    6    6     6      6      7   \n",
       "2023-08-04    0    0    1    0    1    2    4    6    6     6      6      6   \n",
       "2023-08-05    2    2    2    2    2    2    2    3    3     6      6      5   \n",
       "2023-08-06    2    2    2    2    2    2    0    3    3     3      4      3   \n",
       "2023-08-07    0    1    1    0    0    2    3    6    6     6      6      6   \n",
       "\n",
       "            12-13  13-14  14-15  15-16  16-17  17-18  18-19  19-20  20-21  \\\n",
       "2023-08-01      6      7      6      0      5      4      4      3      3   \n",
       "2023-08-02      6      7      6      7      4      5      4      3      3   \n",
       "2023-08-03      6      7      6      7      4      4      4      3      2   \n",
       "2023-08-04      6      6      6      6      5      4      4      3      3   \n",
       "2023-08-05      5      5      5      5      5      5      3      2      0   \n",
       "2023-08-06      4      4      3      4      3      3      4      2      2   \n",
       "2023-08-07      6      6      6      5      5      4      3      3      0   \n",
       "\n",
       "            21-22  22-23  23-24  \n",
       "2023-08-01      2      2      1  \n",
       "2023-08-02      2      2      1  \n",
       "2023-08-03      2      2      1  \n",
       "2023-08-04      2      2      1  \n",
       "2023-08-05      3      2      2  \n",
       "2023-08-06      2      0      1  \n",
       "2023-08-07      2      2      2  "
      ]
     },
     "metadata": {},
     "output_type": "display_data"
    },
    {
     "name": "stdout",
     "output_type": "stream",
     "text": [
      "Округ г. Чикаго № 28\n",
      "Количество заказываемых такси с интервалом в 1 час:\n"
     ]
    },
    {
     "data": {
      "text/html": [
       "<div>\n",
       "<style scoped>\n",
       "    .dataframe tbody tr th:only-of-type {\n",
       "        vertical-align: middle;\n",
       "    }\n",
       "\n",
       "    .dataframe tbody tr th {\n",
       "        vertical-align: top;\n",
       "    }\n",
       "\n",
       "    .dataframe thead th {\n",
       "        text-align: right;\n",
       "    }\n",
       "</style>\n",
       "<table border=\"1\" class=\"dataframe\">\n",
       "  <thead>\n",
       "    <tr style=\"text-align: right;\">\n",
       "      <th></th>\n",
       "      <th>0-1</th>\n",
       "      <th>1-2</th>\n",
       "      <th>2-3</th>\n",
       "      <th>3-4</th>\n",
       "      <th>4-5</th>\n",
       "      <th>5-6</th>\n",
       "      <th>6-7</th>\n",
       "      <th>7-8</th>\n",
       "      <th>8-9</th>\n",
       "      <th>9-10</th>\n",
       "      <th>10-11</th>\n",
       "      <th>11-12</th>\n",
       "      <th>12-13</th>\n",
       "      <th>13-14</th>\n",
       "      <th>14-15</th>\n",
       "      <th>15-16</th>\n",
       "      <th>16-17</th>\n",
       "      <th>17-18</th>\n",
       "      <th>18-19</th>\n",
       "      <th>19-20</th>\n",
       "      <th>20-21</th>\n",
       "      <th>21-22</th>\n",
       "      <th>22-23</th>\n",
       "      <th>23-24</th>\n",
       "    </tr>\n",
       "  </thead>\n",
       "  <tbody>\n",
       "    <tr>\n",
       "      <th>2023-08-01</th>\n",
       "      <td>11</td>\n",
       "      <td>3</td>\n",
       "      <td>3</td>\n",
       "      <td>3</td>\n",
       "      <td>4</td>\n",
       "      <td>9</td>\n",
       "      <td>35</td>\n",
       "      <td>126</td>\n",
       "      <td>235</td>\n",
       "      <td>242</td>\n",
       "      <td>141</td>\n",
       "      <td>112</td>\n",
       "      <td>141</td>\n",
       "      <td>105</td>\n",
       "      <td>114</td>\n",
       "      <td>113</td>\n",
       "      <td>125</td>\n",
       "      <td>135</td>\n",
       "      <td>133</td>\n",
       "      <td>95</td>\n",
       "      <td>64</td>\n",
       "      <td>51</td>\n",
       "      <td>55</td>\n",
       "      <td>29</td>\n",
       "    </tr>\n",
       "    <tr>\n",
       "      <th>2023-08-02</th>\n",
       "      <td>13</td>\n",
       "      <td>4</td>\n",
       "      <td>3</td>\n",
       "      <td>3</td>\n",
       "      <td>4</td>\n",
       "      <td>7</td>\n",
       "      <td>37</td>\n",
       "      <td>123</td>\n",
       "      <td>228</td>\n",
       "      <td>244</td>\n",
       "      <td>144</td>\n",
       "      <td>135</td>\n",
       "      <td>152</td>\n",
       "      <td>114</td>\n",
       "      <td>116</td>\n",
       "      <td>122</td>\n",
       "      <td>137</td>\n",
       "      <td>140</td>\n",
       "      <td>141</td>\n",
       "      <td>105</td>\n",
       "      <td>65</td>\n",
       "      <td>60</td>\n",
       "      <td>51</td>\n",
       "      <td>43</td>\n",
       "    </tr>\n",
       "    <tr>\n",
       "      <th>2023-08-03</th>\n",
       "      <td>13</td>\n",
       "      <td>4</td>\n",
       "      <td>3</td>\n",
       "      <td>4</td>\n",
       "      <td>4</td>\n",
       "      <td>5</td>\n",
       "      <td>33</td>\n",
       "      <td>121</td>\n",
       "      <td>239</td>\n",
       "      <td>246</td>\n",
       "      <td>144</td>\n",
       "      <td>132</td>\n",
       "      <td>138</td>\n",
       "      <td>130</td>\n",
       "      <td>119</td>\n",
       "      <td>125</td>\n",
       "      <td>139</td>\n",
       "      <td>153</td>\n",
       "      <td>126</td>\n",
       "      <td>96</td>\n",
       "      <td>68</td>\n",
       "      <td>64</td>\n",
       "      <td>57</td>\n",
       "      <td>49</td>\n",
       "    </tr>\n",
       "    <tr>\n",
       "      <th>2023-08-04</th>\n",
       "      <td>22</td>\n",
       "      <td>11</td>\n",
       "      <td>3</td>\n",
       "      <td>3</td>\n",
       "      <td>4</td>\n",
       "      <td>5</td>\n",
       "      <td>26</td>\n",
       "      <td>108</td>\n",
       "      <td>202</td>\n",
       "      <td>168</td>\n",
       "      <td>116</td>\n",
       "      <td>110</td>\n",
       "      <td>123</td>\n",
       "      <td>112</td>\n",
       "      <td>107</td>\n",
       "      <td>107</td>\n",
       "      <td>119</td>\n",
       "      <td>115</td>\n",
       "      <td>131</td>\n",
       "      <td>98</td>\n",
       "      <td>67</td>\n",
       "      <td>60</td>\n",
       "      <td>57</td>\n",
       "      <td>54</td>\n",
       "    </tr>\n",
       "    <tr>\n",
       "      <th>2023-08-05</th>\n",
       "      <td>58</td>\n",
       "      <td>47</td>\n",
       "      <td>24</td>\n",
       "      <td>5</td>\n",
       "      <td>4</td>\n",
       "      <td>5</td>\n",
       "      <td>3</td>\n",
       "      <td>20</td>\n",
       "      <td>24</td>\n",
       "      <td>56</td>\n",
       "      <td>63</td>\n",
       "      <td>63</td>\n",
       "      <td>74</td>\n",
       "      <td>74</td>\n",
       "      <td>73</td>\n",
       "      <td>75</td>\n",
       "      <td>74</td>\n",
       "      <td>94</td>\n",
       "      <td>62</td>\n",
       "      <td>61</td>\n",
       "      <td>56</td>\n",
       "      <td>54</td>\n",
       "      <td>58</td>\n",
       "      <td>57</td>\n",
       "    </tr>\n",
       "    <tr>\n",
       "      <th>2023-08-06</th>\n",
       "      <td>44</td>\n",
       "      <td>43</td>\n",
       "      <td>24</td>\n",
       "      <td>13</td>\n",
       "      <td>4</td>\n",
       "      <td>4</td>\n",
       "      <td>2</td>\n",
       "      <td>15</td>\n",
       "      <td>20</td>\n",
       "      <td>23</td>\n",
       "      <td>51</td>\n",
       "      <td>52</td>\n",
       "      <td>66</td>\n",
       "      <td>58</td>\n",
       "      <td>51</td>\n",
       "      <td>51</td>\n",
       "      <td>33</td>\n",
       "      <td>32</td>\n",
       "      <td>32</td>\n",
       "      <td>31</td>\n",
       "      <td>32</td>\n",
       "      <td>31</td>\n",
       "      <td>28</td>\n",
       "      <td>26</td>\n",
       "    </tr>\n",
       "    <tr>\n",
       "      <th>2023-08-07</th>\n",
       "      <td>13</td>\n",
       "      <td>3</td>\n",
       "      <td>3</td>\n",
       "      <td>3</td>\n",
       "      <td>3</td>\n",
       "      <td>6</td>\n",
       "      <td>38</td>\n",
       "      <td>87</td>\n",
       "      <td>165</td>\n",
       "      <td>162</td>\n",
       "      <td>103</td>\n",
       "      <td>110</td>\n",
       "      <td>109</td>\n",
       "      <td>99</td>\n",
       "      <td>99</td>\n",
       "      <td>92</td>\n",
       "      <td>97</td>\n",
       "      <td>105</td>\n",
       "      <td>75</td>\n",
       "      <td>53</td>\n",
       "      <td>47</td>\n",
       "      <td>33</td>\n",
       "      <td>31</td>\n",
       "      <td>26</td>\n",
       "    </tr>\n",
       "  </tbody>\n",
       "</table>\n",
       "</div>"
      ],
      "text/plain": [
       "            0-1  1-2  2-3  3-4  4-5  5-6  6-7  7-8  8-9  9-10  10-11  11-12  \\\n",
       "2023-08-01   11    3    3    3    4    9   35  126  235   242    141    112   \n",
       "2023-08-02   13    4    3    3    4    7   37  123  228   244    144    135   \n",
       "2023-08-03   13    4    3    4    4    5   33  121  239   246    144    132   \n",
       "2023-08-04   22   11    3    3    4    5   26  108  202   168    116    110   \n",
       "2023-08-05   58   47   24    5    4    5    3   20   24    56     63     63   \n",
       "2023-08-06   44   43   24   13    4    4    2   15   20    23     51     52   \n",
       "2023-08-07   13    3    3    3    3    6   38   87  165   162    103    110   \n",
       "\n",
       "            12-13  13-14  14-15  15-16  16-17  17-18  18-19  19-20  20-21  \\\n",
       "2023-08-01    141    105    114    113    125    135    133     95     64   \n",
       "2023-08-02    152    114    116    122    137    140    141    105     65   \n",
       "2023-08-03    138    130    119    125    139    153    126     96     68   \n",
       "2023-08-04    123    112    107    107    119    115    131     98     67   \n",
       "2023-08-05     74     74     73     75     74     94     62     61     56   \n",
       "2023-08-06     66     58     51     51     33     32     32     31     32   \n",
       "2023-08-07    109     99     99     92     97    105     75     53     47   \n",
       "\n",
       "            21-22  22-23  23-24  \n",
       "2023-08-01     51     55     29  \n",
       "2023-08-02     60     51     43  \n",
       "2023-08-03     64     57     49  \n",
       "2023-08-04     60     57     54  \n",
       "2023-08-05     54     58     57  \n",
       "2023-08-06     31     28     26  \n",
       "2023-08-07     33     31     26  "
      ]
     },
     "metadata": {},
     "output_type": "display_data"
    },
    {
     "name": "stdout",
     "output_type": "stream",
     "text": [
      "Округ г. Чикаго № 77\n",
      "Количество заказываемых такси с интервалом в 1 час:\n"
     ]
    },
    {
     "data": {
      "text/html": [
       "<div>\n",
       "<style scoped>\n",
       "    .dataframe tbody tr th:only-of-type {\n",
       "        vertical-align: middle;\n",
       "    }\n",
       "\n",
       "    .dataframe tbody tr th {\n",
       "        vertical-align: top;\n",
       "    }\n",
       "\n",
       "    .dataframe thead th {\n",
       "        text-align: right;\n",
       "    }\n",
       "</style>\n",
       "<table border=\"1\" class=\"dataframe\">\n",
       "  <thead>\n",
       "    <tr style=\"text-align: right;\">\n",
       "      <th></th>\n",
       "      <th>0-1</th>\n",
       "      <th>1-2</th>\n",
       "      <th>2-3</th>\n",
       "      <th>3-4</th>\n",
       "      <th>4-5</th>\n",
       "      <th>5-6</th>\n",
       "      <th>6-7</th>\n",
       "      <th>7-8</th>\n",
       "      <th>8-9</th>\n",
       "      <th>9-10</th>\n",
       "      <th>10-11</th>\n",
       "      <th>11-12</th>\n",
       "      <th>12-13</th>\n",
       "      <th>13-14</th>\n",
       "      <th>14-15</th>\n",
       "      <th>15-16</th>\n",
       "      <th>16-17</th>\n",
       "      <th>17-18</th>\n",
       "      <th>18-19</th>\n",
       "      <th>19-20</th>\n",
       "      <th>20-21</th>\n",
       "      <th>21-22</th>\n",
       "      <th>22-23</th>\n",
       "      <th>23-24</th>\n",
       "    </tr>\n",
       "  </thead>\n",
       "  <tbody>\n",
       "    <tr>\n",
       "      <th>2023-08-01</th>\n",
       "      <td>2</td>\n",
       "      <td>1</td>\n",
       "      <td>1</td>\n",
       "      <td>1</td>\n",
       "      <td>1</td>\n",
       "      <td>3</td>\n",
       "      <td>6</td>\n",
       "      <td>15</td>\n",
       "      <td>17</td>\n",
       "      <td>16</td>\n",
       "      <td>16</td>\n",
       "      <td>13</td>\n",
       "      <td>15</td>\n",
       "      <td>15</td>\n",
       "      <td>14</td>\n",
       "      <td>12</td>\n",
       "      <td>11</td>\n",
       "      <td>9</td>\n",
       "      <td>8</td>\n",
       "      <td>7</td>\n",
       "      <td>5</td>\n",
       "      <td>5</td>\n",
       "      <td>3</td>\n",
       "      <td>3</td>\n",
       "    </tr>\n",
       "    <tr>\n",
       "      <th>2023-08-02</th>\n",
       "      <td>1</td>\n",
       "      <td>1</td>\n",
       "      <td>0</td>\n",
       "      <td>0</td>\n",
       "      <td>0</td>\n",
       "      <td>3</td>\n",
       "      <td>6</td>\n",
       "      <td>15</td>\n",
       "      <td>17</td>\n",
       "      <td>18</td>\n",
       "      <td>14</td>\n",
       "      <td>17</td>\n",
       "      <td>13</td>\n",
       "      <td>14</td>\n",
       "      <td>15</td>\n",
       "      <td>14</td>\n",
       "      <td>10</td>\n",
       "      <td>9</td>\n",
       "      <td>8</td>\n",
       "      <td>6</td>\n",
       "      <td>5</td>\n",
       "      <td>5</td>\n",
       "      <td>3</td>\n",
       "      <td>3</td>\n",
       "    </tr>\n",
       "    <tr>\n",
       "      <th>2023-08-03</th>\n",
       "      <td>0</td>\n",
       "      <td>0</td>\n",
       "      <td>1</td>\n",
       "      <td>0</td>\n",
       "      <td>0</td>\n",
       "      <td>3</td>\n",
       "      <td>5</td>\n",
       "      <td>13</td>\n",
       "      <td>16</td>\n",
       "      <td>17</td>\n",
       "      <td>17</td>\n",
       "      <td>17</td>\n",
       "      <td>16</td>\n",
       "      <td>16</td>\n",
       "      <td>16</td>\n",
       "      <td>14</td>\n",
       "      <td>12</td>\n",
       "      <td>10</td>\n",
       "      <td>8</td>\n",
       "      <td>8</td>\n",
       "      <td>7</td>\n",
       "      <td>5</td>\n",
       "      <td>3</td>\n",
       "      <td>3</td>\n",
       "    </tr>\n",
       "    <tr>\n",
       "      <th>2023-08-04</th>\n",
       "      <td>2</td>\n",
       "      <td>1</td>\n",
       "      <td>0</td>\n",
       "      <td>1</td>\n",
       "      <td>1</td>\n",
       "      <td>3</td>\n",
       "      <td>6</td>\n",
       "      <td>15</td>\n",
       "      <td>17</td>\n",
       "      <td>18</td>\n",
       "      <td>17</td>\n",
       "      <td>17</td>\n",
       "      <td>16</td>\n",
       "      <td>15</td>\n",
       "      <td>15</td>\n",
       "      <td>14</td>\n",
       "      <td>12</td>\n",
       "      <td>12</td>\n",
       "      <td>10</td>\n",
       "      <td>7</td>\n",
       "      <td>7</td>\n",
       "      <td>5</td>\n",
       "      <td>5</td>\n",
       "      <td>0</td>\n",
       "    </tr>\n",
       "    <tr>\n",
       "      <th>2023-08-05</th>\n",
       "      <td>2</td>\n",
       "      <td>2</td>\n",
       "      <td>2</td>\n",
       "      <td>2</td>\n",
       "      <td>0</td>\n",
       "      <td>2</td>\n",
       "      <td>5</td>\n",
       "      <td>7</td>\n",
       "      <td>7</td>\n",
       "      <td>14</td>\n",
       "      <td>16</td>\n",
       "      <td>16</td>\n",
       "      <td>13</td>\n",
       "      <td>13</td>\n",
       "      <td>13</td>\n",
       "      <td>13</td>\n",
       "      <td>13</td>\n",
       "      <td>7</td>\n",
       "      <td>10</td>\n",
       "      <td>10</td>\n",
       "      <td>7</td>\n",
       "      <td>5</td>\n",
       "      <td>5</td>\n",
       "      <td>5</td>\n",
       "    </tr>\n",
       "    <tr>\n",
       "      <th>2023-08-06</th>\n",
       "      <td>2</td>\n",
       "      <td>0</td>\n",
       "      <td>0</td>\n",
       "      <td>2</td>\n",
       "      <td>2</td>\n",
       "      <td>2</td>\n",
       "      <td>5</td>\n",
       "      <td>6</td>\n",
       "      <td>7</td>\n",
       "      <td>10</td>\n",
       "      <td>10</td>\n",
       "      <td>10</td>\n",
       "      <td>9</td>\n",
       "      <td>8</td>\n",
       "      <td>8</td>\n",
       "      <td>9</td>\n",
       "      <td>9</td>\n",
       "      <td>6</td>\n",
       "      <td>6</td>\n",
       "      <td>5</td>\n",
       "      <td>5</td>\n",
       "      <td>5</td>\n",
       "      <td>3</td>\n",
       "      <td>3</td>\n",
       "    </tr>\n",
       "    <tr>\n",
       "      <th>2023-08-07</th>\n",
       "      <td>2</td>\n",
       "      <td>1</td>\n",
       "      <td>1</td>\n",
       "      <td>1</td>\n",
       "      <td>1</td>\n",
       "      <td>3</td>\n",
       "      <td>6</td>\n",
       "      <td>15</td>\n",
       "      <td>15</td>\n",
       "      <td>17</td>\n",
       "      <td>15</td>\n",
       "      <td>14</td>\n",
       "      <td>15</td>\n",
       "      <td>12</td>\n",
       "      <td>14</td>\n",
       "      <td>14</td>\n",
       "      <td>10</td>\n",
       "      <td>9</td>\n",
       "      <td>8</td>\n",
       "      <td>5</td>\n",
       "      <td>5</td>\n",
       "      <td>5</td>\n",
       "      <td>3</td>\n",
       "      <td>3</td>\n",
       "    </tr>\n",
       "  </tbody>\n",
       "</table>\n",
       "</div>"
      ],
      "text/plain": [
       "            0-1  1-2  2-3  3-4  4-5  5-6  6-7  7-8  8-9  9-10  10-11  11-12  \\\n",
       "2023-08-01    2    1    1    1    1    3    6   15   17    16     16     13   \n",
       "2023-08-02    1    1    0    0    0    3    6   15   17    18     14     17   \n",
       "2023-08-03    0    0    1    0    0    3    5   13   16    17     17     17   \n",
       "2023-08-04    2    1    0    1    1    3    6   15   17    18     17     17   \n",
       "2023-08-05    2    2    2    2    0    2    5    7    7    14     16     16   \n",
       "2023-08-06    2    0    0    2    2    2    5    6    7    10     10     10   \n",
       "2023-08-07    2    1    1    1    1    3    6   15   15    17     15     14   \n",
       "\n",
       "            12-13  13-14  14-15  15-16  16-17  17-18  18-19  19-20  20-21  \\\n",
       "2023-08-01     15     15     14     12     11      9      8      7      5   \n",
       "2023-08-02     13     14     15     14     10      9      8      6      5   \n",
       "2023-08-03     16     16     16     14     12     10      8      8      7   \n",
       "2023-08-04     16     15     15     14     12     12     10      7      7   \n",
       "2023-08-05     13     13     13     13     13      7     10     10      7   \n",
       "2023-08-06      9      8      8      9      9      6      6      5      5   \n",
       "2023-08-07     15     12     14     14     10      9      8      5      5   \n",
       "\n",
       "            21-22  22-23  23-24  \n",
       "2023-08-01      5      3      3  \n",
       "2023-08-02      5      3      3  \n",
       "2023-08-03      5      3      3  \n",
       "2023-08-04      5      5      0  \n",
       "2023-08-05      5      5      5  \n",
       "2023-08-06      5      3      3  \n",
       "2023-08-07      5      3      3  "
      ]
     },
     "metadata": {},
     "output_type": "display_data"
    }
   ],
   "source": [
    "# Введите в список номер региона города Чикаго для просмотра \n",
    "# количества такси, необходимых для заказа на ближайшую неделю.\n",
    "\n",
    "look_areas = [1, 28, 77] # В диапазоне 1...77\n",
    "\n",
    "for l_area in tqdm(look_areas): # Чтобы видеть, что процесс выполняется\n",
    "    if l_area not in [i for i in range(1, NUMBER_CHICAGO_AREAS+1)]:\n",
    "        print('Округ г. Чикаго №', l_area,\n",
    "             'указан НЕВЕРНО! Пожалуйста, укажите число от 1 до',\n",
    "              NUMBER_CHICAGO_AREAS, '\\n')\n",
    "        continue \n",
    "    \n",
    "    name_col = 'predict_' + str(l_area)\n",
    "    df_area = df_res['datetime', name_col]    \n",
    "    df_area = df_area.sort(['datetime'], ascending = True)\n",
    "    \n",
    "    predicts_list = [int(row[name_col]) for row in df_area.collect()]\n",
    "    \n",
    "    data = {}\n",
    "    print('Округ г. Чикаго №', l_area)  \n",
    "    print('Количество заказываемых такси с интервалом в 1 час:')   \n",
    "    for i in range(7):\n",
    "        data['2023-08-0'+str(i+1)] = predicts_list[24*i:24*(i+1)]\n",
    "    \n",
    "    df = pd.DataFrame(data)\n",
    "    df = df.T\n",
    "    \n",
    "    name_cols = []\n",
    "    for i in range(24):\n",
    "        name_cols.append(str(i)+'-'+str(i+1))\n",
    "            \n",
    "    df.columns = name_cols\n",
    "    display(df)"
   ]
  },
  {
   "cell_type": "markdown",
   "id": "8ef13e81",
   "metadata": {},
   "source": [
    "## 5.3. Информация по количеству такси по всем округам на указанный час:"
   ]
  },
  {
   "cell_type": "code",
   "execution_count": 200,
   "id": "773b41c0",
   "metadata": {},
   "outputs": [],
   "source": [
    "def calc_view_taxi_orders(ch_hour):\n",
    "    '''\n",
    "    Функция расчёта и вывода на экран таблицы с \n",
    "    количеством заказываемых такси.\n",
    "    '''\n",
    "    df_hour = df_res.filter(\n",
    "        (df_res.datetime == (ch_hour - timedelta(days=7))))\n",
    "\n",
    "    predicts_dict = [row.asDict() for row in df_hour.collect()][0]\n",
    "    predicts_list = []\n",
    "    [predicts_list.append(v) for k, v in predicts_dict.items()]\n",
    "\n",
    "    predicts_list = predicts_list[1:] # уберём поле datetime   \n",
    "\n",
    "    # Настроим, чтобы числа в датасетах отражались целые числа: \n",
    "    pd.set_option('display.float_format', '{:.0f}'.format) \n",
    "\n",
    "    print('На', ch_hour, 'в каждом из', NUMBER_CHICAGO_AREAS,\n",
    "          'округов должно быть заказано указанное в количество такси:')  \n",
    "\n",
    "    data = {}\n",
    "    for i in range(7):\n",
    "        data[i+1] = predicts_list[11*i:11*(i+1)]\n",
    "\n",
    "    df = pd.DataFrame(data)   \n",
    "\n",
    "    name_cols = []\n",
    "    [name_cols.append(str(i*11)+' +') for i in range(7)]  \n",
    "    df.columns = name_cols\n",
    "\n",
    "    df = df.T\n",
    "\n",
    "    name_cols = []\n",
    "    [name_cols.append(str(i)) for i in range(1,12)]  \n",
    "    df.columns = name_cols\n",
    "\n",
    "    display(df)"
   ]
  },
  {
   "cell_type": "code",
   "execution_count": 208,
   "id": "c2ebf114",
   "metadata": {},
   "outputs": [
    {
     "name": "stdout",
     "output_type": "stream",
     "text": [
      "На 2023-08-05 18:00:00 в каждом из 77 округов должно быть заказано указанное в количество такси:\n"
     ]
    },
    {
     "data": {
      "text/html": [
       "<div>\n",
       "<style scoped>\n",
       "    .dataframe tbody tr th:only-of-type {\n",
       "        vertical-align: middle;\n",
       "    }\n",
       "\n",
       "    .dataframe tbody tr th {\n",
       "        vertical-align: top;\n",
       "    }\n",
       "\n",
       "    .dataframe thead th {\n",
       "        text-align: right;\n",
       "    }\n",
       "</style>\n",
       "<table border=\"1\" class=\"dataframe\">\n",
       "  <thead>\n",
       "    <tr style=\"text-align: right;\">\n",
       "      <th></th>\n",
       "      <th>1</th>\n",
       "      <th>2</th>\n",
       "      <th>3</th>\n",
       "      <th>4</th>\n",
       "      <th>5</th>\n",
       "      <th>6</th>\n",
       "      <th>7</th>\n",
       "      <th>8</th>\n",
       "      <th>9</th>\n",
       "      <th>10</th>\n",
       "      <th>11</th>\n",
       "    </tr>\n",
       "  </thead>\n",
       "  <tbody>\n",
       "    <tr>\n",
       "      <th>0 +</th>\n",
       "      <td>4</td>\n",
       "      <td>4</td>\n",
       "      <td>17</td>\n",
       "      <td>4</td>\n",
       "      <td>6</td>\n",
       "      <td>65</td>\n",
       "      <td>48</td>\n",
       "      <td>333</td>\n",
       "      <td>0</td>\n",
       "      <td>0</td>\n",
       "      <td>2</td>\n",
       "    </tr>\n",
       "    <tr>\n",
       "      <th>11 +</th>\n",
       "      <td>2</td>\n",
       "      <td>2</td>\n",
       "      <td>2</td>\n",
       "      <td>2</td>\n",
       "      <td>0</td>\n",
       "      <td>0</td>\n",
       "      <td>1</td>\n",
       "      <td>1</td>\n",
       "      <td>1</td>\n",
       "      <td>2</td>\n",
       "      <td>7</td>\n",
       "    </tr>\n",
       "    <tr>\n",
       "      <th>22 +</th>\n",
       "      <td>0</td>\n",
       "      <td>27</td>\n",
       "      <td>2</td>\n",
       "      <td>1</td>\n",
       "      <td>1</td>\n",
       "      <td>62</td>\n",
       "      <td>1</td>\n",
       "      <td>0</td>\n",
       "      <td>2</td>\n",
       "      <td>164</td>\n",
       "      <td>49</td>\n",
       "    </tr>\n",
       "    <tr>\n",
       "      <th>33 +</th>\n",
       "      <td>3</td>\n",
       "      <td>5</td>\n",
       "      <td>0</td>\n",
       "      <td>3</td>\n",
       "      <td>4</td>\n",
       "      <td>4</td>\n",
       "      <td>0</td>\n",
       "      <td>7</td>\n",
       "      <td>2</td>\n",
       "      <td>4</td>\n",
       "      <td>4</td>\n",
       "    </tr>\n",
       "    <tr>\n",
       "      <th>44 +</th>\n",
       "      <td>0</td>\n",
       "      <td>0</td>\n",
       "      <td>0</td>\n",
       "      <td>2</td>\n",
       "      <td>2</td>\n",
       "      <td>0</td>\n",
       "      <td>2</td>\n",
       "      <td>0</td>\n",
       "      <td>2</td>\n",
       "      <td>1</td>\n",
       "      <td>1</td>\n",
       "    </tr>\n",
       "    <tr>\n",
       "      <th>55 +</th>\n",
       "      <td>20</td>\n",
       "      <td>0</td>\n",
       "      <td>0</td>\n",
       "      <td>1</td>\n",
       "      <td>1</td>\n",
       "      <td>0</td>\n",
       "      <td>1</td>\n",
       "      <td>0</td>\n",
       "      <td>0</td>\n",
       "      <td>1</td>\n",
       "      <td>0</td>\n",
       "    </tr>\n",
       "    <tr>\n",
       "      <th>66 +</th>\n",
       "      <td>1</td>\n",
       "      <td>2</td>\n",
       "      <td>4</td>\n",
       "      <td>1</td>\n",
       "      <td>2</td>\n",
       "      <td>1</td>\n",
       "      <td>2</td>\n",
       "      <td>0</td>\n",
       "      <td>0</td>\n",
       "      <td>195</td>\n",
       "      <td>10</td>\n",
       "    </tr>\n",
       "  </tbody>\n",
       "</table>\n",
       "</div>"
      ],
      "text/plain": [
       "      1  2  3  4  5  6  7   8  9  10  11\n",
       "0 +   4  4 17  4  6 65 48 333  0   0   2\n",
       "11 +  2  2  2  2  0  0  1   1  1   2   7\n",
       "22 +  0 27  2  1  1 62  1   0  2 164  49\n",
       "33 +  3  5  0  3  4  4  0   7  2   4   4\n",
       "44 +  0  0  0  2  2  0  2   0  2   1   1\n",
       "55 + 20  0  0  1  1  0  1   0  0   1   0\n",
       "66 +  1  2  4  1  2  1  2   0  0 195  10"
      ]
     },
     "metadata": {},
     "output_type": "display_data"
    }
   ],
   "source": [
    "# Укажем интересующее нас время в диапазоне\n",
    "# от \"2023-08-01 00:00:00\" до # \"2023-08-07 23:00:00\"\n",
    "choosed_hour = datetime(2023, 8, 5, 18, 0) \n",
    "\n",
    "# Выполним проверку правильности указазанной даты:\n",
    "if choosed_hour < datetime(2023, 8, 1, 0, 0):\n",
    "    print('Указано неверное время. ДО \"2023-08-01 16:00:00\".')\n",
    "elif choosed_hour > datetime(2023, 8, 7, 23, 0):\n",
    "    print('Указано неверное время. ПОСЛЕ \"2023-08-07 23:00:00\".')\n",
    "else:    \n",
    "    calc_view_taxi_orders(choosed_hour)"
   ]
  },
  {
   "cell_type": "markdown",
   "id": "d5411634",
   "metadata": {},
   "source": [
    "# 6. Выводы."
   ]
  },
  {
   "cell_type": "markdown",
   "id": "dc376651",
   "metadata": {},
   "source": [
    "1. Проведено исследование с целью построения модели машинного обучения, которая поможет предсказать количество заказов такси в г. Чикаго на следующий час. Результаты исследования позволят привлечь больше водителей в период пиковой нагрузки.  \n",
    "2. Исходные данные: набор данных о заказах такси в аэропортах с 2022-01-01 по 2023-08-01. \n",
    "3. Для подготовки данных к последующей обработке были проведены следующие операции:  \n",
    "    * Загрузка файлов с данными 2022 и 2023 годов.\n",
    "    * Запуск SPARK-сессии.\n",
    "    * Объединение датасетов.\n",
    "    * Данные проверены.\n",
    "    * Выделение нужных признаков.\n",
    "    * Замена типа данных с `object` на `datetime`.\n",
    "    * Анализ пропущенных значений и, так как они относятся к загородным поездкам, удаление их.\n",
    "    * Агрегация данных по 1 часу времени заказа.\n",
    "    * Данные ресемплированы и расположены в хронологическом порядке.\n",
    "4. Созданы новые признаки с количеством заказов за:\n",
    "    * `час`,\n",
    "    * `день недели`,\n",
    "    * `день месяца`,\n",
    "    * `месяц`.  \n",
    "Изучено распределение заказов такси по этим временным признакам.  \n",
    "5. Созданы новые признаки :\n",
    "* `лаги(отставания)`: от 1 до 24 часов и 1 неделя.\n",
    "* `скользящее среднее`: 6 часов, 12 часов, 1 день.\n",
    "* `тригонометрические преобразования`: sin и cos для дня, недели, месяца и года. \n",
    "6. Исходные данные разделены без перемешивания на обучающую, валидационную и тестовую выборки.\n",
    "7. Созданы и обучены следующие модели:\n",
    "    * Линейная регрессия `LinearRegression`.\n",
    "    * Градиентного бустинга `DecisionTreeRegressor`.\n",
    "    * Cлучайного леса `RandomForestRegressor`.\n",
    "    * Градиентного бустинга `GradientBoostingRegressor`.\n",
    "8. Наилучшей моделью стала `GradientBoostingRegressor` со средним по всем округам значением по тестовой выборке MAE = 1.95.  \n",
    "9. Специалистам сервиса такси для прогнозирования количества заказов можно рекомендовать использование модели `GradientBoostingRegressor`.\n",
    "10. Рассчитано количество автомобилей такси, требуемых на ближайшую неделю."
   ]
  },
  {
   "cell_type": "code",
   "execution_count": 209,
   "id": "ab3f2335",
   "metadata": {},
   "outputs": [],
   "source": [
    "spark.stop()"
   ]
  },
  {
   "cell_type": "markdown",
   "id": "1ebc440f",
   "metadata": {},
   "source": [
    "[Вернутся к общему списку проектов курса Data_Science Яндекс-практикума](../README.md)"
   ]
  }
 ],
 "metadata": {
  "kernelspec": {
   "display_name": "Python 3 (ipykernel)",
   "language": "python",
   "name": "python3"
  },
  "language_info": {
   "codemirror_mode": {
    "name": "ipython",
    "version": 3
   },
   "file_extension": ".py",
   "mimetype": "text/x-python",
   "name": "python",
   "nbconvert_exporter": "python",
   "pygments_lexer": "ipython3",
   "version": "3.9.16"
  }
 },
 "nbformat": 4,
 "nbformat_minor": 5
}
