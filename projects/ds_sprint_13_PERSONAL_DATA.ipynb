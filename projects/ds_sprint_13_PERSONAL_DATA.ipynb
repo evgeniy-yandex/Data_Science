{
 "cells": [
  {
   "cell_type": "markdown",
   "metadata": {},
   "source": [
    "# Проект: Защита персональных данных клиентов."
   ]
  },
  {
   "cell_type": "markdown",
   "metadata": {
    "toc": true
   },
   "source": [
    "<h1>Содержание<span class=\"tocSkip\"></span></h1>\n",
    "<div class=\"toc\"><ul class=\"toc-item\"><li><span><a href=\"#Описание-данных\" data-toc-modified-id=\"Описание-данных-1\"><span class=\"toc-item-num\">1&nbsp;&nbsp;</span>Описание данных</a></span></li><li><span><a href=\"#План-работы\" data-toc-modified-id=\"План-работы-2\"><span class=\"toc-item-num\">2&nbsp;&nbsp;</span>План работы</a></span></li><li><span><a href=\"#1.-Загрузка-данных.\" data-toc-modified-id=\"1.-Загрузка-данных.-3\"><span class=\"toc-item-num\">3&nbsp;&nbsp;</span>1. Загрузка данных.</a></span><ul class=\"toc-item\"><li><span><a href=\"#1.1.-Загрузка-локального-и-удаленного-файла-с-данными:\" data-toc-modified-id=\"1.1.-Загрузка-локального-и-удаленного-файла-с-данными:-3.1\"><span class=\"toc-item-num\">3.1&nbsp;&nbsp;</span>1.1. Загрузка локального и удаленного файла с данными:</a></span></li><li><span><a href=\"#1.2.-Изучим-датасет.\" data-toc-modified-id=\"1.2.-Изучим-датасет.-3.2\"><span class=\"toc-item-num\">3.2&nbsp;&nbsp;</span>1.2. Изучим датасет.</a></span><ul class=\"toc-item\"><li><span><a href=\"#1.2.1.-Размер-данных-в-изучаемом-файле:\" data-toc-modified-id=\"1.2.1.-Размер-данных-в-изучаемом-файле:-3.2.1\"><span class=\"toc-item-num\">3.2.1&nbsp;&nbsp;</span>1.2.1. Размер данных в изучаемом файле:</a></span></li><li><span><a href=\"#1.2.2.-Информация,-содержащаяся-в-столбцах:\" data-toc-modified-id=\"1.2.2.-Информация,-содержащаяся-в-столбцах:-3.2.2\"><span class=\"toc-item-num\">3.2.2&nbsp;&nbsp;</span>1.2.2. Информация, содержащаяся в столбцах:</a></span></li><li><span><a href=\"#1.2.3.-Проверка-корректности-названия-столбцов.\" data-toc-modified-id=\"1.2.3.-Проверка-корректности-названия-столбцов.-3.2.3\"><span class=\"toc-item-num\">3.2.3&nbsp;&nbsp;</span>1.2.3. Проверка корректности названия столбцов.</a></span></li><li><span><a href=\"#1.2.4.-Поиск-дубликатов\" data-toc-modified-id=\"1.2.4.-Поиск-дубликатов-3.2.4\"><span class=\"toc-item-num\">3.2.4&nbsp;&nbsp;</span>1.2.4. Поиск дубликатов</a></span></li><li><span><a href=\"#1.2.5.-Пропущенные-данные.\" data-toc-modified-id=\"1.2.5.-Пропущенные-данные.-3.2.5\"><span class=\"toc-item-num\">3.2.5&nbsp;&nbsp;</span>1.2.5. Пропущенные данные.</a></span></li><li><span><a href=\"#1.2.6.-Изучим-наши-данные-на-мультиколлинеарность-признаков.\" data-toc-modified-id=\"1.2.6.-Изучим-наши-данные-на-мультиколлинеарность-признаков.-3.2.6\"><span class=\"toc-item-num\">3.2.6&nbsp;&nbsp;</span>1.2.6. Изучим наши данные на мультиколлинеарность признаков.</a></span></li><li><span><a href=\"#1.2.7.-Визуальная-оценка-нормальности-распределений.\" data-toc-modified-id=\"1.2.7.-Визуальная-оценка-нормальности-распределений.-3.2.7\"><span class=\"toc-item-num\">3.2.7&nbsp;&nbsp;</span>1.2.7. Визуальная оценка нормальности распределений.</a></span></li><li><span><a href=\"#1.2.8.-Изучим-каждый-признак:\" data-toc-modified-id=\"1.2.8.-Изучим-каждый-признак:-3.2.8\"><span class=\"toc-item-num\">3.2.8&nbsp;&nbsp;</span>1.2.8. Изучим каждый признак:</a></span></li></ul></li><li><span><a href=\"#1.3.-Подготовим-датасеты.\" data-toc-modified-id=\"1.3.-Подготовим-датасеты.-3.3\"><span class=\"toc-item-num\">3.3&nbsp;&nbsp;</span>1.3. Подготовим датасеты.</a></span></li><li><span><a href=\"#1.4.-Промежуточные-выводы.\" data-toc-modified-id=\"1.4.-Промежуточные-выводы.-3.4\"><span class=\"toc-item-num\">3.4&nbsp;&nbsp;</span>1.4. Промежуточные выводы.</a></span></li></ul></li><li><span><a href=\"#2.-Умножение-матриц.\" data-toc-modified-id=\"2.-Умножение-матриц.-4\"><span class=\"toc-item-num\">4&nbsp;&nbsp;</span>2. Умножение матриц.</a></span></li><li><span><a href=\"#3.-Алгоритм-преобразования.\" data-toc-modified-id=\"3.-Алгоритм-преобразования.-5\"><span class=\"toc-item-num\">5&nbsp;&nbsp;</span>3. Алгоритм преобразования.</a></span></li><li><span><a href=\"#4.-Проверка-алгоритма.\" data-toc-modified-id=\"4.-Проверка-алгоритма.-6\"><span class=\"toc-item-num\">6&nbsp;&nbsp;</span>4. Проверка алгоритма.</a></span><ul class=\"toc-item\"><li><span><a href=\"#4.1.-Создание-случайной-обратимой-матрицы-$P$\" data-toc-modified-id=\"4.1.-Создание-случайной-обратимой-матрицы-$P$-6.1\"><span class=\"toc-item-num\">6.1&nbsp;&nbsp;</span>4.1. Создание случайной <em>обратимой</em> матрицы $P$</a></span><ul class=\"toc-item\"><li><span><a href=\"#4.1.1-Делаем-случайную-квадратную-матрицу-$P$-с-размером,-равным-количеству-признаков-в-обучающей-выборке.\" data-toc-modified-id=\"4.1.1-Делаем-случайную-квадратную-матрицу-$P$-с-размером,-равным-количеству-признаков-в-обучающей-выборке.-6.1.1\"><span class=\"toc-item-num\">6.1.1&nbsp;&nbsp;</span>4.1.1 Делаем случайную квадратную матрицу $P$ с размером, равным количеству признаков в обучающей выборке.</a></span></li><li><span><a href=\"#4.1.2-Функция-гарантированного-создания-обратимой-матрицы.\" data-toc-modified-id=\"4.1.2-Функция-гарантированного-создания-обратимой-матрицы.-6.1.2\"><span class=\"toc-item-num\">6.1.2&nbsp;&nbsp;</span>4.1.2 Функция гарантированного создания обратимой матрицы.</a></span></li><li><span><a href=\"#4.1.3-Функция-гарантированного-создания-обратимой-матрицы-через-рекурсию.\" data-toc-modified-id=\"4.1.3-Функция-гарантированного-создания-обратимой-матрицы-через-рекурсию.-6.1.3\"><span class=\"toc-item-num\">6.1.3&nbsp;&nbsp;</span>4.1.3 Функция гарантированного создания обратимой матрицы через рекурсию.</a></span></li></ul></li><li><span><a href=\"#4.2.-Умножаем-признаки-обучающей-и-тестовой-выборок-на-матрицу-𝑃.\" data-toc-modified-id=\"4.2.-Умножаем-признаки-обучающей-и-тестовой-выборок-на-матрицу-𝑃.-6.2\"><span class=\"toc-item-num\">6.2&nbsp;&nbsp;</span>4.2. Умножаем признаки обучающей и тестовой выборок на матрицу 𝑃.</a></span></li><li><span><a href=\"#4.3.-Создание-класса-c-функциями-обучения-и-предсказания.\" data-toc-modified-id=\"4.3.-Создание-класса-c-функциями-обучения-и-предсказания.-6.3\"><span class=\"toc-item-num\">6.3&nbsp;&nbsp;</span>4.3. Создание класса c функциями обучения и предсказания.</a></span></li><li><span><a href=\"#4.4.-Функция-для-обучения-модели,-предсказания-целевого-признака-и-расчёта-метрик.\" data-toc-modified-id=\"4.4.-Функция-для-обучения-модели,-предсказания-целевого-признака-и-расчёта-метрик.-6.4\"><span class=\"toc-item-num\">6.4&nbsp;&nbsp;</span>4.4. Функция для обучения модели, предсказания целевого признака и расчёта метрик.</a></span></li><li><span><a href=\"#4.5.-Сравнение-метрик-классической-и-нашей-моделей-линейной-регрессии-для-исходной-и-преобразованной-матриц.\" data-toc-modified-id=\"4.5.-Сравнение-метрик-классической-и-нашей-моделей-линейной-регрессии-для-исходной-и-преобразованной-матриц.-6.5\"><span class=\"toc-item-num\">6.5&nbsp;&nbsp;</span>4.5. Сравнение метрик классической и нашей моделей линейной регрессии для исходной и преобразованной матриц.</a></span></li></ul></li><li><span><a href=\"#5.-Чек-лист-проверки.\" data-toc-modified-id=\"5.-Чек-лист-проверки.-7\"><span class=\"toc-item-num\">7&nbsp;&nbsp;</span>5. Чек-лист проверки.</a></span></li><li><span><a href=\"#6.-Общий-вывод.\" data-toc-modified-id=\"6.-Общий-вывод.-8\"><span class=\"toc-item-num\">8&nbsp;&nbsp;</span>6. Общий вывод.</a></span></li></ul></div>"
   ]
  },
  {
   "cell_type": "markdown",
   "metadata": {},
   "source": [
    "### Задание на проект\n",
    "\n",
    "Вам нужно защитить данные клиентов страховой компании «Хоть потоп». Разработайте такой метод преобразования данных, чтобы по ним было сложно восстановить персональную информацию. Обоснуйте корректность его работы.\n",
    "\n",
    "Нужно защитить данные, чтобы при преобразовании качество моделей машинного обучения не ухудшилось. Подбирать наилучшую модель не требуется.\n",
    "\n",
    "\n",
    "### Описание данных\n",
    "\n",
    "Набор данных находится в файле insurance.csv.\n",
    "* Признаки: пол, возраст и зарплата застрахованного, количество членов его семьи.\n",
    "* Целевой признак: количество страховых выплат клиенту за последние 5 лет.\n",
    "\n",
    "### План работы\n",
    "\n",
    "1.Загружаем и изучаем данные.\n",
    "\n",
    "2.Отвечаем на вопрос и обосновываем свое решение.\n",
    "\n",
    "Признаки умножаем на обратимую матрицу. Проверяем, изменится ли качество линейной регрессии? (В любом случае, её можно обучить заново.)\n",
    "\n",
    "a) Изменится. Приводим примеры матриц.\n",
    "\n",
    "b) Не изменится. Указываем, как связаны параметры линейной регрессии в исходной задаче и в преобразованной.\n",
    "\n",
    "3.Предлагаем алгоритм преобразования данных для решения задачи. Обосновываем, почему качество линейной регрессии не поменяется.\n",
    "\n",
    "4.Программируем этот алгоритм, применив матричные операции. Проверяем, что качество линейной регрессии из sklearn не отличается до и после преобразования. Применяем метрику R2."
   ]
  },
  {
   "cell_type": "markdown",
   "metadata": {},
   "source": [
    "## 1. Загрузка данных."
   ]
  },
  {
   "cell_type": "code",
   "execution_count": 47,
   "metadata": {},
   "outputs": [],
   "source": [
    "# Все import соберем в начале проекта:\n",
    "import warnings\n",
    "warnings.filterwarnings('ignore')\n",
    "\n",
    "import pandas as pd\n",
    "import numpy as np\n",
    "import seaborn as sns\n",
    "\n",
    "import matplotlib.pyplot as plt\n",
    "from sklearn.model_selection import train_test_split\n",
    "from sklearn.linear_model import LinearRegression\n",
    "from sklearn.metrics import r2_score, mean_squared_error\n",
    "\n",
    "\n",
    "# Не ограничиваем максимальное количество отображающихся столбцов\n",
    "pd.set_option('display.max_columns', None) \n",
    "\n",
    "# Настроим, чтобы числа в датасетах отражались с 3 знаками после запятой;\n",
    "pd.set_option('display.float_format', '{:.3f}'.format) \n",
    "\n",
    "RANDOM_FIX_NUMBER = 12345  # Введем глобальную переменную для значения random_state"
   ]
  },
  {
   "cell_type": "markdown",
   "metadata": {},
   "source": [
    "### 1.1. Загрузка локального и удаленного файла с данными:\n",
    "\n",
    "Изучили файл с предоставленными данными insurance.csv и применяем символ запятая для разделения данных:"
   ]
  },
  {
   "cell_type": "code",
   "execution_count": 48,
   "metadata": {},
   "outputs": [
    {
     "name": "stdout",
     "output_type": "stream",
     "text": [
      "Local datasets is loaded successfully.\n"
     ]
    }
   ],
   "source": [
    "dataset_remote_path = 'https://code.s3.yandex.net/datasets/insurance.csv'\n",
    "\n",
    "dataset_local_path = 'datasets/insurance.csv'\n",
    "\n",
    "try:\n",
    "    data = pd.read_csv(dataset_local_path, sep=',')\n",
    "    print('Local datasets is loaded successfully.')\n",
    "except:\n",
    "    data = pd.read_csv(dataset_remote_path, sep=',')\n",
    "    print('Remote datasets is loaded successfully.')"
   ]
  },
  {
   "cell_type": "markdown",
   "metadata": {},
   "source": [
    "### 1.2. Изучим датасет.\n",
    "\n",
    "#### 1.2.1. Размер данных в изучаемом файле:"
   ]
  },
  {
   "cell_type": "code",
   "execution_count": 49,
   "metadata": {},
   "outputs": [
    {
     "data": {
      "text/plain": [
       "((5000, 5), 25000)"
      ]
     },
     "execution_count": 49,
     "metadata": {},
     "output_type": "execute_result"
    }
   ],
   "source": [
    "# Найдем размер датасета.   \n",
    "data.shape, data.size"
   ]
  },
  {
   "cell_type": "markdown",
   "metadata": {},
   "source": [
    "Набор данных довольно большой: 5 000 строк х 5 столбцов.\n",
    "\n",
    "#### 1.2.2. Информация, содержащаяся в столбцах:"
   ]
  },
  {
   "cell_type": "code",
   "execution_count": 50,
   "metadata": {},
   "outputs": [
    {
     "data": {
      "text/html": [
       "<div>\n",
       "<style scoped>\n",
       "    .dataframe tbody tr th:only-of-type {\n",
       "        vertical-align: middle;\n",
       "    }\n",
       "\n",
       "    .dataframe tbody tr th {\n",
       "        vertical-align: top;\n",
       "    }\n",
       "\n",
       "    .dataframe thead th {\n",
       "        text-align: right;\n",
       "    }\n",
       "</style>\n",
       "<table border=\"1\" class=\"dataframe\">\n",
       "  <thead>\n",
       "    <tr style=\"text-align: right;\">\n",
       "      <th></th>\n",
       "      <th>Пол</th>\n",
       "      <th>Возраст</th>\n",
       "      <th>Зарплата</th>\n",
       "      <th>Члены семьи</th>\n",
       "      <th>Страховые выплаты</th>\n",
       "    </tr>\n",
       "  </thead>\n",
       "  <tbody>\n",
       "    <tr>\n",
       "      <th>0</th>\n",
       "      <td>1</td>\n",
       "      <td>41.000</td>\n",
       "      <td>49600.000</td>\n",
       "      <td>1</td>\n",
       "      <td>0</td>\n",
       "    </tr>\n",
       "    <tr>\n",
       "      <th>1</th>\n",
       "      <td>0</td>\n",
       "      <td>46.000</td>\n",
       "      <td>38000.000</td>\n",
       "      <td>1</td>\n",
       "      <td>1</td>\n",
       "    </tr>\n",
       "    <tr>\n",
       "      <th>2</th>\n",
       "      <td>0</td>\n",
       "      <td>29.000</td>\n",
       "      <td>21000.000</td>\n",
       "      <td>0</td>\n",
       "      <td>0</td>\n",
       "    </tr>\n",
       "    <tr>\n",
       "      <th>3</th>\n",
       "      <td>0</td>\n",
       "      <td>21.000</td>\n",
       "      <td>41700.000</td>\n",
       "      <td>2</td>\n",
       "      <td>0</td>\n",
       "    </tr>\n",
       "    <tr>\n",
       "      <th>4</th>\n",
       "      <td>1</td>\n",
       "      <td>28.000</td>\n",
       "      <td>26100.000</td>\n",
       "      <td>0</td>\n",
       "      <td>0</td>\n",
       "    </tr>\n",
       "  </tbody>\n",
       "</table>\n",
       "</div>"
      ],
      "text/plain": [
       "   Пол  Возраст  Зарплата  Члены семьи  Страховые выплаты\n",
       "0    1   41.000 49600.000            1                  0\n",
       "1    0   46.000 38000.000            1                  1\n",
       "2    0   29.000 21000.000            0                  0\n",
       "3    0   21.000 41700.000            2                  0\n",
       "4    1   28.000 26100.000            0                  0"
      ]
     },
     "execution_count": 50,
     "metadata": {},
     "output_type": "execute_result"
    }
   ],
   "source": [
    "data.head()"
   ]
  },
  {
   "cell_type": "markdown",
   "metadata": {},
   "source": [
    "В нашем dataset всего 5 столбцов со следующей информацией:\n",
    "    \n",
    "**Признаки**\n",
    "* Пол.\n",
    "* Возраст.\n",
    "* Зарплата застрахованного.\n",
    "* Члены семьи — количество членов его семьи.\n",
    "\n",
    "**Целевой признак**\n",
    "* Страховые выплаты — количество страховых выплат клиенту за последние 5 лет."
   ]
  },
  {
   "cell_type": "markdown",
   "metadata": {},
   "source": [
    "#### 1.2.3. Проверка корректности названия столбцов.\n",
    "\n",
    "Удовлетворительно. Названия столбцов изменять не будем.\n",
    "\n",
    "#### 1.2.4. Поиск дубликатов "
   ]
  },
  {
   "cell_type": "code",
   "execution_count": 51,
   "metadata": {},
   "outputs": [
    {
     "data": {
      "text/plain": [
       "153"
      ]
     },
     "execution_count": 51,
     "metadata": {},
     "output_type": "execute_result"
    }
   ],
   "source": [
    "data.duplicated().sum()"
   ]
  },
  {
   "cell_type": "markdown",
   "metadata": {},
   "source": [
    "Видим, что дубликатов не много. Только 153 их общего массива в 5000. И их можно смело удалить.\n",
    "Тем не менее, сначала посмотрим их подробнее."
   ]
  },
  {
   "cell_type": "code",
   "execution_count": 52,
   "metadata": {
    "scrolled": true
   },
   "outputs": [
    {
     "data": {
      "text/html": [
       "<div>\n",
       "<style scoped>\n",
       "    .dataframe tbody tr th:only-of-type {\n",
       "        vertical-align: middle;\n",
       "    }\n",
       "\n",
       "    .dataframe tbody tr th {\n",
       "        vertical-align: top;\n",
       "    }\n",
       "\n",
       "    .dataframe thead th {\n",
       "        text-align: right;\n",
       "    }\n",
       "</style>\n",
       "<table border=\"1\" class=\"dataframe\">\n",
       "  <thead>\n",
       "    <tr style=\"text-align: right;\">\n",
       "      <th></th>\n",
       "      <th>Пол</th>\n",
       "      <th>Возраст</th>\n",
       "      <th>Зарплата</th>\n",
       "      <th>Члены семьи</th>\n",
       "      <th>Страховые выплаты</th>\n",
       "    </tr>\n",
       "  </thead>\n",
       "  <tbody>\n",
       "    <tr>\n",
       "      <th>281</th>\n",
       "      <td>1</td>\n",
       "      <td>39.000</td>\n",
       "      <td>48100.000</td>\n",
       "      <td>1</td>\n",
       "      <td>0</td>\n",
       "    </tr>\n",
       "    <tr>\n",
       "      <th>488</th>\n",
       "      <td>1</td>\n",
       "      <td>24.000</td>\n",
       "      <td>32900.000</td>\n",
       "      <td>1</td>\n",
       "      <td>0</td>\n",
       "    </tr>\n",
       "    <tr>\n",
       "      <th>513</th>\n",
       "      <td>0</td>\n",
       "      <td>31.000</td>\n",
       "      <td>37400.000</td>\n",
       "      <td>2</td>\n",
       "      <td>0</td>\n",
       "    </tr>\n",
       "    <tr>\n",
       "      <th>718</th>\n",
       "      <td>1</td>\n",
       "      <td>22.000</td>\n",
       "      <td>32600.000</td>\n",
       "      <td>1</td>\n",
       "      <td>0</td>\n",
       "    </tr>\n",
       "    <tr>\n",
       "      <th>785</th>\n",
       "      <td>0</td>\n",
       "      <td>20.000</td>\n",
       "      <td>35800.000</td>\n",
       "      <td>0</td>\n",
       "      <td>0</td>\n",
       "    </tr>\n",
       "    <tr>\n",
       "      <th>...</th>\n",
       "      <td>...</td>\n",
       "      <td>...</td>\n",
       "      <td>...</td>\n",
       "      <td>...</td>\n",
       "      <td>...</td>\n",
       "    </tr>\n",
       "    <tr>\n",
       "      <th>4793</th>\n",
       "      <td>1</td>\n",
       "      <td>24.000</td>\n",
       "      <td>37800.000</td>\n",
       "      <td>0</td>\n",
       "      <td>0</td>\n",
       "    </tr>\n",
       "    <tr>\n",
       "      <th>4902</th>\n",
       "      <td>1</td>\n",
       "      <td>35.000</td>\n",
       "      <td>38700.000</td>\n",
       "      <td>1</td>\n",
       "      <td>0</td>\n",
       "    </tr>\n",
       "    <tr>\n",
       "      <th>4935</th>\n",
       "      <td>1</td>\n",
       "      <td>19.000</td>\n",
       "      <td>32700.000</td>\n",
       "      <td>0</td>\n",
       "      <td>0</td>\n",
       "    </tr>\n",
       "    <tr>\n",
       "      <th>4945</th>\n",
       "      <td>1</td>\n",
       "      <td>21.000</td>\n",
       "      <td>45800.000</td>\n",
       "      <td>0</td>\n",
       "      <td>0</td>\n",
       "    </tr>\n",
       "    <tr>\n",
       "      <th>4965</th>\n",
       "      <td>0</td>\n",
       "      <td>22.000</td>\n",
       "      <td>40100.000</td>\n",
       "      <td>1</td>\n",
       "      <td>0</td>\n",
       "    </tr>\n",
       "  </tbody>\n",
       "</table>\n",
       "<p>153 rows × 5 columns</p>\n",
       "</div>"
      ],
      "text/plain": [
       "      Пол  Возраст  Зарплата  Члены семьи  Страховые выплаты\n",
       "281     1   39.000 48100.000            1                  0\n",
       "488     1   24.000 32900.000            1                  0\n",
       "513     0   31.000 37400.000            2                  0\n",
       "718     1   22.000 32600.000            1                  0\n",
       "785     0   20.000 35800.000            0                  0\n",
       "...   ...      ...       ...          ...                ...\n",
       "4793    1   24.000 37800.000            0                  0\n",
       "4902    1   35.000 38700.000            1                  0\n",
       "4935    1   19.000 32700.000            0                  0\n",
       "4945    1   21.000 45800.000            0                  0\n",
       "4965    0   22.000 40100.000            1                  0\n",
       "\n",
       "[153 rows x 5 columns]"
      ]
     },
     "metadata": {},
     "output_type": "display_data"
    }
   ],
   "source": [
    "duplicated_data = data[data.duplicated()]\n",
    "display(duplicated_data)"
   ]
  },
  {
   "cell_type": "markdown",
   "metadata": {},
   "source": [
    "Вообще говоря, они могут и не оказаться дубликатами. Большинство признаков - категориальные. Да и  значение заработной платы округлено до сотых. \n",
    "\n",
    "Тем не менее, так как объяснений дублированию у нас нет, удалим повторяющиеся объекты. Особенно в связи с их малочисленностью."
   ]
  },
  {
   "cell_type": "code",
   "execution_count": 53,
   "metadata": {},
   "outputs": [
    {
     "data": {
      "text/plain": [
       "(4847, 5)"
      ]
     },
     "execution_count": 53,
     "metadata": {},
     "output_type": "execute_result"
    }
   ],
   "source": [
    "# Удалим явные дубликаты.\n",
    "data = data.drop_duplicates()\n",
    "data.shape"
   ]
  },
  {
   "cell_type": "markdown",
   "metadata": {},
   "source": [
    "#### 1.2.5. Пропущенные данные."
   ]
  },
  {
   "cell_type": "code",
   "execution_count": 54,
   "metadata": {},
   "outputs": [
    {
     "data": {
      "text/plain": [
       "Пол                  0\n",
       "Возраст              0\n",
       "Зарплата             0\n",
       "Члены семьи          0\n",
       "Страховые выплаты    0\n",
       "dtype: int64"
      ]
     },
     "execution_count": 54,
     "metadata": {},
     "output_type": "execute_result"
    }
   ],
   "source": [
    "data.isna().sum()"
   ]
  },
  {
   "cell_type": "markdown",
   "metadata": {},
   "source": [
    "Пропущенных данных нет.\n",
    "\n",
    "#### 1.2.6. Изучим наши данные на мультиколлинеарность признаков.\n",
    "\n",
    "Посмотрим взаимную корреляцию признаков датасета:"
   ]
  },
  {
   "cell_type": "code",
   "execution_count": 55,
   "metadata": {},
   "outputs": [
    {
     "data": {
      "image/png": "[encoded data removed]",
      "text/plain": [
       "<Figure size 1200x500 with 2 Axes>"
      ]
     },
     "metadata": {},
     "output_type": "display_data"
    }
   ],
   "source": [
    "plt.figure(figsize = (12,5))\n",
    "_ = sns.heatmap(data.corr(), vmax=1, vmin=-1, annot=True)"
   ]
  },
  {
   "cell_type": "markdown",
   "metadata": {},
   "source": [
    "Отмечаем сильную зависимость между возрастом и страховыми выплатами. Больше зависимостей между признаками нет. "
   ]
  },
  {
   "cell_type": "markdown",
   "metadata": {},
   "source": [
    "#### 1.2.7. Визуальная оценка нормальности распределений.\n",
    "\n",
    "Построим общую диаграмму для всех признаков:"
   ]
  },
  {
   "cell_type": "code",
   "execution_count": 56,
   "metadata": {},
   "outputs": [
    {
     "data": {
      "image/png": "[encoded data removed]",
      "text/plain": [
       "<Figure size 1000x1200 with 6 Axes>"
      ]
     },
     "metadata": {},
     "output_type": "display_data"
    }
   ],
   "source": [
    "data.hist(figsize=(10, 12));"
   ]
  },
  {
   "cell_type": "markdown",
   "metadata": {},
   "source": [
    "Видим, что кроме признака *Пол*, все другие не имеет нормальное распределение."
   ]
  },
  {
   "cell_type": "markdown",
   "metadata": {},
   "source": [
    "#### 1.2.8. Изучим каждый признак:"
   ]
  },
  {
   "cell_type": "code",
   "execution_count": 57,
   "metadata": {},
   "outputs": [
    {
     "data": {
      "text/plain": [
       "0    2431\n",
       "1    2416\n",
       "Name: Пол, dtype: int64"
      ]
     },
     "execution_count": 57,
     "metadata": {},
     "output_type": "execute_result"
    }
   ],
   "source": [
    "# Изучим значение признака 'gender':\n",
    "data['Пол'].value_counts()"
   ]
  },
  {
   "cell_type": "markdown",
   "metadata": {},
   "source": [
    "Клиенты распределены по половому признаку одинаково."
   ]
  },
  {
   "cell_type": "code",
   "execution_count": 58,
   "metadata": {},
   "outputs": [
    {
     "data": {
      "text/plain": [
       "count   4847.000\n",
       "mean      31.024\n",
       "std        8.488\n",
       "min       18.000\n",
       "25%       24.000\n",
       "50%       30.000\n",
       "75%       37.000\n",
       "max       65.000\n",
       "Name: Возраст, dtype: float64"
      ]
     },
     "execution_count": 58,
     "metadata": {},
     "output_type": "execute_result"
    }
   ],
   "source": [
    "# Изучим значение признака 'Возраст':\n",
    "data['Возраст'].describe()"
   ]
  },
  {
   "cell_type": "markdown",
   "metadata": {},
   "source": [
    "* Клиенты распределены по возрасту в диапазоне от 18 до 65 лет. \n",
    "* Аномальных значений нет. Среднее значение (31 год) очень близко значению медианы (30 лет)."
   ]
  },
  {
   "cell_type": "code",
   "execution_count": 59,
   "metadata": {},
   "outputs": [
    {
     "data": {
      "text/plain": [
       "count    4847.000\n",
       "mean    39895.812\n",
       "std      9972.954\n",
       "min      5300.000\n",
       "25%     33200.000\n",
       "50%     40200.000\n",
       "75%     46600.000\n",
       "max     79000.000\n",
       "Name: Зарплата, dtype: float64"
      ]
     },
     "execution_count": 59,
     "metadata": {},
     "output_type": "execute_result"
    }
   ],
   "source": [
    "# Изучим значение признака 'Зарплата':\n",
    "data['Зарплата'].describe()"
   ]
  },
  {
   "cell_type": "markdown",
   "metadata": {},
   "source": [
    "Видим, что:\n",
    "1) Значение зарплат Клиентов находится в диапазоне от 5 300 до 79 000 руб\n",
    "2) Аномальных значений нет, и среднее значение (39 895 руб) очень близко медианному значению (40 200 руб).\n",
    "3) Отмечаем симметричное нормальное распределение данных по зарплатам Клиентов."
   ]
  },
  {
   "cell_type": "code",
   "execution_count": 60,
   "metadata": {},
   "outputs": [
    {
     "data": {
      "text/plain": [
       "1    1748\n",
       "0    1461\n",
       "2    1038\n",
       "3     437\n",
       "4     124\n",
       "5      32\n",
       "6       7\n",
       "Name: Члены семьи, dtype: int64"
      ]
     },
     "execution_count": 60,
     "metadata": {},
     "output_type": "execute_result"
    }
   ],
   "source": [
    "# Изучим значение признака 'Члены семьи':\n",
    "data['Члены семьи'].value_counts()"
   ]
  },
  {
   "cell_type": "markdown",
   "metadata": {},
   "source": [
    "Клиенты или имеют детей в количестве от 1 до 6, или бездетные."
   ]
  },
  {
   "cell_type": "code",
   "execution_count": 61,
   "metadata": {},
   "outputs": [
    {
     "data": {
      "text/plain": [
       "0    4284\n",
       "1     423\n",
       "2     114\n",
       "3      18\n",
       "4       7\n",
       "5       1\n",
       "Name: Страховые выплаты, dtype: int64"
      ]
     },
     "execution_count": 61,
     "metadata": {},
     "output_type": "execute_result"
    }
   ],
   "source": [
    "# Изучим значение признака 'Страховые выплаты':\n",
    "data['Страховые выплаты'].value_counts()"
   ]
  },
  {
   "cell_type": "markdown",
   "metadata": {},
   "source": [
    "Большинство Клиентов не имели страховых выплат или получали их в количестве от 1 до 5."
   ]
  },
  {
   "cell_type": "markdown",
   "metadata": {},
   "source": [
    "### 1.3. Подготовим датасеты."
   ]
  },
  {
   "cell_type": "code",
   "execution_count": 62,
   "metadata": {},
   "outputs": [],
   "source": [
    "# Выделим целевой признак:\n",
    "features = data.drop('Страховые выплаты', axis=1)\n",
    "target = data['Страховые выплаты']\n",
    "\n",
    "# Разделим данные на обучающую и тестовую выборки в соотношении 80:20:\n",
    "features_train, features_test, target_train, target_test = train_test_split(\n",
    "    features, target, test_size=0.2, random_state=RANDOM_FIX_NUMBER)"
   ]
  },
  {
   "cell_type": "markdown",
   "metadata": {},
   "source": [
    "### 1.4. Промежуточные выводы.\n",
    "\n",
    "1.Загрузка данных провелена успешно.\n",
    "\n",
    "2.Набор данных довольно большой: 5 000 строк х 5 столбцов.\n",
    "\n",
    "3.Названия столбцов не требуют корректировки.\n",
    "\n",
    "4.Явные дубликаты удалены.\n",
    "\n",
    "5.Пропущенных данных нет.\n",
    "\n",
    "6.Отмечена сильная зависимость между возрастом и страховыми выплатами. Это вполне разумно.\n",
    "\n",
    "7.Аномальных значений не обнаружено."
   ]
  },
  {
   "cell_type": "markdown",
   "metadata": {},
   "source": [
    "## 2. Умножение матриц."
   ]
  },
  {
   "cell_type": "markdown",
   "metadata": {},
   "source": [
    "**Инструкция:** \n",
    "\n",
    "В этом задании вы можете записывать формулы в *Jupyter Notebook.*\n",
    "\n",
    "Чтобы записать формулу внутри текста, окружите её символами доллара \\\\$; если снаружи —  двойными символами \\\\$\\\\$. Эти формулы записываются на языке вёрстки *LaTeX.* \n",
    "\n",
    "Для примера мы записали формулы линейной регрессии. Можете их скопировать и отредактировать, чтобы решить задачу.\n",
    "\n",
    "Работать в *LaTeX* необязательно.\n",
    "\n",
    "Предсказания:\n",
    "\n",
    "$$\n",
    "a = Xw\n",
    "$$\n",
    "\n",
    "Задача обучения:\n",
    "\n",
    "$$\n",
    "w = \\arg\\min_w MSE(Xw, y)\n",
    "$$\n",
    "\n",
    "Формула обучения:\n",
    "\n",
    "$$\n",
    "w[X] = (X^T X)^{-1} X^T y\n",
    "$$\n",
    "\n",
    "Обозначения:\n",
    "\n",
    "- $X$ — матрица признаков (нулевой столбец состоит из единиц)\n",
    "\n",
    "- $y$ — вектор целевого признака\n",
    "\n",
    "- $P$ — матрица, на которую умножаются признаки\n",
    "\n",
    "- $w$ — вектор весов линейной регрессии (нулевой элемент равен сдвигу)"
   ]
  },
  {
   "cell_type": "markdown",
   "metadata": {},
   "source": [
    "**Задание:** \n",
    "\n",
    "Отвечаем на вопрос и обосновываем свое решение.\n",
    "\n",
    "Признаки умножаем на обратимую матрицу. Проверяем, изменится ли качество линейной регрессии? (В любом случае, её можно обучить заново.)\n",
    "\n",
    "a) Изменится. Приводим примеры матриц.\n",
    "\n",
    "b) Не изменится. Указываем, как связаны параметры линейной регрессии в исходной задаче и в преобразованной.\n",
    "\n",
    "\n",
    "**Вопрос:** \n",
    "\n",
    "Признаки умножают на обратимую матрицу. Изменится ли качество линейной регрессии?.\n",
    "\n",
    "**Ответ:** \n",
    "\n",
    "Не изменится. \n",
    "\n",
    "**Обоснование:** \n",
    "\n",
    "Что означает, что качество линейной регрессии не изменится при умножении признаков на обратимую матрицу? Это означает, что предсказание останется прежним. \n",
    "\n",
    "Докажем это. \n",
    "\n",
    "**Первый способ**. Предсказание рассчитывается, как : $a = X w$\n",
    "\n",
    "Формула обучения весов модели:\n",
    "$$\n",
    "w = (X^T X)^{-1} X^T y\n",
    "$$\n",
    "\n",
    "Домножим матрицу признаков X на некоторую обратимую матрицу $P$ (т.е., обладающую свойством $PP^{-1}=E$, где $E$ - единичная матрица): \n",
    "\n",
    "$$\n",
    "w_P = ((XP)^T XP)^{-1} (XP)^T y\n",
    "$$ \n",
    "\n",
    "Применим формулу $(AB)^T=B^T A^T$ и получим:\n",
    "   \n",
    "$$\n",
    "w_P = (P^TX^T XP)^{-1} P^TX^T y\n",
    "$$ \n",
    "        \n",
    "Применим формулу $(ABС)^{-1} = С^{-1}B^{-1}A^{-1}$:\n",
    "        \n",
    "$$\n",
    "w_P = P^{-1} (X^T X)^{-1} (P^T)^{-1} P^T X^T y\n",
    "$$\n",
    "        \n",
    "Отмечаем, что $(P^T)^{-1} P^T = E$, поэтому формула упроститься:\n",
    "\n",
    "$$\n",
    "w_P = P^{-1} (X^T X)^{-1} X^T y\n",
    "$$\n",
    "        \n",
    "Используем формулу обучения весов модели $w = (X^T X)^{-1} X^T y$:\n",
    "        \n",
    "$$\n",
    "w_P = P^{-1} w\n",
    "$$\n",
    "\n",
    "**Тогда, по формуле предсказаний $a=Xw$:**\n",
    "        \n",
    "$$a_p=X_p w_p$$\n",
    "        \n",
    "Применим $X_p = X P$ и $w_P = P^{-1} w$:\n",
    "        \n",
    "$$a_p=X P P^{-1} w = X w = a$$\n",
    "        \n",
    "В итоге, мы получили, что $a = a_p$!  \n",
    "\n",
    "**Второй способ**, доказательство через \n",
    "        $w_P = \\arg\\min_w MSE(XPw_p, y)$\n",
    "        \n",
    "        \n",
    "Применим ранее нами полученное: $w_P = P^{-1} w$:\n",
    "\n",
    "$$\n",
    "w_P = \\arg\\min_w MSE(X P P^{-1} w, y)\n",
    "$$\n",
    "\n",
    "Далее, уже известное: $(P^T)^{-1} P^T = E$, и формула упроститься:        \n",
    "\n",
    "$$\n",
    "w_P = \\arg\\min_w MSE(X w, y)\n",
    "$$\n"
   ]
  },
  {
   "cell_type": "markdown",
   "metadata": {},
   "source": [
    "**В соответствии с заданием, выполняем задачу:**\n",
    "\n",
    "*b) Не изменится. Указываем, как связаны параметры линейной регрессии в исходной задаче и в преобразованной.*\n",
    "\n",
    "Создадим сокращенную запись массива на основе обучающей выборки с добавлением столбца, состоящего из единиц и находящегося в нулевой позиции:"
   ]
  },
  {
   "cell_type": "code",
   "execution_count": 63,
   "metadata": {},
   "outputs": [
    {
     "name": "stdout",
     "output_type": "stream",
     "text": [
      "Коэффициенты линейной регрессии:\n",
      " [-9.74238661e-01  1.52535832e-02  3.64619543e-02  1.79690961e-07\n",
      " -1.41285669e-02]\n",
      "Коэффициенты линейной регрессии без величины сдвига w0:\n",
      " [ 1.52535832e-02  3.64619543e-02  1.79690961e-07 -1.41285669e-02]\n"
     ]
    }
   ],
   "source": [
    "X = np.concatenate((np.ones((features_train.shape[0], 1)), \n",
    "                    features_train), axis=1) #построчно\n",
    "y = target_train \n",
    "\n",
    "# Используем формулу обучения:\n",
    "w = np.linalg.inv(X.T @ X) @ X.T @ y \n",
    "\n",
    "print(\"Коэффициенты линейной регрессии:\\n\", w)\n",
    "\n",
    "print(\"Коэффициенты линейной регрессии без величины сдвига w0:\\n\", w[1:])"
   ]
  },
  {
   "cell_type": "code",
   "execution_count": 64,
   "metadata": {},
   "outputs": [
    {
     "name": "stdout",
     "output_type": "stream",
     "text": [
      "Коэффициенты линейной регрессии:\n",
      " [ 1.52535832e-02  3.64619543e-02  1.79690961e-07 -1.41285669e-02]\n"
     ]
    }
   ],
   "source": [
    "# Найдем коэффициенты линейной регрессии \n",
    "# по модели LinearRegression() из библиотеки sklearn\n",
    "\n",
    "lin_reg = LinearRegression()\n",
    "lin_reg.fit(features_train, target_train)\n",
    "\n",
    "print(\"Коэффициенты линейной регрессии:\\n\", lin_reg.coef_)"
   ]
  },
  {
   "cell_type": "code",
   "execution_count": 65,
   "metadata": {},
   "outputs": [
    {
     "name": "stdout",
     "output_type": "stream",
     "text": [
      "     Сокращенная запись  LinearRegression       Разница\n",
      "k1:        0.0152535832      0.0152535832 -0.0000000000\n",
      "k2:        0.0364619543      0.0364619543  0.0000000000\n",
      "k3:        0.0000001797      0.0000001797 -0.0000000000\n",
      "k4:       -0.0141285669     -0.0141285669 -0.0000000000\n"
     ]
    }
   ],
   "source": [
    "# Настроим, чтобы числа в датасетах отражались с 3 знаками после запятой;\n",
    "pd.set_option('display.float_format', '{:.10f}'.format) \n",
    "    \n",
    "table = pd.DataFrame({'Сокращенная запись' : w[1:], \n",
    "                      'LinearRegression' : lin_reg.coef_,\n",
    "                      'Разница' : w[1:] - lin_reg.coef_,\n",
    "                     }, index=['k1:', 'k2:', 'k3:', 'k4:'])\n",
    "print(table)                        "
   ]
  },
  {
   "cell_type": "markdown",
   "metadata": {},
   "source": [
    "**Промежуточный вывод.**\n",
    "\n",
    "* При умножении матрицы признаков на обратимую матрицу, вектор целевого признака не меняется и, следовательно, качество линейной регрессии не меняется. Конечно, матрица признаков при этом стала другой.\n",
    "\n",
    "* Параметры линейной регрессии в исходной задаче и в преобразованной полностью идентичны."
   ]
  },
  {
   "cell_type": "markdown",
   "metadata": {},
   "source": [
    "## 3. Алгоритм преобразования."
   ]
  },
  {
   "cell_type": "markdown",
   "metadata": {},
   "source": [
    "**Задание:**\n",
    "\n",
    "Предложите алгоритм преобразования данных для решения задачи. Обоснуйте, почему качество линейной регрессии не поменяется."
   ]
  },
  {
   "cell_type": "markdown",
   "metadata": {},
   "source": [
    "**Алгоритм:**\n",
    "\n",
    "Используем полученный в предыдущем разделе опыт с информацией о том, что умножение признаков на любую обратимую матрицу с размерностью с высотой, равной количеству признаков, не меняет качество линейной регрессии и не меняет значение предсказания.\n",
    "\n",
    "1) Создаем случайную *обратимую* квадратную матрицу $P$ с размером, равным количеству признаков в исходном датасете. \n",
    "\n",
    "2) Умножаем признаки обучающей и тестовой выборок на матрицу $P$.\n",
    "\n",
    "3) Создаем класс с функциями обучения и предсказания.\n",
    "\n",
    "4) Обучаем модель и предсказываем целевой признак.\n",
    "\n",
    "5) Считаем R2 и сравниваем метрики R2 модели для исходной и преобразованной матриц."
   ]
  },
  {
   "cell_type": "markdown",
   "metadata": {},
   "source": [
    "**Обоснование:**\n",
    "\n",
    "Создаем гипотезу о равенстве предсказаний для исходной $a$ и преобразованной $a'$ матриц: $$a = a'$$   $$Xw = X'w'$$\n",
    "\n",
    "Выше было установлено, что:\n",
    "\n",
    "*При умножении матрицы признаков на обратимую матрицу, вектор целевого признака не меняется и, следовательно, качество линейной регрессии не меняется.*:\n",
    "\n",
    "$$X(X^T X)^{-1} X^T y = (XP) ((XP)^T (XP))^{-1} (XP)^T y$$"
   ]
  },
  {
   "cell_type": "markdown",
   "metadata": {},
   "source": [
    "## 4. Проверка алгоритма."
   ]
  },
  {
   "cell_type": "markdown",
   "metadata": {},
   "source": [
    "**Задание**\n",
    "\n",
    "Запрограммируйте свой алгоритм преобразования, применив матричные операции. Проверьте, что качество линейной регрессии из sklearn не отличается до и после преобразования. Примените метрику R2."
   ]
  },
  {
   "cell_type": "markdown",
   "metadata": {},
   "source": [
    "### 4.1. Создание случайной *обратимой* матрицы $P$\n",
    "\n",
    "Посредством матрицы $P$ реализуем метод преобразования данных так, чтобы по ним было сложно восстановить персональную информацию Клиентов страховой компании.\n",
    "\n",
    "#### 4.1.1 Делаем случайную квадратную матрицу $P$ с размером, равным количеству признаков в обучающей выборке."
   ]
  },
  {
   "cell_type": "code",
   "execution_count": 66,
   "metadata": {},
   "outputs": [
    {
     "name": "stdout",
     "output_type": "stream",
     "text": [
      "Матрица P:\n"
     ]
    },
    {
     "data": {
      "text/plain": [
       "array([[ 0.08743,  0.04624,  0.9573 ,  0.8173 ],\n",
       "       [-0.39496, -0.94892, -0.01471,  1.28718],\n",
       "       [-0.84312,  0.76594,  1.03716,  0.34643],\n",
       "       [-0.15846, -1.09216,  0.21284, -0.4798 ]])"
      ]
     },
     "metadata": {},
     "output_type": "display_data"
    },
    {
     "name": "stdout",
     "output_type": "stream",
     "text": [
      "\n",
      "Проверка на единичную матрицу:\n"
     ]
    },
    {
     "data": {
      "text/plain": [
       "array([[ 1.,  0., -0., -0.],\n",
       "       [-0.,  1.,  0., -0.],\n",
       "       [-0., -0.,  1., -0.],\n",
       "       [-0., -0., -0.,  1.]])"
      ]
     },
     "metadata": {},
     "output_type": "display_data"
    }
   ],
   "source": [
    "P = np.random.normal(size=(features_train.shape[1], features_train.shape[1]))\n",
    "\n",
    "print(\"Матрица P:\")\n",
    "display(P.round(5))\n",
    "\n",
    "# Для нахождения обратимой матрицы воспользуемся функцией numpy.linalg.inv(), \n",
    "# создав обратную матрицу.\n",
    "# Для проверки обратимости матрицы $P$, перемножим $P$ с обратной матрицей:\n",
    "\n",
    "print('\\nПроверка на единичную матрицу:')\n",
    "display((P @ np.linalg.inv(P)).round(5))"
   ]
  },
  {
   "cell_type": "markdown",
   "metadata": {},
   "source": [
    "#### 4.1.2 Функция гарантированного создания обратимой матрицы."
   ]
  },
  {
   "cell_type": "code",
   "execution_count": 67,
   "metadata": {},
   "outputs": [
    {
     "name": "stdout",
     "output_type": "stream",
     "text": [
      "Матрица P:\n",
      " [[-0.0476565   0.38592294  2.03155568  2.43710111]\n",
      " [ 1.48856863 -0.59596807 -1.007563   -0.65886428]\n",
      " [-1.18586121  0.9522244   0.1807659  -0.22034316]\n",
      " [ 0.59843142  1.68985033  0.08245736  0.42975857]]\n",
      "\n",
      "Проверка на единичную матрицу:\n"
     ]
    },
    {
     "data": {
      "text/plain": [
       "array([[ 1., -0.,  0., -0.],\n",
       "       [ 0.,  1.,  0., -0.],\n",
       "       [-0.,  0.,  1.,  0.],\n",
       "       [ 0.,  0.,  0.,  1.]])"
      ]
     },
     "metadata": {},
     "output_type": "display_data"
    }
   ],
   "source": [
    "# Функция создания матрицы до тех пор, пока не получим обратимую\n",
    "\n",
    "def get_rand_matrix():\n",
    "    det = 0\n",
    "    while det == 0:\n",
    "        # data.shape[1]-1 - исключаем w0\n",
    "        matrix = np.random.normal(size=(data.shape[1]-1, \n",
    "                                        data.shape[1]-1))\n",
    "        det = np.linalg.det(matrix)\n",
    "    return matrix\n",
    "\n",
    "P = get_rand_matrix()\n",
    "print('Матрица P:\\n', P)\n",
    "\n",
    "print('\\nПроверка на единичную матрицу:')\n",
    "display((P @ np.linalg.inv(P)).round(5))"
   ]
  },
  {
   "cell_type": "markdown",
   "metadata": {},
   "source": [
    "#### 4.1.3 Функция гарантированного создания обратимой матрицы через рекурсию."
   ]
  },
  {
   "cell_type": "code",
   "execution_count": 68,
   "metadata": {},
   "outputs": [
    {
     "name": "stdout",
     "output_type": "stream",
     "text": [
      "Матрица P:\n",
      " [[-0.03305284 -1.06476878 -4.31550892  5.06874814]\n",
      " [ 0.79694824  0.18350321  7.89998354 -6.52108079]\n",
      " [-1.49048261  1.19260229 -3.53601865  3.17442186]\n",
      " [ 0.91709794  0.77583659 -0.67973994 -1.18911998]]\n",
      "\n",
      "Проверка на единичную матрицу:\n"
     ]
    },
    {
     "data": {
      "text/plain": [
       "array([[ 1.,  0., -0.,  0.],\n",
       "       [ 0.,  1.,  0., -0.],\n",
       "       [-0.,  0.,  1., -0.],\n",
       "       [ 0.,  0.,  0.,  1.]])"
      ]
     },
     "metadata": {},
     "output_type": "display_data"
    }
   ],
   "source": [
    "def func(dim):\n",
    "    transform_matrix = np.random.rand(dim, dim)\n",
    "    try: \n",
    "        inv = np.linalg.inv(transform_matrix)\n",
    "        return transform_matrix, inv\n",
    "    except:\n",
    "        func(dim)\n",
    "        \n",
    "_, P = func(data.shape[1] - 1) # data.shape[1]-1 - исключаем w0\n",
    "print('Матрица P:\\n', P)\n",
    "\n",
    "print('\\nПроверка на единичную матрицу:')\n",
    "display((P @ np.linalg.inv(P)).round(5))        "
   ]
  },
  {
   "cell_type": "markdown",
   "metadata": {},
   "source": [
    "Получили единичную матрицу. **Созданная матрица $P$ является обратимой.**"
   ]
  },
  {
   "cell_type": "markdown",
   "metadata": {},
   "source": [
    "### 4.2. Умножаем признаки обучающей и тестовой выборок на матрицу 𝑃."
   ]
  },
  {
   "cell_type": "code",
   "execution_count": 69,
   "metadata": {},
   "outputs": [
    {
     "data": {
      "text/html": [
       "<div>\n",
       "<style scoped>\n",
       "    .dataframe tbody tr th:only-of-type {\n",
       "        vertical-align: middle;\n",
       "    }\n",
       "\n",
       "    .dataframe tbody tr th {\n",
       "        vertical-align: top;\n",
       "    }\n",
       "\n",
       "    .dataframe thead th {\n",
       "        text-align: right;\n",
       "    }\n",
       "</style>\n",
       "<table border=\"1\" class=\"dataframe\">\n",
       "  <thead>\n",
       "    <tr style=\"text-align: right;\">\n",
       "      <th></th>\n",
       "      <th>0</th>\n",
       "      <th>1</th>\n",
       "      <th>2</th>\n",
       "      <th>3</th>\n",
       "    </tr>\n",
       "  </thead>\n",
       "  <tbody>\n",
       "    <tr>\n",
       "      <th>640</th>\n",
       "      <td>-44095.971</td>\n",
       "      <td>35306.166</td>\n",
       "      <td>-104444.952</td>\n",
       "      <td>93780.297</td>\n",
       "    </tr>\n",
       "    <tr>\n",
       "      <th>4510</th>\n",
       "      <td>-85084.919</td>\n",
       "      <td>68103.137</td>\n",
       "      <td>-201701.945</td>\n",
       "      <td>181088.751</td>\n",
       "    </tr>\n",
       "    <tr>\n",
       "      <th>1623</th>\n",
       "      <td>-62121.957</td>\n",
       "      <td>49738.199</td>\n",
       "      <td>-147156.773</td>\n",
       "      <td>132129.470</td>\n",
       "    </tr>\n",
       "    <tr>\n",
       "      <th>3460</th>\n",
       "      <td>-50657.195</td>\n",
       "      <td>40552.409</td>\n",
       "      <td>-120047.930</td>\n",
       "      <td>107784.238</td>\n",
       "    </tr>\n",
       "    <tr>\n",
       "      <th>1820</th>\n",
       "      <td>-52278.243</td>\n",
       "      <td>41870.150</td>\n",
       "      <td>-123760.115</td>\n",
       "      <td>111126.380</td>\n",
       "    </tr>\n",
       "  </tbody>\n",
       "</table>\n",
       "</div>"
      ],
      "text/plain": [
       "              0         1           2          3\n",
       "640  -44095.971 35306.166 -104444.952  93780.297\n",
       "4510 -85084.919 68103.137 -201701.945 181088.751\n",
       "1623 -62121.957 49738.199 -147156.773 132129.470\n",
       "3460 -50657.195 40552.409 -120047.930 107784.238\n",
       "1820 -52278.243 41870.150 -123760.115 111126.380"
      ]
     },
     "metadata": {},
     "output_type": "display_data"
    },
    {
     "data": {
      "text/html": [
       "<div>\n",
       "<style scoped>\n",
       "    .dataframe tbody tr th:only-of-type {\n",
       "        vertical-align: middle;\n",
       "    }\n",
       "\n",
       "    .dataframe tbody tr th {\n",
       "        vertical-align: top;\n",
       "    }\n",
       "\n",
       "    .dataframe thead th {\n",
       "        text-align: right;\n",
       "    }\n",
       "</style>\n",
       "<table border=\"1\" class=\"dataframe\">\n",
       "  <thead>\n",
       "    <tr style=\"text-align: right;\">\n",
       "      <th></th>\n",
       "      <th>0</th>\n",
       "      <th>1</th>\n",
       "      <th>2</th>\n",
       "      <th>3</th>\n",
       "    </tr>\n",
       "  </thead>\n",
       "  <tbody>\n",
       "    <tr>\n",
       "      <th>1335</th>\n",
       "      <td>-70332.482</td>\n",
       "      <td>56293.984</td>\n",
       "      <td>-166722.696</td>\n",
       "      <td>149687.796</td>\n",
       "    </tr>\n",
       "    <tr>\n",
       "      <th>3875</th>\n",
       "      <td>-98197.334</td>\n",
       "      <td>78597.298</td>\n",
       "      <td>-232775.145</td>\n",
       "      <td>208990.795</td>\n",
       "    </tr>\n",
       "    <tr>\n",
       "      <th>166</th>\n",
       "      <td>-50499.260</td>\n",
       "      <td>40435.760</td>\n",
       "      <td>-119616.008</td>\n",
       "      <td>107400.396</td>\n",
       "    </tr>\n",
       "    <tr>\n",
       "      <th>3003</th>\n",
       "      <td>-28733.399</td>\n",
       "      <td>23025.932</td>\n",
       "      <td>-67938.420</td>\n",
       "      <td>61009.641</td>\n",
       "    </tr>\n",
       "    <tr>\n",
       "      <th>424</th>\n",
       "      <td>-40949.778</td>\n",
       "      <td>32806.556</td>\n",
       "      <td>-96878.473</td>\n",
       "      <td>86994.253</td>\n",
       "    </tr>\n",
       "  </tbody>\n",
       "</table>\n",
       "</div>"
      ],
      "text/plain": [
       "              0         1           2          3\n",
       "1335 -70332.482 56293.984 -166722.696 149687.796\n",
       "3875 -98197.334 78597.298 -232775.145 208990.795\n",
       "166  -50499.260 40435.760 -119616.008 107400.396\n",
       "3003 -28733.399 23025.932  -67938.420  61009.641\n",
       "424  -40949.778 32806.556  -96878.473  86994.253"
      ]
     },
     "metadata": {},
     "output_type": "display_data"
    }
   ],
   "source": [
    "# Настроим, чтобы числа в датасетах отражались с 3 знаками после запятой;\n",
    "pd.set_option('display.float_format', '{:.3f}'.format) \n",
    "\n",
    "features_train_P = features_train @ P\n",
    "features_test_P = features_test @ P\n",
    "\n",
    "display(features_train_P.head())\n",
    "display(features_test_P.head())"
   ]
  },
  {
   "cell_type": "markdown",
   "metadata": {},
   "source": [
    "Посмотрим, изменились ли данные после преобразования исходной матрицы:"
   ]
  },
  {
   "cell_type": "code",
   "execution_count": 70,
   "metadata": {},
   "outputs": [
    {
     "data": {
      "text/html": [
       "<div>\n",
       "<style scoped>\n",
       "    .dataframe tbody tr th:only-of-type {\n",
       "        vertical-align: middle;\n",
       "    }\n",
       "\n",
       "    .dataframe tbody tr th {\n",
       "        vertical-align: top;\n",
       "    }\n",
       "\n",
       "    .dataframe thead th {\n",
       "        text-align: right;\n",
       "    }\n",
       "</style>\n",
       "<table border=\"1\" class=\"dataframe\">\n",
       "  <thead>\n",
       "    <tr style=\"text-align: right;\">\n",
       "      <th></th>\n",
       "      <th>Пол</th>\n",
       "      <th>Возраст</th>\n",
       "      <th>Зарплата</th>\n",
       "      <th>Члены семьи</th>\n",
       "    </tr>\n",
       "  </thead>\n",
       "  <tbody>\n",
       "    <tr>\n",
       "      <th>640</th>\n",
       "      <td>0</td>\n",
       "      <td>28.000</td>\n",
       "      <td>29600.000</td>\n",
       "      <td>0</td>\n",
       "    </tr>\n",
       "    <tr>\n",
       "      <th>4510</th>\n",
       "      <td>0</td>\n",
       "      <td>26.000</td>\n",
       "      <td>57100.000</td>\n",
       "      <td>1</td>\n",
       "    </tr>\n",
       "    <tr>\n",
       "      <th>1623</th>\n",
       "      <td>1</td>\n",
       "      <td>38.000</td>\n",
       "      <td>41700.000</td>\n",
       "      <td>1</td>\n",
       "    </tr>\n",
       "    <tr>\n",
       "      <th>3460</th>\n",
       "      <td>1</td>\n",
       "      <td>23.000</td>\n",
       "      <td>34000.000</td>\n",
       "      <td>1</td>\n",
       "    </tr>\n",
       "    <tr>\n",
       "      <th>1820</th>\n",
       "      <td>0</td>\n",
       "      <td>45.000</td>\n",
       "      <td>35100.000</td>\n",
       "      <td>2</td>\n",
       "    </tr>\n",
       "  </tbody>\n",
       "</table>\n",
       "</div>"
      ],
      "text/plain": [
       "      Пол  Возраст  Зарплата  Члены семьи\n",
       "640     0   28.000 29600.000            0\n",
       "4510    0   26.000 57100.000            1\n",
       "1623    1   38.000 41700.000            1\n",
       "3460    1   23.000 34000.000            1\n",
       "1820    0   45.000 35100.000            2"
      ]
     },
     "metadata": {},
     "output_type": "display_data"
    }
   ],
   "source": [
    "# исходный датасет\n",
    "display(features_train.head())"
   ]
  },
  {
   "cell_type": "code",
   "execution_count": 71,
   "metadata": {},
   "outputs": [
    {
     "data": {
      "text/html": [
       "<div>\n",
       "<style scoped>\n",
       "    .dataframe tbody tr th:only-of-type {\n",
       "        vertical-align: middle;\n",
       "    }\n",
       "\n",
       "    .dataframe tbody tr th {\n",
       "        vertical-align: top;\n",
       "    }\n",
       "\n",
       "    .dataframe thead th {\n",
       "        text-align: right;\n",
       "    }\n",
       "</style>\n",
       "<table border=\"1\" class=\"dataframe\">\n",
       "  <thead>\n",
       "    <tr style=\"text-align: right;\">\n",
       "      <th></th>\n",
       "      <th>0</th>\n",
       "      <th>1</th>\n",
       "      <th>2</th>\n",
       "      <th>3</th>\n",
       "    </tr>\n",
       "  </thead>\n",
       "  <tbody>\n",
       "    <tr>\n",
       "      <th>640</th>\n",
       "      <td>-0.000</td>\n",
       "      <td>28.000</td>\n",
       "      <td>29600.000</td>\n",
       "      <td>0.000</td>\n",
       "    </tr>\n",
       "    <tr>\n",
       "      <th>4510</th>\n",
       "      <td>-0.000</td>\n",
       "      <td>26.000</td>\n",
       "      <td>57100.000</td>\n",
       "      <td>1.000</td>\n",
       "    </tr>\n",
       "    <tr>\n",
       "      <th>1623</th>\n",
       "      <td>1.000</td>\n",
       "      <td>38.000</td>\n",
       "      <td>41700.000</td>\n",
       "      <td>1.000</td>\n",
       "    </tr>\n",
       "    <tr>\n",
       "      <th>3460</th>\n",
       "      <td>1.000</td>\n",
       "      <td>23.000</td>\n",
       "      <td>34000.000</td>\n",
       "      <td>1.000</td>\n",
       "    </tr>\n",
       "    <tr>\n",
       "      <th>1820</th>\n",
       "      <td>-0.000</td>\n",
       "      <td>45.000</td>\n",
       "      <td>35100.000</td>\n",
       "      <td>2.000</td>\n",
       "    </tr>\n",
       "  </tbody>\n",
       "</table>\n",
       "</div>"
      ],
      "text/plain": [
       "          0      1         2     3\n",
       "640  -0.000 28.000 29600.000 0.000\n",
       "4510 -0.000 26.000 57100.000 1.000\n",
       "1623  1.000 38.000 41700.000 1.000\n",
       "3460  1.000 23.000 34000.000 1.000\n",
       "1820 -0.000 45.000 35100.000 2.000"
      ]
     },
     "metadata": {},
     "output_type": "display_data"
    }
   ],
   "source": [
    "# преобразованная матрица\n",
    "display((features_train_P @ np.linalg.inv(P)).head())"
   ]
  },
  {
   "cell_type": "markdown",
   "metadata": {},
   "source": [
    "Отмечаем, что после преобразования исходной матрицы данные не изменились."
   ]
  },
  {
   "cell_type": "markdown",
   "metadata": {},
   "source": [
    "### 4.3. Создание класса c функциями обучения и предсказания."
   ]
  },
  {
   "cell_type": "code",
   "execution_count": 72,
   "metadata": {},
   "outputs": [],
   "source": [
    "class LinearRegressionMyClass: \n",
    "    \"\"\"Создаём cобственный класс модели линейной регрессии.\"\"\"\n",
    "    def fit(self, features_train, target_train): \n",
    "        \"\"\"Функция:\n",
    "           - примает обучающие признаки и целевой признак, \n",
    "           - в матрицу Х добляет столбец, состоящий \n",
    "           только из единиц (он идет нулевым),\n",
    "           - создает атрибуты w и w0.\n",
    "        \"\"\"\n",
    "        X = np.concatenate((np.ones((features_train.shape[0], 1)), features_train), axis=1)\n",
    "        y = target_train\n",
    "        w = np.linalg.inv(X.T @ X) @ X.T @ y\n",
    "        self.w = w[1:] \n",
    "        self.w0 = w[0] \n",
    "\n",
    "    def predict(self, features_test): \n",
    "        \"\"\"Возвращаем вектор весов (w) + сдвиг предсказания.\"\"\"\n",
    "        return features_test.dot(self.w) + self.w0 "
   ]
  },
  {
   "cell_type": "markdown",
   "metadata": {},
   "source": [
    "### 4.4. Функция для обучения модели, предсказания целевого признака и расчёта метрик.\n",
    "\n",
    "Напишем функцию model_my() для предсказания метрик, применив созданный ранее класс модели линейной регрессии LinearRegressionMyClass."
   ]
  },
  {
   "cell_type": "code",
   "execution_count": 73,
   "metadata": {},
   "outputs": [],
   "source": [
    "dataset_final = pd.DataFrame(columns=['model', 'matrix', 'R2 / MSE', 'score'])\n",
    "\n",
    "\n",
    "def model_my(x_train, x_test, y_train, y_test, \n",
    "             model_name = 'LinearRegression', \n",
    "             matrix = 'NoMatrix', \n",
    "             metric = 'NoMetric'):\n",
    "\n",
    "    if model_name == 'LinearRegression':\n",
    "        model = LinearRegression()\n",
    "        print('Классическая модель линейной регрессии.')\n",
    "    elif model_name == 'LinearRegressionMyClass':\n",
    "        model = LinearRegressionMyClass()\n",
    "        print('Модель линейной регрессии LinearRegressionMyClass.')\n",
    "    else:\n",
    "        print('Не указана модель для работы.')\n",
    "        return\n",
    "                \n",
    "    model.fit(x_train, y_train)\n",
    "    predictions = model.predict(x_test)\n",
    "    \n",
    "    if metric == 'R2':\n",
    "        score = r2_score(y_test, predictions)\n",
    "        print('R2 модели:', score)\n",
    "        print(f'R2 модели (округлённо): {score:.7f}')\n",
    "    elif metric == 'MSE':\n",
    "        score = mean_squared_error(y_test, predictions)\n",
    "        print('MSE модели:', score)\n",
    "        print(f'MSE модели (округлённо): {score:.8f}')\n",
    "    else:\n",
    "        score = 0\n",
    "        print('Не указана рассчитываемая метрика.')\n",
    "    \n",
    "    dataset_final.loc[len(dataset_final.index )] = \\\n",
    "    [model_name, matrix, metric, score]"
   ]
  },
  {
   "cell_type": "markdown",
   "metadata": {},
   "source": [
    "### 4.5. Сравнение метрик классической и нашей моделей линейной регрессии для исходной и преобразованной матриц."
   ]
  },
  {
   "cell_type": "code",
   "execution_count": 74,
   "metadata": {},
   "outputs": [
    {
     "name": "stdout",
     "output_type": "stream",
     "text": [
      "\n",
      "Исходная выборка.\n",
      "Классическая модель линейной регрессии.\n",
      "R2 модели: 0.4160549216151198\n",
      "R2 модели (округлённо): 0.4160549\n",
      "\n",
      "Преобразованная (зашифрованная) матрица.\n",
      "Классическая модель линейной регрессии.\n",
      "R2 модели: 0.416054921615699\n",
      "R2 модели (округлённо): 0.4160549\n",
      "\n",
      "Исходная выборка.\n",
      "Модель линейной регрессии LinearRegressionMyClass.\n",
      "R2 модели: 0.4160549216151216\n",
      "R2 модели (округлённо): 0.4160549\n",
      "\n",
      "Преобразованная (зашифрованная) матрица.\n",
      "Модель линейной регрессии LinearRegressionMyClass.\n",
      "R2 модели: 0.4160549315673402\n",
      "R2 модели (округлённо): 0.4160549\n"
     ]
    }
   ],
   "source": [
    "# R2 для классической модели и исходной выборки:\n",
    "for name_model in ['LinearRegression', 'LinearRegressionMyClass']:   \n",
    "    print('\\nИсходная выборка.')\n",
    "    model_my(features_train, features_test, \n",
    "             target_train, target_test, \n",
    "             name_model, 'Исходная выборка', 'R2')\n",
    "    \n",
    "    print('\\nПреобразованная (зашифрованная) матрица.')\n",
    "    model_my(features_train_P, features_test_P, \n",
    "             target_train, target_test, \n",
    "             name_model, 'Преобразованная матрица', 'R2')"
   ]
  },
  {
   "cell_type": "markdown",
   "metadata": {},
   "source": [
    "Значение метрики R2 для исходной и преобразованной матриц, а также для обоих моделей линейной регрессии одинаковы с точностью до 7 знаков после запятой."
   ]
  },
  {
   "cell_type": "code",
   "execution_count": 75,
   "metadata": {},
   "outputs": [
    {
     "name": "stdout",
     "output_type": "stream",
     "text": [
      "\n",
      "Исходная выборка.\n",
      "Классическая модель линейной регрессии.\n",
      "MSE модели: 0.1231125531449998\n",
      "MSE модели (округлённо): 0.12311255\n",
      "\n",
      "Преобразованная (зашифрованная) матрица.\n",
      "Классическая модель линейной регрессии.\n",
      "MSE модели: 0.12311255314487769\n",
      "MSE модели (округлённо): 0.12311255\n",
      "\n",
      "Исходная выборка.\n",
      "Модель линейной регрессии LinearRegressionMyClass.\n",
      "MSE модели: 0.12311255314499943\n",
      "MSE модели (округлённо): 0.12311255\n",
      "\n",
      "Преобразованная (зашифрованная) матрица.\n",
      "Модель линейной регрессии LinearRegressionMyClass.\n",
      "MSE модели: 0.12311255104678319\n",
      "MSE модели (округлённо): 0.12311255\n"
     ]
    }
   ],
   "source": [
    "# MSE для классической модели и исходной выборки:\n",
    "for name_model in ['LinearRegression', 'LinearRegressionMyClass']:   \n",
    "    print('\\nИсходная выборка.')\n",
    "    model_my(features_train, features_test, \n",
    "             target_train, target_test, \n",
    "             name_model, 'Исходная выборка', 'MSE')\n",
    "    \n",
    "    print('\\nПреобразованная (зашифрованная) матрица.')\n",
    "    model_my(features_train_P, features_test_P, \n",
    "             target_train, target_test, \n",
    "             name_model, 'Преобразованная матрица', 'MSE')"
   ]
  },
  {
   "cell_type": "markdown",
   "metadata": {},
   "source": [
    "Значение метрики MSE для исходной и преобразованной матриц, а также для обоих моделей линейной регрессии одинаковы с точностью до 8 знаков после запятой."
   ]
  },
  {
   "cell_type": "code",
   "execution_count": 76,
   "metadata": {},
   "outputs": [
    {
     "data": {
      "text/html": [
       "<div>\n",
       "<style scoped>\n",
       "    .dataframe tbody tr th:only-of-type {\n",
       "        vertical-align: middle;\n",
       "    }\n",
       "\n",
       "    .dataframe tbody tr th {\n",
       "        vertical-align: top;\n",
       "    }\n",
       "\n",
       "    .dataframe thead th {\n",
       "        text-align: right;\n",
       "    }\n",
       "</style>\n",
       "<table border=\"1\" class=\"dataframe\">\n",
       "  <thead>\n",
       "    <tr style=\"text-align: right;\">\n",
       "      <th></th>\n",
       "      <th>model</th>\n",
       "      <th>matrix</th>\n",
       "      <th>R2 / MSE</th>\n",
       "      <th>score</th>\n",
       "    </tr>\n",
       "  </thead>\n",
       "  <tbody>\n",
       "    <tr>\n",
       "      <th>0</th>\n",
       "      <td>LinearRegression</td>\n",
       "      <td>Исходная выборка</td>\n",
       "      <td>R2</td>\n",
       "      <td>0.4160549</td>\n",
       "    </tr>\n",
       "    <tr>\n",
       "      <th>1</th>\n",
       "      <td>LinearRegression</td>\n",
       "      <td>Преобразованная матрица</td>\n",
       "      <td>R2</td>\n",
       "      <td>0.4160549</td>\n",
       "    </tr>\n",
       "    <tr>\n",
       "      <th>2</th>\n",
       "      <td>LinearRegressionMyClass</td>\n",
       "      <td>Исходная выборка</td>\n",
       "      <td>R2</td>\n",
       "      <td>0.4160549</td>\n",
       "    </tr>\n",
       "    <tr>\n",
       "      <th>3</th>\n",
       "      <td>LinearRegressionMyClass</td>\n",
       "      <td>Преобразованная матрица</td>\n",
       "      <td>R2</td>\n",
       "      <td>0.4160549</td>\n",
       "    </tr>\n",
       "    <tr>\n",
       "      <th>4</th>\n",
       "      <td>LinearRegression</td>\n",
       "      <td>Исходная выборка</td>\n",
       "      <td>MSE</td>\n",
       "      <td>0.1231126</td>\n",
       "    </tr>\n",
       "    <tr>\n",
       "      <th>5</th>\n",
       "      <td>LinearRegression</td>\n",
       "      <td>Преобразованная матрица</td>\n",
       "      <td>MSE</td>\n",
       "      <td>0.1231126</td>\n",
       "    </tr>\n",
       "    <tr>\n",
       "      <th>6</th>\n",
       "      <td>LinearRegressionMyClass</td>\n",
       "      <td>Исходная выборка</td>\n",
       "      <td>MSE</td>\n",
       "      <td>0.1231126</td>\n",
       "    </tr>\n",
       "    <tr>\n",
       "      <th>7</th>\n",
       "      <td>LinearRegressionMyClass</td>\n",
       "      <td>Преобразованная матрица</td>\n",
       "      <td>MSE</td>\n",
       "      <td>0.1231126</td>\n",
       "    </tr>\n",
       "  </tbody>\n",
       "</table>\n",
       "</div>"
      ],
      "text/plain": [
       "                     model                   matrix R2 / MSE     score\n",
       "0         LinearRegression         Исходная выборка       R2 0.4160549\n",
       "1         LinearRegression  Преобразованная матрица       R2 0.4160549\n",
       "2  LinearRegressionMyClass         Исходная выборка       R2 0.4160549\n",
       "3  LinearRegressionMyClass  Преобразованная матрица       R2 0.4160549\n",
       "4         LinearRegression         Исходная выборка      MSE 0.1231126\n",
       "5         LinearRegression  Преобразованная матрица      MSE 0.1231126\n",
       "6  LinearRegressionMyClass         Исходная выборка      MSE 0.1231126\n",
       "7  LinearRegressionMyClass  Преобразованная матрица      MSE 0.1231126"
      ]
     },
     "execution_count": 76,
     "metadata": {},
     "output_type": "execute_result"
    }
   ],
   "source": [
    "pd.set_option('display.float_format', '{:.7f}'.format) \n",
    "dataset_final"
   ]
  },
  {
   "cell_type": "markdown",
   "metadata": {},
   "source": [
    "**Промежуточный вывод:**\n",
    "\n",
    "Качество линейной регрессии из sklearn *LinearRegression* и собственной модели линейной регрессии *LinearRegressionMyClass* не отличается до и после преобразования."
   ]
  },
  {
   "cell_type": "markdown",
   "metadata": {},
   "source": [
    "## 6. Общий вывод."
   ]
  },
  {
   "cell_type": "markdown",
   "metadata": {},
   "source": [
    "**По результатам исследования можно отметить следующие факты и сделать следующие выводы:**\n",
    "\n",
    "1.От страховой компании получен файл, содержащий 5000 объектов со следующими признаками:\n",
    "\n",
    "Признаки:\n",
    "* Пол.\n",
    "* Возраст.\n",
    "* Зарплата застрахованного.\n",
    "* Количество членов семьи застрахованного.\n",
    "\n",
    "Целевой признак:\n",
    "* Страховые выплаты — количество страховых выплат клиенту за последние 5 лет.\n",
    "\n",
    "2.Данные подготовлены для дальнейшего анализа.\n",
    "\n",
    "3.На вопрос: \"*Признаки умножают на обратимую матрицу. Изменится ли качество линейной регрессии?*\" дан ответ \"*Не изменится.*\". Приведено обоснование такого ответа.\n",
    "\n",
    "4.Параметры линейной регрессии в исходной задаче и в преобразованной полностью идентичны.\n",
    "\n",
    "5.Предложен алгоритм преобразования данных для решения задачи шифрования персональной информации Клиентов страховой компании. Приведено его обоснование.\n",
    "\n",
    "6.Создана случайная обратимая матрица $𝑃$. Проверена ее обратимость.\n",
    "\n",
    "7.Проверено, что после преобразования исходной матрицы (шифрования персональной информации) данные не меняются.\n",
    "\n",
    "8.Создан собственный класс *LinearRegressionMyClass* c функциями обучения и предсказания.\n",
    "\n",
    "9.Установлено, что качество линейной регрессии из sklearn *LinearRegression* и собственной модели линейной регрессии *LinearRegressionMyClass* не отличается до и после преобразования. Проверка проведена с использованием метрик *R2* и *MSE*."
   ]
  },
  {
   "cell_type": "markdown",
   "metadata": {},
   "source": [
    "[Вернутся к общему списку проектов курса “Data Science” Яндекс-практикума](../README.md)"
   ]
  }
 ],
 "metadata": {
  "ExecuteTimeLog": [
   {
    "duration": 2855,
    "start_time": "2023-05-11T03:33:19.420Z"
   },
   {
    "duration": 169,
    "start_time": "2023-05-11T03:33:22.277Z"
   },
   {
    "duration": 5,
    "start_time": "2023-05-11T03:33:22.448Z"
   },
   {
    "duration": 16,
    "start_time": "2023-05-11T03:33:22.455Z"
   },
   {
    "duration": 11,
    "start_time": "2023-05-11T03:33:22.472Z"
   },
   {
    "duration": 15,
    "start_time": "2023-05-11T03:33:22.485Z"
   },
   {
    "duration": 5,
    "start_time": "2023-05-11T03:33:22.501Z"
   },
   {
    "duration": 8,
    "start_time": "2023-05-11T03:33:22.508Z"
   },
   {
    "duration": 459,
    "start_time": "2023-05-11T03:33:22.518Z"
   },
   {
    "duration": 564,
    "start_time": "2023-05-11T03:33:22.979Z"
   },
   {
    "duration": 6,
    "start_time": "2023-05-11T03:33:23.544Z"
   },
   {
    "duration": 12,
    "start_time": "2023-05-11T03:33:23.551Z"
   },
   {
    "duration": 8,
    "start_time": "2023-05-11T03:33:23.565Z"
   },
   {
    "duration": 5,
    "start_time": "2023-05-11T03:33:23.574Z"
   },
   {
    "duration": 5,
    "start_time": "2023-05-11T03:33:23.597Z"
   },
   {
    "duration": 11,
    "start_time": "2023-05-11T03:33:23.603Z"
   },
   {
    "duration": 92,
    "start_time": "2023-05-11T03:33:23.615Z"
   },
   {
    "duration": 98,
    "start_time": "2023-05-11T03:33:23.710Z"
   },
   {
    "duration": 187,
    "start_time": "2023-05-11T03:33:23.810Z"
   },
   {
    "duration": 13,
    "start_time": "2023-05-11T03:33:23.999Z"
   },
   {
    "duration": 92,
    "start_time": "2023-05-11T03:33:24.014Z"
   },
   {
    "duration": 88,
    "start_time": "2023-05-11T03:33:24.109Z"
   },
   {
    "duration": 12,
    "start_time": "2023-05-11T03:33:24.199Z"
   },
   {
    "duration": 98,
    "start_time": "2023-05-11T03:33:24.213Z"
   },
   {
    "duration": 86,
    "start_time": "2023-05-11T03:33:24.313Z"
   },
   {
    "duration": 98,
    "start_time": "2023-05-11T03:33:24.401Z"
   },
   {
    "duration": 118,
    "start_time": "2023-05-11T03:33:24.501Z"
   },
   {
    "duration": 10,
    "start_time": "2023-05-11T03:33:24.697Z"
   }
  ],
  "kernelspec": {
   "display_name": "Python 3 (ipykernel)",
   "language": "python",
   "name": "python3"
  },
  "language_info": {
   "codemirror_mode": {
    "name": "ipython",
    "version": 3
   },
   "file_extension": ".py",
   "mimetype": "text/x-python",
   "name": "python",
   "nbconvert_exporter": "python",
   "pygments_lexer": "ipython3",
   "version": "3.9.16"
  },
  "toc": {
   "base_numbering": 1,
   "nav_menu": {},
   "number_sections": true,
   "sideBar": true,
   "skip_h1_title": true,
   "title_cell": "Содержание",
   "title_sidebar": "Contents",
   "toc_cell": true,
   "toc_position": {},
   "toc_section_display": true,
   "toc_window_display": false
  }
 },
 "nbformat": 4,
 "nbformat_minor": 2
}
