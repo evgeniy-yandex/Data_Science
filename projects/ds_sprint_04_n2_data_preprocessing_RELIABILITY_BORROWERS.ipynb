{
 "cells": [
  {
   "cell_type": "markdown",
   "id": "03dce73e",
   "metadata": {
    "deletable": false,
    "editable": false,
    "id": "c81daeeb"
   },
   "source": [
    "# Исследование надежности заемщиков\n"
   ]
  },
  {
   "cell_type": "markdown",
   "id": "148430d6",
   "metadata": {
    "deletable": false,
    "editable": false,
    "id": "827c20bf"
   },
   "source": [
    "Во второй части проекта вы выполните шаги 3 и 4. Их вручную проверит ревьюер.\n",
    "Чтобы вам не пришлось писать код заново для шагов 1 и 2, мы добавили авторские решения в ячейки с кодом. \n",
    "\n"
   ]
  },
  {
   "cell_type": "markdown",
   "id": "dd167e11",
   "metadata": {
    "deletable": false,
    "editable": false,
    "id": "744d7639"
   },
   "source": [
    "## Откройте таблицу и изучите общую информацию о данных"
   ]
  },
  {
   "cell_type": "markdown",
   "id": "7b69fac9",
   "metadata": {
    "deletable": false,
    "editable": false,
    "id": "e7a14c31"
   },
   "source": [
    "**Задание 1. Импортируйте библиотеку pandas. Считайте данные из csv-файла в датафрейм и сохраните в переменную `data`. Путь к файлу:**\n",
    "\n",
    "`/datasets/data.csv`"
   ]
  },
  {
   "cell_type": "code",
   "execution_count": 1,
   "id": "87cb4b74",
   "metadata": {
    "deletable": false,
    "id": "7bcf75c9"
   },
   "outputs": [],
   "source": [
    "import pandas as pd\n",
    "\n",
    "try:\n",
    "    data = pd.read_csv('/datasets/data.csv')\n",
    "except:\n",
    "    data = pd.read_csv('https://code.s3.yandex.net/datasets/data.csv')"
   ]
  },
  {
   "cell_type": "markdown",
   "id": "070244e3",
   "metadata": {
    "deletable": false,
    "editable": false,
    "id": "b8038fe3"
   },
   "source": [
    "**Задание 2. Выведите первые 20 строчек датафрейма `data` на экран.**"
   ]
  },
  {
   "cell_type": "code",
   "execution_count": 2,
   "id": "eebb64d3",
   "metadata": {
    "deletable": false,
    "id": "2a7cab99",
    "outputId": "1a8f3ef2-d323-4ec2-ddf7-89670b5944c4"
   },
   "outputs": [
    {
     "data": {
      "text/html": [
       "<div>\n",
       "<style scoped>\n",
       "    .dataframe tbody tr th:only-of-type {\n",
       "        vertical-align: middle;\n",
       "    }\n",
       "\n",
       "    .dataframe tbody tr th {\n",
       "        vertical-align: top;\n",
       "    }\n",
       "\n",
       "    .dataframe thead th {\n",
       "        text-align: right;\n",
       "    }\n",
       "</style>\n",
       "<table border=\"1\" class=\"dataframe\">\n",
       "  <thead>\n",
       "    <tr style=\"text-align: right;\">\n",
       "      <th></th>\n",
       "      <th>children</th>\n",
       "      <th>days_employed</th>\n",
       "      <th>dob_years</th>\n",
       "      <th>education</th>\n",
       "      <th>education_id</th>\n",
       "      <th>family_status</th>\n",
       "      <th>family_status_id</th>\n",
       "      <th>gender</th>\n",
       "      <th>income_type</th>\n",
       "      <th>debt</th>\n",
       "      <th>total_income</th>\n",
       "      <th>purpose</th>\n",
       "    </tr>\n",
       "  </thead>\n",
       "  <tbody>\n",
       "    <tr>\n",
       "      <th>0</th>\n",
       "      <td>1</td>\n",
       "      <td>-8437.673028</td>\n",
       "      <td>42</td>\n",
       "      <td>высшее</td>\n",
       "      <td>0</td>\n",
       "      <td>женат / замужем</td>\n",
       "      <td>0</td>\n",
       "      <td>F</td>\n",
       "      <td>сотрудник</td>\n",
       "      <td>0</td>\n",
       "      <td>253875.639453</td>\n",
       "      <td>покупка жилья</td>\n",
       "    </tr>\n",
       "    <tr>\n",
       "      <th>1</th>\n",
       "      <td>1</td>\n",
       "      <td>-4024.803754</td>\n",
       "      <td>36</td>\n",
       "      <td>среднее</td>\n",
       "      <td>1</td>\n",
       "      <td>женат / замужем</td>\n",
       "      <td>0</td>\n",
       "      <td>F</td>\n",
       "      <td>сотрудник</td>\n",
       "      <td>0</td>\n",
       "      <td>112080.014102</td>\n",
       "      <td>приобретение автомобиля</td>\n",
       "    </tr>\n",
       "    <tr>\n",
       "      <th>2</th>\n",
       "      <td>0</td>\n",
       "      <td>-5623.422610</td>\n",
       "      <td>33</td>\n",
       "      <td>Среднее</td>\n",
       "      <td>1</td>\n",
       "      <td>женат / замужем</td>\n",
       "      <td>0</td>\n",
       "      <td>M</td>\n",
       "      <td>сотрудник</td>\n",
       "      <td>0</td>\n",
       "      <td>145885.952297</td>\n",
       "      <td>покупка жилья</td>\n",
       "    </tr>\n",
       "    <tr>\n",
       "      <th>3</th>\n",
       "      <td>3</td>\n",
       "      <td>-4124.747207</td>\n",
       "      <td>32</td>\n",
       "      <td>среднее</td>\n",
       "      <td>1</td>\n",
       "      <td>женат / замужем</td>\n",
       "      <td>0</td>\n",
       "      <td>M</td>\n",
       "      <td>сотрудник</td>\n",
       "      <td>0</td>\n",
       "      <td>267628.550329</td>\n",
       "      <td>дополнительное образование</td>\n",
       "    </tr>\n",
       "    <tr>\n",
       "      <th>4</th>\n",
       "      <td>0</td>\n",
       "      <td>340266.072047</td>\n",
       "      <td>53</td>\n",
       "      <td>среднее</td>\n",
       "      <td>1</td>\n",
       "      <td>гражданский брак</td>\n",
       "      <td>1</td>\n",
       "      <td>F</td>\n",
       "      <td>пенсионер</td>\n",
       "      <td>0</td>\n",
       "      <td>158616.077870</td>\n",
       "      <td>сыграть свадьбу</td>\n",
       "    </tr>\n",
       "    <tr>\n",
       "      <th>5</th>\n",
       "      <td>0</td>\n",
       "      <td>-926.185831</td>\n",
       "      <td>27</td>\n",
       "      <td>высшее</td>\n",
       "      <td>0</td>\n",
       "      <td>гражданский брак</td>\n",
       "      <td>1</td>\n",
       "      <td>M</td>\n",
       "      <td>компаньон</td>\n",
       "      <td>0</td>\n",
       "      <td>255763.565419</td>\n",
       "      <td>покупка жилья</td>\n",
       "    </tr>\n",
       "    <tr>\n",
       "      <th>6</th>\n",
       "      <td>0</td>\n",
       "      <td>-2879.202052</td>\n",
       "      <td>43</td>\n",
       "      <td>высшее</td>\n",
       "      <td>0</td>\n",
       "      <td>женат / замужем</td>\n",
       "      <td>0</td>\n",
       "      <td>F</td>\n",
       "      <td>компаньон</td>\n",
       "      <td>0</td>\n",
       "      <td>240525.971920</td>\n",
       "      <td>операции с жильем</td>\n",
       "    </tr>\n",
       "    <tr>\n",
       "      <th>7</th>\n",
       "      <td>0</td>\n",
       "      <td>-152.779569</td>\n",
       "      <td>50</td>\n",
       "      <td>СРЕДНЕЕ</td>\n",
       "      <td>1</td>\n",
       "      <td>женат / замужем</td>\n",
       "      <td>0</td>\n",
       "      <td>M</td>\n",
       "      <td>сотрудник</td>\n",
       "      <td>0</td>\n",
       "      <td>135823.934197</td>\n",
       "      <td>образование</td>\n",
       "    </tr>\n",
       "    <tr>\n",
       "      <th>8</th>\n",
       "      <td>2</td>\n",
       "      <td>-6929.865299</td>\n",
       "      <td>35</td>\n",
       "      <td>ВЫСШЕЕ</td>\n",
       "      <td>0</td>\n",
       "      <td>гражданский брак</td>\n",
       "      <td>1</td>\n",
       "      <td>F</td>\n",
       "      <td>сотрудник</td>\n",
       "      <td>0</td>\n",
       "      <td>95856.832424</td>\n",
       "      <td>на проведение свадьбы</td>\n",
       "    </tr>\n",
       "    <tr>\n",
       "      <th>9</th>\n",
       "      <td>0</td>\n",
       "      <td>-2188.756445</td>\n",
       "      <td>41</td>\n",
       "      <td>среднее</td>\n",
       "      <td>1</td>\n",
       "      <td>женат / замужем</td>\n",
       "      <td>0</td>\n",
       "      <td>M</td>\n",
       "      <td>сотрудник</td>\n",
       "      <td>0</td>\n",
       "      <td>144425.938277</td>\n",
       "      <td>покупка жилья для семьи</td>\n",
       "    </tr>\n",
       "    <tr>\n",
       "      <th>10</th>\n",
       "      <td>2</td>\n",
       "      <td>-4171.483647</td>\n",
       "      <td>36</td>\n",
       "      <td>высшее</td>\n",
       "      <td>0</td>\n",
       "      <td>женат / замужем</td>\n",
       "      <td>0</td>\n",
       "      <td>M</td>\n",
       "      <td>компаньон</td>\n",
       "      <td>0</td>\n",
       "      <td>113943.491460</td>\n",
       "      <td>покупка недвижимости</td>\n",
       "    </tr>\n",
       "    <tr>\n",
       "      <th>11</th>\n",
       "      <td>0</td>\n",
       "      <td>-792.701887</td>\n",
       "      <td>40</td>\n",
       "      <td>среднее</td>\n",
       "      <td>1</td>\n",
       "      <td>женат / замужем</td>\n",
       "      <td>0</td>\n",
       "      <td>F</td>\n",
       "      <td>сотрудник</td>\n",
       "      <td>0</td>\n",
       "      <td>77069.234271</td>\n",
       "      <td>покупка коммерческой недвижимости</td>\n",
       "    </tr>\n",
       "    <tr>\n",
       "      <th>12</th>\n",
       "      <td>0</td>\n",
       "      <td>NaN</td>\n",
       "      <td>65</td>\n",
       "      <td>среднее</td>\n",
       "      <td>1</td>\n",
       "      <td>гражданский брак</td>\n",
       "      <td>1</td>\n",
       "      <td>M</td>\n",
       "      <td>пенсионер</td>\n",
       "      <td>0</td>\n",
       "      <td>NaN</td>\n",
       "      <td>сыграть свадьбу</td>\n",
       "    </tr>\n",
       "    <tr>\n",
       "      <th>13</th>\n",
       "      <td>0</td>\n",
       "      <td>-1846.641941</td>\n",
       "      <td>54</td>\n",
       "      <td>неоконченное высшее</td>\n",
       "      <td>2</td>\n",
       "      <td>женат / замужем</td>\n",
       "      <td>0</td>\n",
       "      <td>F</td>\n",
       "      <td>сотрудник</td>\n",
       "      <td>0</td>\n",
       "      <td>130458.228857</td>\n",
       "      <td>приобретение автомобиля</td>\n",
       "    </tr>\n",
       "    <tr>\n",
       "      <th>14</th>\n",
       "      <td>0</td>\n",
       "      <td>-1844.956182</td>\n",
       "      <td>56</td>\n",
       "      <td>высшее</td>\n",
       "      <td>0</td>\n",
       "      <td>гражданский брак</td>\n",
       "      <td>1</td>\n",
       "      <td>F</td>\n",
       "      <td>компаньон</td>\n",
       "      <td>1</td>\n",
       "      <td>165127.911772</td>\n",
       "      <td>покупка жилой недвижимости</td>\n",
       "    </tr>\n",
       "    <tr>\n",
       "      <th>15</th>\n",
       "      <td>1</td>\n",
       "      <td>-972.364419</td>\n",
       "      <td>26</td>\n",
       "      <td>среднее</td>\n",
       "      <td>1</td>\n",
       "      <td>женат / замужем</td>\n",
       "      <td>0</td>\n",
       "      <td>F</td>\n",
       "      <td>сотрудник</td>\n",
       "      <td>0</td>\n",
       "      <td>116820.904450</td>\n",
       "      <td>строительство собственной недвижимости</td>\n",
       "    </tr>\n",
       "    <tr>\n",
       "      <th>16</th>\n",
       "      <td>0</td>\n",
       "      <td>-1719.934226</td>\n",
       "      <td>35</td>\n",
       "      <td>среднее</td>\n",
       "      <td>1</td>\n",
       "      <td>женат / замужем</td>\n",
       "      <td>0</td>\n",
       "      <td>F</td>\n",
       "      <td>сотрудник</td>\n",
       "      <td>0</td>\n",
       "      <td>289202.704229</td>\n",
       "      <td>недвижимость</td>\n",
       "    </tr>\n",
       "    <tr>\n",
       "      <th>17</th>\n",
       "      <td>0</td>\n",
       "      <td>-2369.999720</td>\n",
       "      <td>33</td>\n",
       "      <td>высшее</td>\n",
       "      <td>0</td>\n",
       "      <td>гражданский брак</td>\n",
       "      <td>1</td>\n",
       "      <td>M</td>\n",
       "      <td>сотрудник</td>\n",
       "      <td>0</td>\n",
       "      <td>90410.586745</td>\n",
       "      <td>строительство недвижимости</td>\n",
       "    </tr>\n",
       "    <tr>\n",
       "      <th>18</th>\n",
       "      <td>0</td>\n",
       "      <td>400281.136913</td>\n",
       "      <td>53</td>\n",
       "      <td>среднее</td>\n",
       "      <td>1</td>\n",
       "      <td>вдовец / вдова</td>\n",
       "      <td>2</td>\n",
       "      <td>F</td>\n",
       "      <td>пенсионер</td>\n",
       "      <td>0</td>\n",
       "      <td>56823.777243</td>\n",
       "      <td>на покупку подержанного автомобиля</td>\n",
       "    </tr>\n",
       "    <tr>\n",
       "      <th>19</th>\n",
       "      <td>0</td>\n",
       "      <td>-10038.818549</td>\n",
       "      <td>48</td>\n",
       "      <td>СРЕДНЕЕ</td>\n",
       "      <td>1</td>\n",
       "      <td>в разводе</td>\n",
       "      <td>3</td>\n",
       "      <td>F</td>\n",
       "      <td>сотрудник</td>\n",
       "      <td>0</td>\n",
       "      <td>242831.107982</td>\n",
       "      <td>на покупку своего автомобиля</td>\n",
       "    </tr>\n",
       "  </tbody>\n",
       "</table>\n",
       "</div>"
      ],
      "text/plain": [
       "    children  days_employed  dob_years            education  education_id  \\\n",
       "0          1   -8437.673028         42               высшее             0   \n",
       "1          1   -4024.803754         36              среднее             1   \n",
       "2          0   -5623.422610         33              Среднее             1   \n",
       "3          3   -4124.747207         32              среднее             1   \n",
       "4          0  340266.072047         53              среднее             1   \n",
       "5          0    -926.185831         27               высшее             0   \n",
       "6          0   -2879.202052         43               высшее             0   \n",
       "7          0    -152.779569         50              СРЕДНЕЕ             1   \n",
       "8          2   -6929.865299         35               ВЫСШЕЕ             0   \n",
       "9          0   -2188.756445         41              среднее             1   \n",
       "10         2   -4171.483647         36               высшее             0   \n",
       "11         0    -792.701887         40              среднее             1   \n",
       "12         0            NaN         65              среднее             1   \n",
       "13         0   -1846.641941         54  неоконченное высшее             2   \n",
       "14         0   -1844.956182         56               высшее             0   \n",
       "15         1    -972.364419         26              среднее             1   \n",
       "16         0   -1719.934226         35              среднее             1   \n",
       "17         0   -2369.999720         33               высшее             0   \n",
       "18         0  400281.136913         53              среднее             1   \n",
       "19         0  -10038.818549         48              СРЕДНЕЕ             1   \n",
       "\n",
       "       family_status  family_status_id gender income_type  debt  \\\n",
       "0    женат / замужем                 0      F   сотрудник     0   \n",
       "1    женат / замужем                 0      F   сотрудник     0   \n",
       "2    женат / замужем                 0      M   сотрудник     0   \n",
       "3    женат / замужем                 0      M   сотрудник     0   \n",
       "4   гражданский брак                 1      F   пенсионер     0   \n",
       "5   гражданский брак                 1      M   компаньон     0   \n",
       "6    женат / замужем                 0      F   компаньон     0   \n",
       "7    женат / замужем                 0      M   сотрудник     0   \n",
       "8   гражданский брак                 1      F   сотрудник     0   \n",
       "9    женат / замужем                 0      M   сотрудник     0   \n",
       "10   женат / замужем                 0      M   компаньон     0   \n",
       "11   женат / замужем                 0      F   сотрудник     0   \n",
       "12  гражданский брак                 1      M   пенсионер     0   \n",
       "13   женат / замужем                 0      F   сотрудник     0   \n",
       "14  гражданский брак                 1      F   компаньон     1   \n",
       "15   женат / замужем                 0      F   сотрудник     0   \n",
       "16   женат / замужем                 0      F   сотрудник     0   \n",
       "17  гражданский брак                 1      M   сотрудник     0   \n",
       "18    вдовец / вдова                 2      F   пенсионер     0   \n",
       "19         в разводе                 3      F   сотрудник     0   \n",
       "\n",
       "     total_income                                 purpose  \n",
       "0   253875.639453                           покупка жилья  \n",
       "1   112080.014102                 приобретение автомобиля  \n",
       "2   145885.952297                           покупка жилья  \n",
       "3   267628.550329              дополнительное образование  \n",
       "4   158616.077870                         сыграть свадьбу  \n",
       "5   255763.565419                           покупка жилья  \n",
       "6   240525.971920                       операции с жильем  \n",
       "7   135823.934197                             образование  \n",
       "8    95856.832424                   на проведение свадьбы  \n",
       "9   144425.938277                 покупка жилья для семьи  \n",
       "10  113943.491460                    покупка недвижимости  \n",
       "11   77069.234271       покупка коммерческой недвижимости  \n",
       "12            NaN                         сыграть свадьбу  \n",
       "13  130458.228857                 приобретение автомобиля  \n",
       "14  165127.911772              покупка жилой недвижимости  \n",
       "15  116820.904450  строительство собственной недвижимости  \n",
       "16  289202.704229                            недвижимость  \n",
       "17   90410.586745              строительство недвижимости  \n",
       "18   56823.777243      на покупку подержанного автомобиля  \n",
       "19  242831.107982            на покупку своего автомобиля  "
      ]
     },
     "execution_count": 2,
     "metadata": {},
     "output_type": "execute_result"
    }
   ],
   "source": [
    "data.head(20)"
   ]
  },
  {
   "cell_type": "markdown",
   "id": "7100b8bc",
   "metadata": {
    "deletable": false,
    "editable": false,
    "id": "1c12e233"
   },
   "source": [
    "**Задание 3. Выведите основную информацию о датафрейме с помощью метода `info()`.**"
   ]
  },
  {
   "cell_type": "code",
   "execution_count": 3,
   "id": "c0d76e6d",
   "metadata": {
    "deletable": false,
    "id": "2b757bca",
    "outputId": "15376089-8dad-46c9-b520-c05248d43158"
   },
   "outputs": [
    {
     "name": "stdout",
     "output_type": "stream",
     "text": [
      "<class 'pandas.core.frame.DataFrame'>\n",
      "RangeIndex: 21525 entries, 0 to 21524\n",
      "Data columns (total 12 columns):\n",
      " #   Column            Non-Null Count  Dtype  \n",
      "---  ------            --------------  -----  \n",
      " 0   children          21525 non-null  int64  \n",
      " 1   days_employed     19351 non-null  float64\n",
      " 2   dob_years         21525 non-null  int64  \n",
      " 3   education         21525 non-null  object \n",
      " 4   education_id      21525 non-null  int64  \n",
      " 5   family_status     21525 non-null  object \n",
      " 6   family_status_id  21525 non-null  int64  \n",
      " 7   gender            21525 non-null  object \n",
      " 8   income_type       21525 non-null  object \n",
      " 9   debt              21525 non-null  int64  \n",
      " 10  total_income      19351 non-null  float64\n",
      " 11  purpose           21525 non-null  object \n",
      "dtypes: float64(2), int64(5), object(5)\n",
      "memory usage: 2.0+ MB\n"
     ]
    }
   ],
   "source": [
    "data.info()"
   ]
  },
  {
   "cell_type": "markdown",
   "id": "7f13328d",
   "metadata": {
    "deletable": false,
    "editable": false,
    "id": "333ec665"
   },
   "source": [
    "## Предобработка данных"
   ]
  },
  {
   "cell_type": "markdown",
   "id": "60f516bf",
   "metadata": {
    "deletable": false,
    "editable": false,
    "id": "02d92d53"
   },
   "source": [
    "### Удаление пропусков"
   ]
  },
  {
   "cell_type": "markdown",
   "id": "1d785c48",
   "metadata": {
    "deletable": false,
    "editable": false,
    "id": "cd84967c"
   },
   "source": [
    "**Задание 4. Выведите количество пропущенных значений для каждого столбца. Используйте комбинацию двух методов.**"
   ]
  },
  {
   "cell_type": "code",
   "execution_count": 4,
   "id": "856888cb",
   "metadata": {
    "deletable": false,
    "id": "7f9b2309",
    "outputId": "81f4d817-781c-465c-ed15-91ce4446810d"
   },
   "outputs": [
    {
     "data": {
      "text/plain": [
       "children               0\n",
       "days_employed       2174\n",
       "dob_years              0\n",
       "education              0\n",
       "education_id           0\n",
       "family_status          0\n",
       "family_status_id       0\n",
       "gender                 0\n",
       "income_type            0\n",
       "debt                   0\n",
       "total_income        2174\n",
       "purpose                0\n",
       "dtype: int64"
      ]
     },
     "execution_count": 4,
     "metadata": {},
     "output_type": "execute_result"
    }
   ],
   "source": [
    "data.isna().sum()"
   ]
  },
  {
   "cell_type": "markdown",
   "id": "f131e0d2",
   "metadata": {
    "deletable": false,
    "editable": false,
    "id": "db86e27b"
   },
   "source": [
    "**Задание 5. В двух столбцах есть пропущенные значения. Один из них — `days_employed`. Пропуски в этом столбце вы обработаете на следующем этапе. Другой столбец с пропущенными значениями — `total_income` — хранит данные о доходах. На сумму дохода сильнее всего влияет тип занятости, поэтому заполнить пропуски в этом столбце нужно медианным значением по каждому типу из столбца `income_type`. Например, у человека с типом занятости `сотрудник` пропуск в столбце `total_income` должен быть заполнен медианным доходом среди всех записей с тем же типом.**"
   ]
  },
  {
   "cell_type": "code",
   "execution_count": 5,
   "id": "d75d55a7",
   "metadata": {
    "deletable": false,
    "id": "42006a93"
   },
   "outputs": [],
   "source": [
    "for t in data['income_type'].unique():\n",
    "    data.loc[(data['income_type'] == t) & (data['total_income'].isna()), 'total_income'] = \\\n",
    "    data.loc[(data['income_type'] == t), 'total_income'].median()"
   ]
  },
  {
   "cell_type": "markdown",
   "id": "20bff37d",
   "metadata": {
    "deletable": false,
    "editable": false,
    "id": "89da5ece"
   },
   "source": [
    "### Обработка аномальных значений"
   ]
  },
  {
   "cell_type": "markdown",
   "id": "17eedb34",
   "metadata": {
    "deletable": false,
    "editable": false,
    "id": "57964554"
   },
   "source": [
    "**Задание 6. В данных могут встречаться артефакты (аномалии) — значения, которые не отражают действительность и появились по какой-то ошибке. таким артефактом будет отрицательное количество дней трудового стажа в столбце `days_employed`. Для реальных данных это нормально. Обработайте значения в этом столбце: замените все отрицательные значения положительными с помощью метода `abs()`.**"
   ]
  },
  {
   "cell_type": "code",
   "execution_count": 6,
   "id": "e5334622",
   "metadata": {
    "deletable": false,
    "id": "f6f055bf"
   },
   "outputs": [],
   "source": [
    "data['days_employed'] = data['days_employed'].abs()"
   ]
  },
  {
   "cell_type": "markdown",
   "id": "6e80f67d",
   "metadata": {
    "deletable": false,
    "editable": false,
    "id": "6107dd2f"
   },
   "source": [
    "**Задание 7. Для каждого типа занятости выведите медианное значение трудового стажа `days_employed` в днях.**"
   ]
  },
  {
   "cell_type": "code",
   "execution_count": 7,
   "id": "0b84381a",
   "metadata": {
    "deletable": false,
    "id": "85a5faf6",
    "outputId": "801ef80e-522b-4668-f34e-565af7432bcf"
   },
   "outputs": [
    {
     "data": {
      "text/plain": [
       "income_type\n",
       "безработный        366413.652744\n",
       "в декрете            3296.759962\n",
       "госслужащий          2689.368353\n",
       "компаньон            1547.382223\n",
       "пенсионер          365213.306266\n",
       "предприниматель       520.848083\n",
       "сотрудник            1574.202821\n",
       "студент               578.751554\n",
       "Name: days_employed, dtype: float64"
      ]
     },
     "execution_count": 7,
     "metadata": {},
     "output_type": "execute_result"
    }
   ],
   "source": [
    "data.groupby('income_type')['days_employed'].agg('median')"
   ]
  },
  {
   "cell_type": "markdown",
   "id": "9d4ebd74",
   "metadata": {
    "deletable": false,
    "editable": false,
    "id": "38d1a030"
   },
   "source": [
    "У двух типов (безработные и пенсионеры) получатся аномально большие значения. Исправить такие значения сложно, поэтому оставьте их как есть. Тем более этот столбец не понадобится вам для исследования."
   ]
  },
  {
   "cell_type": "markdown",
   "id": "47498b31",
   "metadata": {
    "deletable": false,
    "editable": false,
    "id": "d8a9f147"
   },
   "source": [
    "**Задание 8. Выведите перечень уникальных значений столбца `children`.**"
   ]
  },
  {
   "cell_type": "code",
   "execution_count": 8,
   "id": "74edca29",
   "metadata": {
    "deletable": false,
    "id": "ef5056eb",
    "outputId": "6975b15c-7f95-4697-d16d-a0c79b657b03"
   },
   "outputs": [
    {
     "data": {
      "text/plain": [
       "array([ 1,  0,  3,  2, -1,  4, 20,  5])"
      ]
     },
     "execution_count": 8,
     "metadata": {},
     "output_type": "execute_result"
    }
   ],
   "source": [
    "data['children'].unique()"
   ]
  },
  {
   "cell_type": "markdown",
   "id": "e42bab46",
   "metadata": {
    "deletable": false,
    "editable": false,
    "id": "40b9ebf2"
   },
   "source": [
    "**Задание 9. В столбце `children` есть два аномальных значения. Удалите строки, в которых встречаются такие аномальные значения из датафрейма `data`.**"
   ]
  },
  {
   "cell_type": "code",
   "execution_count": 9,
   "id": "1ef635e4",
   "metadata": {
    "deletable": false,
    "id": "3ff9801d"
   },
   "outputs": [],
   "source": [
    "data = data[(data['children'] != -1) & (data['children'] != 20)]"
   ]
  },
  {
   "cell_type": "markdown",
   "id": "0cbd06c0",
   "metadata": {
    "deletable": false,
    "editable": false,
    "id": "bbc4d0ce"
   },
   "source": [
    "**Задание 10. Ещё раз выведите перечень уникальных значений столбца `children`, чтобы убедиться, что артефакты удалены.**"
   ]
  },
  {
   "cell_type": "code",
   "execution_count": 10,
   "id": "6d17d93c",
   "metadata": {
    "deletable": false,
    "id": "ad4fa8b7",
    "outputId": "b2097101-d49d-44d9-901b-32a65c9463d1"
   },
   "outputs": [
    {
     "data": {
      "text/plain": [
       "array([1, 0, 3, 2, 4, 5])"
      ]
     },
     "execution_count": 10,
     "metadata": {},
     "output_type": "execute_result"
    }
   ],
   "source": [
    "data['children'].unique()"
   ]
  },
  {
   "cell_type": "markdown",
   "id": "8c33541c",
   "metadata": {
    "deletable": false,
    "editable": false,
    "id": "75440b63"
   },
   "source": [
    "### Удаление пропусков (продолжение)"
   ]
  },
  {
   "cell_type": "markdown",
   "id": "bec7103e",
   "metadata": {
    "deletable": false,
    "editable": false,
    "id": "f4ea573f"
   },
   "source": [
    "**Задание 11. Заполните пропуски в столбце `days_employed` медианными значениями по каждого типа занятости `income_type`.**"
   ]
  },
  {
   "cell_type": "code",
   "execution_count": 11,
   "id": "4ff691f4",
   "metadata": {
    "deletable": false,
    "id": "af6b1a7e"
   },
   "outputs": [],
   "source": [
    "for t in data['income_type'].unique():\n",
    "    data.loc[(data['income_type'] == t) & (data['days_employed'].isna()), 'days_employed'] = \\\n",
    "    data.loc[(data['income_type'] == t), 'days_employed'].median()"
   ]
  },
  {
   "cell_type": "markdown",
   "id": "d689b546",
   "metadata": {
    "deletable": false,
    "editable": false,
    "id": "2753f40d"
   },
   "source": [
    "**Задание 12. Убедитесь, что все пропуски заполнены. Проверьте себя и ещё раз выведите количество пропущенных значений для каждого столбца с помощью двух методов.**"
   ]
  },
  {
   "cell_type": "code",
   "execution_count": 12,
   "id": "20aa3de8",
   "metadata": {
    "deletable": false,
    "id": "55f78bc2",
    "outputId": "8da1e4e1-358e-4e87-98c9-f261bce0a7b2"
   },
   "outputs": [
    {
     "data": {
      "text/plain": [
       "children            0\n",
       "days_employed       0\n",
       "dob_years           0\n",
       "education           0\n",
       "education_id        0\n",
       "family_status       0\n",
       "family_status_id    0\n",
       "gender              0\n",
       "income_type         0\n",
       "debt                0\n",
       "total_income        0\n",
       "purpose             0\n",
       "dtype: int64"
      ]
     },
     "execution_count": 12,
     "metadata": {},
     "output_type": "execute_result"
    }
   ],
   "source": [
    "data.isna().sum()"
   ]
  },
  {
   "cell_type": "markdown",
   "id": "c1321711",
   "metadata": {
    "deletable": false,
    "editable": false,
    "id": "ddc81e43"
   },
   "source": [
    "### Изменение типов данных"
   ]
  },
  {
   "cell_type": "markdown",
   "id": "25fc810d",
   "metadata": {
    "deletable": false,
    "editable": false,
    "id": "42d19d24"
   },
   "source": [
    "**Задание 13. Замените вещественный тип данных в столбце `total_income` на целочисленный с помощью метода `astype()`.**"
   ]
  },
  {
   "cell_type": "code",
   "execution_count": 13,
   "id": "408d5f0e",
   "metadata": {
    "deletable": false,
    "id": "920b65ad"
   },
   "outputs": [],
   "source": [
    "data['total_income'] = data['total_income'].astype(int)"
   ]
  },
  {
   "cell_type": "markdown",
   "id": "ef903569",
   "metadata": {
    "deletable": false,
    "editable": false,
    "id": "80c420ba"
   },
   "source": [
    "### Обработка дубликатов"
   ]
  },
  {
   "cell_type": "markdown",
   "id": "9a229dcb",
   "metadata": {
    "deletable": false,
    "editable": false
   },
   "source": [
    "**Задание 14. Обработайте неявные дубликаты в столбце `education`. В этом столбце есть одни и те же значения, но записанные по-разному: с использованием заглавных и строчных букв. Приведите их к нижнему регистру. Проверьте остальные столбцы.**"
   ]
  },
  {
   "cell_type": "code",
   "execution_count": 14,
   "id": "b25a1e65",
   "metadata": {
    "deletable": false
   },
   "outputs": [],
   "source": [
    "data['education'] = data['education'].str.lower()"
   ]
  },
  {
   "cell_type": "markdown",
   "id": "5f7ea7e3",
   "metadata": {
    "deletable": false,
    "editable": false,
    "id": "dc587695"
   },
   "source": [
    "**Задание 15. Выведите на экран количество строк-дубликатов в данных. Если такие строки присутствуют, удалите их.**"
   ]
  },
  {
   "cell_type": "code",
   "execution_count": 15,
   "id": "e2161ef2",
   "metadata": {
    "deletable": false,
    "id": "3ee445e4",
    "outputId": "9684deba-1934-42d1-99e1-cda61740f822"
   },
   "outputs": [
    {
     "data": {
      "text/plain": [
       "71"
      ]
     },
     "execution_count": 15,
     "metadata": {},
     "output_type": "execute_result"
    }
   ],
   "source": [
    "data.duplicated().sum()"
   ]
  },
  {
   "cell_type": "code",
   "execution_count": 16,
   "id": "547a8893",
   "metadata": {
    "deletable": false,
    "id": "8575fe05"
   },
   "outputs": [],
   "source": [
    "data = data.drop_duplicates()"
   ]
  },
  {
   "cell_type": "markdown",
   "id": "e87ac76f",
   "metadata": {
    "deletable": false,
    "editable": false,
    "id": "9904cf55"
   },
   "source": [
    "### Категоризация данных"
   ]
  },
  {
   "cell_type": "markdown",
   "id": "6b5333e1",
   "metadata": {
    "deletable": false,
    "editable": false,
    "id": "72fcc8a2"
   },
   "source": [
    "**Задание 16. На основании диапазонов, указанных ниже, создайте в датафрейме `data` столбец `total_income_category` с категориями:**\n",
    "\n",
    "- 0–30000 — `'E'`;\n",
    "- 30001–50000 — `'D'`;\n",
    "- 50001–200000 — `'C'`;\n",
    "- 200001–1000000 — `'B'`;\n",
    "- 1000001 и выше — `'A'`.\n",
    "\n",
    "\n",
    "**Например, кредитополучателю с доходом 25000 нужно назначить категорию `'E'`, а клиенту, получающему 235000, — `'B'`. Используйте собственную функцию с именем `categorize_income()` и метод `apply()`.**"
   ]
  },
  {
   "cell_type": "code",
   "execution_count": 17,
   "id": "9c204e0d",
   "metadata": {
    "deletable": false,
    "id": "e1771346"
   },
   "outputs": [],
   "source": [
    "def categorize_income(income):\n",
    "    try:\n",
    "        if 0 <= income <= 30000:\n",
    "            return 'E'\n",
    "        elif 30001 <= income <= 50000:\n",
    "            return 'D'\n",
    "        elif 50001 <= income <= 200000:\n",
    "            return 'C'\n",
    "        elif 200001 <= income <= 1000000:\n",
    "            return 'B'\n",
    "        elif income >= 1000001:\n",
    "            return 'A'\n",
    "    except:\n",
    "        pass"
   ]
  },
  {
   "cell_type": "code",
   "execution_count": 18,
   "id": "4f605c05",
   "metadata": {
    "deletable": false,
    "id": "d5f3586d"
   },
   "outputs": [],
   "source": [
    "data['total_income_category'] = data['total_income'].apply(categorize_income)"
   ]
  },
  {
   "cell_type": "markdown",
   "id": "25b6593a",
   "metadata": {
    "deletable": false,
    "editable": false,
    "id": "dde49b5c"
   },
   "source": [
    "**Задание 17. Выведите на экран перечень уникальных целей взятия кредита из столбца `purpose`.**"
   ]
  },
  {
   "cell_type": "code",
   "execution_count": 19,
   "id": "fb83a431",
   "metadata": {
    "deletable": false,
    "id": "f67ce9b3",
    "outputId": "673c12d9-7d7e-4ae0-9812-c622c89dd244"
   },
   "outputs": [
    {
     "data": {
      "text/plain": [
       "array(['покупка жилья', 'приобретение автомобиля',\n",
       "       'дополнительное образование', 'сыграть свадьбу',\n",
       "       'операции с жильем', 'образование', 'на проведение свадьбы',\n",
       "       'покупка жилья для семьи', 'покупка недвижимости',\n",
       "       'покупка коммерческой недвижимости', 'покупка жилой недвижимости',\n",
       "       'строительство собственной недвижимости', 'недвижимость',\n",
       "       'строительство недвижимости', 'на покупку подержанного автомобиля',\n",
       "       'на покупку своего автомобиля',\n",
       "       'операции с коммерческой недвижимостью',\n",
       "       'строительство жилой недвижимости', 'жилье',\n",
       "       'операции со своей недвижимостью', 'автомобили',\n",
       "       'заняться образованием', 'сделка с подержанным автомобилем',\n",
       "       'получение образования', 'автомобиль', 'свадьба',\n",
       "       'получение дополнительного образования', 'покупка своего жилья',\n",
       "       'операции с недвижимостью', 'получение высшего образования',\n",
       "       'свой автомобиль', 'сделка с автомобилем',\n",
       "       'профильное образование', 'высшее образование',\n",
       "       'покупка жилья для сдачи', 'на покупку автомобиля', 'ремонт жилью',\n",
       "       'заняться высшим образованием'], dtype=object)"
      ]
     },
     "execution_count": 19,
     "metadata": {},
     "output_type": "execute_result"
    }
   ],
   "source": [
    "data['purpose'].unique()"
   ]
  },
  {
   "cell_type": "markdown",
   "id": "678650f5",
   "metadata": {
    "deletable": false,
    "editable": false,
    "id": "85d0aef0"
   },
   "source": [
    "**Задание 18. Создайте функцию, которая на основании данных из столбца `purpose` сформирует новый столбец `purpose_category`, в который войдут следующие категории:**\n",
    "\n",
    "- `'операции с автомобилем'`,\n",
    "- `'операции с недвижимостью'`,\n",
    "- `'проведение свадьбы'`,\n",
    "- `'получение образования'`.\n",
    "\n",
    "**Например, если в столбце `purpose` находится подстрока `'на покупку автомобиля'`, то в столбце `purpose_category` должна появиться строка `'операции с автомобилем'`.**\n",
    "\n",
    "**Используйте собственную функцию с именем `categorize_purpose()` и метод `apply()`. Изучите данные в столбце `purpose` и определите, какие подстроки помогут вам правильно определить категорию.**"
   ]
  },
  {
   "cell_type": "code",
   "execution_count": 20,
   "id": "6e336e21",
   "metadata": {
    "deletable": false,
    "id": "e149fab4"
   },
   "outputs": [],
   "source": [
    "def categorize_purpose(row):\n",
    "    try:\n",
    "        if 'автом' in row:\n",
    "            return 'операции с автомобилем'\n",
    "        elif 'жил' in row or 'недвиж' in row:\n",
    "            return 'операции с недвижимостью'\n",
    "        elif 'свад' in row:\n",
    "            return 'проведение свадьбы'\n",
    "        elif 'образов' in row:\n",
    "            return 'получение образования'\n",
    "    except:\n",
    "        return 'нет категории'"
   ]
  },
  {
   "cell_type": "code",
   "execution_count": 21,
   "id": "00c9505a",
   "metadata": {
    "deletable": false,
    "id": "bf36e69b"
   },
   "outputs": [],
   "source": [
    "data['purpose_category'] = data['purpose'].apply(categorize_purpose)"
   ]
  },
  {
   "cell_type": "markdown",
   "id": "1ba82287",
   "metadata": {
    "deletable": false,
    "editable": false,
    "id": "09b242bf"
   },
   "source": [
    "### Шаг 3. Исследуйте данные и ответьте на вопросы"
   ]
  },
  {
   "cell_type": "markdown",
   "id": "a48b0ff3",
   "metadata": {
    "deletable": false,
    "editable": false,
    "id": "c5d66278"
   },
   "source": [
    "#### 3.1 Есть ли зависимость между количеством детей и возвратом кредита в срок?"
   ]
  },
  {
   "cell_type": "code",
   "execution_count": 22,
   "id": "19d6a568",
   "metadata": {
    "deletable": false,
    "id": "2cacfc4a"
   },
   "outputs": [
    {
     "name": "stdout",
     "output_type": "stream",
     "text": [
      "[1 0 3 2 4 5]\n"
     ]
    }
   ],
   "source": [
    "# Ваш код будет здесь. Вы можете создавать новые ячейки.\n",
    "# print(data.head())\n",
    "print(data['children'].unique())"
   ]
  },
  {
   "cell_type": "markdown",
   "id": "2183a68a",
   "metadata": {},
   "source": [
    "Видим, что количество детей у Заемщиков находится в диапазоне от 0 до 5. **Аномальных значений нет**"
   ]
  },
  {
   "cell_type": "code",
   "execution_count": 23,
   "id": "980683dc",
   "metadata": {},
   "outputs": [
    {
     "name": "stdout",
     "output_type": "stream",
     "text": [
      "<class 'pandas.core.frame.DataFrame'>\n",
      "Int64Index: 21331 entries, 0 to 21524\n",
      "Data columns (total 14 columns):\n",
      " #   Column                 Non-Null Count  Dtype  \n",
      "---  ------                 --------------  -----  \n",
      " 0   children               21331 non-null  int64  \n",
      " 1   days_employed          21331 non-null  float64\n",
      " 2   dob_years              21331 non-null  int64  \n",
      " 3   education              21331 non-null  object \n",
      " 4   education_id           21331 non-null  int64  \n",
      " 5   family_status          21331 non-null  object \n",
      " 6   family_status_id       21331 non-null  int64  \n",
      " 7   gender                 21331 non-null  object \n",
      " 8   income_type            21331 non-null  object \n",
      " 9   debt                   21331 non-null  int64  \n",
      " 10  total_income           21331 non-null  int64  \n",
      " 11  purpose                21331 non-null  object \n",
      " 12  total_income_category  21331 non-null  object \n",
      " 13  purpose_category       21331 non-null  object \n",
      "dtypes: float64(1), int64(6), object(7)\n",
      "memory usage: 2.4+ MB\n"
     ]
    }
   ],
   "source": [
    "data.info()"
   ]
  },
  {
   "cell_type": "markdown",
   "id": "780a3432",
   "metadata": {},
   "source": [
    "Проверили, что нет данных типа NaN, None ... \n",
    "И заметили, что *days_employed* имеет вещественный тип. Поэтому сразу **преобразуем *days_employed* к типу int**:"
   ]
  },
  {
   "cell_type": "code",
   "execution_count": 24,
   "id": "7917a49f",
   "metadata": {},
   "outputs": [
    {
     "data": {
      "text/plain": [
       "0    14091\n",
       "1     4808\n",
       "2     2052\n",
       "3      330\n",
       "4       41\n",
       "5        9\n",
       "Name: children, dtype: int64"
      ]
     },
     "execution_count": 24,
     "metadata": {},
     "output_type": "execute_result"
    }
   ],
   "source": [
    "data['days_employed'] = data['days_employed'].astype(int)\n",
    "data['children'].sort_values().value_counts()"
   ]
  },
  {
   "cell_type": "markdown",
   "id": "7ad05e49",
   "metadata": {},
   "source": [
    "Изучаем распределение по количеству семей, имеющих детей в дипазоне от 0 до 5.\n",
    "Видим, что примерно 2/3 заёмщиков - бездетные. Количество семей с одним ребёнком превышает даже сумму семей с 2 - 5 детьми.\n",
    "\n",
    "Обращаем внимание на то, что у нас только 6 точек (0 - 5 детей), которые мы должны сравнить со значением **возврат кредита в срок**\n",
    "Разбивать их по категориям, например так:\n",
    "* бездетные\n",
    "* с 1 ребёнком\n",
    "* 2-3 ребёнка \n",
    "* многодетные (4+ ребенка)\n",
    "\n",
    "или так:\n",
    "* бездетные\n",
    "* с детьми (1-2 ребенка)\n",
    "* многодетные (3+ ребенка)\n",
    "не представляется интресным, так как у нас количество точек для анализа сократится с 6 до 3 - 4.+\n",
    "\n",
    "**Решаем делать анализ без категоризации, используя весь диапазон (0-5 детей)**\n",
    "\n",
    "Посмотрим количество заемщиков по категориям с разным количеством детей и количество задолженностей у них:"
   ]
  },
  {
   "cell_type": "code",
   "execution_count": 25,
   "id": "05a41f93",
   "metadata": {
    "scrolled": true
   },
   "outputs": [
    {
     "data": {
      "text/html": [
       "<div>\n",
       "<style scoped>\n",
       "    .dataframe tbody tr th:only-of-type {\n",
       "        vertical-align: middle;\n",
       "    }\n",
       "\n",
       "    .dataframe tbody tr th {\n",
       "        vertical-align: top;\n",
       "    }\n",
       "\n",
       "    .dataframe thead tr th {\n",
       "        text-align: left;\n",
       "    }\n",
       "\n",
       "    .dataframe thead tr:last-of-type th {\n",
       "        text-align: right;\n",
       "    }\n",
       "</style>\n",
       "<table border=\"1\" class=\"dataframe\">\n",
       "  <thead>\n",
       "    <tr>\n",
       "      <th></th>\n",
       "      <th>count</th>\n",
       "      <th>sum</th>\n",
       "    </tr>\n",
       "    <tr>\n",
       "      <th></th>\n",
       "      <th>debt</th>\n",
       "      <th>debt</th>\n",
       "    </tr>\n",
       "    <tr>\n",
       "      <th>children</th>\n",
       "      <th></th>\n",
       "      <th></th>\n",
       "    </tr>\n",
       "  </thead>\n",
       "  <tbody>\n",
       "    <tr>\n",
       "      <th>0</th>\n",
       "      <td>14091</td>\n",
       "      <td>1063</td>\n",
       "    </tr>\n",
       "    <tr>\n",
       "      <th>1</th>\n",
       "      <td>4808</td>\n",
       "      <td>444</td>\n",
       "    </tr>\n",
       "    <tr>\n",
       "      <th>2</th>\n",
       "      <td>2052</td>\n",
       "      <td>194</td>\n",
       "    </tr>\n",
       "    <tr>\n",
       "      <th>3</th>\n",
       "      <td>330</td>\n",
       "      <td>27</td>\n",
       "    </tr>\n",
       "    <tr>\n",
       "      <th>4</th>\n",
       "      <td>41</td>\n",
       "      <td>4</td>\n",
       "    </tr>\n",
       "    <tr>\n",
       "      <th>5</th>\n",
       "      <td>9</td>\n",
       "      <td>0</td>\n",
       "    </tr>\n",
       "  </tbody>\n",
       "</table>\n",
       "</div>"
      ],
      "text/plain": [
       "          count   sum\n",
       "           debt  debt\n",
       "children             \n",
       "0         14091  1063\n",
       "1          4808   444\n",
       "2          2052   194\n",
       "3           330    27\n",
       "4            41     4\n",
       "5             9     0"
      ]
     },
     "execution_count": 25,
     "metadata": {},
     "output_type": "execute_result"
    }
   ],
   "source": [
    "# Создаем сводную таблицу методом pivot_table()\n",
    "debt_with_children = data.pivot_table(index='children', values='debt', aggfunc=['count', 'sum'])\n",
    "debt_with_children"
   ]
  },
  {
   "cell_type": "markdown",
   "id": "032f9ce4",
   "metadata": {},
   "source": [
    "Дополним таблицу колонкой с процентным соотношением количества задолженностей к количеству заёмщиков по каждой категории семей:"
   ]
  },
  {
   "cell_type": "code",
   "execution_count": 26,
   "id": "64b5d14a",
   "metadata": {},
   "outputs": [
    {
     "data": {
      "text/html": [
       "<div>\n",
       "<style scoped>\n",
       "    .dataframe tbody tr th:only-of-type {\n",
       "        vertical-align: middle;\n",
       "    }\n",
       "\n",
       "    .dataframe tbody tr th {\n",
       "        vertical-align: top;\n",
       "    }\n",
       "\n",
       "    .dataframe thead tr th {\n",
       "        text-align: left;\n",
       "    }\n",
       "\n",
       "    .dataframe thead tr:last-of-type th {\n",
       "        text-align: right;\n",
       "    }\n",
       "</style>\n",
       "<table border=\"1\" class=\"dataframe\">\n",
       "  <thead>\n",
       "    <tr>\n",
       "      <th></th>\n",
       "      <th>count</th>\n",
       "      <th>sum</th>\n",
       "      <th>procent_debt</th>\n",
       "    </tr>\n",
       "    <tr>\n",
       "      <th></th>\n",
       "      <th>debt</th>\n",
       "      <th>debt</th>\n",
       "      <th>debt</th>\n",
       "    </tr>\n",
       "    <tr>\n",
       "      <th>children</th>\n",
       "      <th></th>\n",
       "      <th></th>\n",
       "      <th></th>\n",
       "    </tr>\n",
       "  </thead>\n",
       "  <tbody>\n",
       "    <tr>\n",
       "      <th>0</th>\n",
       "      <td>14091</td>\n",
       "      <td>1063</td>\n",
       "      <td>7.54%</td>\n",
       "    </tr>\n",
       "    <tr>\n",
       "      <th>1</th>\n",
       "      <td>4808</td>\n",
       "      <td>444</td>\n",
       "      <td>9.23%</td>\n",
       "    </tr>\n",
       "    <tr>\n",
       "      <th>2</th>\n",
       "      <td>2052</td>\n",
       "      <td>194</td>\n",
       "      <td>9.45%</td>\n",
       "    </tr>\n",
       "    <tr>\n",
       "      <th>3</th>\n",
       "      <td>330</td>\n",
       "      <td>27</td>\n",
       "      <td>8.18%</td>\n",
       "    </tr>\n",
       "    <tr>\n",
       "      <th>4</th>\n",
       "      <td>41</td>\n",
       "      <td>4</td>\n",
       "      <td>9.76%</td>\n",
       "    </tr>\n",
       "    <tr>\n",
       "      <th>5</th>\n",
       "      <td>9</td>\n",
       "      <td>0</td>\n",
       "      <td>0.00%</td>\n",
       "    </tr>\n",
       "  </tbody>\n",
       "</table>\n",
       "</div>"
      ],
      "text/plain": [
       "          count   sum procent_debt\n",
       "           debt  debt         debt\n",
       "children                          \n",
       "0         14091  1063        7.54%\n",
       "1          4808   444        9.23%\n",
       "2          2052   194        9.45%\n",
       "3           330    27        8.18%\n",
       "4            41     4        9.76%\n",
       "5             9     0        0.00%"
      ]
     },
     "execution_count": 26,
     "metadata": {},
     "output_type": "execute_result"
    }
   ],
   "source": [
    "def procent_debt(value):\n",
    "    return f'{value.sum() / value.count():.2%}'\n",
    "\n",
    "debt_with_children = data.pivot_table(index='children', values='debt', \\\n",
    "                                      aggfunc=['count', 'sum', procent_debt])\n",
    "debt_with_children"
   ]
  },
  {
   "cell_type": "markdown",
   "id": "0dfeeb92",
   "metadata": {
    "deletable": false,
    "id": "3a6b99ec"
   },
   "source": [
    "**Выводы:** \n",
    "\n",
    "1. У бездетных семей задолженность реже встречается, чем у семей с детьми.\n",
    "2. Нулевое значение для семей с 5 детьми рассматривать не будем, так как для них и выборка мала - всего 9 случаев!\n",
    "3. При довольно ровных результатах для семей с 1,2 и 4 детьми наблюдается резкое снижение просрочки займа для семей с 3 ребенками :-) ! Скорее всего это объясняется господдержкой многосемейных и целевыми выплатами на 3 ребенка."
   ]
  },
  {
   "cell_type": "markdown",
   "id": "c9cc26ec",
   "metadata": {
    "deletable": false,
    "editable": false,
    "id": "97be82ca"
   },
   "source": [
    "#### 3.2 Есть ли зависимость между семейным положением и возвратом кредита в срок?"
   ]
  },
  {
   "cell_type": "markdown",
   "id": "99dba245",
   "metadata": {},
   "source": [
    "Изучим категории граждан по семейному положению:"
   ]
  },
  {
   "cell_type": "code",
   "execution_count": 27,
   "id": "7e463122",
   "metadata": {
    "deletable": false,
    "id": "dc3f7ee8"
   },
   "outputs": [
    {
     "name": "stdout",
     "output_type": "stream",
     "text": [
      "['женат / замужем' 'гражданский брак' 'вдовец / вдова' 'в разводе'\n",
      " 'Не женат / не замужем']\n"
     ]
    }
   ],
   "source": [
    "print(data['family_status'].unique())"
   ]
  },
  {
   "cell_type": "markdown",
   "id": "4c55e076",
   "metadata": {},
   "source": [
    "Посмотрим зависимость наличия задолженности от семейного положения. Создадим сводную таблицу:"
   ]
  },
  {
   "cell_type": "code",
   "execution_count": 28,
   "id": "50451bb0",
   "metadata": {},
   "outputs": [
    {
     "data": {
      "text/html": [
       "<div>\n",
       "<style scoped>\n",
       "    .dataframe tbody tr th:only-of-type {\n",
       "        vertical-align: middle;\n",
       "    }\n",
       "\n",
       "    .dataframe tbody tr th {\n",
       "        vertical-align: top;\n",
       "    }\n",
       "\n",
       "    .dataframe thead tr th {\n",
       "        text-align: left;\n",
       "    }\n",
       "\n",
       "    .dataframe thead tr:last-of-type th {\n",
       "        text-align: right;\n",
       "    }\n",
       "</style>\n",
       "<table border=\"1\" class=\"dataframe\">\n",
       "  <thead>\n",
       "    <tr>\n",
       "      <th></th>\n",
       "      <th>count</th>\n",
       "      <th>sum</th>\n",
       "      <th>procent_debt</th>\n",
       "    </tr>\n",
       "    <tr>\n",
       "      <th></th>\n",
       "      <th>debt</th>\n",
       "      <th>debt</th>\n",
       "      <th>debt</th>\n",
       "    </tr>\n",
       "    <tr>\n",
       "      <th>family_status</th>\n",
       "      <th></th>\n",
       "      <th></th>\n",
       "      <th></th>\n",
       "    </tr>\n",
       "  </thead>\n",
       "  <tbody>\n",
       "    <tr>\n",
       "      <th>Не женат / не замужем</th>\n",
       "      <td>2796</td>\n",
       "      <td>273</td>\n",
       "      <td>9.76%</td>\n",
       "    </tr>\n",
       "    <tr>\n",
       "      <th>в разводе</th>\n",
       "      <td>1189</td>\n",
       "      <td>84</td>\n",
       "      <td>7.06%</td>\n",
       "    </tr>\n",
       "    <tr>\n",
       "      <th>вдовец / вдова</th>\n",
       "      <td>951</td>\n",
       "      <td>63</td>\n",
       "      <td>6.62%</td>\n",
       "    </tr>\n",
       "    <tr>\n",
       "      <th>гражданский брак</th>\n",
       "      <td>4134</td>\n",
       "      <td>385</td>\n",
       "      <td>9.31%</td>\n",
       "    </tr>\n",
       "    <tr>\n",
       "      <th>женат / замужем</th>\n",
       "      <td>12261</td>\n",
       "      <td>927</td>\n",
       "      <td>7.56%</td>\n",
       "    </tr>\n",
       "  </tbody>\n",
       "</table>\n",
       "</div>"
      ],
      "text/plain": [
       "                       count  sum procent_debt\n",
       "                        debt debt         debt\n",
       "family_status                                 \n",
       "Не женат / не замужем   2796  273        9.76%\n",
       "в разводе               1189   84        7.06%\n",
       "вдовец / вдова           951   63        6.62%\n",
       "гражданский брак        4134  385        9.31%\n",
       "женат / замужем        12261  927        7.56%"
      ]
     },
     "execution_count": 28,
     "metadata": {},
     "output_type": "execute_result"
    }
   ],
   "source": [
    "debt_with_family_status = data.pivot_table(index='family_status', values='debt', \\\n",
    "                                      aggfunc=['count', 'sum', procent_debt])\n",
    "debt_with_family_status"
   ]
  },
  {
   "cell_type": "markdown",
   "id": "3a1205f7",
   "metadata": {},
   "source": [
    "Отсотрируем количество просроченных займов по относительному их количеству:"
   ]
  },
  {
   "cell_type": "code",
   "execution_count": 29,
   "id": "e280e037",
   "metadata": {},
   "outputs": [
    {
     "data": {
      "text/html": [
       "<div>\n",
       "<style scoped>\n",
       "    .dataframe tbody tr th:only-of-type {\n",
       "        vertical-align: middle;\n",
       "    }\n",
       "\n",
       "    .dataframe tbody tr th {\n",
       "        vertical-align: top;\n",
       "    }\n",
       "\n",
       "    .dataframe thead tr th {\n",
       "        text-align: left;\n",
       "    }\n",
       "\n",
       "    .dataframe thead tr:last-of-type th {\n",
       "        text-align: right;\n",
       "    }\n",
       "</style>\n",
       "<table border=\"1\" class=\"dataframe\">\n",
       "  <thead>\n",
       "    <tr>\n",
       "      <th></th>\n",
       "      <th>count</th>\n",
       "      <th>sum</th>\n",
       "      <th>procent_debt</th>\n",
       "    </tr>\n",
       "    <tr>\n",
       "      <th></th>\n",
       "      <th>debt</th>\n",
       "      <th>debt</th>\n",
       "      <th>debt</th>\n",
       "    </tr>\n",
       "    <tr>\n",
       "      <th>family_status</th>\n",
       "      <th></th>\n",
       "      <th></th>\n",
       "      <th></th>\n",
       "    </tr>\n",
       "  </thead>\n",
       "  <tbody>\n",
       "    <tr>\n",
       "      <th>вдовец / вдова</th>\n",
       "      <td>951</td>\n",
       "      <td>63</td>\n",
       "      <td>6.62%</td>\n",
       "    </tr>\n",
       "    <tr>\n",
       "      <th>в разводе</th>\n",
       "      <td>1189</td>\n",
       "      <td>84</td>\n",
       "      <td>7.06%</td>\n",
       "    </tr>\n",
       "    <tr>\n",
       "      <th>женат / замужем</th>\n",
       "      <td>12261</td>\n",
       "      <td>927</td>\n",
       "      <td>7.56%</td>\n",
       "    </tr>\n",
       "    <tr>\n",
       "      <th>гражданский брак</th>\n",
       "      <td>4134</td>\n",
       "      <td>385</td>\n",
       "      <td>9.31%</td>\n",
       "    </tr>\n",
       "    <tr>\n",
       "      <th>Не женат / не замужем</th>\n",
       "      <td>2796</td>\n",
       "      <td>273</td>\n",
       "      <td>9.76%</td>\n",
       "    </tr>\n",
       "  </tbody>\n",
       "</table>\n",
       "</div>"
      ],
      "text/plain": [
       "                       count  sum procent_debt\n",
       "                        debt debt         debt\n",
       "family_status                                 \n",
       "вдовец / вдова           951   63        6.62%\n",
       "в разводе               1189   84        7.06%\n",
       "женат / замужем        12261  927        7.56%\n",
       "гражданский брак        4134  385        9.31%\n",
       "Не женат / не замужем   2796  273        9.76%"
      ]
     },
     "execution_count": 29,
     "metadata": {},
     "output_type": "execute_result"
    }
   ],
   "source": [
    "debt_with_family_status = debt_with_family_status.sort_values(by=('procent_debt', 'debt'))\n",
    "debt_with_family_status"
   ]
  },
  {
   "cell_type": "markdown",
   "id": "1867979d",
   "metadata": {
    "deletable": false,
    "id": "1cef7837"
   },
   "source": [
    "**Выводы:** \n",
    "\n",
    "1. По вероятности просрочки займов можно выделить 3 группы граждан:\n",
    "    * люди потерявщие супруга в силу каких-то трагических обстоятельств,\n",
    "    * люди, живущике в браке или находящиеся в разводе,\n",
    "    * люди, не имеющие официальных семейных обязательств.\n",
    "    \n",
    "    \n",
    "2. Самыми надежными заемщиками являются люди, пережившие трагедию с потерей супруга. Кроме более высокой финансовой дисциплины, возможно, расплачиваться по кредитам им помогают:\n",
    "    * совместные накопления, \n",
    "    * пенсии на потерю супруга, \n",
    "    * наследство, \n",
    "    * ещё какие-то выплаты...\n",
    "\n",
    "\n",
    "3. Люди, не имеющие семейных обязательств, относятся к группе с наибольшим риском по образованию финансовой задолжености."
   ]
  },
  {
   "cell_type": "markdown",
   "id": "178de629",
   "metadata": {
    "deletable": false,
    "editable": false,
    "id": "1e8b2fca"
   },
   "source": [
    "#### 3.3 Есть ли зависимость между уровнем дохода и возвратом кредита в срок?"
   ]
  },
  {
   "cell_type": "markdown",
   "id": "68b7df82",
   "metadata": {},
   "source": [
    "Ранее было установлено: **10  total_income           21331 non-null  int64** \n",
    "\n",
    "Таким образом, в значениях ежемесячного дохода нет пропусков и нет значений, кроме целочисленных:"
   ]
  },
  {
   "cell_type": "code",
   "execution_count": 30,
   "id": "3a996b60",
   "metadata": {
    "deletable": false,
    "id": "cd7e3720"
   },
   "outputs": [
    {
     "name": "stdout",
     "output_type": "stream",
     "text": [
      "Диапазон зарплат Клиентов: [253875 112080 145885 ...  89672 244093  82047]\n",
      "Минимальное значение зарплаты заёмщиклов: 20 667\n",
      "Максимальное значение зарплаты заёмщиклов: 2 265 604\n"
     ]
    }
   ],
   "source": [
    "print('Диапазон зарплат Клиентов:', data['total_income'].unique())\n",
    "print('Минимальное значение зарплаты заёмщиклов:', \\\n",
    "      '{:,}'.format(data['total_income'].min()).replace(',', ' '))\n",
    "print('Максимальное значение зарплаты заёмщиклов:', \\\n",
    "      '{:,}'.format(data['total_income'].max()).replace(',', ' '))"
   ]
  },
  {
   "cell_type": "markdown",
   "id": "c27d51fa",
   "metadata": {},
   "source": [
    "Введем **категоризацию** по ежемесячному доходу (руб) граждан с поддиапазонами:\n",
    "\n",
    "* '**F**' - 0 ... 50 000\n",
    "* '**E**' - 50 001  ... 100 000\n",
    "* '**D**' - 100 001 ... 200 000\n",
    "* '**C**' - 200 001 ... 500 000\n",
    "* '**B**' - 500 001 ... 1 000 000\n",
    "* '**A**' - 1 000 001 и более\n",
    "    "
   ]
  },
  {
   "cell_type": "code",
   "execution_count": 31,
   "id": "14bb5c0a",
   "metadata": {},
   "outputs": [
    {
     "name": "stdout",
     "output_type": "stream",
     "text": [
      "E\n",
      "B\n"
     ]
    }
   ],
   "source": [
    "def categorize_salary(salary):\n",
    "    if 0 <= salary <= 50000:\n",
    "        return 'F'\n",
    "    elif 50001 <= salary <= 100000:\n",
    "        return 'E'\n",
    "    elif 100001 <= salary <= 200000:\n",
    "        return 'D'\n",
    "    elif 200001 <= salary <= 500000:\n",
    "        return 'C'\n",
    "    elif 500001 <= salary <= 1000000:\n",
    "        return 'B'\n",
    "    elif salary >= 1000001:\n",
    "        return 'A'\n",
    "\n",
    "print(categorize_salary(55000))\n",
    "print(categorize_salary(550000))"
   ]
  },
  {
   "cell_type": "code",
   "execution_count": 32,
   "id": "3b5ed17a",
   "metadata": {},
   "outputs": [
    {
     "name": "stdout",
     "output_type": "stream",
     "text": [
      "<class 'pandas.core.frame.DataFrame'>\n",
      "Int64Index: 21331 entries, 0 to 21524\n",
      "Data columns (total 14 columns):\n",
      " #   Column                 Non-Null Count  Dtype \n",
      "---  ------                 --------------  ----- \n",
      " 0   children               21331 non-null  int64 \n",
      " 1   days_employed          21331 non-null  int64 \n",
      " 2   dob_years              21331 non-null  int64 \n",
      " 3   education              21331 non-null  object\n",
      " 4   education_id           21331 non-null  int64 \n",
      " 5   family_status          21331 non-null  object\n",
      " 6   family_status_id       21331 non-null  int64 \n",
      " 7   gender                 21331 non-null  object\n",
      " 8   income_type            21331 non-null  object\n",
      " 9   debt                   21331 non-null  int64 \n",
      " 10  total_income           21331 non-null  int64 \n",
      " 11  purpose                21331 non-null  object\n",
      " 12  total_income_category  21331 non-null  object\n",
      " 13  purpose_category       21331 non-null  object\n",
      "dtypes: int64(7), object(7)\n",
      "memory usage: 2.9+ MB\n"
     ]
    }
   ],
   "source": [
    "data.info()"
   ]
  },
  {
   "cell_type": "markdown",
   "id": "e52691bb",
   "metadata": {},
   "source": [
    "Не будем создавать новый столбец, а поместим в существующий **total_income_category** значения категорий зарплат заемщиков"
   ]
  },
  {
   "cell_type": "code",
   "execution_count": 33,
   "id": "10a8cfbc",
   "metadata": {},
   "outputs": [
    {
     "data": {
      "text/html": [
       "<div>\n",
       "<style scoped>\n",
       "    .dataframe tbody tr th:only-of-type {\n",
       "        vertical-align: middle;\n",
       "    }\n",
       "\n",
       "    .dataframe tbody tr th {\n",
       "        vertical-align: top;\n",
       "    }\n",
       "\n",
       "    .dataframe thead th {\n",
       "        text-align: right;\n",
       "    }\n",
       "</style>\n",
       "<table border=\"1\" class=\"dataframe\">\n",
       "  <thead>\n",
       "    <tr style=\"text-align: right;\">\n",
       "      <th></th>\n",
       "      <th>children</th>\n",
       "      <th>days_employed</th>\n",
       "      <th>dob_years</th>\n",
       "      <th>education</th>\n",
       "      <th>education_id</th>\n",
       "      <th>family_status</th>\n",
       "      <th>family_status_id</th>\n",
       "      <th>gender</th>\n",
       "      <th>income_type</th>\n",
       "      <th>debt</th>\n",
       "      <th>total_income</th>\n",
       "      <th>purpose</th>\n",
       "      <th>total_income_category</th>\n",
       "      <th>purpose_category</th>\n",
       "    </tr>\n",
       "  </thead>\n",
       "  <tbody>\n",
       "    <tr>\n",
       "      <th>0</th>\n",
       "      <td>1</td>\n",
       "      <td>8437</td>\n",
       "      <td>42</td>\n",
       "      <td>высшее</td>\n",
       "      <td>0</td>\n",
       "      <td>женат / замужем</td>\n",
       "      <td>0</td>\n",
       "      <td>F</td>\n",
       "      <td>сотрудник</td>\n",
       "      <td>0</td>\n",
       "      <td>253875</td>\n",
       "      <td>покупка жилья</td>\n",
       "      <td>C</td>\n",
       "      <td>операции с недвижимостью</td>\n",
       "    </tr>\n",
       "    <tr>\n",
       "      <th>1</th>\n",
       "      <td>1</td>\n",
       "      <td>4024</td>\n",
       "      <td>36</td>\n",
       "      <td>среднее</td>\n",
       "      <td>1</td>\n",
       "      <td>женат / замужем</td>\n",
       "      <td>0</td>\n",
       "      <td>F</td>\n",
       "      <td>сотрудник</td>\n",
       "      <td>0</td>\n",
       "      <td>112080</td>\n",
       "      <td>приобретение автомобиля</td>\n",
       "      <td>D</td>\n",
       "      <td>операции с автомобилем</td>\n",
       "    </tr>\n",
       "    <tr>\n",
       "      <th>2</th>\n",
       "      <td>0</td>\n",
       "      <td>5623</td>\n",
       "      <td>33</td>\n",
       "      <td>среднее</td>\n",
       "      <td>1</td>\n",
       "      <td>женат / замужем</td>\n",
       "      <td>0</td>\n",
       "      <td>M</td>\n",
       "      <td>сотрудник</td>\n",
       "      <td>0</td>\n",
       "      <td>145885</td>\n",
       "      <td>покупка жилья</td>\n",
       "      <td>D</td>\n",
       "      <td>операции с недвижимостью</td>\n",
       "    </tr>\n",
       "    <tr>\n",
       "      <th>3</th>\n",
       "      <td>3</td>\n",
       "      <td>4124</td>\n",
       "      <td>32</td>\n",
       "      <td>среднее</td>\n",
       "      <td>1</td>\n",
       "      <td>женат / замужем</td>\n",
       "      <td>0</td>\n",
       "      <td>M</td>\n",
       "      <td>сотрудник</td>\n",
       "      <td>0</td>\n",
       "      <td>267628</td>\n",
       "      <td>дополнительное образование</td>\n",
       "      <td>C</td>\n",
       "      <td>получение образования</td>\n",
       "    </tr>\n",
       "    <tr>\n",
       "      <th>4</th>\n",
       "      <td>0</td>\n",
       "      <td>340266</td>\n",
       "      <td>53</td>\n",
       "      <td>среднее</td>\n",
       "      <td>1</td>\n",
       "      <td>гражданский брак</td>\n",
       "      <td>1</td>\n",
       "      <td>F</td>\n",
       "      <td>пенсионер</td>\n",
       "      <td>0</td>\n",
       "      <td>158616</td>\n",
       "      <td>сыграть свадьбу</td>\n",
       "      <td>D</td>\n",
       "      <td>проведение свадьбы</td>\n",
       "    </tr>\n",
       "  </tbody>\n",
       "</table>\n",
       "</div>"
      ],
      "text/plain": [
       "   children  days_employed  dob_years education  education_id  \\\n",
       "0         1           8437         42    высшее             0   \n",
       "1         1           4024         36   среднее             1   \n",
       "2         0           5623         33   среднее             1   \n",
       "3         3           4124         32   среднее             1   \n",
       "4         0         340266         53   среднее             1   \n",
       "\n",
       "      family_status  family_status_id gender income_type  debt  total_income  \\\n",
       "0   женат / замужем                 0      F   сотрудник     0        253875   \n",
       "1   женат / замужем                 0      F   сотрудник     0        112080   \n",
       "2   женат / замужем                 0      M   сотрудник     0        145885   \n",
       "3   женат / замужем                 0      M   сотрудник     0        267628   \n",
       "4  гражданский брак                 1      F   пенсионер     0        158616   \n",
       "\n",
       "                      purpose total_income_category          purpose_category  \n",
       "0               покупка жилья                     C  операции с недвижимостью  \n",
       "1     приобретение автомобиля                     D    операции с автомобилем  \n",
       "2               покупка жилья                     D  операции с недвижимостью  \n",
       "3  дополнительное образование                     C     получение образования  \n",
       "4             сыграть свадьбу                     D        проведение свадьбы  "
      ]
     },
     "execution_count": 33,
     "metadata": {},
     "output_type": "execute_result"
    }
   ],
   "source": [
    "data['total_income_category'] = data['total_income'].apply(categorize_salary)\n",
    "data.head()"
   ]
  },
  {
   "cell_type": "markdown",
   "id": "085a737e",
   "metadata": {},
   "source": [
    "Посмотрим статистику по категориям зарплат:"
   ]
  },
  {
   "cell_type": "code",
   "execution_count": 34,
   "id": "8fc4327a",
   "metadata": {},
   "outputs": [
    {
     "data": {
      "text/plain": [
       "D    11848\n",
       "C     4817\n",
       "E     4073\n",
       "F      371\n",
       "B      197\n",
       "A       25\n",
       "Name: total_income_category, dtype: int64"
      ]
     },
     "execution_count": 34,
     "metadata": {},
     "output_type": "execute_result"
    }
   ],
   "source": [
    "data['total_income_category'].value_counts()"
   ]
  },
  {
   "cell_type": "code",
   "execution_count": 35,
   "id": "d0811f51",
   "metadata": {},
   "outputs": [
    {
     "data": {
      "text/html": [
       "<div>\n",
       "<style scoped>\n",
       "    .dataframe tbody tr th:only-of-type {\n",
       "        vertical-align: middle;\n",
       "    }\n",
       "\n",
       "    .dataframe tbody tr th {\n",
       "        vertical-align: top;\n",
       "    }\n",
       "\n",
       "    .dataframe thead tr th {\n",
       "        text-align: left;\n",
       "    }\n",
       "\n",
       "    .dataframe thead tr:last-of-type th {\n",
       "        text-align: right;\n",
       "    }\n",
       "</style>\n",
       "<table border=\"1\" class=\"dataframe\">\n",
       "  <thead>\n",
       "    <tr>\n",
       "      <th></th>\n",
       "      <th>sum</th>\n",
       "      <th>count</th>\n",
       "      <th>procent_debt</th>\n",
       "    </tr>\n",
       "    <tr>\n",
       "      <th></th>\n",
       "      <th>debt</th>\n",
       "      <th>debt</th>\n",
       "      <th>debt</th>\n",
       "    </tr>\n",
       "    <tr>\n",
       "      <th>total_income_category</th>\n",
       "      <th></th>\n",
       "      <th></th>\n",
       "      <th></th>\n",
       "    </tr>\n",
       "  </thead>\n",
       "  <tbody>\n",
       "    <tr>\n",
       "      <th>A</th>\n",
       "      <td>2</td>\n",
       "      <td>25</td>\n",
       "      <td>8.00%</td>\n",
       "    </tr>\n",
       "    <tr>\n",
       "      <th>B</th>\n",
       "      <td>12</td>\n",
       "      <td>197</td>\n",
       "      <td>6.09%</td>\n",
       "    </tr>\n",
       "    <tr>\n",
       "      <th>C</th>\n",
       "      <td>342</td>\n",
       "      <td>4817</td>\n",
       "      <td>7.10%</td>\n",
       "    </tr>\n",
       "    <tr>\n",
       "      <th>D</th>\n",
       "      <td>1022</td>\n",
       "      <td>11848</td>\n",
       "      <td>8.63%</td>\n",
       "    </tr>\n",
       "    <tr>\n",
       "      <th>E</th>\n",
       "      <td>331</td>\n",
       "      <td>4073</td>\n",
       "      <td>8.13%</td>\n",
       "    </tr>\n",
       "    <tr>\n",
       "      <th>F</th>\n",
       "      <td>23</td>\n",
       "      <td>371</td>\n",
       "      <td>6.20%</td>\n",
       "    </tr>\n",
       "  </tbody>\n",
       "</table>\n",
       "</div>"
      ],
      "text/plain": [
       "                        sum  count procent_debt\n",
       "                       debt   debt         debt\n",
       "total_income_category                          \n",
       "A                         2     25        8.00%\n",
       "B                        12    197        6.09%\n",
       "C                       342   4817        7.10%\n",
       "D                      1022  11848        8.63%\n",
       "E                       331   4073        8.13%\n",
       "F                        23    371        6.20%"
      ]
     },
     "execution_count": 35,
     "metadata": {},
     "output_type": "execute_result"
    }
   ],
   "source": [
    "debt_with_income = data.pivot_table(index=['total_income_category'], values=['debt'], \\\n",
    "                                    aggfunc=['sum', 'count', procent_debt])\n",
    "debt_with_income"
   ]
  },
  {
   "cell_type": "markdown",
   "id": "5d1293d7",
   "metadata": {},
   "source": [
    "**Категории зарплат:**\n",
    "\n",
    "* 'A' - 1 000 001 и более\n",
    "* 'B' - 500 001 ... 1 000 000\n",
    "* 'C' - 200 001 ... 500 000\n",
    "* 'D' - 100 001 ... 200 000\n",
    "* 'E' - 50 001 ... 100 000\n",
    "* 'F' - 0 ... 50 000"
   ]
  },
  {
   "cell_type": "markdown",
   "id": "7a1d4ac3",
   "metadata": {
    "deletable": false,
    "id": "e8593def"
   },
   "source": [
    "**Выводы:** \n",
    "\n",
    "1. Категорию миллионеров рассматривать не будем в силу ее малочисленности.\n",
    "\n",
    "\n",
    "2. Всех заемщиков можно объединить в 3 группы\n",
    "\n",
    "* **Надежные**.\n",
    "      Сверхбогатые (с доходом выше 500000 рублей в месяц) + бедные (с доходом до 50000 руб/мес).\n",
    "      Они менее других имеют проблемы с выплатой займов.\n",
    "      \n",
    "      \n",
    "* **Безнадежные**. \n",
    "      Люди со средним достатком (50 000 - 500 000 руб/мес). \n",
    "      Эти заемщики чаще других люднй набирают долги по погашению кредитов.\n",
    "      \n",
    "      \n",
    "* **Вполне надежные**. \n",
    "      Это люди, зарабатывающие 200 - 500 тыс рублей в месяц. По уровню просрочек \n",
    "      кредитов они находятся не по середине между предудущими двумя группами, а ближе к надежным."
   ]
  },
  {
   "cell_type": "markdown",
   "id": "b37ae19d",
   "metadata": {
    "deletable": false,
    "editable": false,
    "id": "99ecbd1f"
   },
   "source": [
    "#### 3.4 Как разные цели кредита влияют на его возврат в срок?"
   ]
  },
  {
   "cell_type": "markdown",
   "id": "16be2ac5",
   "metadata": {},
   "source": [
    "Воспользуемся ранне созданным столбцом **purpose_category** с информацией по целям кредитования:"
   ]
  },
  {
   "cell_type": "code",
   "execution_count": 36,
   "id": "7de6d5bd",
   "metadata": {},
   "outputs": [
    {
     "data": {
      "text/plain": [
       "array(['операции с недвижимостью', 'операции с автомобилем',\n",
       "       'получение образования', 'проведение свадьбы'], dtype=object)"
      ]
     },
     "execution_count": 36,
     "metadata": {},
     "output_type": "execute_result"
    }
   ],
   "source": [
    "data['purpose_category'].unique()"
   ]
  },
  {
   "cell_type": "code",
   "execution_count": 37,
   "id": "1850eedc",
   "metadata": {
    "deletable": false,
    "id": "2b687290"
   },
   "outputs": [
    {
     "data": {
      "text/html": [
       "<div>\n",
       "<style scoped>\n",
       "    .dataframe tbody tr th:only-of-type {\n",
       "        vertical-align: middle;\n",
       "    }\n",
       "\n",
       "    .dataframe tbody tr th {\n",
       "        vertical-align: top;\n",
       "    }\n",
       "\n",
       "    .dataframe thead tr th {\n",
       "        text-align: left;\n",
       "    }\n",
       "\n",
       "    .dataframe thead tr:last-of-type th {\n",
       "        text-align: right;\n",
       "    }\n",
       "</style>\n",
       "<table border=\"1\" class=\"dataframe\">\n",
       "  <thead>\n",
       "    <tr>\n",
       "      <th></th>\n",
       "      <th>sum</th>\n",
       "      <th>count</th>\n",
       "      <th>procent_debt</th>\n",
       "    </tr>\n",
       "    <tr>\n",
       "      <th></th>\n",
       "      <th>debt</th>\n",
       "      <th>debt</th>\n",
       "      <th>debt</th>\n",
       "    </tr>\n",
       "    <tr>\n",
       "      <th>purpose_category</th>\n",
       "      <th></th>\n",
       "      <th></th>\n",
       "      <th></th>\n",
       "    </tr>\n",
       "  </thead>\n",
       "  <tbody>\n",
       "    <tr>\n",
       "      <th>операции с недвижимостью</th>\n",
       "      <td>780</td>\n",
       "      <td>10751</td>\n",
       "      <td>7.26%</td>\n",
       "    </tr>\n",
       "    <tr>\n",
       "      <th>проведение свадьбы</th>\n",
       "      <td>183</td>\n",
       "      <td>2313</td>\n",
       "      <td>7.91%</td>\n",
       "    </tr>\n",
       "    <tr>\n",
       "      <th>получение образования</th>\n",
       "      <td>369</td>\n",
       "      <td>3988</td>\n",
       "      <td>9.25%</td>\n",
       "    </tr>\n",
       "    <tr>\n",
       "      <th>операции с автомобилем</th>\n",
       "      <td>400</td>\n",
       "      <td>4279</td>\n",
       "      <td>9.35%</td>\n",
       "    </tr>\n",
       "  </tbody>\n",
       "</table>\n",
       "</div>"
      ],
      "text/plain": [
       "                          sum  count procent_debt\n",
       "                         debt   debt         debt\n",
       "purpose_category                                 \n",
       "операции с недвижимостью  780  10751        7.26%\n",
       "проведение свадьбы        183   2313        7.91%\n",
       "получение образования     369   3988        9.25%\n",
       "операции с автомобилем    400   4279        9.35%"
      ]
     },
     "execution_count": 37,
     "metadata": {},
     "output_type": "execute_result"
    }
   ],
   "source": [
    "debt_purpose = data.pivot_table(index=['purpose_category'], values=['debt'], \\\n",
    "                                    aggfunc=['sum', 'count', procent_debt])\n",
    "debt_purpose = debt_purpose.sort_values(by=('procent_debt', 'debt'))\n",
    "debt_purpose"
   ]
  },
  {
   "cell_type": "markdown",
   "id": "456e3812",
   "metadata": {
    "deletable": false,
    "id": "b4bb2ce6"
   },
   "source": [
    "**Выводы:** \n",
    "\n",
    "1. По целям кредитования можно выделить 2 группы с различными значениями появления задолженностей.\n",
    "\n",
    "    * **С меньшим риском образования задолженности**. К ней можно отнести заёмщиков для операций с \n",
    "        недвижимостью и новобрачных.\n",
    "    * **С повышенным уровнем получения задолженности**. В такую группу попадают люди, берущие кредиты\n",
    "        на получение образования и операции с автомобилем.  \n",
    "        \n",
    "        \n",
    "2. Выдача кредита на операции с недвижимостью - наименее рисковая.\n",
    "\n",
    "\n",
    "3. Удивляет довольно большое (около 8%) количество должников по кредитам на проведение свадьбы. \n",
    "    Видимо, люди частенько (у нас 183 раза) женятся на последние деньги (\n",
    "    "
   ]
  },
  {
   "cell_type": "markdown",
   "id": "1265a8d5",
   "metadata": {
    "deletable": false,
    "editable": false,
    "id": "09c3ac4c"
   },
   "source": [
    "#### 3.5 Приведите возможные причины появления пропусков в исходных данных."
   ]
  },
  {
   "cell_type": "markdown",
   "id": "326601e9",
   "metadata": {
    "deletable": false,
    "id": "9da2ceda"
   },
   "source": [
    "*Ответ:* \n",
    "Такие проблемы могут быть вызваны:\n",
    "* неверным вводом данных, \n",
    "* сокрытием информации, \n",
    "* повреждением файла данных при сохранении, \n",
    "* техническими проблемами."
   ]
  },
  {
   "cell_type": "markdown",
   "id": "c8fe28c7",
   "metadata": {
    "deletable": false,
    "editable": false,
    "id": "7b0487d6"
   },
   "source": [
    "#### 3.6 Объясните, почему заполнить пропуски медианным значением — лучшее решение для количественных переменных."
   ]
  },
  {
   "cell_type": "markdown",
   "id": "45c03994",
   "metadata": {
    "deletable": false,
    "id": "7ecf2b8e"
   },
   "source": [
    "*Ответ:* \n",
    "\n",
    "В отличие от кажущимся более привычным **средним значением** медиана менее подвержена влиянию аномальных значений. И если при пользовании **средним** даже одно аномальное число может сильно изменить усредненное значение, то на медианное значение это скажется куда как меньше."
   ]
  },
  {
   "cell_type": "markdown",
   "id": "57f171f6",
   "metadata": {
    "deletable": false,
    "editable": false,
    "id": "6db5255a"
   },
   "source": [
    "### Шаг 4: общий вывод."
   ]
  },
  {
   "cell_type": "markdown",
   "id": "2de6f390",
   "metadata": {
    "deletable": false,
    "id": "bad65432"
   },
   "source": [
    "Общие выводы иногда могут вызвать улыбку, но, главное, они не предсказывают аномально опасных типов заёмщиков:\n",
    "\n",
    "1. Идеальный заёмщик:\n",
    "   *\tБездетный человек, потерявший супруга,\n",
    "   *\tживущий с доходом свыше полумиллиона в месяц или, наоборот, на пенсию/пособие,\n",
    "   *\tПроводящий операции с недвижимостью (наверное, для богатых людей) или готовящийся к свадьбе (видимо, пенсионер) :-)\n",
    "\n",
    "\n",
    "2. Самый опасный заёмщик:\n",
    "   *\tодинокий человек, не знавший горечи утраты супруга,\n",
    "   *\tобременённый детьми, \n",
    "   *\tсо средним достатком,\n",
    "   *\tпокупающий автомобиль.\n",
    "   \n",
    "   \n",
    "3. Чаще всего кредиты оформляют семейные пары (возможно, могут поручиться друг за друга) с детьми, со средним доходом (100-200 тыс руб) на покупку недвижимости.\n",
    "\n",
    "\n",
    "4. Реже оформляют кредиты люди, потерявшие супруга, с доходом или до 1 млн руб.мес или до 50 тыс руб.мес. на покупку недвижимости или на новую свадьбу. Практически редчайший случай, когда у них ещё и 5 детей.\n",
    "\n",
    "\n",
    "5. По различным факторам (уровень дохода, наличие детей, семейное положение и целям кредитования) отличие максимального и минимального вероятности возникновения задолженности по выплате кредита не превышает 20-30% относительных. Таким образом, среди перечисленных факторов нет таких, которые могли бы аномально увеличить риск невозврата кредита.\n"
   ]
  },
  {
   "cell_type": "markdown",
   "id": "03c7ee8d",
   "metadata": {},
   "source": [
    "[Вернутся к общему списку проектов курса “Data Science” Яндекс-практикума](../README.md)"
   ]
  }
 ],
 "metadata": {
  "ExecuteTimeLog": [
   {
    "duration": 53,
    "start_time": "2023-02-28T17:08:06.226Z"
   },
   {
    "duration": 7,
    "start_time": "2023-02-28T17:08:42.353Z"
   },
   {
    "duration": 7,
    "start_time": "2023-02-28T17:09:51.959Z"
   },
   {
    "duration": 7,
    "start_time": "2023-02-28T17:10:01.907Z"
   },
   {
    "duration": 3,
    "start_time": "2023-02-28T17:10:15.794Z"
   },
   {
    "duration": 6,
    "start_time": "2023-02-28T17:10:17.988Z"
   },
   {
    "duration": 9,
    "start_time": "2023-02-28T17:10:26.135Z"
   },
   {
    "duration": 532,
    "start_time": "2023-02-28T17:10:43.241Z"
   },
   {
    "duration": 34,
    "start_time": "2023-02-28T17:10:47.790Z"
   },
   {
    "duration": 17,
    "start_time": "2023-02-28T17:10:54.588Z"
   },
   {
    "duration": 10,
    "start_time": "2023-02-28T17:10:57.500Z"
   },
   {
    "duration": 46,
    "start_time": "2023-02-28T17:11:00.344Z"
   },
   {
    "duration": 3,
    "start_time": "2023-02-28T17:11:03.460Z"
   },
   {
    "duration": 11,
    "start_time": "2023-02-28T17:11:05.786Z"
   },
   {
    "duration": 10,
    "start_time": "2023-02-28T17:11:08.870Z"
   },
   {
    "duration": 11,
    "start_time": "2023-02-28T17:11:11.135Z"
   },
   {
    "duration": 5,
    "start_time": "2023-02-28T17:11:13.358Z"
   },
   {
    "duration": 39,
    "start_time": "2023-02-28T17:11:16.012Z"
   },
   {
    "duration": 11,
    "start_time": "2023-02-28T17:11:19.756Z"
   },
   {
    "duration": 4,
    "start_time": "2023-02-28T17:11:22.560Z"
   },
   {
    "duration": 12,
    "start_time": "2023-02-28T17:11:24.563Z"
   },
   {
    "duration": 20,
    "start_time": "2023-02-28T17:11:26.665Z"
   },
   {
    "duration": 31,
    "start_time": "2023-02-28T17:11:28.926Z"
   },
   {
    "duration": 3,
    "start_time": "2023-02-28T17:11:31.952Z"
   },
   {
    "duration": 15,
    "start_time": "2023-02-28T17:11:34.734Z"
   },
   {
    "duration": 9,
    "start_time": "2023-02-28T17:11:37.359Z"
   },
   {
    "duration": 3,
    "start_time": "2023-02-28T17:11:40.712Z"
   },
   {
    "duration": 8,
    "start_time": "2023-02-28T17:11:43.462Z"
   },
   {
    "duration": 10,
    "start_time": "2023-02-28T17:11:46.626Z"
   },
   {
    "duration": 35,
    "start_time": "2023-02-28T17:12:49.384Z"
   },
   {
    "duration": 13,
    "start_time": "2023-02-28T17:13:00.020Z"
   },
   {
    "duration": 27,
    "start_time": "2023-02-28T17:16:36.912Z"
   },
   {
    "duration": 21,
    "start_time": "2023-02-28T17:17:01.961Z"
   },
   {
    "duration": 62,
    "start_time": "2023-02-28T17:24:23.892Z"
   },
   {
    "duration": 61,
    "start_time": "2023-02-28T17:24:49.947Z"
   },
   {
    "duration": 59,
    "start_time": "2023-02-28T17:25:03.071Z"
   },
   {
    "duration": 50,
    "start_time": "2023-03-01T06:34:51.128Z"
   },
   {
    "duration": 777,
    "start_time": "2023-03-01T06:35:01.181Z"
   },
   {
    "duration": 29,
    "start_time": "2023-03-01T06:35:01.960Z"
   },
   {
    "duration": 46,
    "start_time": "2023-03-01T06:35:01.992Z"
   },
   {
    "duration": 19,
    "start_time": "2023-03-01T06:35:02.042Z"
   },
   {
    "duration": 77,
    "start_time": "2023-03-01T06:35:02.063Z"
   },
   {
    "duration": 4,
    "start_time": "2023-03-01T06:35:02.142Z"
   },
   {
    "duration": 19,
    "start_time": "2023-03-01T06:35:02.148Z"
   },
   {
    "duration": 30,
    "start_time": "2023-03-01T06:35:02.169Z"
   },
   {
    "duration": 33,
    "start_time": "2023-03-01T06:35:02.201Z"
   },
   {
    "duration": 46,
    "start_time": "2023-03-01T06:35:02.237Z"
   },
   {
    "duration": 81,
    "start_time": "2023-03-01T06:35:02.286Z"
   },
   {
    "duration": 12,
    "start_time": "2023-03-01T06:35:02.369Z"
   },
   {
    "duration": 13,
    "start_time": "2023-03-01T06:35:02.383Z"
   },
   {
    "duration": 36,
    "start_time": "2023-03-01T06:35:02.398Z"
   },
   {
    "duration": 42,
    "start_time": "2023-03-01T06:35:02.437Z"
   },
   {
    "duration": 25,
    "start_time": "2023-03-01T06:35:02.481Z"
   },
   {
    "duration": 4,
    "start_time": "2023-03-01T06:35:02.509Z"
   },
   {
    "duration": 16,
    "start_time": "2023-03-01T06:35:02.520Z"
   },
   {
    "duration": 10,
    "start_time": "2023-03-01T06:35:02.538Z"
   },
   {
    "duration": 6,
    "start_time": "2023-03-01T06:35:02.550Z"
   },
   {
    "duration": 16,
    "start_time": "2023-03-01T06:35:02.558Z"
   },
   {
    "duration": 46,
    "start_time": "2023-03-01T06:35:02.576Z"
   },
   {
    "duration": 78,
    "start_time": "2023-03-01T06:36:24.048Z"
   },
   {
    "duration": 18,
    "start_time": "2023-03-01T06:36:24.128Z"
   },
   {
    "duration": 20,
    "start_time": "2023-03-01T06:36:24.148Z"
   },
   {
    "duration": 19,
    "start_time": "2023-03-01T06:36:24.170Z"
   },
   {
    "duration": 80,
    "start_time": "2023-03-01T06:36:24.192Z"
   },
   {
    "duration": 5,
    "start_time": "2023-03-01T06:36:24.275Z"
   },
   {
    "duration": 20,
    "start_time": "2023-03-01T06:36:24.282Z"
   },
   {
    "duration": 8,
    "start_time": "2023-03-01T06:36:24.321Z"
   },
   {
    "duration": 25,
    "start_time": "2023-03-01T06:36:24.331Z"
   },
   {
    "duration": 18,
    "start_time": "2023-03-01T06:36:24.358Z"
   },
   {
    "duration": 61,
    "start_time": "2023-03-01T06:36:24.379Z"
   },
   {
    "duration": 20,
    "start_time": "2023-03-01T06:36:24.444Z"
   },
   {
    "duration": 6,
    "start_time": "2023-03-01T06:36:24.466Z"
   },
   {
    "duration": 64,
    "start_time": "2023-03-01T06:36:24.475Z"
   },
   {
    "duration": 85,
    "start_time": "2023-03-01T06:36:24.541Z"
   },
   {
    "duration": 37,
    "start_time": "2023-03-01T06:36:24.629Z"
   },
   {
    "duration": 5,
    "start_time": "2023-03-01T06:36:24.668Z"
   },
   {
    "duration": 45,
    "start_time": "2023-03-01T06:36:24.675Z"
   },
   {
    "duration": 19,
    "start_time": "2023-03-01T06:36:24.722Z"
   },
   {
    "duration": 20,
    "start_time": "2023-03-01T06:36:24.744Z"
   },
   {
    "duration": 16,
    "start_time": "2023-03-01T06:36:24.767Z"
   },
   {
    "duration": 9,
    "start_time": "2023-03-01T06:36:24.785Z"
   },
   {
    "duration": 91,
    "start_time": "2023-03-01T07:43:10.287Z"
   },
   {
    "duration": 22,
    "start_time": "2023-03-01T07:43:10.380Z"
   },
   {
    "duration": 36,
    "start_time": "2023-03-01T07:43:10.405Z"
   },
   {
    "duration": 16,
    "start_time": "2023-03-01T07:43:10.444Z"
   },
   {
    "duration": 79,
    "start_time": "2023-03-01T07:43:10.462Z"
   },
   {
    "duration": 4,
    "start_time": "2023-03-01T07:43:10.543Z"
   },
   {
    "duration": 17,
    "start_time": "2023-03-01T07:43:10.549Z"
   },
   {
    "duration": 5,
    "start_time": "2023-03-01T07:43:10.568Z"
   },
   {
    "duration": 8,
    "start_time": "2023-03-01T07:43:10.576Z"
   },
   {
    "duration": 8,
    "start_time": "2023-03-01T07:43:10.587Z"
   },
   {
    "duration": 36,
    "start_time": "2023-03-01T07:43:10.620Z"
   },
   {
    "duration": 17,
    "start_time": "2023-03-01T07:43:10.658Z"
   },
   {
    "duration": 5,
    "start_time": "2023-03-01T07:43:10.677Z"
   },
   {
    "duration": 39,
    "start_time": "2023-03-01T07:43:10.684Z"
   },
   {
    "duration": 25,
    "start_time": "2023-03-01T07:43:10.725Z"
   },
   {
    "duration": 20,
    "start_time": "2023-03-01T07:43:10.752Z"
   },
   {
    "duration": 5,
    "start_time": "2023-03-01T07:43:10.774Z"
   },
   {
    "duration": 41,
    "start_time": "2023-03-01T07:43:10.781Z"
   },
   {
    "duration": 8,
    "start_time": "2023-03-01T07:43:10.825Z"
   },
   {
    "duration": 21,
    "start_time": "2023-03-01T07:43:10.835Z"
   },
   {
    "duration": 19,
    "start_time": "2023-03-01T07:43:10.857Z"
   },
   {
    "duration": 45,
    "start_time": "2023-03-01T07:45:34.669Z"
   },
   {
    "duration": 41,
    "start_time": "2023-03-01T07:46:09.520Z"
   },
   {
    "duration": 27,
    "start_time": "2023-03-01T07:46:21.173Z"
   },
   {
    "duration": 4,
    "start_time": "2023-03-01T07:51:06.620Z"
   },
   {
    "duration": 16,
    "start_time": "2023-03-01T07:51:19.391Z"
   },
   {
    "duration": 32,
    "start_time": "2023-03-01T07:53:33.680Z"
   },
   {
    "duration": 7,
    "start_time": "2023-03-01T07:57:11.856Z"
   },
   {
    "duration": 21,
    "start_time": "2023-03-01T08:16:11.864Z"
   },
   {
    "duration": 15,
    "start_time": "2023-03-01T08:20:00.427Z"
   },
   {
    "duration": 20,
    "start_time": "2023-03-01T08:20:19.785Z"
   },
   {
    "duration": 12,
    "start_time": "2023-03-01T08:20:30.862Z"
   },
   {
    "duration": 19,
    "start_time": "2023-03-01T08:20:42.887Z"
   },
   {
    "duration": 76,
    "start_time": "2023-03-01T08:21:15.321Z"
   },
   {
    "duration": 21,
    "start_time": "2023-03-01T08:21:45.323Z"
   },
   {
    "duration": 15,
    "start_time": "2023-03-01T08:22:01.196Z"
   },
   {
    "duration": 20,
    "start_time": "2023-03-01T08:26:09.166Z"
   },
   {
    "duration": 14,
    "start_time": "2023-03-01T08:27:22.859Z"
   },
   {
    "duration": 75,
    "start_time": "2023-03-01T08:28:21.897Z"
   },
   {
    "duration": 16,
    "start_time": "2023-03-01T08:28:40.524Z"
   },
   {
    "duration": 13,
    "start_time": "2023-03-01T08:33:49.498Z"
   },
   {
    "duration": 23,
    "start_time": "2023-03-01T08:34:20.155Z"
   },
   {
    "duration": 31,
    "start_time": "2023-03-01T08:42:10.737Z"
   },
   {
    "duration": 38,
    "start_time": "2023-03-01T08:45:21.884Z"
   },
   {
    "duration": 5,
    "start_time": "2023-03-01T08:57:54.237Z"
   },
   {
    "duration": 80,
    "start_time": "2023-03-01T09:01:24.209Z"
   },
   {
    "duration": 33,
    "start_time": "2023-03-01T09:02:13.633Z"
   },
   {
    "duration": 26,
    "start_time": "2023-03-01T09:03:38.445Z"
   },
   {
    "duration": 33,
    "start_time": "2023-03-01T09:04:19.153Z"
   },
   {
    "duration": 11,
    "start_time": "2023-03-01T09:05:53.389Z"
   },
   {
    "duration": 1358,
    "start_time": "2023-03-01T09:20:51.117Z"
   },
   {
    "duration": 8,
    "start_time": "2023-03-01T09:21:01.257Z"
   },
   {
    "duration": 6,
    "start_time": "2023-03-01T09:21:12.857Z"
   },
   {
    "duration": 76,
    "start_time": "2023-03-01T09:24:13.863Z"
   },
   {
    "duration": 5,
    "start_time": "2023-03-01T09:27:05.173Z"
   },
   {
    "duration": 4,
    "start_time": "2023-03-01T09:27:15.797Z"
   },
   {
    "duration": 4,
    "start_time": "2023-03-01T09:27:21.282Z"
   },
   {
    "duration": 4,
    "start_time": "2023-03-01T09:27:29.795Z"
   },
   {
    "duration": 76,
    "start_time": "2023-03-01T09:29:36.780Z"
   },
   {
    "duration": 6,
    "start_time": "2023-03-01T09:29:48.145Z"
   },
   {
    "duration": 7,
    "start_time": "2023-03-01T09:33:27.183Z"
   },
   {
    "duration": 6,
    "start_time": "2023-03-01T09:34:16.130Z"
   },
   {
    "duration": 7,
    "start_time": "2023-03-01T09:34:34.986Z"
   },
   {
    "duration": 6,
    "start_time": "2023-03-01T09:34:47.298Z"
   },
   {
    "duration": 7,
    "start_time": "2023-03-01T09:34:57.790Z"
   },
   {
    "duration": 5,
    "start_time": "2023-03-01T09:35:04.768Z"
   },
   {
    "duration": 5,
    "start_time": "2023-03-01T09:35:15.760Z"
   },
   {
    "duration": 82,
    "start_time": "2023-03-01T09:41:30.819Z"
   },
   {
    "duration": 5,
    "start_time": "2023-03-01T09:42:16.547Z"
   },
   {
    "duration": 10,
    "start_time": "2023-03-01T09:53:34.760Z"
   },
   {
    "duration": 21,
    "start_time": "2023-03-01T09:53:59.013Z"
   },
   {
    "duration": 655,
    "start_time": "2023-03-01T09:54:18.464Z"
   },
   {
    "duration": 610,
    "start_time": "2023-03-01T09:55:47.498Z"
   },
   {
    "duration": 5,
    "start_time": "2023-03-01T09:56:11.190Z"
   },
   {
    "duration": 641,
    "start_time": "2023-03-01T09:56:14.024Z"
   },
   {
    "duration": 3,
    "start_time": "2023-03-01T09:56:22.975Z"
   },
   {
    "duration": 627,
    "start_time": "2023-03-01T09:56:27.334Z"
   },
   {
    "duration": 4,
    "start_time": "2023-03-01T09:57:51.312Z"
   },
   {
    "duration": 662,
    "start_time": "2023-03-01T09:57:58.908Z"
   },
   {
    "duration": 17,
    "start_time": "2023-03-01T09:58:34.287Z"
   },
   {
    "duration": 626,
    "start_time": "2023-03-01T09:58:56.269Z"
   },
   {
    "duration": 34,
    "start_time": "2023-03-01T10:02:55.797Z"
   },
   {
    "duration": 6,
    "start_time": "2023-03-01T10:09:53.528Z"
   },
   {
    "duration": 7,
    "start_time": "2023-03-01T10:10:22.431Z"
   },
   {
    "duration": 24,
    "start_time": "2023-03-01T10:12:06.083Z"
   },
   {
    "duration": 8,
    "start_time": "2023-03-01T10:16:07.684Z"
   },
   {
    "duration": 23,
    "start_time": "2023-03-01T10:16:35.655Z"
   },
   {
    "duration": 47,
    "start_time": "2023-03-01T10:17:50.035Z"
   },
   {
    "duration": 13,
    "start_time": "2023-03-01T10:49:58.580Z"
   },
   {
    "duration": 35,
    "start_time": "2023-03-01T10:51:08.010Z"
   },
   {
    "duration": 36,
    "start_time": "2023-03-01T10:52:37.029Z"
   },
   {
    "duration": 6,
    "start_time": "2023-03-01T10:55:56.974Z"
   },
   {
    "duration": 496,
    "start_time": "2023-03-01T12:05:55.815Z"
   },
   {
    "duration": 35,
    "start_time": "2023-03-01T12:05:56.313Z"
   },
   {
    "duration": 18,
    "start_time": "2023-03-01T12:05:56.350Z"
   },
   {
    "duration": 12,
    "start_time": "2023-03-01T12:05:56.370Z"
   },
   {
    "duration": 70,
    "start_time": "2023-03-01T12:05:56.384Z"
   },
   {
    "duration": 4,
    "start_time": "2023-03-01T12:05:56.456Z"
   },
   {
    "duration": 16,
    "start_time": "2023-03-01T12:05:56.462Z"
   },
   {
    "duration": 11,
    "start_time": "2023-03-01T12:05:56.481Z"
   },
   {
    "duration": 12,
    "start_time": "2023-03-01T12:05:56.494Z"
   },
   {
    "duration": 5,
    "start_time": "2023-03-01T12:05:56.526Z"
   },
   {
    "duration": 35,
    "start_time": "2023-03-01T12:05:56.533Z"
   },
   {
    "duration": 15,
    "start_time": "2023-03-01T12:05:56.570Z"
   },
   {
    "duration": 5,
    "start_time": "2023-03-01T12:05:56.588Z"
   },
   {
    "duration": 44,
    "start_time": "2023-03-01T12:05:56.596Z"
   },
   {
    "duration": 30,
    "start_time": "2023-03-01T12:05:56.642Z"
   },
   {
    "duration": 18,
    "start_time": "2023-03-01T12:05:56.674Z"
   },
   {
    "duration": 5,
    "start_time": "2023-03-01T12:05:56.694Z"
   },
   {
    "duration": 40,
    "start_time": "2023-03-01T12:05:56.701Z"
   },
   {
    "duration": 30,
    "start_time": "2023-03-01T12:05:56.743Z"
   },
   {
    "duration": 6,
    "start_time": "2023-03-01T12:05:56.775Z"
   },
   {
    "duration": 13,
    "start_time": "2023-03-01T12:05:56.783Z"
   },
   {
    "duration": 6,
    "start_time": "2023-03-01T12:05:56.798Z"
   },
   {
    "duration": 32,
    "start_time": "2023-03-01T12:05:56.806Z"
   },
   {
    "duration": 10,
    "start_time": "2023-03-01T12:05:56.840Z"
   },
   {
    "duration": 34,
    "start_time": "2023-03-01T12:05:56.852Z"
   },
   {
    "duration": 70,
    "start_time": "2023-03-01T12:05:56.888Z"
   },
   {
    "duration": 5,
    "start_time": "2023-03-01T12:05:56.959Z"
   },
   {
    "duration": 36,
    "start_time": "2023-03-01T12:05:56.968Z"
   },
   {
    "duration": 29,
    "start_time": "2023-03-01T12:05:57.006Z"
   },
   {
    "duration": 13,
    "start_time": "2023-03-01T12:05:57.038Z"
   },
   {
    "duration": 5,
    "start_time": "2023-03-01T12:05:57.053Z"
   },
   {
    "duration": 20,
    "start_time": "2023-03-01T12:05:57.059Z"
   },
   {
    "duration": 46,
    "start_time": "2023-03-01T12:05:57.081Z"
   },
   {
    "duration": 7,
    "start_time": "2023-03-01T12:05:57.129Z"
   },
   {
    "duration": 34,
    "start_time": "2023-03-01T12:05:57.137Z"
   },
   {
    "duration": 6,
    "start_time": "2023-03-01T12:05:57.173Z"
   },
   {
    "duration": 87,
    "start_time": "2023-03-01T12:05:57.180Z"
   }
  ],
  "colab": {
   "name": "dpp_template_part2.ipynb",
   "provenance": []
  },
  "kernelspec": {
   "display_name": "Python 3 (ipykernel)",
   "language": "python",
   "name": "python3"
  },
  "language_info": {
   "codemirror_mode": {
    "name": "ipython",
    "version": 3
   },
   "file_extension": ".py",
   "mimetype": "text/x-python",
   "name": "python",
   "nbconvert_exporter": "python",
   "pygments_lexer": "ipython3",
   "version": "3.9.16"
  },
  "toc": {
   "base_numbering": 1,
   "nav_menu": {},
   "number_sections": true,
   "sideBar": true,
   "skip_h1_title": true,
   "title_cell": "Table of Contents",
   "title_sidebar": "Contents",
   "toc_cell": false,
   "toc_position": {},
   "toc_section_display": true,
   "toc_window_display": true
  }
 },
 "nbformat": 4,
 "nbformat_minor": 5
}
